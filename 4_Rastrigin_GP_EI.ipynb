{
  "nbformat": 4,
  "nbformat_minor": 0,
  "metadata": {
    "colab": {
      "name": "4. Rastrigin_GP_EI.ipynb",
      "provenance": [],
      "collapsed_sections": []
    },
    "kernelspec": {
      "name": "python3",
      "display_name": "Python 3"
    },
    "language_info": {
      "name": "python"
    }
  },
  "cells": [
    {
      "cell_type": "markdown",
      "metadata": {
        "id": "Dqn4dFx7Z2Ir"
      },
      "source": [
        "\n",
        "Rastrigin:\n",
        "\n",
        "GP EI: derivation of exact partial-order GP EI derivatives wrt **x1**, **x2**"
      ]
    },
    {
      "cell_type": "code",
      "metadata": {
        "id": "MJTM_GZZZb5x"
      },
      "source": [
        "#pip install pyGPGO\n"
      ],
      "execution_count": null,
      "outputs": []
    },
    {
      "cell_type": "code",
      "metadata": {
        "id": "ZJSSPbwPaEUB"
      },
      "source": [
        "### Import:\n",
        "\n",
        "import numpy as np\n",
        "import scipy as sp\n",
        "import pandas as pd\n",
        "import matplotlib.pyplot as plt\n",
        "import warnings\n",
        "\n",
        "from pyGPGO.GPGO import GPGO\n",
        "from pyGPGO.surrogates.GaussianProcess import GaussianProcess\n",
        "from pyGPGO.acquisition import Acquisition\n",
        "from pyGPGO.covfunc import squaredExponential\n",
        "\n",
        "from joblib import Parallel, delayed\n",
        "from numpy.linalg import solve\n",
        "from scipy.optimize import minimize, approx_fprime\n",
        "from scipy.optimize._numdiff import _dense_difference, _compute_absolute_step, approx_derivative, _adjust_scheme_to_bounds, _prepare_bounds\n",
        "from scipy.spatial.distance import cdist\n",
        "from scipy.stats import norm\n",
        "import time\n",
        "\n",
        "warnings.filterwarnings(\"ignore\", category=RuntimeWarning)\n"
      ],
      "execution_count": null,
      "outputs": []
    },
    {
      "cell_type": "code",
      "metadata": {
        "id": "eYpI3Zm4aGxi"
      },
      "source": [
        "n_start_AcqFunc = 100 #multi-start iterations to avoid local optima in AcqFunc optimization\n"
      ],
      "execution_count": null,
      "outputs": []
    },
    {
      "cell_type": "code",
      "metadata": {
        "id": "OeYcTUNoaJWa"
      },
      "source": [
        "### Inputs:\n",
        "\n",
        "n_test = 500\n",
        "eps = 1e-08\n",
        "\n",
        "util_grad_exact = 'dEI_GP'\n",
        "util_grad_approx = 'ExpectedImprovement'\n",
        "\n",
        "n_init = 5 # random initialisations\n",
        "iters = 20\n",
        "opt = True"
      ],
      "execution_count": null,
      "outputs": []
    },
    {
      "cell_type": "code",
      "metadata": {
        "id": "xpaEOjdzaPMS"
      },
      "source": [
        "### Objective Function - Rastrigin(x) 2-D:\n",
        "\n",
        "def objfunc(x1_training, x2_training):\n",
        "        return  operator * (10 * dim + x1_training** 2 - 10 * np.cos(2 * np.pi * x1_training)\n",
        "                                    + x2_training** 2 - 10 * np.cos(2 * np.pi * x2_training)\n",
        "                          )\n",
        "    \n",
        "# Constraints:\n",
        "lb = -5.12 \n",
        "ub = +5.12\n",
        "    \n",
        "# Input array dimension(s):\n",
        "dim = 2\n",
        "\n",
        "# 2-D inputs' parameter bounds:\n",
        "param = {'x1_training': ('cont', [lb, ub]),\n",
        "             'x2_training': ('cont', [lb, ub])}\n",
        "\n",
        "# True y bounds:\n",
        "operator = -1\n",
        "y_global_orig = 0 # targets global minimum\n",
        "\n",
        "# Test data:\n",
        "x1_test = np.linspace(lb, ub, n_test) \n",
        "x2_test = np.linspace(lb, ub, n_test)\n",
        "  \n",
        "x_test = np.column_stack((x1_test,x2_test))\n"
      ],
      "execution_count": null,
      "outputs": []
    },
    {
      "cell_type": "code",
      "metadata": {
        "id": "oO_GUmOoaV0T"
      },
      "source": [
        "### Cumulative Regret Calculator:\n",
        "\n",
        "def min_max_array(x):\n",
        "    new_list = []\n",
        "    for i, num in enumerate(x):\n",
        "            new_list.append(np.min(x[0:i+1]))\n",
        "    return new_list\n",
        "  "
      ],
      "execution_count": null,
      "outputs": []
    },
    {
      "cell_type": "code",
      "metadata": {
        "id": "kuuJx0IMam9S"
      },
      "source": [
        "### Surrogate derivatives: \n",
        "\n",
        "cov_func = squaredExponential()\n",
        "\n",
        "class dGaussianProcess(GaussianProcess):\n",
        "    l = GaussianProcess(cov_func, optimize=opt).getcovparams()['l']\n",
        "    sigmaf = GaussianProcess(cov_func, optimize=opt).getcovparams()['sigmaf']\n",
        "    sigman = GaussianProcess(cov_func, optimize=opt).getcovparams()['sigman']\n",
        "\n",
        "    def AcqGrad(self, Xstar):\n",
        "        Xstar = np.atleast_2d(Xstar)\n",
        "        Kstar = squaredExponential.K(self, self.X, Xstar).T\n",
        "        dKstar = Kstar * cdist(self.X, Xstar).T * -1\n",
        "        \n",
        "        v = solve(self.L, Kstar.T)\n",
        "        dv = solve(self.L, dKstar.T)\n",
        "        \n",
        "        ds = -2 * np.diag(np.dot(dv.T, v))\n",
        "        dm = np.dot(dKstar, self.alpha)\n",
        "        return ds, dm\n",
        "        "
      ],
      "execution_count": null,
      "outputs": []
    },
    {
      "cell_type": "code",
      "metadata": {
        "id": "_Dc3YVHVaXz7"
      },
      "source": [
        "class Acquisition_new(Acquisition):    \n",
        "    def __init__(self, mode, eps=1e-08, **params):\n",
        "        \n",
        "        self.params = params\n",
        "        self.eps = eps\n",
        "\n",
        "        mode_dict = {\n",
        "            'dEI_GP': self.dEI_GP\n",
        "        }\n",
        "\n",
        "        self.f = mode_dict[mode]\n",
        "    \n",
        "    def dEI_GP(self, tau, mean, std, ds, dm):\n",
        "        gamma = (mean - tau - self.eps) / (std + self.eps)\n",
        "        gamma_h = (mean - tau) / (std + self.eps)\n",
        "        dsdx = ds / (2 * (std + self.eps))\n",
        "        dmdx = (dm - gamma * dsdx) / (std + self.eps)\n",
        "        \n",
        "        f = (std + self.eps) * (gamma * norm.cdf(gamma) + norm.pdf(gamma))\n",
        "        df1 = f / (std + self.eps) * dsdx \n",
        "        df2 = (std + self.eps) * norm.cdf(gamma) * dmdx\n",
        "        df = df1 + df2\n",
        "\n",
        "        df_arr = []\n",
        "\n",
        "        for j in range(0, dim):\n",
        "          df_arr.append([df])\n",
        "        return f, np.asarray(df_arr).transpose()\n",
        "\n",
        "    def d_eval(self, tau, mean, std, ds, dm):\n",
        "    \n",
        "        return self.f(tau, mean, std, ds, dm, **self.params)\n",
        "        "
      ],
      "execution_count": null,
      "outputs": []
    },
    {
      "cell_type": "code",
      "metadata": {
        "id": "YAc1Yu71aosi"
      },
      "source": [
        "## dGPGO:\n",
        "\n",
        "class dGPGO(GPGO):  \n",
        "    n_start = n_start_AcqFunc\n",
        "    eps = 1e-08\n",
        "\n",
        "    def d_optimizeAcq(self, method='L-BFGS-B', n_start=n_start_AcqFunc):\n",
        "        start_points_dict = [self._sampleParam() for i in range(n_start)]\n",
        "        start_points_arr = np.array([list(s.values())\n",
        "                                     for s in start_points_dict])\n",
        "        x_best = np.empty((n_start, len(self.parameter_key)))\n",
        "        f_best = np.empty((n_start,))\n",
        "        opt = Parallel(n_jobs=self.n_jobs)(delayed(minimize)(self.acqfunc,\n",
        "                                                                 x0=start_point,\n",
        "                                                                 method=method,\n",
        "                                                                 jac = True,\n",
        "                                                                 bounds=self.parameter_range) for start_point in\n",
        "                                               start_points_arr)\n",
        "        x_best = np.array([res.x for res in opt])\n",
        "        f_best = np.array([np.atleast_1d(res.fun)[0] for res in opt])\n",
        "\n",
        "        self.x_best = x_best\n",
        "        self.f_best = f_best\n",
        "        self.best = x_best[np.argmin(f_best)]\n",
        "        self.start_points_arr = start_points_arr\n",
        "\n",
        "        return x_best, f_best\n",
        "    \n",
        "    def run(self, max_iter=10, init_evals=3, resume=False):\n",
        "        \n",
        "        if not resume:\n",
        "            self.init_evals = init_evals\n",
        "            self._firstRun(self.init_evals)\n",
        "            self.logger._printInit(self)\n",
        "        for iteration in range(max_iter):\n",
        "            self.d_optimizeAcq()\n",
        "            self.updateGP()\n",
        "            self.logger._printCurrent(self)\n",
        "\n",
        "    def acqfunc(self, xnew, n_start=n_start_AcqFunc):\n",
        "        new_mean, new_var = self.GP.predict(xnew, return_std=True)\n",
        "        new_std = np.sqrt(new_var + eps)\n",
        "        ds, dm = self.GP.AcqGrad(xnew)\n",
        "        f, df = self.A.d_eval(-self.tau, new_mean, new_std, ds=ds, dm=dm)\n",
        "        \n",
        "        return -f, df\n",
        "\n",
        "    def acqfunc_h(self, xnew, n_start=n_start_AcqFunc, eps=eps):\n",
        "        f = self.acqfunc(xnew)[0]\n",
        "        \n",
        "        new_mean_h, new_var_h = self.GP.predict(xnew + eps, return_std=True)\n",
        "        new_std_h = np.sqrt(new_var_h + eps)\n",
        "        ds_h, dm_h = self.GP.AcqGrad(xnew + eps)\n",
        "        f_h = self.A.d_eval(-self.tau, new_mean_h, new_std_h, ds=ds_h, dm=dm_h)[0]\n",
        "        \n",
        "        approx_grad = (-f_h - f)/eps\n",
        "        return approx_grad\n"
      ],
      "execution_count": null,
      "outputs": []
    },
    {
      "cell_type": "code",
      "metadata": {
        "id": "qXIKGuXVGEg2"
      },
      "source": [
        "###Reproducible set-seeds:\n",
        "\n",
        "run_num_1 = 1\n",
        "run_num_2 = 2\n",
        "run_num_3 = 3\n",
        "run_num_4 = 4\n",
        "run_num_5 = 5\n",
        "run_num_6 = 6\n",
        "run_num_7 = 7\n",
        "run_num_8 = 8\n",
        "run_num_9 = 9\n",
        "run_num_10 = 10\n",
        "run_num_11 = 11\n",
        "run_num_12 = 12\n",
        "run_num_13 = 13\n",
        "run_num_14 = 14\n",
        "run_num_15 = 15\n",
        "run_num_16 = 16\n",
        "run_num_17 = 17\n",
        "run_num_18 = 18\n",
        "run_num_19 = 19\n",
        "run_num_20 = 20\n"
      ],
      "execution_count": null,
      "outputs": []
    },
    {
      "cell_type": "code",
      "metadata": {
        "colab": {
          "base_uri": "https://localhost:8080/"
        },
        "id": "JEhagQmnTVIK",
        "outputId": "99af69af-3acb-4ed7-8ad4-0fff61c1f0f8"
      },
      "source": [
        "start_approx = time.time()\n",
        "start_approx\n"
      ],
      "execution_count": null,
      "outputs": [
        {
          "output_type": "execute_result",
          "data": {
            "text/plain": [
              "1623409277.7587016"
            ]
          },
          "metadata": {
            "tags": []
          },
          "execution_count": 11
        }
      ]
    },
    {
      "cell_type": "code",
      "metadata": {
        "colab": {
          "base_uri": "https://localhost:8080/"
        },
        "id": "aH0YSTXufD1v",
        "outputId": "0e36d326-7de2-4649-eb12-6b2bb4dbc3c9"
      },
      "source": [
        "### ESTIMATED GP EI GRADIENTS\n",
        "\n",
        "np.random.seed(run_num_1)\n",
        "surrogate_approx_1 = GaussianProcess(cov_func, optimize=opt)\n",
        "\n",
        "approx_1 = GPGO(surrogate_approx_1, Acquisition(util_grad_approx), objfunc, param)\n",
        "approx_1.run(init_evals=n_init, max_iter=iters)\n"
      ],
      "execution_count": null,
      "outputs": [
        {
          "output_type": "stream",
          "text": [
            "Evaluation \t Proposed point \t  Current eval. \t Best eval.\n",
            "init   \t [-0.84969467  2.25612281]. \t  -20.33436270766351 \t -19.908403246996286\n",
            "init   \t [-5.1188288  -2.02411446]. \t  -33.07414982069084 \t -19.908403246996286\n",
            "init   \t [-3.61721968 -4.17445279]. \t  -53.347974723929894 \t -19.908403246996286\n",
            "init   \t [-3.21269544 -1.58145816]. \t  -39.218472310354045 \t -19.908403246996286\n",
            "init   \t [-1.05710106  0.39748336]. \t  -19.908403246996286 \t -19.908403246996286\n",
            "1      \t [ 5.12 -5.12]. \t  -57.849427451571785 \t -19.908403246996286\n",
            "2      \t [5.12 5.12]. \t  -57.849427451571785 \t -19.908403246996286\n",
            "3      \t [-5.12  5.12]. \t  -57.849427451571785 \t -19.908403246996286\n",
            "4      \t [ 4.14436454 -0.00562717]. \t  -21.021468411280992 \t -19.908403246996286\n",
            "5      \t [ 0.90453736 -3.67597578]. \t  -30.56174647213838 \t -19.908403246996286\n",
            "6      \t [1.14408866 5.12      ]. \t  -34.05943735904623 \t -19.908403246996286\n",
            "7      \t [-5.12        1.53252144]. \t  -51.06529057237367 \t -19.908403246996286\n",
            "8      \t [2.38165269 2.25031261]. \t  -38.116194699068366 \t -19.908403246996286\n",
            "9      \t [-1.92500688  5.12      ]. \t  -33.72010378814381 \t -19.908403246996286\n",
            "10     \t [ 1.44342922 -0.8583475 ]. \t  -25.901270823337516 \t -19.908403246996286\n",
            "11     \t [ 5.12       -2.21418283]. \t  -41.59580835606468 \t -19.908403246996286\n",
            "12     \t [5.12       2.19156504]. \t  -40.13803107224641 \t -19.908403246996286\n",
            "13     \t [-1.04126178 -5.12      ]. \t  -30.343128540457087 \t -19.908403246996286\n",
            "14     \t [ 2.495817 -5.12    ]. \t  -55.15036255666753 \t -19.908403246996286\n",
            "15     \t [-0.83442789 -2.1119796 ]. \t  \u001b[92m-12.472032567698271\u001b[0m \t -12.472032567698271\n",
            "16     \t [-2.94556588  2.81479221]. \t  -23.21912772665249 \t -12.472032567698271\n",
            "17     \t [ 2.86110468 -2.41116811]. \t  -36.054463425160016 \t -12.472032567698271\n",
            "18     \t [-5.12 -5.12]. \t  -57.849427451571785 \t -12.472032567698271\n",
            "19     \t [-2.86751477  0.63246584]. \t  -28.623555274481788 \t -12.472032567698271\n",
            "20     \t [0.65935445 0.95530994]. \t  -17.131484189258828 \t -12.472032567698271\n"
          ],
          "name": "stdout"
        }
      ]
    },
    {
      "cell_type": "code",
      "metadata": {
        "colab": {
          "base_uri": "https://localhost:8080/"
        },
        "id": "wTxsSZxFGBB5",
        "outputId": "55f9c795-30f7-4989-f4aa-cc24f01eaadd"
      },
      "source": [
        "### ESTIMATED GP EI GRADIENTS\n",
        "\n",
        "np.random.seed(run_num_2)\n",
        "surrogate_approx_2 = GaussianProcess(cov_func, optimize=opt)\n",
        "\n",
        "approx_2 = GPGO(surrogate_approx_2, Acquisition(util_grad_approx), objfunc, param)\n",
        "approx_2.run(init_evals=n_init, max_iter=iters)\n"
      ],
      "execution_count": null,
      "outputs": [
        {
          "output_type": "stream",
          "text": [
            "Evaluation \t Proposed point \t  Current eval. \t Best eval.\n",
            "init   \t [-0.6554122  -4.85451539]. \t  -43.490296251903594 \t -18.964539418712707\n",
            "init   \t [ 0.50854377 -0.6622987 ]. \t  -35.91861667536101 \t -18.964539418712707\n",
            "init   \t [-0.81543371 -1.73737143]. \t  -20.479562046739524 \t -18.964539418712707\n",
            "init   \t [-3.02439799  1.2213347 ]. \t  -18.964539418712707 \t -18.964539418712707\n",
            "init   \t [-2.05153614 -2.3876887 ]. \t  -28.041315668371354 \t -18.964539418712707\n",
            "1      \t [5.12 5.12]. \t  -57.849427451571785 \t -18.964539418712707\n",
            "2      \t [ 5.12 -5.12]. \t  -57.849427451571785 \t -18.964539418712707\n",
            "3      \t [-0.09385176  5.12      ]. \t  -30.62237948828588 \t -18.964539418712707\n",
            "4      \t [5.12       0.07742125]. \t  -30.090737340815892 \t -18.964539418712707\n",
            "5      \t [-5.12  5.12]. \t  -57.849427451571785 \t -18.964539418712707\n",
            "6      \t [-5.12 -5.12]. \t  -57.849427451571785 \t -18.964539418712707\n",
            "7      \t [2.34189388 2.48319939]. \t  -47.05343956837548 \t -18.964539418712707\n",
            "8      \t [-5.12       -1.23373171]. \t  -39.42641991167889 \t -18.964539418712707\n",
            "9      \t [ 2.61411342 -2.99759227]. \t  -33.35812552791467 \t -18.964539418712707\n",
            "10     \t [-0.74543942  2.31208203]. \t  -29.990471773955868 \t -18.964539418712707\n",
            "11     \t [-5.12        2.08178927]. \t  -34.55020643103296 \t -18.964539418712707\n",
            "12     \t [-2.52725945  4.36068499]. \t  -61.66363741628898 \t -18.964539418712707\n",
            "13     \t [ 5.12       -2.32585987]. \t  -48.92231468233234 \t -18.964539418712707\n",
            "14     \t [2.36218141 5.12      ]. \t  -50.983860472041414 \t -18.964539418712707\n",
            "15     \t [5.12       2.42919667]. \t  -53.85237451500107 \t -18.964539418712707\n",
            "16     \t [ 2.01461056 -5.12      ]. \t  -33.025476858990146 \t -18.964539418712707\n",
            "17     \t [ 2.83816644 -0.24273295]. \t  -22.39702171163043 \t -18.964539418712707\n",
            "18     \t [-2.8042642 -5.12     ]. \t  -43.444766639140596 \t -18.964539418712707\n",
            "19     \t [-2.25650069 -0.20127923]. \t  -22.527017005249654 \t -18.964539418712707\n",
            "20     \t [-3.99951994 -2.95154699]. \t  -25.167682923559983 \t -18.964539418712707\n"
          ],
          "name": "stdout"
        }
      ]
    },
    {
      "cell_type": "code",
      "metadata": {
        "colab": {
          "base_uri": "https://localhost:8080/"
        },
        "id": "-dgzIrUIGCGT",
        "outputId": "4b5c14e8-f342-4a79-e0d8-5c25ca1ac2db"
      },
      "source": [
        "### ESTIMATED GP EI GRADIENTS\n",
        "\n",
        "np.random.seed(run_num_3)\n",
        "surrogate_approx_3 = GaussianProcess(cov_func, optimize=opt)\n",
        "\n",
        "approx_3 = GPGO(surrogate_approx_3, Acquisition(util_grad_approx), objfunc, param)\n",
        "approx_3.run(init_evals=n_init, max_iter=iters)\n"
      ],
      "execution_count": null,
      "outputs": [
        {
          "output_type": "stream",
          "text": [
            "Evaluation \t Proposed point \t  Current eval. \t Best eval.\n",
            "init   \t [0.52017052 2.1314337 ]. \t  -27.953858411008774 \t -10.607662635789808\n",
            "init   \t [-2.14113547  0.11087468]. \t  -10.607662635789808 \t -10.607662635789808\n",
            "init   \t [4.02377681 4.05804123]. \t  -33.42749829480097 \t -10.607662635789808\n",
            "init   \t [-3.83400642 -2.99783293]. \t  -28.650953928965198 \t -10.607662635789808\n",
            "init   \t [-4.59297584 -0.6061072 ]. \t  -57.6631355589384 \t -10.607662635789808\n",
            "1      \t [ 5.12 -5.12]. \t  -57.849427451571785 \t -10.607662635789808\n",
            "2      \t [-5.12  5.12]. \t  -57.849427451571785 \t -10.607662635789808\n",
            "3      \t [ 0.29058652 -5.12      ]. \t  -41.531730491109414 \t -10.607662635789808\n",
            "4      \t [ 5.12       -0.40159497]. \t  -47.23465990242375 \t -10.607662635789808\n",
            "5      \t [ 1.34926676 -1.51099296]. \t  -39.92029433036741 \t -10.607662635789808\n",
            "6      \t [-1.23870341  5.12      ]. \t  -39.74990992200105 \t -10.607662635789808\n",
            "7      \t [-3.18894141  2.50496675]. \t  -42.69633104507217 \t -10.607662635789808\n",
            "8      \t [-5.12 -5.12]. \t  -57.849427451571785 \t -10.607662635789808\n",
            "9      \t [1.57482567 5.12      ]. \t  -50.319822241391805 \t -10.607662635789808\n",
            "10     \t [-1.29118604 -2.45786364]. \t  -39.918841952151645 \t -10.607662635789808\n",
            "11     \t [2.99709432 1.3850341 ]. \t  -28.405087646262942 \t -10.607662635789808\n",
            "12     \t [ 2.85580978 -3.62581611]. \t  -42.167714195843985 \t -10.607662635789808\n",
            "13     \t [-2.30601269 -5.12      ]. \t  -47.689585725068994 \t -10.607662635789808\n",
            "14     \t [5.12       2.19425441]. \t  -40.30804730641291 \t -10.607662635789808\n",
            "15     \t [-0.65816312  0.23394885]. \t  -24.93645297356877 \t -10.607662635789808\n",
            "16     \t [-5.12        2.00549937]. \t  -32.95271062624369 \t -10.607662635789808\n",
            "17     \t [ 5.12      -2.6409384]. \t  -52.227968205520575 \t -10.607662635789808\n",
            "18     \t [5.12 5.12]. \t  -57.849427451571785 \t -10.607662635789808\n",
            "19     \t [-1.0927624   2.88659271]. \t  -13.610623206429532 \t -10.607662635789808\n",
            "20     \t [-3.03930389  5.12      ]. \t  -38.465465721764886 \t -10.607662635789808\n"
          ],
          "name": "stdout"
        }
      ]
    },
    {
      "cell_type": "code",
      "metadata": {
        "colab": {
          "base_uri": "https://localhost:8080/"
        },
        "id": "hOtG-2sCGCKS",
        "outputId": "123bb4fb-e84a-4704-a025-68aa71bfc216"
      },
      "source": [
        "### ESTIMATED GP EI GRADIENTS\n",
        "\n",
        "np.random.seed(run_num_4)\n",
        "surrogate_approx_4 = GaussianProcess(cov_func, optimize=opt)\n",
        "\n",
        "approx_4 = GPGO(surrogate_approx_4, Acquisition(util_grad_approx), objfunc, param)\n",
        "approx_4.run(init_evals=n_init, max_iter=iters)\n"
      ],
      "execution_count": null,
      "outputs": [
        {
          "output_type": "stream",
          "text": [
            "Evaluation \t Proposed point \t  Current eval. \t Best eval.\n",
            "init   \t [4.78238555 0.48365823]. \t  -51.03163809010808 \t -14.323038259018315\n",
            "init   \t [4.84028785 2.19971578]. \t  -39.78645699016559 \t -14.323038259018315\n",
            "init   \t [ 2.02474316 -2.90724357]. \t  -14.323038259018315 \t -14.323038259018315\n",
            "init   \t [ 4.87705042 -5.05620219]. \t  -52.80627247106233 \t -14.323038259018315\n",
            "init   \t [-2.52946061 -0.66773471]. \t  -41.61497868486559 \t -14.323038259018315\n",
            "1      \t [-5.12  5.12]. \t  -57.849427451571785 \t -14.323038259018315\n",
            "2      \t [0.36040841 5.12      ]. \t  -45.44859926058701 \t -14.323038259018315\n",
            "3      \t [-5.12 -5.12]. \t  -57.849427451571785 \t -14.323038259018315\n",
            "4      \t [-0.95955594 -5.12      ]. \t  -30.166606192601527 \t -14.323038259018315\n",
            "5      \t [0.85383826 1.14532953]. \t  \u001b[92m-9.856891235727582\u001b[0m \t -9.856891235727582\n",
            "6      \t [-5.12        1.50098216]. \t  -51.17747076414409 \t -9.856891235727582\n",
            "7      \t [3.91416534 5.12      ]. \t  -45.66479784828887 \t -9.856891235727582\n",
            "8      \t [-1.9785673   2.82544573]. \t  -17.423568731164455 \t -9.856891235727582\n",
            "9      \t [-5.12       -1.96263023]. \t  -33.05102503274147 \t -9.856891235727582\n",
            "10     \t [ 0.30793382 -1.28261887]. \t  -27.335353766193386 \t -9.856891235727582\n",
            "11     \t [ 5.12      -2.2531874]. \t  -44.201824125923935 \t -9.856891235727582\n",
            "12     \t [ 1.82466825 -5.12      ]. \t  -37.73280560268178 \t -9.856891235727582\n",
            "13     \t [2.02595061 2.72645231]. \t  -23.14480719730869 \t -9.856891235727582\n",
            "14     \t [-2.35560543  5.12      ]. \t  -50.63267437342252 \t -9.856891235727582\n",
            "15     \t [-2.64736472 -3.36997513]. \t  -51.2206014786411 \t -9.856891235727582\n",
            "16     \t [ 2.44506428 -0.45937645]. \t  -45.275554911690634 \t -9.856891235727582\n",
            "17     \t [-0.59688998  1.36720899]. \t  -37.1456044502214 \t -9.856891235727582\n",
            "18     \t [ 0.07186359 -3.22172625]. \t  -19.61972628253676 \t -9.856891235727582\n",
            "19     \t [-3.38761896  2.82456281]. \t  -42.547616871449435 \t -9.856891235727582\n",
            "20     \t [ 3.0553742  -3.08867166]. \t  -20.986680782269925 \t -9.856891235727582\n"
          ],
          "name": "stdout"
        }
      ]
    },
    {
      "cell_type": "code",
      "metadata": {
        "colab": {
          "base_uri": "https://localhost:8080/"
        },
        "id": "JF_SxcEvGCOl",
        "outputId": "2335b939-c490-44dd-86e7-19b363005b80"
      },
      "source": [
        "### ESTIMATED GP EI GRADIENTS\n",
        "\n",
        "np.random.seed(run_num_5)\n",
        "surrogate_approx_5 = GaussianProcess(cov_func, optimize=opt)\n",
        "\n",
        "approx_5 = GPGO(surrogate_approx_5, Acquisition(util_grad_approx), objfunc, param)\n",
        "approx_5.run(init_evals=n_init, max_iter=iters)\n"
      ],
      "execution_count": null,
      "outputs": [
        {
          "output_type": "stream",
          "text": [
            "Evaluation \t Proposed point \t  Current eval. \t Best eval.\n",
            "init   \t [-2.84678993  3.79629882]. \t  -33.93442008827236 \t -7.8108627039749745\n",
            "init   \t [-3.00319585  4.2865757 ]. \t  -39.673876075575784 \t -7.8108627039749745\n",
            "init   \t [-0.11866943  1.14425716]. \t  -7.8108627039749745 \t -7.8108627039749745\n",
            "init   \t [2.72289645 0.1886002 ]. \t  -25.38160395721669 \t -7.8108627039749745\n",
            "init   \t [-2.08076286 -3.19773462]. \t  -22.589982116319675 \t -7.8108627039749745\n",
            "1      \t [ 5.12 -5.12]. \t  -57.849427451571785 \t -7.8108627039749745\n",
            "2      \t [5.12 5.12]. \t  -57.849427451571785 \t -7.8108627039749745\n",
            "3      \t [-5.12       -0.04630553]. \t  -29.34712917841543 \t -7.8108627039749745\n",
            "4      \t [1.00367564 5.12      ]. \t  -29.934745246375115 \t -7.8108627039749745\n",
            "5      \t [-5.12 -5.12]. \t  -57.849427451571785 \t -7.8108627039749745\n",
            "6      \t [ 1.09960658 -5.12      ]. \t  -32.02917361927805 \t -7.8108627039749745\n",
            "7      \t [ 5.12       -1.64920241]. \t  -47.562903928514835 \t -7.8108627039749745\n",
            "8      \t [5.12       1.86221319]. \t  -35.911784866528144 \t -7.8108627039749745\n",
            "9      \t [ 0.60373748 -1.88128451]. \t  -24.50895436813786 \t -7.8108627039749745\n",
            "10     \t [-2.19546384  0.01761772]. \t  -11.52163286653667 \t -7.8108627039749745\n",
            "11     \t [2.18624659 2.78752583]. \t  -26.314468334677066 \t -7.8108627039749745\n",
            "12     \t [-5.12        2.61662352]. \t  -53.20469431514221 \t -7.8108627039749745\n",
            "13     \t [-5.12       -2.41197079]. \t  -53.251297452232095 \t -7.8108627039749745\n",
            "14     \t [ 2.81735734 -3.13556692]. \t  -27.075952033869953 \t -7.8108627039749745\n",
            "15     \t [-1.68829697 -5.12      ]. \t  -45.555583369738955 \t -7.8108627039749745\n",
            "16     \t [-0.55454463  2.77887495]. \t  -35.64379646494397 \t -7.8108627039749745\n",
            "17     \t [-5.12  5.12]. \t  -57.849427451571785 \t -7.8108627039749745\n",
            "18     \t [-0.05287257  0.20248114]. \t  \u001b[92m-7.6490134469723685\u001b[0m \t -7.6490134469723685\n",
            "19     \t [-2.75503539  1.29648775]. \t  -31.8343249293343 \t -7.6490134469723685\n",
            "20     \t [-1.91691125 -1.19956819]. \t  -13.329623151978797 \t -7.6490134469723685\n"
          ],
          "name": "stdout"
        }
      ]
    },
    {
      "cell_type": "code",
      "metadata": {
        "colab": {
          "base_uri": "https://localhost:8080/"
        },
        "id": "-kDxZtJsGCR3",
        "outputId": "4c7a9847-8f03-4643-ef60-5809aa2752e2"
      },
      "source": [
        "### ESTIMATED GP EI GRADIENTS\n",
        "\n",
        "np.random.seed(run_num_6)\n",
        "surrogate_approx_6 = GaussianProcess(cov_func, optimize=opt)\n",
        "\n",
        "approx_6 = GPGO(surrogate_approx_6, Acquisition(util_grad_approx), objfunc, param)\n",
        "approx_6.run(init_evals=n_init, max_iter=iters)\n"
      ],
      "execution_count": null,
      "outputs": [
        {
          "output_type": "stream",
          "text": [
            "Evaluation \t Proposed point \t  Current eval. \t Best eval.\n",
            "init   \t [ 4.02288795 -1.72052679]. \t  -31.08835710146886 \t -17.28954482757088\n",
            "init   \t [ 3.28938622 -4.69302655]. \t  -58.797867722203385 \t -17.28954482757088\n",
            "init   \t [-4.0175956   0.97333314]. \t  -17.28954482757088 \t -17.28954482757088\n",
            "init   \t [ 0.30532979 -0.83141193]. \t  -19.296253155889353 \t -17.28954482757088\n",
            "init   \t [-1.68542362  1.25459899]. \t  -28.650630936276173 \t -17.28954482757088\n",
            "1      \t [5.12 5.12]. \t  -57.849427451571785 \t -17.28954482757088\n",
            "2      \t [-4.83496274 -5.12      ]. \t  -57.21317932538919 \t -17.28954482757088\n",
            "3      \t [-5.12  5.12]. \t  -57.849427451571785 \t -17.28954482757088\n",
            "4      \t [0.39537975 5.12      ]. \t  -46.997190601467736 \t -17.28954482757088\n",
            "5      \t [-0.76672355 -5.12      ]. \t  -38.46373950913987 \t -17.28954482757088\n",
            "6      \t [2.84227155 1.91251786]. \t  -17.731018693618715 \t -17.28954482757088\n",
            "7      \t [-2.93733582 -2.12046024]. \t  \u001b[92m-16.61959010715603\u001b[0m \t -16.61959010715603\n",
            "8      \t [5.12       1.12270975]. \t  -33.013105721990755 \t -16.61959010715603\n",
            "9      \t [-5.12       -1.49037628]. \t  -51.127659055493346 \t -16.61959010715603\n",
            "10     \t [-2.34799559  4.0390988 ]. \t  -37.90314509322524 \t -16.61959010715603\n",
            "11     \t [ 0.9685314  -2.98176844]. \t  \u001b[92m-10.089371496466573\u001b[0m \t -10.089371496466573\n",
            "12     \t [0.64484531 2.21179159]. \t  -29.06688343548177 \t -10.089371496466573\n",
            "13     \t [-5.12        2.42517762]. \t  -53.721326410135255 \t -10.089371496466573\n",
            "14     \t [2.74689379 4.13821319]. \t  -38.40505001294136 \t -10.089371496466573\n",
            "15     \t [ 2.28528606 -0.11338293]. \t  -19.86644345320579 \t -10.089371496466573\n",
            "16     \t [-1.08449465 -2.5365513 ]. \t  -28.724123029467123 \t -10.089371496466573\n",
            "17     \t [ 5.12       -3.46067913]. \t  -60.5973690576684 \t -10.089371496466573\n",
            "18     \t [ 1.80215005 -2.45052388]. \t  -35.55513364164354 \t -10.089371496466573\n",
            "19     \t [-2.81092547 -4.00805478]. \t  -30.243360569695188 \t -10.089371496466573\n",
            "20     \t [-2.51078787 -0.57245277]. \t  -45.590375588107314 \t -10.089371496466573\n"
          ],
          "name": "stdout"
        }
      ]
    },
    {
      "cell_type": "code",
      "metadata": {
        "colab": {
          "base_uri": "https://localhost:8080/"
        },
        "id": "fKB8MCD_GCVI",
        "outputId": "63511916-ab55-4a1a-f9aa-0c6eef797397"
      },
      "source": [
        "### ESTIMATED GP EI GRADIENTS\n",
        "\n",
        "np.random.seed(run_num_7)\n",
        "surrogate_approx_7 = GaussianProcess(cov_func, optimize=opt)\n",
        "\n",
        "approx_7 = GPGO(surrogate_approx_7, Acquisition(util_grad_approx), objfunc, param)\n",
        "approx_7.run(init_evals=n_init, max_iter=iters)\n"
      ],
      "execution_count": null,
      "outputs": [
        {
          "output_type": "stream",
          "text": [
            "Evaluation \t Proposed point \t  Current eval. \t Best eval.\n",
            "init   \t [-4.33860312  2.86636843]. \t  -45.646133072936244 \t -22.52235437888213\n",
            "init   \t [-0.63068947  2.28828342]. \t  -34.83012662845338 \t -22.52235437888213\n",
            "init   \t [4.8946126  0.39419771]. \t  -44.09657005662876 \t -22.52235437888213\n",
            "init   \t [ 0.01147355 -4.38219639]. \t  -36.613209822404315 \t -22.52235437888213\n",
            "init   \t [-2.37118484e+00 -1.20319155e-03]. \t  -22.52235437888213 \t -22.52235437888213\n",
            "1      \t [-5.12 -5.12]. \t  -57.849427451571785 \t -22.52235437888213\n",
            "2      \t [ 5.12 -5.12]. \t  -57.849427451571785 \t -22.52235437888213\n",
            "3      \t [3.59739669 5.12      ]. \t  -60.05120463923109 \t -22.52235437888213\n",
            "4      \t [ 1.41112868 -0.96393528]. \t  \u001b[92m-21.657165478950468\u001b[0m \t -21.657165478950468\n",
            "5      \t [-5.12       -1.46589911]. \t  -50.84490930413446 \t -21.657165478950468\n",
            "6      \t [-1.80753104  5.12      ]. \t  -38.655309625327945 \t -21.657165478950468\n",
            "7      \t [2.33785804 2.13340309]. \t  -28.573094433316356 \t -21.657165478950468\n",
            "8      \t [ 3.58916393 -2.53684788]. \t  -57.522188262653614 \t -21.657165478950468\n",
            "9      \t [-2.48043673 -3.05376149]. \t  -35.96769222134215 \t -21.657165478950468\n",
            "10     \t [0.80995522 5.12      ]. \t  -35.902112011377625 \t -21.657165478950468\n",
            "11     \t [-5.12  5.12]. \t  -57.8494274515718 \t -21.657165478950468\n",
            "12     \t [5.12       2.99248418]. \t  -37.89082341791584 \t -21.657165478950468\n",
            "13     \t [ 2.32601071 -5.12      ]. \t  -48.93143564198441 \t -21.657165478950468\n",
            "14     \t [-0.55082996 -1.43388006]. \t  -41.00311989601389 \t -21.657165478950468\n",
            "15     \t [-2.34099077 -5.12      ]. \t  -49.815676500557025 \t -21.657165478950468\n",
            "16     \t [-5.12        0.84038443]. \t  -34.2523131162538 \t -21.657165478950468\n",
            "17     \t [0.85097494 0.69471686]. \t  \u001b[92m-18.683601659275595\u001b[0m \t -18.683601659275595\n",
            "18     \t [2.76182342e+00 1.62731562e-03]. \t  \u001b[92m-16.88598953939842\u001b[0m \t -16.88598953939842\n",
            "19     \t [-2.52420025  1.81675733]. \t  -35.48424380045234 \t -16.88598953939842\n",
            "20     \t [ 1.26275904 -2.76486912]. \t  -29.106981160028443 \t -16.88598953939842\n"
          ],
          "name": "stdout"
        }
      ]
    },
    {
      "cell_type": "code",
      "metadata": {
        "colab": {
          "base_uri": "https://localhost:8080/"
        },
        "id": "4unvifF-GCXp",
        "outputId": "6593b591-6b53-4f9c-f85e-d4fcf14f2504"
      },
      "source": [
        "### ESTIMATED GP EI GRADIENTS\n",
        "\n",
        "np.random.seed(run_num_8)\n",
        "surrogate_approx_8 = GaussianProcess(cov_func, optimize=opt)\n",
        "\n",
        "approx_8 = GPGO(surrogate_approx_8, Acquisition(util_grad_approx), objfunc, param)\n",
        "approx_8.run(init_evals=n_init, max_iter=iters)\n"
      ],
      "execution_count": null,
      "outputs": [
        {
          "output_type": "stream",
          "text": [
            "Evaluation \t Proposed point \t  Current eval. \t Best eval.\n",
            "init   \t [3.82391708 4.79785639]. \t  -50.20079446939181 \t -13.871821018360485\n",
            "init   \t [3.78055209 0.31596228]. \t  -36.5114251593508 \t -13.871821018360485\n",
            "init   \t [-2.73686192 -5.00327624]. \t  -43.34985765011677 \t -13.871821018360485\n",
            "init   \t [-0.7119993  -0.99992207]. \t  -13.871821018360485 \t -13.871821018360485\n",
            "init   \t [ 0.23218863 -0.22126801]. \t  -17.190590355445654 \t -13.871821018360485\n",
            "1      \t [-5.12  5.12]. \t  -57.849427451571785 \t -13.871821018360485\n",
            "2      \t [ 5.12 -5.12]. \t  -57.849427451571785 \t -13.871821018360485\n",
            "3      \t [-5.12       -0.06242896]. \t  -29.688108487892283 \t -13.871821018360485\n",
            "4      \t [-0.66933007  4.17617456]. \t  -38.268791016751 \t -13.871821018360485\n",
            "5      \t [ 1.1839806  -4.40960853]. \t  -45.24635181965112 \t -13.871821018360485\n",
            "6      \t [-2.62602926  1.70391172]. \t  -39.68004517161082 \t -13.871821018360485\n",
            "7      \t [-5.12      -3.1295391]. \t  -41.852175967908025 \t -13.871821018360485\n",
            "8      \t [1.62768714 2.34329026]. \t  -40.62271504061769 \t -13.871821018360485\n",
            "9      \t [ 5.12     -2.111193]. \t  -35.72471352565967 \t -13.871821018360485\n",
            "10     \t [-2.59386882 -1.8380546 ]. \t  -33.1624807774898 \t -13.871821018360485\n",
            "11     \t [5.12       2.44906925]. \t  -54.41498505416354 \t -13.871821018360485\n",
            "12     \t [ 2.13260867 -1.86114711]. \t  -14.857206142266792 \t -13.871821018360485\n",
            "13     \t [-5.12        2.43375741]. \t  -53.99414881080518 \t -13.871821018360485\n",
            "14     \t [1.38469941 5.12      ]. \t  -48.33071356264601 \t -13.871821018360485\n",
            "15     \t [-2.63534835  5.12      ]. \t  -52.46645952667072 \t -13.871821018360485\n",
            "16     \t [-0.67851125 -3.04210305]. \t  -24.40488687280375 \t -13.871821018360485\n",
            "17     \t [-5.12 -5.12]. \t  -57.849427451571785 \t -13.871821018360485\n",
            "18     \t [ 3.23550706 -3.37196817]. \t  -47.864407467592976 \t -13.871821018360485\n",
            "19     \t [-0.47232632  1.43373965]. \t  -41.273721383778096 \t -13.871821018360485\n",
            "20     \t [ 1.66324715 -0.59534289]. \t  -36.56440218162068 \t -13.871821018360485\n"
          ],
          "name": "stdout"
        }
      ]
    },
    {
      "cell_type": "code",
      "metadata": {
        "colab": {
          "base_uri": "https://localhost:8080/"
        },
        "id": "85OIXcg7GCaJ",
        "outputId": "b078e13e-0b69-425f-e55e-9fc95f07ff33"
      },
      "source": [
        "### ESTIMATED GP EI GRADIENTS\n",
        "\n",
        "np.random.seed(run_num_9)\n",
        "surrogate_approx_9 = GaussianProcess(cov_func, optimize=opt)\n",
        "\n",
        "approx_9 = GPGO(surrogate_approx_9, Acquisition(util_grad_approx), objfunc, param)\n",
        "approx_9.run(init_evals=n_init, max_iter=iters)\n"
      ],
      "execution_count": null,
      "outputs": [
        {
          "output_type": "stream",
          "text": [
            "Evaluation \t Proposed point \t  Current eval. \t Best eval.\n",
            "init   \t [-5.01376866  0.01919582]. \t  -25.248289026162446 \t -24.454800313488693\n",
            "init   \t [-0.04328148 -3.74958562]. \t  -24.454800313488693 \t -24.454800313488693\n",
            "init   \t [-3.66478248 -2.88195916]. \t  -39.46509426509438 \t -24.454800313488693\n",
            "init   \t [-0.83447623 -2.57944404]. \t  -31.06766397812992 \t -24.454800313488693\n",
            "init   \t [-4.25922917 -1.58209393]. \t  -49.922543556206975 \t -24.454800313488693\n",
            "1      \t [3.51080105 5.12      ]. \t  -61.22741827329939 \t -24.454800313488693\n",
            "2      \t [ 4.97700533 -1.02611641]. \t  -26.06202024938157 \t -24.454800313488693\n",
            "3      \t [-2.52403041  5.12      ]. \t  -55.18167347624602 \t -24.454800313488693\n",
            "4      \t [0.61751971 1.54839588]. \t  -39.71556524383652 \t -24.454800313488693\n",
            "5      \t [ 4.2427189 -5.12     ]. \t  -56.468051987276 \t -24.454800313488693\n",
            "6      \t [5.12       2.12548252]. \t  -36.39279201650744 \t -24.454800313488693\n",
            "7      \t [-5.12        3.12506535]. \t  -41.62258355309121 \t -24.454800313488693\n",
            "8      \t [ 2.10287467 -1.47886137]. \t  -28.53834962156197 \t -24.454800313488693\n",
            "9      \t [-5.12 -5.12]. \t  -57.849427451571785 \t -24.454800313488693\n",
            "10     \t [-2.36275482  1.37428892]. \t  -41.0173319424346 \t -24.454800313488693\n",
            "11     \t [0.47303229 5.12      ]. \t  -49.005261506506486 \t -24.454800313488693\n",
            "12     \t [-2.04427685 -5.12      ]. \t  -33.48826741638594 \t -24.454800313488693\n",
            "13     \t [ 1.51205998 -5.12      ]. \t  -51.18234352935599 \t -24.454800313488693\n",
            "14     \t [3.02469045 0.93500646]. \t  \u001b[92m-10.965374527767734\u001b[0m \t -10.965374527767734\n",
            "15     \t [-0.72458289 -0.51303365]. \t  -32.34493493437702 \t -10.965374527767734\n",
            "16     \t [-5.12  5.12]. \t  -57.849427451571785 \t -10.965374527767734\n",
            "17     \t [ 5.12       -2.94884462]. \t  -38.13251660495474 \t -10.965374527767734\n",
            "18     \t [2.58458053 2.76478723]. \t  -42.017138665638434 \t -10.965374527767734\n",
            "19     \t [-1.00108305  3.18957388]. \t  -17.469654333241053 \t -10.965374527767734\n",
            "20     \t [3.35971123 0.24880194]. \t  -37.634535317638246 \t -10.965374527767734\n"
          ],
          "name": "stdout"
        }
      ]
    },
    {
      "cell_type": "code",
      "metadata": {
        "colab": {
          "base_uri": "https://localhost:8080/"
        },
        "id": "QQBR-qJPGCcp",
        "outputId": "30c14a4e-a667-4612-ff52-f96745967088"
      },
      "source": [
        "### ESTIMATED GP EI GRADIENTS\n",
        "\n",
        "np.random.seed(run_num_10)\n",
        "surrogate_approx_10 = GaussianProcess(cov_func, optimize=opt)\n",
        "\n",
        "approx_10 = GPGO(surrogate_approx_10, Acquisition(util_grad_approx), objfunc, param)\n",
        "approx_10.run(init_evals=n_init, max_iter=iters)\n"
      ],
      "execution_count": null,
      "outputs": [
        {
          "output_type": "stream",
          "text": [
            "Evaluation \t Proposed point \t  Current eval. \t Best eval.\n",
            "init   \t [ 2.77832339 -4.90750004]. \t  -41.674330194390116 \t -13.839458310244165\n",
            "init   \t [1.36855793 2.54775176]. \t  -44.69639719065837 \t -13.839458310244165\n",
            "init   \t [-0.01528819 -2.81808235]. \t  -13.839458310244165 \t -13.839458310244165\n",
            "init   \t [-3.09183626  2.66783449]. \t  -33.23221510904937 \t -13.839458310244165\n",
            "init   \t [-3.38830503 -4.2154003 ]. \t  -54.73014366983691 \t -13.839458310244165\n",
            "1      \t [ 5.12      -0.5682251]. \t  -48.34278335032869 \t -13.839458310244165\n",
            "2      \t [5.12 5.12]. \t  -57.849427451571785 \t -13.839458310244165\n",
            "3      \t [-5.12       -0.60617675]. \t  -47.14818167122235 \t -13.839458310244165\n",
            "4      \t [-5.12  5.12]. \t  -57.849427451571785 \t -13.839458310244165\n",
            "5      \t [-0.8379435  5.12     ]. \t  -34.378138143812066 \t -13.839458310244165\n",
            "6      \t [-1.23131113 -0.10568775]. \t  \u001b[92m-12.480746380355079\u001b[0m \t -12.480746380355079\n",
            "7      \t [ 2.00292574 -0.37934979]. \t  -21.41896664552759 \t -12.480746380355079\n",
            "8      \t [-0.38439185 -5.12      ]. \t  -46.548257325985105 \t -12.480746380355079\n",
            "9      \t [ 5.12       -3.59828261]. \t  -60.02547526453966 \t -12.480746380355079\n",
            "10     \t [4.57050405 2.23720805]. \t  -54.12647113202378 \t -12.480746380355079\n",
            "11     \t [2.14162684 5.12      ]. \t  -37.21613079039564 \t -12.480746380355079\n",
            "12     \t [-2.40379207 -1.6441248 ]. \t  -42.8816993237165 \t -12.480746380355079\n",
            "13     \t [-5.12        2.04202706]. \t  -33.44121548192435 \t -12.480746380355079\n",
            "14     \t [ 2.21713263 -2.45296822]. \t  -38.44879899011462 \t -12.480746380355079\n",
            "15     \t [-0.9466073  1.5704207]. \t  -22.956734240607865 \t -12.480746380355079\n",
            "16     \t [-5.12 -5.12]. \t  -57.849427451571785 \t -12.480746380355079\n",
            "17     \t [ 0.07816176 -0.6834172 ]. \t  -15.717596556880348 \t -12.480746380355079\n",
            "18     \t [-2.80733215  5.12      ]. \t  -43.28094675730979 \t -12.480746380355079\n",
            "19     \t [-2.88970169  0.57134913]. \t  -29.995497270452663 \t -12.480746380355079\n",
            "20     \t [-5.12      -2.6720571]. \t  -50.768476582354886 \t -12.480746380355079\n"
          ],
          "name": "stdout"
        }
      ]
    },
    {
      "cell_type": "code",
      "metadata": {
        "colab": {
          "base_uri": "https://localhost:8080/"
        },
        "id": "JS8ejeQ2GCfi",
        "outputId": "35e903da-1d9f-46ec-f2fd-b039200003eb"
      },
      "source": [
        "### ESTIMATED GP EI GRADIENTS\n",
        "\n",
        "np.random.seed(run_num_11)\n",
        "surrogate_approx_11 = GaussianProcess(cov_func, optimize=opt)\n",
        "\n",
        "approx_11 = GPGO(surrogate_approx_11, Acquisition(util_grad_approx), objfunc, param)\n",
        "approx_11.run(init_evals=n_init, max_iter=iters)\n"
      ],
      "execution_count": null,
      "outputs": [
        {
          "output_type": "stream",
          "text": [
            "Evaluation \t Proposed point \t  Current eval. \t Best eval.\n",
            "init   \t [-3.27403839 -4.92057353]. \t  -47.655641290890955 \t -10.679755252484755\n",
            "init   \t [-0.37664229  2.30332343]. \t  -35.87889240695259 \t -10.679755252484755\n",
            "init   \t [-0.81711509 -0.14922651]. \t  -10.679755252484755 \t -10.679755252484755\n",
            "init   \t [-4.98912446 -0.12931474]. \t  -28.05462905574235 \t -10.679755252484755\n",
            "init   \t [4.52410012 3.59214172]. \t  -71.62694632141611 \t -10.679755252484755\n",
            "1      \t [ 5.12       -4.19757348]. \t  -53.309530921692996 \t -10.679755252484755\n",
            "2      \t [-5.12  5.12]. \t  -57.849427451571785 \t -10.679755252484755\n",
            "3      \t [ 0.96012019 -5.12      ]. \t  -30.15883754762058 \t -10.679755252484755\n",
            "4      \t [ 3.08643828 -0.51789495]. \t  -31.170104877741366 \t -10.679755252484755\n",
            "5      \t [1.20979293 5.12      ]. \t  -37.888814093608474 \t -10.679755252484755\n",
            "6      \t [-1.93526615  5.12      ]. \t  -33.48579392674555 \t -10.679755252484755\n",
            "7      \t [-0.89792848 -2.64272   ]. \t  -26.018894786903587 \t -10.679755252484755\n",
            "8      \t [-3.4830931   2.27188446]. \t  -48.607738550470664 \t -10.679755252484755\n",
            "9      \t [-5.12       -2.81628559]. \t  -42.81069741853823 \t -10.679755252484755\n",
            "10     \t [5.12      0.6503182]. \t  -45.20929354866007 \t -10.679755252484755\n",
            "11     \t [ 2.21431934 -2.88804458]. \t  -23.394624654774354 \t -10.679755252484755\n",
            "12     \t [2.11111433 1.90834962]. \t  -12.05102427590678 \t -10.679755252484755\n",
            "13     \t [-2.69537145 -0.92832216]. \t  -22.489338055326584 \t -10.679755252484755\n",
            "14     \t [ 0.73157855 -0.4668894 ]. \t  -31.692439990512668 \t -10.679755252484755\n",
            "15     \t [ 5.12       -1.79840595]. \t  -39.16421618643328 \t -10.679755252484755\n",
            "16     \t [ 3.03776991 -5.12      ]. \t  -38.433033436284795 \t -10.679755252484755\n",
            "17     \t [-1.00816207 -5.12      ]. \t  -29.954251731609475 \t -10.679755252484755\n",
            "18     \t [-5.12 -5.12]. \t  -57.849427451571785 \t -10.679755252484755\n",
            "19     \t [1.95067909 2.97127228]. \t  -13.272406355275303 \t -10.679755252484755\n",
            "20     \t [-1.6722066   0.52361912]. \t  -37.65611843816105 \t -10.679755252484755\n"
          ],
          "name": "stdout"
        }
      ]
    },
    {
      "cell_type": "code",
      "metadata": {
        "colab": {
          "base_uri": "https://localhost:8080/"
        },
        "id": "DXwjUVZ4GCii",
        "outputId": "7b408cc8-506b-4fa6-fb89-ee4c2536e6a8"
      },
      "source": [
        "### ESTIMATED GP EI GRADIENTS\n",
        "\n",
        "np.random.seed(run_num_12)\n",
        "surrogate_approx_12 = GaussianProcess(cov_func, optimize=opt)\n",
        "\n",
        "approx_12 = GPGO(surrogate_approx_12, Acquisition(util_grad_approx), objfunc, param)\n",
        "approx_12.run(init_evals=n_init, max_iter=iters)\n"
      ],
      "execution_count": null,
      "outputs": [
        {
          "output_type": "stream",
          "text": [
            "Evaluation \t Proposed point \t  Current eval. \t Best eval.\n",
            "init   \t [-3.54137249  2.45810889]. \t  -57.903242869085595 \t -40.51116653209555\n",
            "init   \t [-2.42365424  0.34549139]. \t  -40.51116653209555 \t -40.51116653209555\n",
            "init   \t [-4.97075238  4.28796936]. \t  -55.62655915398208 \t -40.51116653209555\n",
            "init   \t [ 4.10332011 -4.77776458]. \t  -49.962803461970296 \t -40.51116653209555\n",
            "init   \t [ 4.6791612  -3.71497655]. \t  -62.183891474990624 \t -40.51116653209555\n",
            "1      \t [5.12 5.12]. \t  -57.849427451571785 \t -40.51116653209555\n",
            "2      \t [-5.12 -5.12]. \t  -57.849427451571785 \t -40.51116653209555\n",
            "3      \t [2.51309592 0.83213308]. \t  \u001b[92m-32.03971426626734\u001b[0m \t -32.03971426626734\n",
            "4      \t [0.33253154 5.12      ]. \t  -43.991598753921245 \t -32.03971426626734\n",
            "5      \t [-0.48618694 -4.11927945]. \t  -39.846598671493474 \t -32.03971426626734\n",
            "6      \t [-5.12       -1.54443991]. \t  -50.92270382455786 \t -32.03971426626734\n",
            "7      \t [ 5.12       -0.37881497]. \t  -46.30672922060628 \t -32.03971426626734\n",
            "8      \t [ 1.63812548 -1.9816146 ]. \t  \u001b[92m-23.141446916470205\u001b[0m \t -23.141446916470205\n",
            "9      \t [-0.04356885  2.14282559]. \t  \u001b[92m-8.729516183363952\u001b[0m \t -8.729516183363952\n",
            "10     \t [2.70818235 3.4913327 ]. \t  -52.10618312240411 \t -8.729516183363952\n",
            "11     \t [-2.63746706 -2.72194224]. \t  -42.61505981707079 \t -8.729516183363952\n",
            "12     \t [-2.28788975  5.12      ]. \t  -46.51741172574315 \t -8.729516183363952\n",
            "13     \t [5.12       2.25424055]. \t  -44.27272450222781 \t -8.729516183363952\n",
            "14     \t [ 0.0037311 -0.3262923]. \t  -14.721330502388067 \t -8.729516183363952\n",
            "15     \t [ 1.66611538 -5.12      ]. \t  -46.73062167571054 \t -8.729516183363952\n",
            "16     \t [-2.54732531 -5.12      ]. \t  -54.97473172846729 \t -8.729516183363952\n",
            "17     \t [-5.12        0.84440909]. \t  -34.047653349556896 \t -8.729516183363952\n",
            "18     \t [-0.7808367   2.68240734]. \t  -30.000037051648487 \t -8.729516183363952\n",
            "19     \t [0.5127096  1.34737847]. \t  -37.790234939259534 \t -8.729516183363952\n",
            "20     \t [-0.5211275  -1.60016792]. \t  -40.82809429425107 \t -8.729516183363952\n"
          ],
          "name": "stdout"
        }
      ]
    },
    {
      "cell_type": "code",
      "metadata": {
        "colab": {
          "base_uri": "https://localhost:8080/"
        },
        "id": "CphOPndPGClX",
        "outputId": "2b6b4e21-fe25-477e-ec43-9e6f5246f4ac"
      },
      "source": [
        "### ESTIMATED GP EI GRADIENTS\n",
        "\n",
        "np.random.seed(run_num_13)\n",
        "surrogate_approx_13 = GaussianProcess(cov_func, optimize=opt)\n",
        "\n",
        "approx_13 = GPGO(surrogate_approx_13, Acquisition(util_grad_approx), objfunc, param)\n",
        "approx_13.run(init_evals=n_init, max_iter=iters)\n"
      ],
      "execution_count": null,
      "outputs": [
        {
          "output_type": "stream",
          "text": [
            "Evaluation \t Proposed point \t  Current eval. \t Best eval.\n",
            "init   \t [ 2.84367268 -2.68757791]. \t  -33.58019830007169 \t -17.435826639425656\n",
            "init   \t [3.32061217 4.76927179]. \t  -56.857057997503354 \t -17.435826639425656\n",
            "init   \t [ 4.83943541 -0.47667971]. \t  -48.211919361679726 \t -17.435826639425656\n",
            "init   \t [1.11659482 2.82139151]. \t  -17.435826639425656 \t -17.435826639425656\n",
            "init   \t [1.45012065 2.27346667]. \t  -38.25352329493884 \t -17.435826639425656\n",
            "1      \t [-5.12       -2.72662613]. \t  -47.82255372239195 \t -17.435826639425656\n",
            "2      \t [-5.12  5.12]. \t  -57.849427451571785 \t -17.435826639425656\n",
            "3      \t [-1.07701199 -5.12      ]. \t  -31.23270596882761 \t -17.435826639425656\n",
            "4      \t [-2.85654782  1.12632981]. \t  \u001b[92m-16.21112054978481\u001b[0m \t -16.21112054978481\n",
            "5      \t [-1.154889  5.12    ]. \t  -34.63188133754804 \t -16.21112054978481\n",
            "6      \t [-0.62085659 -1.40877295]. \t  -38.024559266150035 \t -16.21112054978481\n",
            "7      \t [ 5.12 -5.12]. \t  -57.849427451571785 \t -16.21112054978481\n",
            "8      \t [-5.12       1.7378335]. \t  -42.70847828668707 \t -16.21112054978481\n",
            "9      \t [5.12       2.46276694]. \t  -54.717535612015695 \t -16.21112054978481\n",
            "10     \t [ 1.73841757 -5.12      ]. \t  -42.673912520821744 \t -16.21112054978481\n",
            "11     \t [-3.90824115 -5.12      ]. \t  -45.815513030575275 \t -16.21112054978481\n",
            "12     \t [-1.25798002  2.43117962]. \t  -37.07391719340609 \t -16.21112054978481\n",
            "13     \t [ 1.88141228 -0.24378477]. \t  \u001b[92m-15.858585300123591\u001b[0m \t -15.858585300123591\n",
            "14     \t [-3.23791011 -0.94253001]. \t  -21.258418036226548 \t -15.858585300123591\n",
            "15     \t [0.95611055 5.12      ]. \t  -30.216690836228075 \t -15.858585300123591\n",
            "16     \t [-2.30297224 -3.0776452 ]. \t  -29.209429517284445 \t -15.858585300123591\n",
            "17     \t [-3.20380788  3.62576427]. \t  -47.585821405077965 \t -15.858585300123591\n",
            "18     \t [ 5.12       -2.74078372]. \t  -47.01536166541292 \t -15.858585300123591\n",
            "19     \t [-5.12       -0.42609353]. \t  -48.04731724732528 \t -15.858585300123591\n",
            "20     \t [ 0.51107486 -3.1800649 ]. \t  -36.09570624703747 \t -15.858585300123591\n"
          ],
          "name": "stdout"
        }
      ]
    },
    {
      "cell_type": "code",
      "metadata": {
        "colab": {
          "base_uri": "https://localhost:8080/"
        },
        "id": "ojHTeARNGCoi",
        "outputId": "ed612943-a17f-4158-9409-3105c7cd9e56"
      },
      "source": [
        "### ESTIMATED GP EI GRADIENTS\n",
        "\n",
        "np.random.seed(run_num_14)\n",
        "surrogate_approx_14 = GaussianProcess(cov_func, optimize=opt)\n",
        "\n",
        "approx_14 = GPGO(surrogate_approx_14, Acquisition(util_grad_approx), objfunc, param)\n",
        "approx_14.run(init_evals=n_init, max_iter=iters)\n"
      ],
      "execution_count": null,
      "outputs": [
        {
          "output_type": "stream",
          "text": [
            "Evaluation \t Proposed point \t  Current eval. \t Best eval.\n",
            "init   \t [0.14277984 2.79721013]. \t  -18.683085263052178 \t -10.423838604848608\n",
            "init   \t [ 3.7931795  -5.03759925]. \t  -47.36348784446708 \t -10.423838604848608\n",
            "init   \t [-1.94830412  4.68586229]. \t  -40.19779334078636 \t -10.423838604848608\n",
            "init   \t [ 0.13431513 -1.86076749]. \t  -10.423838604848608 \t -10.423838604848608\n",
            "init   \t [ 0.40140736 -2.85434939]. \t  -30.353548735049138 \t -10.423838604848608\n",
            "1      \t [-5.12 -5.12]. \t  -57.8494274515718 \t -10.423838604848608\n",
            "2      \t [5.12 5.12]. \t  -57.849427451571785 \t -10.423838604848608\n",
            "3      \t [-5.12        0.35555346]. \t  -45.207642852354454 \t -10.423838604848608\n",
            "4      \t [ 5.12       -0.06379677]. \t  -29.721475124888244 \t -10.423838604848608\n",
            "5      \t [-5.12  5.12]. \t  -57.849427451571785 \t -10.423838604848608\n",
            "6      \t [-1.64656857  0.04127342]. \t  -19.098167256925223 \t -10.423838604848608\n",
            "7      \t [-1.68580028 -5.12      ]. \t  -45.69191789552137 \t -10.423838604848608\n",
            "8      \t [1.91874718 0.23697281]. \t  -14.195264550334736 \t -10.423838604848608\n",
            "9      \t [1.75616124 5.12      ]. \t  -41.621790330862304 \t -10.423838604848608\n",
            "10     \t [-3.36992531 -2.3260542 ]. \t  -48.20779673906814 \t -10.423838604848608\n",
            "11     \t [3.48152774 2.41512991]. \t  -56.498180801428376 \t -10.423838604848608\n",
            "12     \t [ 3.28653767 -2.13814022]. \t  -31.18475038164678 \t -10.423838604848608\n",
            "13     \t [-3.14137462  2.27899541]. \t  -30.566374914781573 \t -10.423838604848608\n",
            "14     \t [ 1.13105582 -5.12      ]. \t  -33.40703924772944 \t -10.423838604848608\n",
            "15     \t [ 5.12       -2.95114372]. \t  -38.1014370278825 \t -10.423838604848608\n",
            "16     \t [ 0.28544129 -0.04890574]. \t  -12.760765122036727 \t -10.423838604848608\n",
            "17     \t [-5.12       2.7306299]. \t  -47.595110257946494 \t -10.423838604848608\n",
            "18     \t [-0.92695044  1.65967373]. \t  -20.024288270649013 \t -10.423838604848608\n",
            "19     \t [-1.0865402  -1.60055036]. \t  -23.254370993180814 \t -10.423838604848608\n",
            "20     \t [-5.12       -2.31626272]. \t  -48.33395381347558 \t -10.423838604848608\n"
          ],
          "name": "stdout"
        }
      ]
    },
    {
      "cell_type": "code",
      "metadata": {
        "colab": {
          "base_uri": "https://localhost:8080/"
        },
        "id": "vCJzn4vWGCs3",
        "outputId": "265af5df-072e-48b5-f8d0-3edab3cf264f"
      },
      "source": [
        "### ESTIMATED GP EI GRADIENTS\n",
        "\n",
        "np.random.seed(run_num_15)\n",
        "surrogate_approx_15 = GaussianProcess(cov_func, optimize=opt)\n",
        "\n",
        "approx_15 = GPGO(surrogate_approx_15, Acquisition(util_grad_approx), objfunc, param)\n",
        "approx_15.run(init_evals=n_init, max_iter=iters)\n"
      ],
      "execution_count": null,
      "outputs": [
        {
          "output_type": "stream",
          "text": [
            "Evaluation \t Proposed point \t  Current eval. \t Best eval.\n",
            "init   \t [ 3.57189322 -3.28810573]. \t  -54.938487770767075 \t -7.990765314336182\n",
            "init   \t [-4.56332069 -1.41784631]. \t  -60.750198753157726 \t -7.990765314336182\n",
            "init   \t [-2.29989449  0.3072023 ]. \t  -31.984997246800887 \t -7.990765314336182\n",
            "init   \t [-1.9873903  -2.00218256]. \t  -7.990765314336182 \t -7.990765314336182\n",
            "init   \t [-3.97576933 -2.5610341 ]. \t  -41.754957769694336 \t -7.990765314336182\n",
            "1      \t [4.80390202 4.79749377]. \t  -59.83100237180094 \t -7.990765314336182\n",
            "2      \t [-5.12  5.12]. \t  -57.849427451571785 \t -7.990765314336182\n",
            "3      \t [-0.15101206  5.12      ]. \t  -33.12122955022906 \t -7.990765314336182\n",
            "4      \t [2.15573482 1.04431635]. \t  -10.5403695712771 \t -7.990765314336182\n",
            "5      \t [-0.33203224 -5.12      ]. \t  -43.96399510457497 \t -7.990765314336182\n",
            "6      \t [5.12       0.33805777]. \t  -44.29383160417213 \t -7.990765314336182\n",
            "7      \t [ 0.62332395 -1.50563915]. \t  -39.79434481153279 \t -7.990765314336182\n",
            "8      \t [-5.12 -5.12]. \t  -57.849427451571785 \t -7.990765314336182\n",
            "9      \t [-5.12        1.87029541]. \t  -35.563728771287046 \t -7.990765314336182\n",
            "10     \t [-0.06815161  2.21604192]. \t  -13.700881289266224 \t -7.990765314336182\n",
            "11     \t [-2.49508483  3.43905833]. \t  -57.323623699278095 \t -7.990765314336182\n",
            "12     \t [2.21825638 3.42305389]. \t  -43.51053400352421 \t -7.990765314336182\n",
            "13     \t [ 5.12 -5.12]. \t  -57.849427451571785 \t -7.990765314336182\n",
            "14     \t [-2.63547612 -5.12      ]. \t  -52.461097427974124 \t -7.990765314336182\n",
            "15     \t [ 2.03069657 -5.12      ]. \t  -33.23386493691041 \t -7.990765314336182\n",
            "16     \t [ 2.88188576 -0.6198523 ]. \t  -28.61523665850344 \t -7.990765314336182\n",
            "17     \t [5.12       2.48546397]. \t  -55.060565689044005 \t -7.990765314336182\n",
            "18     \t [-1.40748939 -2.66961784]. \t  -42.30415811045853 \t -7.990765314336182\n",
            "19     \t [0.3037588  0.81115457]. \t  -20.315544156287167 \t -7.990765314336182\n",
            "20     \t [ 5.12       -1.87138279]. \t  -35.51824000642459 \t -7.990765314336182\n"
          ],
          "name": "stdout"
        }
      ]
    },
    {
      "cell_type": "code",
      "metadata": {
        "colab": {
          "base_uri": "https://localhost:8080/"
        },
        "id": "bGGkhp-kGCw6",
        "outputId": "8cfb156d-9ee7-4243-b4bc-5c8a7f78fb08"
      },
      "source": [
        "### ESTIMATED GP EI GRADIENTS\n",
        "\n",
        "np.random.seed(run_num_16)\n",
        "surrogate_approx_16 = GaussianProcess(cov_func, optimize=opt)\n",
        "\n",
        "approx_16 = GPGO(surrogate_approx_16, Acquisition(util_grad_approx), objfunc, param)\n",
        "approx_16.run(init_evals=n_init, max_iter=iters)\n"
      ],
      "execution_count": null,
      "outputs": [
        {
          "output_type": "stream",
          "text": [
            "Evaluation \t Proposed point \t  Current eval. \t Best eval.\n",
            "init   \t [-2.83349935  0.23719262]. \t  -22.27210456874814 \t -22.27210456874814\n",
            "init   \t [ 0.51918292 -4.65303603]. \t  -57.57021076017139 \t -22.27210456874814\n",
            "init   \t [-1.42613673 -2.83565116]. \t  -33.89145899403749 \t -22.27210456874814\n",
            "init   \t [ 1.9325559  -3.44339021]. \t  -35.85029586225333 \t -22.27210456874814\n",
            "init   \t [-4.39987336  4.51595121]. \t  -77.78800881964571 \t -22.27210456874814\n",
            "1      \t [5.12 5.12]. \t  -57.849427451571785 \t -22.27210456874814\n",
            "2      \t [5.12       0.13331511]. \t  -32.25032968272954 \t -22.27210456874814\n",
            "3      \t [0.53988362 3.56704876]. \t  -51.82862209140108 \t -22.27210456874814\n",
            "4      \t [-5.12 -5.12]. \t  -57.849427451571785 \t -22.27210456874814\n",
            "5      \t [ 5.12 -5.12]. \t  -57.849427451571785 \t -22.27210456874814\n",
            "6      \t [1.26312866 0.0161978 ]. \t  \u001b[92m-12.471464098341075\u001b[0m \t -12.471464098341075\n",
            "7      \t [-5.12       -1.65387318]. \t  -47.339260009061995 \t -12.471464098341075\n",
            "8      \t [3.37883226 2.40302338]. \t  -52.63065484701844 \t -12.471464098341075\n",
            "9      \t [-5.12        1.50296771]. \t  -51.18188721612175 \t -12.471464098341075\n",
            "10     \t [ 5.12       -2.35309448]. \t  -50.49579770917917 \t -12.471464098341075\n",
            "11     \t [-1.5829003  5.12     ]. \t  -50.10411319109356 \t -12.471464098341075\n",
            "12     \t [-0.67732573  1.00521315]. \t  -15.883809934358975 \t -12.471464098341075\n",
            "13     \t [-2.37072037 -5.12      ]. \t  -51.423424087600736 \t -12.471464098341075\n",
            "14     \t [2.42515527 5.12      ]. \t  -53.72058180143779 \t -12.471464098341075\n",
            "15     \t [ 2.68542534 -0.95832132]. \t  -22.417763963744918 \t -12.471464098341075\n",
            "16     \t [-2.26750676  2.47831826]. \t  -42.288763153415665 \t -12.471464098341075\n",
            "17     \t [-0.06521417 -1.03454494]. \t  \u001b[92m-2.1369774407517266\u001b[0m \t -2.1369774407517266\n",
            "18     \t [-0.07171695 -1.03862795]. \t  -2.375168584529092 \t -2.1369774407517266\n",
            "19     \t [-0.07139232 -1.03848877]. \t  -2.363870502294061 \t -2.1369774407517266\n",
            "20     \t [-0.07123581 -1.03841959]. \t  -2.358404089069163 \t -2.1369774407517266\n"
          ],
          "name": "stdout"
        }
      ]
    },
    {
      "cell_type": "code",
      "metadata": {
        "colab": {
          "base_uri": "https://localhost:8080/"
        },
        "id": "Yrs2mp7hGC1Z",
        "outputId": "80e47e0d-c0d7-4e8e-c3e9-6810ad352c5c"
      },
      "source": [
        "### ESTIMATED GP EI GRADIENTS\n",
        "\n",
        "np.random.seed(run_num_17)\n",
        "surrogate_approx_17 = GaussianProcess(cov_func, optimize=opt)\n",
        "\n",
        "approx_17 = GPGO(surrogate_approx_17, Acquisition(util_grad_approx), objfunc, param)\n",
        "approx_17.run(init_evals=n_init, max_iter=iters)\n"
      ],
      "execution_count": null,
      "outputs": [
        {
          "output_type": "stream",
          "text": [
            "Evaluation \t Proposed point \t  Current eval. \t Best eval.\n",
            "init   \t [-2.10263037  0.31320838]. \t  -20.395145364684023 \t -20.395145364684023\n",
            "init   \t [-3.15882714 -4.42470033]. \t  -53.03732051200137 \t -20.395145364684023\n",
            "init   \t [2.93873111 1.60085526]. \t  -29.989224812583537 \t -20.395145364684023\n",
            "init   \t [1.40821398 0.77417363]. \t  -29.451989415882437 \t -20.395145364684023\n",
            "init   \t [-4.71999574 -1.45598869]. \t  -55.89242173757483 \t -20.395145364684023\n",
            "1      \t [ 5.12 -5.12]. \t  -57.849427451571785 \t -20.395145364684023\n",
            "2      \t [-5.12  5.12]. \t  -57.849427451571785 \t -20.395145364684023\n",
            "3      \t [-0.24352154  5.12      ]. \t  -38.57707497365628 \t -20.395145364684023\n",
            "4      \t [5.12 5.12]. \t  -57.849427451571785 \t -20.395145364684023\n",
            "5      \t [ 1.0773245  -3.51439942]. \t  -34.62792051863994 \t -20.395145364684023\n",
            "6      \t [ 5.12       -1.25380004]. \t  -40.73546899864028 \t -20.395145364684023\n",
            "7      \t [-5.12        1.83350688]. \t  -37.27702105856103 \t -20.395145364684023\n",
            "8      \t [-2.31927677  3.11405903]. \t  -31.752962772227757 \t -20.395145364684023\n",
            "9      \t [-1.18603141 -1.98920002]. \t  \u001b[92m-11.474681619626478\u001b[0m \t -11.474681619626478\n",
            "10     \t [2.32596067 4.36235783]. \t  -55.521548414876854 \t -11.474681619626478\n",
            "11     \t [5.12       2.01153028]. \t  -32.99719903869182 \t -11.474681619626478\n",
            "12     \t [-0.58774766 -5.12      ]. \t  -47.78842167778669 \t -11.474681619626478\n",
            "13     \t [ 2.51459548 -1.52792814]. \t  -48.4621668388941 \t -11.474681619626478\n",
            "14     \t [ 2.54666739 -5.12      ]. \t  -54.983410370000556 \t -11.474681619626478\n",
            "15     \t [-0.08716349  2.3663121 ]. \t  -23.74433419206523 \t -11.474681619626478\n",
            "16     \t [-5.12 -5.12]. \t  -57.849427451571785 \t -11.474681619626478\n",
            "17     \t [-0.17364977 -0.83493825]. \t  \u001b[92m-11.024870561954287\u001b[0m \t -11.024870561954287\n",
            "18     \t [-2.62641666  5.12      ]. \t  -52.83062609846043 \t -11.024870561954287\n",
            "19     \t [-2.21834819 -2.04159075]. \t  -17.453011336479925 \t -11.024870561954287\n",
            "20     \t [-0.14040589 -1.56795455]. \t  -25.22586905478475 \t -11.024870561954287\n"
          ],
          "name": "stdout"
        }
      ]
    },
    {
      "cell_type": "code",
      "metadata": {
        "colab": {
          "base_uri": "https://localhost:8080/"
        },
        "id": "f0HIEP3PIUEa",
        "outputId": "8f433cc4-4b20-4738-9345-fbdbc5062d24"
      },
      "source": [
        "### ESTIMATED GP EI GRADIENTS\n",
        "\n",
        "np.random.seed(run_num_18)\n",
        "surrogate_approx_18 = GaussianProcess(cov_func, optimize=opt)\n",
        "\n",
        "approx_18 = GPGO(surrogate_approx_18, Acquisition(util_grad_approx), objfunc, param)\n",
        "approx_18.run(init_evals=n_init, max_iter=iters)\n"
      ],
      "execution_count": null,
      "outputs": [
        {
          "output_type": "stream",
          "text": [
            "Evaluation \t Proposed point \t  Current eval. \t Best eval.\n",
            "init   \t [1.53983224 0.05584255]. \t  -22.67190580753611 \t -22.67190580753611\n",
            "init   \t [ 3.87687906 -3.25795609]. \t  -38.990099416711985 \t -22.67190580753611\n",
            "init   \t [3.60686662 2.56139557]. \t  -56.66448698782129 \t -22.67190580753611\n",
            "init   \t [1.70088108 4.99604939]. \t  -40.894059318256296 \t -22.67190580753611\n",
            "init   \t [-2.48864335 -4.83014733]. \t  -54.6725749848372 \t -22.67190580753611\n",
            "1      \t [-5.12        2.10205608]. \t  -35.32979086565658 \t -22.67190580753611\n",
            "2      \t [-2.46249901  5.12      ]. \t  -54.71229979245777 \t -22.67190580753611\n",
            "3      \t [-2.31060816 -0.7059126 ]. \t  -32.28877161798881 \t -22.67190580753611\n",
            "4      \t [ 1.04805997 -5.12      ]. \t  -30.475617869606744 \t -22.67190580753611\n",
            "5      \t [-5.12       -2.45342784]. \t  -54.518931499239585 \t -22.67190580753611\n",
            "6      \t [-0.69696296  2.25257333]. \t  -28.99260352957237 \t -22.67190580753611\n",
            "7      \t [ 5.12       -0.35164303]. \t  -45.009422871296316 \t -22.67190580753611\n",
            "8      \t [5.12 5.12]. \t  -57.849427451571785 \t -22.67190580753611\n",
            "9      \t [ 0.15291013 -2.40801192]. \t  -28.468642227877105 \t -22.67190580753611\n",
            "10     \t [-5.12  5.12]. \t  -57.849427451571785 \t -22.67190580753611\n",
            "11     \t [ 5.12 -5.12]. \t  -57.849427451571785 \t -22.67190580753611\n",
            "12     \t [-5.12 -5.12]. \t  -57.849427451571785 \t -22.67190580753611\n",
            "13     \t [-2.8683334   1.88955141]. \t  \u001b[92m-17.34184291669915\u001b[0m \t -17.34184291669915\n",
            "14     \t [-5.12       -0.05581402]. \t  -29.53646947128712 \t -17.34184291669915\n",
            "15     \t [ 2.49768863 -1.57549268]. \t  -47.61553995135146 \t -17.34184291669915\n",
            "16     \t [1.22676146 2.30578465]. \t  -28.80037240444558 \t -17.34184291669915\n",
            "17     \t [-0.33016957  0.00783609]. \t  \u001b[92m-14.948062421257708\u001b[0m \t -14.948062421257708\n",
            "18     \t [-0.28956939  5.12      ]. \t  -41.46924811073556 \t -14.948062421257708\n",
            "19     \t [-2.1622082  -2.62671669]. \t  -33.32856278230591 \t -14.948062421257708\n",
            "20     \t [ 2.76420942 -5.12      ]. \t  -45.67394900653106 \t -14.948062421257708\n"
          ],
          "name": "stdout"
        }
      ]
    },
    {
      "cell_type": "code",
      "metadata": {
        "colab": {
          "base_uri": "https://localhost:8080/"
        },
        "id": "S3mxRQDLIUPC",
        "outputId": "657ea5a1-22a1-4524-9fd0-d2d3f6779cbc"
      },
      "source": [
        "### ESTIMATED GP EI GRADIENTS\n",
        "\n",
        "np.random.seed(run_num_19)\n",
        "surrogate_approx_19 = GaussianProcess(cov_func, optimize=opt)\n",
        "\n",
        "approx_19 = GPGO(surrogate_approx_19, Acquisition(util_grad_approx), objfunc, param)\n",
        "approx_19.run(init_evals=n_init, max_iter=iters)\n"
      ],
      "execution_count": null,
      "outputs": [
        {
          "output_type": "stream",
          "text": [
            "Evaluation \t Proposed point \t  Current eval. \t Best eval.\n",
            "init   \t [-4.12125592  2.6751971 ]. \t  -41.43485596167127 \t -25.867003842388073\n",
            "init   \t [-2.59135515 -3.70553152]. \t  -51.60126035043229 \t -25.867003842388073\n",
            "init   \t [-1.72598719 -4.27008445]. \t  -43.97430127029199 \t -25.867003842388073\n",
            "init   \t [1.76104531 3.13952049]. \t  -25.867003842388073 \t -25.867003842388073\n",
            "init   \t [4.9432772  1.38916592]. \t  -44.66580306903559 \t -25.867003842388073\n",
            "1      \t [ 5.12 -5.12]. \t  -57.849427451571785 \t -25.867003842388073\n",
            "2      \t [ 1.77595123 -1.68635391]. \t  -28.267708038638098 \t -25.867003842388073\n",
            "3      \t [5.12 5.12]. \t  -57.849427451571785 \t -25.867003842388073\n",
            "4      \t [-1.28669651  5.12      ]. \t  -42.86563596868251 \t -25.867003842388073\n",
            "5      \t [-5.12       -0.97841456]. \t  -29.97383902098907 \t -25.867003842388073\n",
            "6      \t [-1.20080606  0.35666675]. \t  \u001b[92m-24.73866483123347\u001b[0m \t -24.73866483123347\n",
            "7      \t [ 1.54014175 -5.12      ]. \t  -50.98036323268903 \t -24.73866483123347\n",
            "8      \t [ 5.12       -1.82150314]. \t  -37.89952918813169 \t -24.73866483123347\n",
            "9      \t [-5.12 -5.12]. \t  -57.849427451571785 \t -24.73866483123347\n",
            "10     \t [-5.12  5.12]. \t  -57.849427451571785 \t -24.73866483123347\n",
            "11     \t [1.81534113 0.74360693]. \t  \u001b[92m-20.258854448428945\u001b[0m \t -20.258854448428945\n",
            "12     \t [2.02695247 5.12      ]. \t  -33.176300347125 \t -20.258854448428945\n",
            "13     \t [-0.86367682  2.59088871]. \t  -29.32134135335746 \t -20.258854448428945\n",
            "14     \t [-0.58629637 -1.85536879]. \t  -26.204445674808625 \t -20.258854448428945\n",
            "15     \t [-3.21509619  0.05298775]. \t  \u001b[92m-18.71323526159539\u001b[0m \t -18.71323526159539\n",
            "16     \t [ 3.23908302 -3.2786277 ]. \t  -42.3447101212353 \t -18.71323526159539\n",
            "17     \t [-5.12       -2.80415832]. \t  -43.45044321307102 \t -18.71323526159539\n",
            "18     \t [-5.12        0.93875125]. \t  -30.537372240881766 \t -18.71323526159539\n",
            "19     \t [ 3.37936763 -0.28953454]. \t  -41.224946957674504 \t -18.71323526159539\n",
            "20     \t [3.66247252 3.14299304]. \t  -42.29034777468806 \t -18.71323526159539\n"
          ],
          "name": "stdout"
        }
      ]
    },
    {
      "cell_type": "code",
      "metadata": {
        "colab": {
          "base_uri": "https://localhost:8080/"
        },
        "id": "Aawd59dRIUYn",
        "outputId": "be504bd0-32a8-49a2-e7dc-29aa2b73f673"
      },
      "source": [
        "### ESTIMATED GP EI GRADIENTS\n",
        "\n",
        "np.random.seed(run_num_20)\n",
        "surrogate_approx_20 = GaussianProcess(cov_func, optimize=opt)\n",
        "\n",
        "approx_20 = GPGO(surrogate_approx_20, Acquisition(util_grad_approx), objfunc, param)\n",
        "approx_20.run(init_evals=n_init, max_iter=iters)\n"
      ],
      "execution_count": null,
      "outputs": [
        {
          "output_type": "stream",
          "text": [
            "Evaluation \t Proposed point \t  Current eval. \t Best eval.\n",
            "init   \t [0.9024594  4.07258857]. \t  -20.24255447774017 \t -17.388691338534382\n",
            "init   \t [4.00927467 3.23417577]. \t  -35.55852254546393 \t -17.388691338534382\n",
            "init   \t [-4.75249064  1.96359764]. \t  -36.54582989269194 \t -17.388691338534382\n",
            "init   \t [-1.24230715  0.18955208]. \t  -17.388691338534382 \t -17.388691338534382\n",
            "init   \t [ 1.61742301 -3.13497377]. \t  -33.22932870179905 \t -17.388691338534382\n",
            "1      \t [-5.12 -5.12]. \t  -57.849427451571785 \t -17.388691338534382\n",
            "2      \t [ 5.12       -0.92646119]. \t  -30.83167446343571 \t -17.388691338534382\n",
            "3      \t [ 5.12 -5.12]. \t  -57.849427451571785 \t -17.388691338534382\n",
            "4      \t [-2.70368883  5.12      ]. \t  -49.10357473157433 \t -17.388691338534382\n",
            "5      \t [-1.34011158 -5.12      ]. \t  -46.084798729665046 \t -17.388691338534382\n",
            "6      \t [-5.12       -1.49922021]. \t  -51.172254926466024 \t -17.388691338534382\n",
            "7      \t [1.91181202 0.46610421]. \t  -25.142609685867193 \t -17.388691338534382\n",
            "8      \t [-2.03027328 -2.26094685]. \t  -20.101518101659103 \t -17.388691338534382\n",
            "9      \t [-1.34692706  2.54188332]. \t  -43.651672434230726 \t -17.388691338534382\n",
            "10     \t [-5.12  5.12]. \t  -57.849427451571785 \t -17.388691338534382\n",
            "11     \t [5.12 5.12]. \t  -57.849427451571785 \t -17.388691338534382\n",
            "12     \t [ 2.24150581 -5.12      ]. \t  -43.415609430404515 \t -17.388691338534382\n",
            "13     \t [5.12       1.32200513]. \t  -45.04385866728544 \t -17.388691338534382\n",
            "14     \t [ 0.18501646 -1.30649305]. \t  -21.24611905786738 \t -17.388691338534382\n",
            "15     \t [2.36236382 5.12      ]. \t  -50.993448371041794 \t -17.388691338534382\n",
            "16     \t [ 3.90976933 -2.66464311]. \t  -39.06081733236839 \t -17.388691338534382\n",
            "17     \t [-3.10053389  0.11466059]. \t  \u001b[92m-14.040853765393695\u001b[0m \t -14.040853765393695\n",
            "18     \t [1.35406371 2.30367622]. \t  -36.53189822448121 \t -14.040853765393695\n",
            "19     \t [-0.32998131  5.12      ]. \t  -43.85010886634531 \t -14.040853765393695\n",
            "20     \t [-3.34844745 -3.46708979]. \t  -58.81843584464441 \t -14.040853765393695\n"
          ],
          "name": "stdout"
        }
      ]
    },
    {
      "cell_type": "code",
      "metadata": {
        "colab": {
          "base_uri": "https://localhost:8080/"
        },
        "id": "xkgzPRbBTHaq",
        "outputId": "13af1d4b-0df8-454c-9dec-ce64ace87115"
      },
      "source": [
        "end_approx = time.time()\n",
        "end_approx\n",
        "\n",
        "time_approx = end_approx - start_approx\n",
        "time_approx\n",
        "\n",
        "start_exact = time.time()\n",
        "start_exact"
      ],
      "execution_count": null,
      "outputs": [
        {
          "output_type": "execute_result",
          "data": {
            "text/plain": [
              "1623410092.7201362"
            ]
          },
          "metadata": {
            "tags": []
          },
          "execution_count": 32
        }
      ]
    },
    {
      "cell_type": "code",
      "metadata": {
        "colab": {
          "base_uri": "https://localhost:8080/"
        },
        "id": "7CG3Ndvb16Rb",
        "outputId": "37be814f-09e4-4304-e8b5-c3449394b064"
      },
      "source": [
        "### EXACT GP EI GRADIENTS\n",
        "\n",
        "np.random.seed(run_num_1)\n",
        "surrogate_exact_1 = dGaussianProcess(cov_func, optimize=opt)\n",
        "\n",
        "exact_1 = dGPGO(surrogate_exact_1, Acquisition_new(util_grad_exact), objfunc, param)\n",
        "exact_1.run(init_evals=n_init, max_iter=iters)\n"
      ],
      "execution_count": null,
      "outputs": [
        {
          "output_type": "stream",
          "text": [
            "Evaluation \t Proposed point \t  Current eval. \t Best eval.\n",
            "init   \t [-0.84969467  2.25612281]. \t  -20.33436270766351 \t -19.908403246996286\n",
            "init   \t [-5.1188288  -2.02411446]. \t  -33.07414982069084 \t -19.908403246996286\n",
            "init   \t [-3.61721968 -4.17445279]. \t  -53.347974723929894 \t -19.908403246996286\n",
            "init   \t [-3.21269544 -1.58145816]. \t  -39.218472310354045 \t -19.908403246996286\n",
            "init   \t [-1.05710106  0.39748336]. \t  -19.908403246996286 \t -19.908403246996286\n",
            "1      \t [ 4.42339399 -4.97713589]. \t  -63.30510968121598 \t -19.908403246996286\n",
            "2      \t [4.8613414  1.39882906]. \t  -47.197115901892985 \t -19.908403246996286\n",
            "3      \t [-4.0285811   4.97365835]. \t  -41.26421026895091 \t -19.908403246996286\n",
            "4      \t [2.22135298 4.99022003]. \t  -38.0653370455428 \t -19.908403246996286\n",
            "5      \t [ 0.36872699 -4.71183435]. \t  -51.49938954286396 \t -19.908403246996286\n",
            "6      \t [ 2.26614624 -0.61084583]. \t  -34.19245837215231 \t -19.908403246996286\n",
            "7      \t [4.84065641 5.10484999]. \t  -56.19107909595234 \t -19.908403246996286\n",
            "8      \t [-4.21694827  1.88119384]. \t  -31.918906927805402 \t -19.908403246996286\n",
            "9      \t [-0.81189684  4.89349523]. \t  -32.970428938558264 \t -19.908403246996286\n",
            "10     \t [ 9.54978273e-04 -1.83450725e+00]. \t  \u001b[92m-8.30185701149347\u001b[0m \t -8.30185701149347\n",
            "11     \t [ 4.15547819 -1.86256638]. \t  -28.643542761159143 \t -8.30185701149347\n",
            "12     \t [1.50169581 1.07776804]. \t  -24.58634356896986 \t -8.30185701149347\n",
            "13     \t [ 2.40096702 -3.28345583]. \t  -46.75810352553396 \t -8.30185701149347\n",
            "14     \t [2.62317966 3.00806909]. \t  -33.09387991447062 \t -8.30185701149347\n",
            "15     \t [-1.22807086 -3.31429846]. \t  -35.05022607036226 \t -8.30185701149347\n",
            "16     \t [-2.60116523  0.56209798]. \t  -44.377366501501314 \t -8.30185701149347\n",
            "17     \t [-5.11900722 -5.022035  ]. \t  -54.18851475415071 \t -8.30185701149347\n",
            "18     \t [-0.2083012  -0.97953904]. \t  -8.495270213723526 \t -8.30185701149347\n",
            "19     \t [-2.31754441  3.95927362]. \t  -35.49016557832631 \t -8.30185701149347\n",
            "20     \t [0.79953907 3.82374633]. \t  -27.72810554414676 \t -8.30185701149347\n"
          ],
          "name": "stdout"
        }
      ]
    },
    {
      "cell_type": "code",
      "metadata": {
        "id": "-ilCPSAu9SAg",
        "colab": {
          "base_uri": "https://localhost:8080/"
        },
        "outputId": "b8a74278-1669-4189-dc90-c0ed5eb5e950"
      },
      "source": [
        "### EXACT GP EI GRADIENTS\n",
        "\n",
        "np.random.seed(run_num_2)\n",
        "surrogate_exact_2 = dGaussianProcess(cov_func, optimize=opt)\n",
        "\n",
        "exact_2 = dGPGO(surrogate_exact_2, Acquisition_new(util_grad_exact), objfunc, param)\n",
        "exact_2.run(init_evals=n_init, max_iter=iters)\n"
      ],
      "execution_count": null,
      "outputs": [
        {
          "output_type": "stream",
          "text": [
            "Evaluation \t Proposed point \t  Current eval. \t Best eval.\n",
            "init   \t [-0.6554122  -4.85451539]. \t  -43.490296251903594 \t -18.964539418712707\n",
            "init   \t [ 0.50854377 -0.6622987 ]. \t  -35.91861667536101 \t -18.964539418712707\n",
            "init   \t [-0.81543371 -1.73737143]. \t  -20.479562046739524 \t -18.964539418712707\n",
            "init   \t [-3.02439799  1.2213347 ]. \t  -18.964539418712707 \t -18.964539418712707\n",
            "init   \t [-2.05153614 -2.3876887 ]. \t  -28.041315668371354 \t -18.964539418712707\n",
            "1      \t [4.36389158 4.51702655]. \t  -75.950626279408 \t -18.964539418712707\n",
            "2      \t [ 4.48423034 -3.74346998]. \t  -64.48301965911325 \t -18.964539418712707\n",
            "3      \t [-1.81881041  5.10238239]. \t  -37.15105201697424 \t -18.964539418712707\n",
            "4      \t [4.34503103 0.43953058]. \t  -53.98179453555729 \t -18.964539418712707\n",
            "5      \t [-5.0413191   4.76055462]. \t  -57.75021097488111 \t -18.964539418712707\n",
            "6      \t [-4.8744542  -4.31604188]. \t  -59.37321683709654 \t -18.964539418712707\n",
            "7      \t [0.24643879 2.62993693]. \t  -33.60192070246863 \t -18.964539418712707\n",
            "8      \t [-4.89853329 -1.02091201]. \t  -27.08842837239992 \t -18.964539418712707\n",
            "9      \t [ 1.85392694 -4.19549834]. \t  -31.605691743931096 \t -18.964539418712707\n",
            "10     \t [-5.08467007  1.24116964]. \t  -38.22187383691047 \t -18.964539418712707\n",
            "11     \t [1.62299757 4.54944054]. \t  -60.01237085482423 \t -18.964539418712707\n",
            "12     \t [1.84803514 1.29777618]. \t  -22.278911929756767 \t -18.964539418712707\n",
            "13     \t [ 2.86303703 -2.28020611]. \t  -28.762751540592845 \t -18.964539418712707\n",
            "14     \t [-2.93853275  3.14620617]. \t  -23.201142979166534 \t -18.964539418712707\n",
            "15     \t [-1.32061146  0.64091136]. \t  -32.777320303034806 \t -18.964539418712707\n",
            "16     \t [ 5.02583217 -1.31251147]. \t  -40.94060618149455 \t -18.964539418712707\n",
            "17     \t [-2.75588542 -4.48231814]. \t  -57.254721781685284 \t -18.964539418712707\n",
            "18     \t [-2.79681167 -0.86912272]. \t  \u001b[92m-18.873305038605448\u001b[0m \t -18.873305038605448\n",
            "19     \t [4.6154328  2.16262933]. \t  -48.24423002763244 \t -18.873305038605448\n",
            "20     \t [-0.1125684  -3.01107645]. \t  \u001b[92m-11.502193025965456\u001b[0m \t -11.502193025965456\n"
          ],
          "name": "stdout"
        }
      ]
    },
    {
      "cell_type": "code",
      "metadata": {
        "colab": {
          "base_uri": "https://localhost:8080/"
        },
        "id": "XieJ158mIvlP",
        "outputId": "5bc50ed8-d6ca-4e40-a0a3-1700ac5da727"
      },
      "source": [
        "### EXACT GP EI GRADIENTS\n",
        "\n",
        "np.random.seed(run_num_3)\n",
        "surrogate_exact_3 = dGaussianProcess(cov_func, optimize=opt)\n",
        "\n",
        "exact_3 = dGPGO(surrogate_exact_3, Acquisition_new(util_grad_exact), objfunc, param)\n",
        "exact_3.run(init_evals=n_init, max_iter=iters)\n"
      ],
      "execution_count": null,
      "outputs": [
        {
          "output_type": "stream",
          "text": [
            "Evaluation \t Proposed point \t  Current eval. \t Best eval.\n",
            "init   \t [0.52017052 2.1314337 ]. \t  -27.953858411008774 \t -10.607662635789808\n",
            "init   \t [-2.14113547  0.11087468]. \t  -10.607662635789808 \t -10.607662635789808\n",
            "init   \t [4.02377681 4.05804123]. \t  -33.42749829480097 \t -10.607662635789808\n",
            "init   \t [-3.83400642 -2.99783293]. \t  -28.650953928965198 \t -10.607662635789808\n",
            "init   \t [-4.59297584 -0.6061072 ]. \t  -57.6631355589384 \t -10.607662635789808\n",
            "1      \t [ 3.48734552 -4.65410759]. \t  -69.45782440995153 \t -10.607662635789808\n",
            "2      \t [-4.98603203  3.95760033]. \t  -40.914367327747186 \t -10.607662635789808\n",
            "3      \t [ 4.52457904 -0.15917927]. \t  -44.97640314727789 \t -10.607662635789808\n",
            "4      \t [-0.57642942 -4.7418849 ]. \t  -52.19634115894448 \t -10.607662635789808\n",
            "5      \t [-1.42281295  4.75805437]. \t  -53.00446296713395 \t -10.607662635789808\n",
            "6      \t [ 1.31868059 -1.28112651]. \t  -29.506132511923816 \t -10.607662635789808\n",
            "7      \t [1.65231998 4.89973065]. \t  -44.416614141149786 \t -10.607662635789808\n",
            "8      \t [-4.68395133 -4.89977121]. \t  -61.897309241378935 \t -10.607662635789808\n",
            "9      \t [-1.11691791 -1.97064683]. \t  \u001b[92m-7.8796719152898085\u001b[0m \t -7.8796719152898085\n",
            "10     \t [-2.41452284  1.97071276]. \t  -28.47458377401539 \t -7.8796719152898085\n",
            "11     \t [2.58771592 1.07672233]. \t  -27.514495077271388 \t -7.8796719152898085\n",
            "12     \t [ 4.91617166 -2.44479709]. \t  -50.90559701459573 \t -7.8796719152898085\n",
            "13     \t [-0.65813369  0.19542846]. \t  -22.566200870029704 \t -7.8796719152898085\n",
            "14     \t [4.71831013 1.91816128]. \t  -39.2129693337483 \t -7.8796719152898085\n",
            "15     \t [-4.91625828  1.60753634]. \t  -45.90924899335475 \t -7.8796719152898085\n",
            "16     \t [-1.93021222 -2.06808393]. \t  -9.849877227999693 \t -7.8796719152898085\n",
            "17     \t [ 1.79743982 -3.16496593]. \t  -25.218753469214302 \t -7.8796719152898085\n",
            "18     \t [-2.45455158 -4.94553136]. \t  -50.65807767451396 \t -7.8796719152898085\n",
            "19     \t [-0.45091283 -1.68270436]. \t  -36.666385860560396 \t -7.8796719152898085\n",
            "20     \t [-3.87966379  4.96768157]. \t  -42.65990680699781 \t -7.8796719152898085\n"
          ],
          "name": "stdout"
        }
      ]
    },
    {
      "cell_type": "code",
      "metadata": {
        "colab": {
          "base_uri": "https://localhost:8080/"
        },
        "id": "PhLBVOIfIvol",
        "outputId": "cd1d707a-6539-4d08-e1b9-3e462a8087f4"
      },
      "source": [
        "### EXACT GP EI GRADIENTS\n",
        "\n",
        "np.random.seed(run_num_4)\n",
        "surrogate_exact_4 = dGaussianProcess(cov_func, optimize=opt)\n",
        "\n",
        "exact_4 = dGPGO(surrogate_exact_4, Acquisition_new(util_grad_exact), objfunc, param)\n",
        "exact_4.run(init_evals=n_init, max_iter=iters)\n"
      ],
      "execution_count": null,
      "outputs": [
        {
          "output_type": "stream",
          "text": [
            "Evaluation \t Proposed point \t  Current eval. \t Best eval.\n",
            "init   \t [4.78238555 0.48365823]. \t  -51.03163809010808 \t -14.323038259018315\n",
            "init   \t [4.84028785 2.19971578]. \t  -39.78645699016559 \t -14.323038259018315\n",
            "init   \t [ 2.02474316 -2.90724357]. \t  -14.323038259018315 \t -14.323038259018315\n",
            "init   \t [ 4.87705042 -5.05620219]. \t  -52.80627247106233 \t -14.323038259018315\n",
            "init   \t [-2.52946061 -0.66773471]. \t  -41.61497868486559 \t -14.323038259018315\n",
            "1      \t [-1.31242285  4.65120347]. \t  -52.99501268754465 \t -14.323038259018315\n",
            "2      \t [-1.79792293 -4.9979256 ]. \t  -35.246844737137096 \t -14.323038259018315\n",
            "3      \t [-5.1107157   4.88035335]. \t  -54.956006925958356 \t -14.323038259018315\n",
            "4      \t [0.49528365 1.43722479]. \t  -41.53869473449281 \t -14.323038259018315\n",
            "5      \t [2.61954547 4.41377834]. \t  -62.22075788333776 \t -14.323038259018315\n",
            "6      \t [-4.46867611 -3.06681654]. \t  -50.049755346011274 \t -14.323038259018315\n",
            "7      \t [-5.08816049  1.34138555]. \t  -44.61561614337628 \t -14.323038259018315\n",
            "8      \t [ 1.4128747  -5.01726856]. \t  -45.76668327811586 \t -14.323038259018315\n",
            "9      \t [ 1.99683481 -0.91902225]. \t  \u001b[92m-6.100622971156982\u001b[0m \t -6.100622971156982\n",
            "10     \t [-0.12955962 -2.81923883]. \t  -16.884807615728224 \t -6.100622971156982\n",
            "11     \t [ 4.76323948 -2.33585237]. \t  -52.45019350840946 \t -6.100622971156982\n",
            "12     \t [-2.5459631   2.28305054]. \t  -43.34185972030765 \t -6.100622971156982\n",
            "13     \t [2.52811071 0.86699862]. \t  -30.28066245615318 \t -6.100622971156982\n",
            "14     \t [ 0.54113171 -1.14565121]. \t  -25.176554693957844 \t -6.100622971156982\n",
            "15     \t [4.65501383 4.3387058 ]. \t  -71.40307029735814 \t -6.100622971156982\n",
            "16     \t [-4.97137958 -0.65943059]. \t  -40.69915900029997 \t -6.100622971156982\n",
            "17     \t [-2.62766968 -2.9459918 ]. \t  -33.105249786072434 \t -6.100622971156982\n",
            "18     \t [ 2.63393002 -1.19616813]. \t  -31.713571767856102 \t -6.100622971156982\n",
            "19     \t [-4.39328907 -5.07008141]. \t  -63.79582965617792 \t -6.100622971156982\n",
            "20     \t [0.57369212 4.92214771]. \t  -44.67645515732715 \t -6.100622971156982\n"
          ],
          "name": "stdout"
        }
      ]
    },
    {
      "cell_type": "code",
      "metadata": {
        "colab": {
          "base_uri": "https://localhost:8080/"
        },
        "id": "arbiPyj2IvsJ",
        "outputId": "43fcd778-13db-4295-ce43-6966637af922"
      },
      "source": [
        "### EXACT GP EI GRADIENTS\n",
        "\n",
        "np.random.seed(run_num_5)\n",
        "surrogate_exact_5 = dGaussianProcess(cov_func, optimize=opt)\n",
        "\n",
        "exact_5 = dGPGO(surrogate_exact_5, Acquisition_new(util_grad_exact), objfunc, param)\n",
        "exact_5.run(init_evals=n_init, max_iter=iters)\n"
      ],
      "execution_count": null,
      "outputs": [
        {
          "output_type": "stream",
          "text": [
            "Evaluation \t Proposed point \t  Current eval. \t Best eval.\n",
            "init   \t [-2.84678993  3.79629882]. \t  -33.93442008827236 \t -7.8108627039749745\n",
            "init   \t [-3.00319585  4.2865757 ]. \t  -39.673876075575784 \t -7.8108627039749745\n",
            "init   \t [-0.11866943  1.14425716]. \t  -7.8108627039749745 \t -7.8108627039749745\n",
            "init   \t [2.72289645 0.1886002 ]. \t  -25.38160395721669 \t -7.8108627039749745\n",
            "init   \t [-2.08076286 -3.19773462]. \t  -22.589982116319675 \t -7.8108627039749745\n",
            "1      \t [ 4.32895605 -5.09732646]. \t  -61.29478907190488 \t -7.8108627039749745\n",
            "2      \t [4.48759904 4.77928109]. \t  -71.12030870314028 \t -7.8108627039749745\n",
            "3      \t [-4.99191113  0.34486967]. \t  -40.6650834440818 \t -7.8108627039749745\n",
            "4      \t [1.09890332 4.03071434]. \t  -19.509403576262443 \t -7.8108627039749745\n",
            "5      \t [ 0.40473436 -5.0026839 ]. \t  -43.45349053170776 \t -7.8108627039749745\n",
            "6      \t [-4.90719846 -2.99028963]. \t  -34.69337862271707 \t -7.8108627039749745\n",
            "7      \t [ 4.99789072 -1.69210937]. \t  -41.40072125086606 \t -7.8108627039749745\n",
            "8      \t [ 0.25167886 -1.71738855]. \t  -25.152979368157432 \t -7.8108627039749745\n",
            "9      \t [4.94463942 1.40316983]. \t  -45.22286008564386 \t -7.8108627039749745\n",
            "10     \t [-2.47806055 -0.2369829 ]. \t  -35.285105616343955 \t -7.8108627039749745\n",
            "11     \t [-2.59117085 -5.07051563]. \t  -51.793498551629234 \t -7.8108627039749745\n",
            "12     \t [-5.07359353  2.93394012]. \t  -36.24862419143108 \t -7.8108627039749745\n",
            "13     \t [2.30209178 2.33373954]. \t  -38.98295106989639 \t -7.8108627039749745\n",
            "14     \t [ 1.98851241 -2.83803699]. \t  -16.780949125479555 \t -7.8108627039749745\n",
            "15     \t [-0.35282096  4.89667092]. \t  -42.15672478029163 \t -7.8108627039749745\n",
            "16     \t [-0.7522715   2.48972322]. \t  -36.60107644784611 \t -7.8108627039749745\n",
            "17     \t [-0.12796772  0.27724306]. \t  -14.85863078407601 \t -7.8108627039749745\n",
            "18     \t [ 2.35284444 -1.15007701]. \t  -27.006111777618557 \t -7.8108627039749745\n",
            "19     \t [-3.18156905  2.05101163]. \t  -20.66991503219672 \t -7.8108627039749745\n",
            "20     \t [1.78710006 4.92457531]. \t  -36.23723769096235 \t -7.8108627039749745\n"
          ],
          "name": "stdout"
        }
      ]
    },
    {
      "cell_type": "code",
      "metadata": {
        "colab": {
          "base_uri": "https://localhost:8080/"
        },
        "id": "04KJCEm_Ivvf",
        "outputId": "a7ae211d-a282-4a2e-ba4a-10bc3a9d022e"
      },
      "source": [
        "### EXACT GP EI GRADIENTS\n",
        "\n",
        "np.random.seed(run_num_6)\n",
        "surrogate_exact_6 = dGaussianProcess(cov_func, optimize=opt)\n",
        "\n",
        "exact_6 = dGPGO(surrogate_exact_6, Acquisition_new(util_grad_exact), objfunc, param)\n",
        "exact_6.run(init_evals=n_init, max_iter=iters)\n"
      ],
      "execution_count": null,
      "outputs": [
        {
          "output_type": "stream",
          "text": [
            "Evaluation \t Proposed point \t  Current eval. \t Best eval.\n",
            "init   \t [ 4.02288795 -1.72052679]. \t  -31.08835710146886 \t -17.28954482757088\n",
            "init   \t [ 3.28938622 -4.69302655]. \t  -58.797867722203385 \t -17.28954482757088\n",
            "init   \t [-4.0175956   0.97333314]. \t  -17.28954482757088 \t -17.28954482757088\n",
            "init   \t [ 0.30532979 -0.83141193]. \t  -19.296253155889353 \t -17.28954482757088\n",
            "init   \t [-1.68542362  1.25459899]. \t  -28.650630936276173 \t -17.28954482757088\n",
            "1      \t [4.93241742 4.79914066]. \t  -55.20982233788753 \t -17.28954482757088\n",
            "2      \t [-4.03046901 -5.01672984]. \t  -41.65014747128707 \t -17.28954482757088\n",
            "3      \t [0.76103835 4.69388342]. \t  -45.372020949792976 \t -17.28954482757088\n",
            "4      \t [-0.45226025 -3.945031  ]. \t  -35.911831531312416 \t -17.28954482757088\n",
            "5      \t [-4.5691026   4.85971735]. \t  -67.20513965063277 \t -17.28954482757088\n",
            "6      \t [-5.00301739 -1.82665255]. \t  -33.73646542523921 \t -17.28954482757088\n",
            "7      \t [3.08507637 1.39545192]. \t  -30.77892734437885 \t -17.28954482757088\n",
            "8      \t [-2.5451768  -2.11462915]. \t  -33.03291347840022 \t -17.28954482757088\n",
            "9      \t [-1.74746547  4.17511061]. \t  -36.11071531168787 \t -17.28954482757088\n",
            "10     \t [0.76142682 1.45539439]. \t  -31.59041266151839 \t -17.28954482757088\n",
            "11     \t [ 1.45544401 -2.27706232]. \t  -38.60620639083284 \t -17.28954482757088\n",
            "12     \t [5.07448183 0.44559609]. \t  -46.445551216079615 \t -17.28954482757088\n",
            "13     \t [-5.08765454  2.0689077 ]. \t  -32.56600472011117 \t -17.28954482757088\n",
            "14     \t [2.91694592 3.48326814]. \t  -41.91750656826394 \t -17.28954482757088\n",
            "15     \t [ 1.26413592 -5.0284348 ]. \t  -37.92938989718779 \t -17.28954482757088\n",
            "16     \t [-3.42751718 -0.00343358]. \t  -30.730963530924512 \t -17.28954482757088\n",
            "17     \t [ 4.90093551 -3.21938767]. \t  -44.34745439628051 \t -17.28954482757088\n",
            "18     \t [ 2.3927977  -0.16243155]. \t  -28.339198215609677 \t -17.28954482757088\n",
            "19     \t [-3.07033367  2.51236469]. \t  -36.66943771070963 \t -17.28954482757088\n",
            "20     \t [-1.89301223 -4.8318944 ]. \t  -34.184813503661445 \t -17.28954482757088\n"
          ],
          "name": "stdout"
        }
      ]
    },
    {
      "cell_type": "code",
      "metadata": {
        "colab": {
          "base_uri": "https://localhost:8080/"
        },
        "id": "tAOkme3CIvyO",
        "outputId": "7f2c45a4-9b02-4108-9aaf-6220ed2ba9bf"
      },
      "source": [
        "### EXACT GP EI GRADIENTS\n",
        "\n",
        "np.random.seed(run_num_7)\n",
        "surrogate_exact_7 = dGaussianProcess(cov_func, optimize=opt)\n",
        "\n",
        "exact_7 = dGPGO(surrogate_exact_7, Acquisition_new(util_grad_exact), objfunc, param)\n",
        "exact_7.run(init_evals=n_init, max_iter=iters)\n"
      ],
      "execution_count": null,
      "outputs": [
        {
          "output_type": "stream",
          "text": [
            "Evaluation \t Proposed point \t  Current eval. \t Best eval.\n",
            "init   \t [-4.33860312  2.86636843]. \t  -45.646133072936244 \t -22.52235437888213\n",
            "init   \t [-0.63068947  2.28828342]. \t  -34.83012662845338 \t -22.52235437888213\n",
            "init   \t [4.8946126  0.39419771]. \t  -44.09657005662876 \t -22.52235437888213\n",
            "init   \t [ 0.01147355 -4.38219639]. \t  -36.613209822404315 \t -22.52235437888213\n",
            "init   \t [-2.37118484e+00 -1.20319155e-03]. \t  -22.52235437888213 \t -22.52235437888213\n",
            "1      \t [-5.10538874 -4.17523358]. \t  -51.084190064364634 \t -22.52235437888213\n",
            "2      \t [4.61256095 5.03612112]. \t  -64.49624735465329 \t -22.52235437888213\n",
            "3      \t [ 4.19516762 -5.11810643]. \t  -53.046362925673584 \t -22.52235437888213\n",
            "4      \t [ 1.33502396 -1.02148072]. \t  \u001b[92m-18.008364266544717\u001b[0m \t -18.008364266544717\n",
            "5      \t [1.98099381 2.65837202]. \t  -26.506850185908945 \t -18.008364266544717\n",
            "6      \t [-2.16075612  5.04321612]. \t  -35.15119723418208 \t -18.008364266544717\n",
            "7      \t [-4.7513011  -1.23270559]. \t  -42.92817262507963 \t -18.008364266544717\n",
            "8      \t [ 3.94437426 -2.25349681]. \t  -31.46061249954035 \t -18.008364266544717\n",
            "9      \t [1.16384929 4.7966166 ]. \t  -36.32225644587605 \t -18.008364266544717\n",
            "10     \t [-1.20885437 -2.24554936]. \t  -23.667660617322973 \t -18.008364266544717\n",
            "11     \t [-2.51449543 -4.83053823]. \t  -54.76819589272778 \t -18.008364266544717\n",
            "12     \t [5.03923336 2.54702745]. \t  -51.75014159070215 \t -18.008364266544717\n",
            "13     \t [ 2.1801667  -3.30936549]. \t  -35.100862191640935 \t -18.008364266544717\n",
            "14     \t [2.67985127 0.38523906]. \t  -39.10729421594518 \t -18.008364266544717\n",
            "15     \t [-4.52270243  4.54957566]. \t  -80.5706827294871 \t -18.008364266544717\n",
            "16     \t [-0.36388026 -0.05675437]. \t  \u001b[92m-17.32491319730984\u001b[0m \t -17.32491319730984\n",
            "17     \t [-4.99936967  1.51212822]. \t  -47.251286232484475 \t -17.32491319730984\n",
            "18     \t [-3.01469763 -2.51770406]. \t  -35.408040387486025 \t -17.32491319730984\n",
            "19     \t [-2.63770203  1.77405165]. \t  -35.08408980974093 \t -17.32491319730984\n",
            "20     \t [ 1.29793018 -5.11408499]. \t  -43.26570813408104 \t -17.32491319730984\n"
          ],
          "name": "stdout"
        }
      ]
    },
    {
      "cell_type": "code",
      "metadata": {
        "colab": {
          "base_uri": "https://localhost:8080/"
        },
        "id": "69-J3EF4Iv1S",
        "outputId": "fa36e587-58fc-4a94-d9ee-bee8c4e0a73d"
      },
      "source": [
        "### EXACT GP EI GRADIENTS\n",
        "\n",
        "np.random.seed(run_num_8)\n",
        "surrogate_exact_8 = dGaussianProcess(cov_func, optimize=opt)\n",
        "\n",
        "exact_8 = dGPGO(surrogate_exact_8, Acquisition_new(util_grad_exact), objfunc, param)\n",
        "exact_8.run(init_evals=n_init, max_iter=iters)\n"
      ],
      "execution_count": null,
      "outputs": [
        {
          "output_type": "stream",
          "text": [
            "Evaluation \t Proposed point \t  Current eval. \t Best eval.\n",
            "init   \t [3.82391708 4.79785639]. \t  -50.20079446939181 \t -13.871821018360485\n",
            "init   \t [3.78055209 0.31596228]. \t  -36.5114251593508 \t -13.871821018360485\n",
            "init   \t [-2.73686192 -5.00327624]. \t  -43.34985765011677 \t -13.871821018360485\n",
            "init   \t [-0.7119993  -0.99992207]. \t  -13.871821018360485 \t -13.871821018360485\n",
            "init   \t [ 0.23218863 -0.22126801]. \t  -17.190590355445654 \t -13.871821018360485\n",
            "1      \t [-5.11238257  5.00673475]. \t  -53.60395082170822 \t -13.871821018360485\n",
            "2      \t [ 2.56577802 -4.57597654]. \t  -65.562842188195 \t -13.871821018360485\n",
            "3      \t [-5.01085567 -0.73166081]. \t  -36.81699162045986 \t -13.871821018360485\n",
            "4      \t [-1.23481775  3.92215305]. \t  -27.128141935657005 \t -13.871821018360485\n",
            "5      \t [-3.39026727  2.00338745]. \t  -33.225564400282494 \t -13.871821018360485\n",
            "6      \t [1.51944588 2.6337832 ]. \t  -45.84125401155391 \t -13.871821018360485\n",
            "7      \t [-0.50247222 -3.3111631 ]. \t  -44.964167247731105 \t -13.871821018360485\n",
            "8      \t [-4.77476384 -4.0012935 ]. \t  -47.25936230881446 \t -13.871821018360485\n",
            "9      \t [ 4.32579014 -2.89084826]. \t  -43.91455205952295 \t -13.871821018360485\n",
            "10     \t [-2.45114727 -1.53105431]. \t  -47.69508780271624 \t -13.871821018360485\n",
            "11     \t [4.84983403 2.74878684]. \t  -45.28353092995875 \t -13.871821018360485\n",
            "12     \t [ 2.07765374 -1.31380166]. \t  -21.11185341835642 \t -13.871821018360485\n",
            "13     \t [ 5.11323445 -5.03131037]. \t  -54.078129634596635 \t -13.871821018360485\n",
            "14     \t [-1.26079714  1.22301922]. \t  -22.076125048178284 \t -13.871821018360485\n",
            "15     \t [0.2059003  4.65698126]. \t  -44.51176512967983 \t -13.871821018360485\n",
            "16     \t [-2.61045836  4.89988187]. \t  -50.42427301177963 \t -13.871821018360485\n",
            "17     \t [ 0.1520891  -4.68052426]. \t  -40.387247117414205 \t -13.871821018360485\n",
            "18     \t [-4.87441993  2.95918624]. \t  -35.79851418813992 \t -13.871821018360485\n",
            "19     \t [ 5.06936937 -1.27326204]. \t  -39.711030456937614 \t -13.871821018360485\n",
            "20     \t [0.99456667 0.71287151]. \t  \u001b[92m-13.814924987023188\u001b[0m \t -13.814924987023188\n"
          ],
          "name": "stdout"
        }
      ]
    },
    {
      "cell_type": "code",
      "metadata": {
        "colab": {
          "base_uri": "https://localhost:8080/"
        },
        "id": "vonm9jyuIv4t",
        "outputId": "f3cf913b-6c88-433f-d097-38be0464aa38"
      },
      "source": [
        "### EXACT GP EI GRADIENTS\n",
        "\n",
        "np.random.seed(run_num_9)\n",
        "surrogate_exact_9 = dGaussianProcess(cov_func, optimize=opt)\n",
        "\n",
        "exact_9 = dGPGO(surrogate_exact_9, Acquisition_new(util_grad_exact), objfunc, param)\n",
        "exact_9.run(init_evals=n_init, max_iter=iters)\n"
      ],
      "execution_count": null,
      "outputs": [
        {
          "output_type": "stream",
          "text": [
            "Evaluation \t Proposed point \t  Current eval. \t Best eval.\n",
            "init   \t [-5.01376866  0.01919582]. \t  -25.248289026162446 \t -24.454800313488693\n",
            "init   \t [-0.04328148 -3.74958562]. \t  -24.454800313488693 \t -24.454800313488693\n",
            "init   \t [-3.66478248 -2.88195916]. \t  -39.46509426509438 \t -24.454800313488693\n",
            "init   \t [-0.83447623 -2.57944404]. \t  -31.06766397812992 \t -24.454800313488693\n",
            "init   \t [-4.25922917 -1.58209393]. \t  -49.922543556206975 \t -24.454800313488693\n",
            "1      \t [3.11029524 4.9495987 ]. \t  -36.97642606974743 \t -24.454800313488693\n",
            "2      \t [ 4.97700533 -1.02611641]. \t  -26.06202024938157 \t -24.454800313488693\n",
            "3      \t [-2.33124512  3.93000982]. \t  -36.71709267058873 \t -24.454800313488693\n",
            "4      \t [1.31296979 1.13842648]. \t  \u001b[92m-20.423887262816194\u001b[0m \t -20.423887262816194\n",
            "5      \t [ 3.81870885 -4.87051037]. \t  -47.25134756789021 \t -20.423887262816194\n",
            "6      \t [-1.56970408  0.80666665]. \t  -28.685134061901998 \t -20.423887262816194\n",
            "7      \t [4.73691787 1.85573731]. \t  -40.53759113633525 \t -20.423887262816194\n",
            "8      \t [-5.06696237  3.48486233]. \t  -58.64529333264212 \t -20.423887262816194\n",
            "9      \t [ 2.25507922 -1.46157585]. \t  -37.25064915147307 \t -20.423887262816194\n",
            "10     \t [-4.77457463 -4.93780479]. \t  -56.39443082766477 \t -20.423887262816194\n",
            "11     \t [0.14594062 4.16108897]. \t  -25.953322583342157 \t -20.423887262816194\n",
            "12     \t [ 0.01598073 -5.08207082]. \t  -27.17842355721745 \t -20.423887262816194\n",
            "13     \t [-2.17301164 -4.54928398]. \t  -50.2914718988691 \t -20.423887262816194\n",
            "14     \t [2.07381684 2.97312751]. \t  \u001b[92m-14.338839450762492\u001b[0m \t -14.338839450762492\n",
            "15     \t [4.99785591 5.11534255]. \t  -53.659340631129886 \t -14.338839450762492\n",
            "16     \t [-0.29107874 -0.74733833]. \t  -23.362962532669524 \t -14.338839450762492\n",
            "17     \t [ 4.50629898 -2.92321655]. \t  -49.985460630989245 \t -14.338839450762492\n",
            "18     \t [-3.65278584  1.43479846]. \t  -50.30935016037346 \t -14.338839450762492\n",
            "19     \t [ 1.87347176 -3.67422405]. \t  -34.5902654573019 \t -14.338839450762492\n",
            "20     \t [-0.83810217  2.10269432]. \t  \u001b[92m-11.877020578351724\u001b[0m \t -11.877020578351724\n"
          ],
          "name": "stdout"
        }
      ]
    },
    {
      "cell_type": "code",
      "metadata": {
        "colab": {
          "base_uri": "https://localhost:8080/"
        },
        "id": "6amuYlUdIv7r",
        "outputId": "abb8a1c5-9a6c-4de2-a5ad-5abe3100e194"
      },
      "source": [
        "### EXACT GP EI GRADIENTS\n",
        "\n",
        "np.random.seed(run_num_10)\n",
        "surrogate_exact_10 = dGaussianProcess(cov_func, optimize=opt)\n",
        "\n",
        "exact_10 = dGPGO(surrogate_exact_10, Acquisition_new(util_grad_exact), objfunc, param)\n",
        "exact_10.run(init_evals=n_init, max_iter=iters)\n"
      ],
      "execution_count": null,
      "outputs": [
        {
          "output_type": "stream",
          "text": [
            "Evaluation \t Proposed point \t  Current eval. \t Best eval.\n",
            "init   \t [ 2.77832339 -4.90750004]. \t  -41.674330194390116 \t -13.839458310244165\n",
            "init   \t [1.36855793 2.54775176]. \t  -44.69639719065837 \t -13.839458310244165\n",
            "init   \t [-0.01528819 -2.81808235]. \t  -13.839458310244165 \t -13.839458310244165\n",
            "init   \t [-3.09183626  2.66783449]. \t  -33.23221510904937 \t -13.839458310244165\n",
            "init   \t [-3.38830503 -4.2154003 ]. \t  -54.73014366983691 \t -13.839458310244165\n",
            "1      \t [ 4.23507693 -0.431621  ]. \t  -46.2770687630113 \t -13.839458310244165\n",
            "2      \t [4.74478086 4.86802142]. \t  -59.784126747807164 \t -13.839458310244165\n",
            "3      \t [-4.98218436  0.09559441]. \t  -26.644130043331373 \t -13.839458310244165\n",
            "4      \t [-0.96866344  5.10031529]. \t  -29.066224550208638 \t -13.839458310244165\n",
            "5      \t [-1.07106721 -0.80473677]. \t  \u001b[92m-9.403456188541279\u001b[0m \t -9.403456188541279\n",
            "6      \t [-0.21023307 -5.06620597]. \t  -34.09073870767831 \t -9.403456188541279\n",
            "7      \t [-4.64973396  4.86109759]. \t  -64.714437987482 \t -9.403456188541279\n",
            "8      \t [ 1.69147387 -0.77785559]. \t  -25.319832804208247 \t -9.403456188541279\n",
            "9      \t [ 4.74428194 -3.44141813]. \t  -64.04096585220329 \t -9.403456188541279\n",
            "10     \t [5.08116922 2.28338441]. \t  -44.38694231636987 \t -9.403456188541279\n",
            "11     \t [-2.82345036 -0.79073572]. \t  -21.61255174358596 \t -9.403456188541279\n",
            "12     \t [2.13394352 4.69246785]. \t  -43.44684206466981 \t -9.403456188541279\n",
            "13     \t [-1.26229872  1.31451006]. \t  -28.03652575659897 \t -9.403456188541279\n",
            "14     \t [-4.67059871 -2.41225009]. \t  -60.93616704167654 \t -9.403456188541279\n",
            "15     \t [-4.82300452  2.23896475]. \t  -43.15368921599071 \t -9.403456188541279\n",
            "16     \t [ 2.04476302 -2.53058008]. \t  -30.793788587920115 \t -9.403456188541279\n",
            "17     \t [-1.13081955 -2.22976056]. \t  -18.174484753136333 \t -9.403456188541279\n",
            "18     \t [2.52668193 1.05220058]. \t  -27.88411737679069 \t -9.403456188541279\n",
            "19     \t [0.20451314 0.27174141]. \t  -18.65820407199581 \t -9.403456188541279\n",
            "20     \t [-0.72662049  3.48877742]. \t  -44.13839493445833 \t -9.403456188541279\n"
          ],
          "name": "stdout"
        }
      ]
    },
    {
      "cell_type": "code",
      "metadata": {
        "colab": {
          "base_uri": "https://localhost:8080/"
        },
        "id": "VwbLIP9cIv-F",
        "outputId": "ed8575e5-6b6c-4daf-d0a9-a09ada5f98cf"
      },
      "source": [
        "### EXACT GP EI GRADIENTS\n",
        "\n",
        "np.random.seed(run_num_11)\n",
        "surrogate_exact_11 = dGaussianProcess(cov_func, optimize=opt)\n",
        "\n",
        "exact_11 = dGPGO(surrogate_exact_11, Acquisition_new(util_grad_exact), objfunc, param)\n",
        "exact_11.run(init_evals=n_init, max_iter=iters)\n"
      ],
      "execution_count": null,
      "outputs": [
        {
          "output_type": "stream",
          "text": [
            "Evaluation \t Proposed point \t  Current eval. \t Best eval.\n",
            "init   \t [-3.27403839 -4.92057353]. \t  -47.655641290890955 \t -10.679755252484755\n",
            "init   \t [-0.37664229  2.30332343]. \t  -35.87889240695259 \t -10.679755252484755\n",
            "init   \t [-0.81711509 -0.14922651]. \t  -10.679755252484755 \t -10.679755252484755\n",
            "init   \t [-4.98912446 -0.12931474]. \t  -28.05462905574235 \t -10.679755252484755\n",
            "init   \t [4.52410012 3.59214172]. \t  -71.62694632141611 \t -10.679755252484755\n",
            "1      \t [ 3.39619778 -4.31739077]. \t  -62.230362468246824 \t -10.679755252484755\n",
            "2      \t [-3.97579834  4.78684114]. \t  -46.542034180630544 \t -10.679755252484755\n",
            "3      \t [ 4.931333   -0.42545154]. \t  -44.33834986185242 \t -10.679755252484755\n",
            "4      \t [-0.42268955 -2.93333409]. \t  -28.490864310297965 \t -10.679755252484755\n",
            "5      \t [0.73969381 5.08396191]. \t  -38.40048119269832 \t -10.679755252484755\n",
            "6      \t [2.28258149 0.30555921]. \t  -30.75684878013545 \t -10.679755252484755\n",
            "7      \t [-3.70079875  2.03704169]. \t  -31.157469768014984 \t -10.679755252484755\n",
            "8      \t [-4.81401576 -2.63371139]. \t  -52.87016994280418 \t -10.679755252484755\n",
            "9      \t [ 0.68997711 -5.01338344]. \t  -39.327999760054304 \t -10.679755252484755\n",
            "10     \t [-1.47124223  4.39000996]. \t  -58.97947078467569 \t -10.679755252484755\n",
            "11     \t [-2.75051529 -0.78520666]. \t  -25.955404634035425 \t -10.679755252484755\n",
            "12     \t [ 2.22237313 -2.06585807]. \t  -18.32356790543367 \t -10.679755252484755\n",
            "13     \t [2.35833133 2.34360878]. \t  -42.89565742187748 \t -10.679755252484755\n",
            "14     \t [ 0.36501166 -0.46540981]. \t  -36.72826028143761 \t -10.679755252484755\n",
            "15     \t [-1.55072052  0.76735836]. \t  -31.40155389396293 \t -10.679755252484755\n",
            "16     \t [-2.08426949 -2.94862605]. \t  -14.92434655895212 \t -10.679755252484755\n",
            "17     \t [ 4.66349498 -2.067656  ]. \t  -42.08497191666144 \t -10.679755252484755\n",
            "18     \t [-5.11656722 -4.75235687]. \t  -61.180447054973435 \t -10.679755252484755\n",
            "19     \t [-5.06197412  2.18895669]. \t  -37.421608015540365 \t -10.679755252484755\n",
            "20     \t [ 4.88509342 -5.05913643]. \t  -52.63640561558164 \t -10.679755252484755\n"
          ],
          "name": "stdout"
        }
      ]
    },
    {
      "cell_type": "code",
      "metadata": {
        "colab": {
          "base_uri": "https://localhost:8080/"
        },
        "id": "MlUNFjc-JTBY",
        "outputId": "b17ac1ce-06d8-4375-8e5f-863bdd29854e"
      },
      "source": [
        "### EXACT GP EI GRADIENTS\n",
        "\n",
        "np.random.seed(run_num_12)\n",
        "surrogate_exact_12 = dGaussianProcess(cov_func, optimize=opt)\n",
        "\n",
        "exact_12 = dGPGO(surrogate_exact_12, Acquisition_new(util_grad_exact), objfunc, param)\n",
        "exact_12.run(init_evals=n_init, max_iter=iters)\n"
      ],
      "execution_count": null,
      "outputs": [
        {
          "output_type": "stream",
          "text": [
            "Evaluation \t Proposed point \t  Current eval. \t Best eval.\n",
            "init   \t [-3.54137249  2.45810889]. \t  -57.903242869085595 \t -40.51116653209555\n",
            "init   \t [-2.42365424  0.34549139]. \t  -40.51116653209555 \t -40.51116653209555\n",
            "init   \t [-4.97075238  4.28796936]. \t  -55.62655915398208 \t -40.51116653209555\n",
            "init   \t [ 4.10332011 -4.77776458]. \t  -49.962803461970296 \t -40.51116653209555\n",
            "init   \t [ 4.6791612  -3.71497655]. \t  -62.183891474990624 \t -40.51116653209555\n",
            "1      \t [4.56681598 5.1125623 ]. \t  -68.52421939280718 \t -40.51116653209555\n",
            "2      \t [-1.429116   -5.07020608]. \t  -47.731094352895866 \t -40.51116653209555\n",
            "3      \t [2.4003401  0.24428674]. \t  \u001b[92m-33.56512328478563\u001b[0m \t -33.56512328478563\n",
            "4      \t [0.24346729 4.34138446]. \t  -43.928059226736345 \t -33.56512328478563\n",
            "5      \t [-4.47959654 -3.34109879]. \t  -66.56409552980816 \t -33.56512328478563\n",
            "6      \t [ 1.06241937 -2.98131602]. \t  \u001b[92m-10.845075972986498\u001b[0m \t -10.845075972986498\n",
            "7      \t [5.06480093 1.74041899]. \t  -40.10038904260732 \t -10.845075972986498\n",
            "8      \t [-1.09003781 -2.34624776]. \t  -23.936557472431417 \t -10.845075972986498\n",
            "9      \t [-4.78184137 -0.11679336]. \t  -33.4661956488988 \t -10.845075972986498\n",
            "10     \t [-2.2382317   4.97247451]. \t  -39.145615858522085 \t -10.845075972986498\n",
            "11     \t [0.00894914 1.73777303]. \t  -13.80322725535334 \t -10.845075972986498\n",
            "12     \t [ 1.58072459 -4.65015533]. \t  -58.73363184192738 \t -10.845075972986498\n",
            "13     \t [2.54136531 3.47107719]. \t  -58.006385821682386 \t -10.845075972986498\n",
            "14     \t [ 4.37141807 -0.52591061]. \t  -56.16379879230416 \t -10.845075972986498\n",
            "15     \t [ 0.61736489 -0.91869582]. \t  -19.90386656831897 \t -10.845075972986498\n",
            "16     \t [ 2.10463681 -2.08778697]. \t  -12.355868157317605 \t -10.845075972986498\n",
            "17     \t [-1.11469594  2.86736483]. \t  -15.226755781333043 \t -10.845075972986498\n",
            "18     \t [-3.91662165 -5.06347114]. \t  -43.104552987872864 \t -10.845075972986498\n",
            "19     \t [-2.58018261 -1.92241974]. \t  -30.27527779296744 \t -10.845075972986498\n",
            "20     \t [0.54713589 0.89828309]. \t  -22.64461028496768 \t -10.845075972986498\n"
          ],
          "name": "stdout"
        }
      ]
    },
    {
      "cell_type": "code",
      "metadata": {
        "colab": {
          "base_uri": "https://localhost:8080/"
        },
        "id": "9BsKdU9eJTFL",
        "outputId": "4eb36f79-bc66-4a98-8cd4-8da098120810"
      },
      "source": [
        "### EXACT GP EI GRADIENTS\n",
        "\n",
        "np.random.seed(run_num_13)\n",
        "surrogate_exact_13 = dGaussianProcess(cov_func, optimize=opt)\n",
        "\n",
        "exact_13 = dGPGO(surrogate_exact_13, Acquisition_new(util_grad_exact), objfunc, param)\n",
        "exact_13.run(init_evals=n_init, max_iter=iters)\n"
      ],
      "execution_count": null,
      "outputs": [
        {
          "output_type": "stream",
          "text": [
            "Evaluation \t Proposed point \t  Current eval. \t Best eval.\n",
            "init   \t [ 2.84367268 -2.68757791]. \t  -33.58019830007169 \t -17.435826639425656\n",
            "init   \t [3.32061217 4.76927179]. \t  -56.857057997503354 \t -17.435826639425656\n",
            "init   \t [ 4.83943541 -0.47667971]. \t  -48.211919361679726 \t -17.435826639425656\n",
            "init   \t [1.11659482 2.82139151]. \t  -17.435826639425656 \t -17.435826639425656\n",
            "init   \t [1.45012065 2.27346667]. \t  -38.25352329493884 \t -17.435826639425656\n",
            "1      \t [-4.77366547 -2.51495235]. \t  -57.58729610569417 \t -17.435826639425656\n",
            "2      \t [-4.65374571  4.09568012]. \t  -55.87107425121984 \t -17.435826639425656\n",
            "3      \t [-1.27060472 -4.09193524]. \t  -31.271886524351807 \t -17.435826639425656\n",
            "4      \t [-2.10094624  1.06573776]. \t  \u001b[92m-8.335652949817936\u001b[0m \t -8.335652949817936\n",
            "5      \t [ 4.86268922 -5.06347529]. \t  -53.5658403863605 \t -8.335652949817936\n",
            "6      \t [-5.09729204  0.63523074]. \t  -44.79913732627612 \t -8.335652949817936\n",
            "7      \t [-0.96020581  4.57337119]. \t  -41.10473946134023 \t -8.335652949817936\n",
            "8      \t [ 0.28480628 -1.36186149]. \t  -30.569255140213812 \t -8.335652949817936\n",
            "9      \t [ 1.31600496 -4.67140141]. \t  -52.323399452247806 \t -8.335652949817936\n",
            "10     \t [4.69005593 2.62048695]. \t  -59.810262038073475 \t -8.335652949817936\n",
            "11     \t [-2.31171513 -1.69127824]. \t  -35.59212933809745 \t -8.335652949817936\n",
            "12     \t [-4.6036405  -4.99499112]. \t  -64.102009656859 \t -8.335652949817936\n",
            "13     \t [-2.15710968  2.2784746 ]. \t  -26.11344186501026 \t -8.335652949817936\n",
            "14     \t [1.82868854 0.16050324]. \t  -13.293153857264013 \t -8.335652949817936\n",
            "15     \t [-0.42990146  0.76590682]. \t  -28.81926948689457 \t -8.335652949817936\n",
            "16     \t [-2.97460849  0.59536936]. \t  -27.587493726219805 \t -8.335652949817936\n",
            "17     \t [-3.18242114  5.10631514]. \t  -44.23196492926981 \t -8.335652949817936\n",
            "18     \t [0.88141446 4.83296117]. \t  -31.804434280697322 \t -8.335652949817936\n",
            "19     \t [ 5.00393882 -2.51207676]. \t  -51.32422010016859 \t -8.335652949817936\n",
            "20     \t [2.98942295 0.25129508]. \t  -19.10324517218459 \t -8.335652949817936\n"
          ],
          "name": "stdout"
        }
      ]
    },
    {
      "cell_type": "code",
      "metadata": {
        "colab": {
          "base_uri": "https://localhost:8080/"
        },
        "id": "k6GjFBr1JTJf",
        "outputId": "c6c3855b-d2ef-4fc9-d28a-92f8512e1946"
      },
      "source": [
        "### EXACT GP EI GRADIENTS\n",
        "\n",
        "np.random.seed(run_num_14)\n",
        "surrogate_exact_14 = dGaussianProcess(cov_func, optimize=opt)\n",
        "\n",
        "exact_14 = dGPGO(surrogate_exact_14, Acquisition_new(util_grad_exact), objfunc, param)\n",
        "exact_14.run(init_evals=n_init, max_iter=iters)\n"
      ],
      "execution_count": null,
      "outputs": [
        {
          "output_type": "stream",
          "text": [
            "Evaluation \t Proposed point \t  Current eval. \t Best eval.\n",
            "init   \t [0.14277984 2.79721013]. \t  -18.683085263052178 \t -10.423838604848608\n",
            "init   \t [ 3.7931795  -5.03759925]. \t  -47.36348784446708 \t -10.423838604848608\n",
            "init   \t [-1.94830412  4.68586229]. \t  -40.19779334078636 \t -10.423838604848608\n",
            "init   \t [ 0.13431513 -1.86076749]. \t  -10.423838604848608 \t -10.423838604848608\n",
            "init   \t [ 0.40140736 -2.85434939]. \t  -30.353548735049138 \t -10.423838604848608\n",
            "1      \t [-4.41622269 -4.73809363]. \t  -71.34622836697065 \t -10.423838604848608\n",
            "2      \t [5.05912775 0.29982017]. \t  -39.4462875989013 \t -10.423838604848608\n",
            "3      \t [-4.20980556  0.51637465]. \t  -45.43749551773853 \t -10.423838604848608\n",
            "4      \t [4.53544959 5.1124022 ]. \t  -68.85187656736286 \t -10.423838604848608\n",
            "5      \t [1.31360407 0.18385684]. \t  -21.61289552814893 \t -10.423838604848608\n",
            "6      \t [-4.94809879  4.29013902]. \t  -55.911359496868954 \t -10.423838604848608\n",
            "7      \t [-1.12649164 -5.00366347]. \t  -29.303794038681126 \t -10.423838604848608\n",
            "8      \t [-2.65717024 -2.21344302]. \t  -35.19061913995456 \t -10.423838604848608\n",
            "9      \t [ 3.17519888 -2.28675294]. \t  -33.07114501118153 \t -10.423838604848608\n",
            "10     \t [1.34298568 5.01025395]. \t  -42.44271087505727 \t -10.423838604848608\n",
            "11     \t [2.64620399 2.34957814]. \t  -44.44842202071649 \t -10.423838604848608\n",
            "12     \t [-0.82427784  1.06061752]. \t  \u001b[92m-8.02150276828544\u001b[0m \t -8.02150276828544\n",
            "13     \t [ 5.10402074 -2.14030754]. \t  -36.33349317142212 \t -8.02150276828544\n",
            "14     \t [-2.7309059   2.45732687]. \t  -44.335842084340364 \t -8.02150276828544\n",
            "15     \t [-1.82397385 -0.17043247]. \t  -14.079857503896577 \t -8.02150276828544\n",
            "16     \t [ 1.34255645 -4.68101175]. \t  -53.40770861969442 \t -8.02150276828544\n",
            "17     \t [-5.05395073 -1.21803576]. \t  -35.60019563613481 \t -8.02150276828544\n",
            "18     \t [-0.32442331 -0.54961933]. \t  -34.43285117006625 \t -8.02150276828544\n",
            "19     \t [5.04108374 2.69311828]. \t  -46.49512008472046 \t -8.02150276828544\n",
            "20     \t [ 2.04906264 -0.68284468]. \t  -19.231730591838726 \t -8.02150276828544\n"
          ],
          "name": "stdout"
        }
      ]
    },
    {
      "cell_type": "code",
      "metadata": {
        "colab": {
          "base_uri": "https://localhost:8080/"
        },
        "id": "dPS8WB3aJTN6",
        "outputId": "3ba874d5-881e-487e-bdb1-8617a0225f0d"
      },
      "source": [
        "### EXACT GP EI GRADIENTS\n",
        "\n",
        "np.random.seed(run_num_15)\n",
        "surrogate_exact_15 = dGaussianProcess(cov_func, optimize=opt)\n",
        "\n",
        "exact_15 = dGPGO(surrogate_exact_15, Acquisition_new(util_grad_exact), objfunc, param)\n",
        "exact_15.run(init_evals=n_init, max_iter=iters)\n"
      ],
      "execution_count": null,
      "outputs": [
        {
          "output_type": "stream",
          "text": [
            "Evaluation \t Proposed point \t  Current eval. \t Best eval.\n",
            "init   \t [ 3.57189322 -3.28810573]. \t  -54.938487770767075 \t -7.990765314336182\n",
            "init   \t [-4.56332069 -1.41784631]. \t  -60.750198753157726 \t -7.990765314336182\n",
            "init   \t [-2.29989449  0.3072023 ]. \t  -31.984997246800887 \t -7.990765314336182\n",
            "init   \t [-1.9873903  -2.00218256]. \t  -7.990765314336182 \t -7.990765314336182\n",
            "init   \t [-3.97576933 -2.5610341 ]. \t  -41.754957769694336 \t -7.990765314336182\n",
            "1      \t [4.80390202 4.79749377]. \t  -59.83100237180094 \t -7.990765314336182\n",
            "2      \t [-4.16810549  5.02944823]. \t  -47.91763842306193 \t -7.990765314336182\n",
            "3      \t [1.77549009 1.28607595]. \t  -25.458963304224234 \t -7.990765314336182\n",
            "4      \t [ 0.0186844  -5.05314554]. \t  -26.155823234799065 \t -7.990765314336182\n",
            "5      \t [0.8415407  4.63451672]. \t  -43.38305067787293 \t -7.990765314336182\n",
            "6      \t [4.74515621 0.10172366]. \t  -34.80511306555563 \t -7.990765314336182\n",
            "7      \t [ 0.29876634 -1.73615948]. \t  -26.988399128696233 \t -7.990765314336182\n",
            "8      \t [-4.49663156  2.25072382]. \t  -55.32869213523205 \t -7.990765314336182\n",
            "9      \t [-0.6354838   2.22969794]. \t  -30.693519656466428 \t -7.990765314336182\n",
            "10     \t [-3.14028177 -5.00531997]. \t  -38.559595068237925 \t -7.990765314336182\n",
            "11     \t [4.35286877 2.19708583]. \t  -46.53358510860255 \t -7.990765314336182\n",
            "12     \t [ 2.14326382 -0.43652095]. \t  -27.784309763291844 \t -7.990765314336182\n",
            "13     \t [-1.33154135  4.92630338]. \t  -41.99669838150662 \t -7.990765314336182\n",
            "14     \t [-1.27347191 -3.25498348]. \t  -33.999161616155384 \t -7.990765314336182\n",
            "15     \t [ 1.1820377  -4.83194368]. \t  -35.67909945970859 \t -7.990765314336182\n",
            "16     \t [ 3.65779494 -5.02638532]. \t  -54.25585029088287 \t -7.990765314336182\n",
            "17     \t [2.54820992 3.54309845]. \t  -58.22722367638867 \t -7.990765314336182\n",
            "18     \t [ 5.10684557 -1.7214604 ]. \t  -42.996951321010485 \t -7.990765314336182\n",
            "19     \t [-5.0091895  -4.37129392]. \t  -61.12136353809342 \t -7.990765314336182\n",
            "20     \t [-0.64469737 -0.66885139]. \t  -31.887734301035515 \t -7.990765314336182\n"
          ],
          "name": "stdout"
        }
      ]
    },
    {
      "cell_type": "code",
      "metadata": {
        "colab": {
          "base_uri": "https://localhost:8080/"
        },
        "id": "SHWdp2giJTRm",
        "outputId": "e7b07b48-d3f6-4a2b-de5a-50fda0e4e0a0"
      },
      "source": [
        "### EXACT GP EI GRADIENTS\n",
        "\n",
        "np.random.seed(run_num_16)\n",
        "surrogate_exact_16 = dGaussianProcess(cov_func, optimize=opt)\n",
        "\n",
        "exact_16 = dGPGO(surrogate_exact_16, Acquisition_new(util_grad_exact), objfunc, param)\n",
        "exact_16.run(init_evals=n_init, max_iter=iters)\n"
      ],
      "execution_count": null,
      "outputs": [
        {
          "output_type": "stream",
          "text": [
            "Evaluation \t Proposed point \t  Current eval. \t Best eval.\n",
            "init   \t [-2.83349935  0.23719262]. \t  -22.27210456874814 \t -22.27210456874814\n",
            "init   \t [ 0.51918292 -4.65303603]. \t  -57.57021076017139 \t -22.27210456874814\n",
            "init   \t [-1.42613673 -2.83565116]. \t  -33.89145899403749 \t -22.27210456874814\n",
            "init   \t [ 1.9325559  -3.44339021]. \t  -35.85029586225333 \t -22.27210456874814\n",
            "init   \t [-4.39987336  4.51595121]. \t  -77.78800881964571 \t -22.27210456874814\n",
            "1      \t [4.06080895 4.40655317]. \t  -54.95421034473918 \t -22.27210456874814\n",
            "2      \t [-5.11995443 -4.68844075]. \t  -64.67592250239862 \t -22.27210456874814\n",
            "3      \t [4.12206639 0.06030118]. \t  \u001b[92m-20.504089236344484\u001b[0m \t -20.504089236344484\n",
            "4      \t [-0.03509414  4.1160457 ]. \t  \u001b[92m-19.727689166446165\u001b[0m \t -19.727689166446165\n",
            "5      \t [ 5.114123   -4.06066837]. \t  -45.82362087025153 \t -19.727689166446165\n",
            "6      \t [1.067671   0.75885408]. \t  \u001b[92m-12.050143088129088\u001b[0m \t -12.050143088129088\n",
            "7      \t [-4.8151146  -0.94280278]. \t  -30.734971672906735 \t -12.050143088129088\n",
            "8      \t [-1.08364727  2.23789723]. \t  -16.772393777505908 \t -12.050143088129088\n",
            "9      \t [2.29272256 2.57546838]. \t  -43.438496776294095 \t -12.050143088129088\n",
            "10     \t [ 0.70788506 -1.07237015]. \t  -15.28260299623733 \t -12.050143088129088\n",
            "11     \t [-4.43655313  1.38642616]. \t  -58.38111369531196 \t -12.050143088129088\n",
            "12     \t [-2.74014071 -4.77533768]. \t  -49.34600536042029 \t -12.050143088129088\n",
            "13     \t [-2.18903166  4.72133595]. \t  -45.136420238311864 \t -12.050143088129088\n",
            "14     \t [ 5.09216366 -1.25194212]. \t  -39.24985633508995 \t -12.050143088129088\n",
            "15     \t [-1.0378687   0.17694279]. \t  \u001b[92m-6.9594099744550375\u001b[0m \t -6.9594099744550375\n",
            "16     \t [-3.92887994 -2.44184673]. \t  -41.72048353372222 \t -6.9594099744550375\n",
            "17     \t [1.3475999 5.1161228]. \t  -46.29165412396723 \t -6.9594099744550375\n",
            "18     \t [ 1.93548231 -1.06180449]. \t  \u001b[92m-6.428550755028452\u001b[0m \t -6.428550755028452\n",
            "19     \t [4.71531302 1.8709138 ]. \t  -41.00951744229297 \t -6.428550755028452\n",
            "20     \t [ 2.0497107  -0.54349293]. \t  -24.609456140694668 \t -6.428550755028452\n"
          ],
          "name": "stdout"
        }
      ]
    },
    {
      "cell_type": "code",
      "metadata": {
        "colab": {
          "base_uri": "https://localhost:8080/"
        },
        "id": "yU2SflSsJTUs",
        "outputId": "eb0544bb-15a2-4fdc-9bf7-ce869a04401e"
      },
      "source": [
        "### EXACT GP EI GRADIENTS\n",
        "\n",
        "np.random.seed(run_num_17)\n",
        "surrogate_exact_17 = dGaussianProcess(cov_func, optimize=opt)\n",
        "\n",
        "exact_17 = dGPGO(surrogate_exact_17, Acquisition_new(util_grad_exact), objfunc, param)\n",
        "exact_17.run(init_evals=n_init, max_iter=iters)\n"
      ],
      "execution_count": null,
      "outputs": [
        {
          "output_type": "stream",
          "text": [
            "Evaluation \t Proposed point \t  Current eval. \t Best eval.\n",
            "init   \t [-2.10263037  0.31320838]. \t  -20.395145364684023 \t -20.395145364684023\n",
            "init   \t [-3.15882714 -4.42470033]. \t  -53.03732051200137 \t -20.395145364684023\n",
            "init   \t [2.93873111 1.60085526]. \t  -29.989224812583537 \t -20.395145364684023\n",
            "init   \t [1.40821398 0.77417363]. \t  -29.451989415882437 \t -20.395145364684023\n",
            "init   \t [-4.71999574 -1.45598869]. \t  -55.89242173757483 \t -20.395145364684023\n",
            "1      \t [ 4.96008736 -4.44720822]. \t  -64.14783177084814 \t -20.395145364684023\n",
            "2      \t [-4.48458015  4.87453914]. \t  -66.7751306072647 \t -20.395145364684023\n",
            "3      \t [0.68918634 4.75681217]. \t  -46.403080170128334 \t -20.395145364684023\n",
            "4      \t [4.92477561 4.97364465]. \t  -50.22369669128301 \t -20.395145364684023\n",
            "5      \t [ 0.92966222 -4.61914041]. \t  -40.48806820146371 \t -20.395145364684023\n",
            "6      \t [ 4.79588687 -1.08221629]. \t  -32.63321099942499 \t -20.395145364684023\n",
            "7      \t [-2.20574447  2.92472705]. \t  -21.77210909560035 \t -20.395145364684023\n",
            "8      \t [ 1.59821581 -2.01953576]. \t  -24.86361094180775 \t -20.395145364684023\n",
            "9      \t [-0.97041093 -1.73567117]. \t  \u001b[92m-15.025664805835008\u001b[0m \t -15.025664805835008\n",
            "10     \t [-4.82154921  1.60543049]. \t  -49.36402141551662 \t -15.025664805835008\n",
            "11     \t [4.80003902 1.052409  ]. \t  -31.592733600635157 \t -15.025664805835008\n",
            "12     \t [0.11942379 2.3153242 ]. \t  -22.050731500846105 \t -15.025664805835008\n",
            "13     \t [3.10171227 4.31089192]. \t  -43.911234780118356 \t -15.025664805835008\n",
            "14     \t [-5.01335854 -4.35057553]. \t  -60.003544944852315 \t -15.025664805835008\n",
            "15     \t [-1.48546923  5.04244211]. \t  -47.944658933536985 \t -15.025664805835008\n",
            "16     \t [-1.1828003  -3.49033229]. \t  -39.465053136266384 \t -15.025664805835008\n",
            "17     \t [-0.32976851 -0.48736285]. \t  -35.11954930011615 \t -15.025664805835008\n",
            "18     \t [ 3.00950416 -4.69886968]. \t  -44.311952056203545 \t -15.025664805835008\n",
            "19     \t [ 3.3111116  -1.78432043]. \t  -35.75361177200671 \t -15.025664805835008\n",
            "20     \t [-2.8447112  -1.23221407]. \t  -22.889718122727896 \t -15.025664805835008\n"
          ],
          "name": "stdout"
        }
      ]
    },
    {
      "cell_type": "code",
      "metadata": {
        "colab": {
          "base_uri": "https://localhost:8080/"
        },
        "id": "es0KCh_0JTgY",
        "outputId": "345472c4-8371-4f7f-e651-900c75e01d2b"
      },
      "source": [
        "### EXACT GP EI GRADIENTS\n",
        "\n",
        "np.random.seed(run_num_18)\n",
        "surrogate_exact_18 = dGaussianProcess(cov_func, optimize=opt)\n",
        "\n",
        "exact_18 = dGPGO(surrogate_exact_18, Acquisition_new(util_grad_exact), objfunc, param)\n",
        "exact_18.run(init_evals=n_init, max_iter=iters)\n"
      ],
      "execution_count": null,
      "outputs": [
        {
          "output_type": "stream",
          "text": [
            "Evaluation \t Proposed point \t  Current eval. \t Best eval.\n",
            "init   \t [1.53983224 0.05584255]. \t  -22.67190580753611 \t -22.67190580753611\n",
            "init   \t [ 3.87687906 -3.25795609]. \t  -38.990099416711985 \t -22.67190580753611\n",
            "init   \t [3.60686662 2.56139557]. \t  -56.66448698782129 \t -22.67190580753611\n",
            "init   \t [1.70088108 4.99604939]. \t  -40.894059318256296 \t -22.67190580753611\n",
            "init   \t [-2.48864335 -4.83014733]. \t  -54.6725749848372 \t -22.67190580753611\n",
            "1      \t [-5.00718904  2.9174042 ]. \t  -34.91005808676357 \t -22.67190580753611\n",
            "2      \t [-2.99572465 -0.54340826]. \t  -28.90362514523323 \t -22.67190580753611\n",
            "3      \t [-1.26375514  2.97482686]. \t  \u001b[92m-21.434681387522748\u001b[0m \t -21.434681387522748\n",
            "4      \t [ 1.15010421 -4.55177438]. \t  -45.64435873691351 \t -21.434681387522748\n",
            "5      \t [-5.01779201 -3.225694  ]. \t  -44.12449775607688 \t -21.434681387522748\n",
            "6      \t [-0.43969771 -2.28090657]. \t  -36.61635977988647 \t -21.434681387522748\n",
            "7      \t [5.06768234 0.33261668]. \t  -41.6436796565958 \t -21.434681387522748\n",
            "8      \t [4.84471484 4.90128037]. \t  -53.750611251185354 \t -21.434681387522748\n",
            "9      \t [-3.63865114  4.5345895 ]. \t  -70.0063579582363 \t -21.434681387522748\n",
            "10     \t [0.1294679 1.204589 ]. \t  \u001b[92m-11.783292362366176\u001b[0m \t -11.783292362366176\n",
            "11     \t [-4.75628954  0.32958045]. \t  -47.13025261167572 \t -11.783292362366176\n",
            "12     \t [ 4.26756046 -5.04406482]. \t  -55.13661721500662 \t -11.783292362366176\n",
            "13     \t [ 2.22094431 -2.09730848]. \t  -19.327387184001488 \t -11.783292362366176\n",
            "14     \t [-1.10508167  4.9870455 ]. \t  -28.22653216153722 \t -11.783292362366176\n",
            "15     \t [-1.18914502  0.28137564]. \t  -19.720743548177467 \t -11.783292362366176\n",
            "16     \t [0.89354652 2.04221127]. \t  \u001b[92m-7.473459291543399\u001b[0m \t -7.473459291543399\n",
            "17     \t [-2.60833948 -2.74606128]. \t  -42.36295583914121 \t -7.473459291543399\n",
            "18     \t [-2.75615379  1.65352663]. \t  -35.641134641437745 \t -7.473459291543399\n",
            "19     \t [0.53187661 3.01969957]. \t  -29.278078837050113 \t -7.473459291543399\n",
            "20     \t [ 2.87441501 -0.43159573]. \t  -30.494011686301285 \t -7.473459291543399\n"
          ],
          "name": "stdout"
        }
      ]
    },
    {
      "cell_type": "code",
      "metadata": {
        "colab": {
          "base_uri": "https://localhost:8080/"
        },
        "id": "Pput2LHPIwBM",
        "outputId": "9dfd2a2b-fc22-4918-ccbc-3bb30399cf45"
      },
      "source": [
        "### EXACT GP EI GRADIENTS\n",
        "\n",
        "np.random.seed(run_num_19)\n",
        "surrogate_exact_19 = dGaussianProcess(cov_func, optimize=opt)\n",
        "\n",
        "exact_19 = dGPGO(surrogate_exact_19, Acquisition_new(util_grad_exact), objfunc, param)\n",
        "exact_19.run(init_evals=n_init, max_iter=iters)\n"
      ],
      "execution_count": null,
      "outputs": [
        {
          "output_type": "stream",
          "text": [
            "Evaluation \t Proposed point \t  Current eval. \t Best eval.\n",
            "init   \t [-4.12125592  2.6751971 ]. \t  -41.43485596167127 \t -25.867003842388073\n",
            "init   \t [-2.59135515 -3.70553152]. \t  -51.60126035043229 \t -25.867003842388073\n",
            "init   \t [-1.72598719 -4.27008445]. \t  -43.97430127029199 \t -25.867003842388073\n",
            "init   \t [1.76104531 3.13952049]. \t  -25.867003842388073 \t -25.867003842388073\n",
            "init   \t [4.9432772  1.38916592]. \t  -44.66580306903559 \t -25.867003842388073\n",
            "1      \t [ 4.21710172 -4.56788076]. \t  -65.70127216515351 \t -25.867003842388073\n",
            "2      \t [ 1.33148367 -1.37898766]. \t  -35.81946957386545 \t -25.867003842388073\n",
            "3      \t [-4.47356312 -0.83164219]. \t  -45.659055854674875 \t -25.867003842388073\n",
            "4      \t [-1.70726049  4.62995106]. \t  -53.85214051685652 \t -25.867003842388073\n",
            "5      \t [-1.1560595   0.80460077]. \t  \u001b[92m-13.054438144741923\u001b[0m \t -13.054438144741923\n",
            "6      \t [4.33309282 4.60431349]. \t  -72.89021732044269 \t -13.054438144741923\n",
            "7      \t [ 1.5490079  -4.78091704]. \t  -52.855855758060706 \t -13.054438144741923\n",
            "8      \t [ 3.89443714 -0.76552688]. \t  -26.898811484711675 \t -13.054438144741923\n",
            "9      \t [-4.99722686  4.77192639]. \t  -56.37175387068849 \t -13.054438144741923\n",
            "10     \t [-4.84280999 -3.83232357]. \t  -47.68806114025933 \t -13.054438144741923\n",
            "11     \t [1.92748351 0.90273708]. \t  \u001b[92m-7.360253484560014\u001b[0m \t -7.360253484560014\n",
            "12     \t [-0.69529354 -1.12264264]. \t  -17.938756616211073 \t -7.360253484560014\n",
            "13     \t [0.10402916 1.78829826]. \t  -12.886848044881196 \t -7.360253484560014\n",
            "14     \t [1.50220491 4.78266425]. \t  -53.09155995105475 \t -7.360253484560014\n",
            "15     \t [-2.8301877   0.41341393]. \t  -31.909270093313516 \t -7.360253484560014\n",
            "16     \t [ 5.06188914 -2.74423977]. \t  -44.26200525490793 \t -7.360253484560014\n",
            "17     \t [-1.12053562  2.06249008]. \t  -9.003824290781543 \t -7.360253484560014\n",
            "18     \t [2.49727064 0.69529328]. \t  -40.088358724884884 \t -7.360253484560014\n",
            "19     \t [-0.38704907 -2.58186341]. \t  -43.10751723009094 \t -7.360253484560014\n",
            "20     \t [0.58929849 0.95864954]. \t  -20.068715280426684 \t -7.360253484560014\n"
          ],
          "name": "stdout"
        }
      ]
    },
    {
      "cell_type": "code",
      "metadata": {
        "colab": {
          "base_uri": "https://localhost:8080/"
        },
        "id": "aw3xvSryIwDi",
        "outputId": "a3e1f799-f6fd-4118-b42c-8d97f4f9dfdb"
      },
      "source": [
        "### EXACT GP EI GRADIENTS\n",
        "\n",
        "np.random.seed(run_num_20)\n",
        "surrogate_exact_20 = dGaussianProcess(cov_func, optimize=opt)\n",
        "\n",
        "exact_20 = dGPGO(surrogate_exact_20, Acquisition_new(util_grad_exact), objfunc, param)\n",
        "exact_20.run(init_evals=n_init, max_iter=iters)\n"
      ],
      "execution_count": null,
      "outputs": [
        {
          "output_type": "stream",
          "text": [
            "Evaluation \t Proposed point \t  Current eval. \t Best eval.\n",
            "init   \t [0.9024594  4.07258857]. \t  -20.24255447774017 \t -17.388691338534382\n",
            "init   \t [4.00927467 3.23417577]. \t  -35.55852254546393 \t -17.388691338534382\n",
            "init   \t [-4.75249064  1.96359764]. \t  -36.54582989269194 \t -17.388691338534382\n",
            "init   \t [-1.24230715  0.18955208]. \t  -17.388691338534382 \t -17.388691338534382\n",
            "init   \t [ 1.61742301 -3.13497377]. \t  -33.22932870179905 \t -17.388691338534382\n",
            "1      \t [-5.04038248 -4.33114855]. \t  -59.36512603389513 \t -17.388691338534382\n",
            "2      \t [-2.96489388  5.04868064]. \t  -34.98620614086819 \t -17.388691338534382\n",
            "3      \t [ 5.11316294 -4.88092784]. \t  -55.06148040152972 \t -17.388691338534382\n",
            "4      \t [ 3.68851601 -0.58351791]. \t  -46.36787148871594 \t -17.388691338534382\n",
            "5      \t [-1.62883463 -4.26048482]. \t  -48.36180151832993 \t -17.388691338534382\n",
            "6      \t [-4.98848541 -0.90526799]. \t  -27.450398333143248 \t -17.388691338534382\n",
            "7      \t [0.93645439 1.02242281]. \t  \u001b[92m-2.8079216448068234\u001b[0m \t -2.8079216448068234\n",
            "8      \t [-1.06609337  2.48258368]. \t  -28.089915626264425 \t -2.8079216448068234\n",
            "9      \t [-2.5351291  -1.74802429]. \t  -39.36399797660107 \t -2.8079216448068234\n",
            "10     \t [ 0.8545737  -0.41008551]. \t  -23.236739034957935 \t -2.8079216448068234\n",
            "11     \t [1.67686636 1.62961902]. \t  -36.76554998753772 \t -2.8079216448068234\n",
            "12     \t [ 2.06952897 -5.12      ]. \t  -34.146831784777255 \t -2.8079216448068234\n",
            "13     \t [-5.12        4.38793399]. \t  -65.80041903280606 \t -2.8079216448068234\n",
            "14     \t [2.52507625 5.08432136]. \t  -53.47341881184989 \t -2.8079216448068234\n",
            "15     \t [4.95325427 1.6352905 ]. \t  -44.23656112704768 \t -2.8079216448068234\n",
            "16     \t [-0.63220912  4.85767325]. \t  -44.479391014623005 \t -2.8079216448068234\n",
            "17     \t [4.83010635 4.98828829]. \t  -53.41661893108656 \t -2.8079216448068234\n",
            "18     \t [ 4.02218806 -2.67672933]. \t  -37.882722340183825 \t -2.8079216448068234\n",
            "19     \t [-2.93959251  1.04239   ]. \t  -10.792076232574544 \t -2.8079216448068234\n",
            "20     \t [ 0.22909672 -1.93232082]. \t  -13.367335583846376 \t -2.8079216448068234\n"
          ],
          "name": "stdout"
        }
      ]
    },
    {
      "cell_type": "code",
      "metadata": {
        "colab": {
          "base_uri": "https://localhost:8080/"
        },
        "id": "qNqAB3vBTPqb",
        "outputId": "1a19dca7-a1fe-48f8-a046-e51e9e11c84a"
      },
      "source": [
        "end_exact = time.time()\n",
        "end_exact\n",
        "\n",
        "time_exact = end_exact - start_exact\n",
        "time_exact"
      ],
      "execution_count": null,
      "outputs": [
        {
          "output_type": "execute_result",
          "data": {
            "text/plain": [
              "82.01042890548706"
            ]
          },
          "metadata": {
            "tags": []
          },
          "execution_count": 53
        }
      ]
    },
    {
      "cell_type": "code",
      "metadata": {
        "colab": {
          "base_uri": "https://localhost:8080/"
        },
        "id": "JPQzjdBZQxfg",
        "outputId": "99135e71-8914-4dc1-9178-31d75dbf6151"
      },
      "source": [
        "### Simple regret minimization: run number = 1\n",
        "\n",
        "approx_output_1 = np.append(np.min(approx_1.GP.y[0:n_init]),approx_1.GP.y[n_init:(n_init+iters)]) \n",
        "exact_output_1 = np.append(np.min(exact_1.GP.y[0:n_init]),exact_1.GP.y[n_init:(n_init+iters)]) \n",
        "\n",
        "regret_approx_1 = np.log(-approx_output_1 + y_global_orig)\n",
        "regret_exact_1 = np.log(-exact_output_1 + y_global_orig)\n",
        "\n",
        "simple_regret_approx_1 = min_max_array(regret_approx_1)\n",
        "simple_regret_exact_1 = min_max_array(regret_exact_1)\n",
        "\n",
        "min_simple_regret_approx_1 = min(simple_regret_approx_1)\n",
        "min_simple_regret_exact_1 = min(simple_regret_exact_1)\n",
        "\n",
        "min_simple_regret_approx_1, min_simple_regret_exact_1"
      ],
      "execution_count": null,
      "outputs": [
        {
          "output_type": "execute_result",
          "data": {
            "text/plain": [
              "(2.5234887430171615, 2.116479226101828)"
            ]
          },
          "metadata": {
            "tags": []
          },
          "execution_count": 54
        }
      ]
    },
    {
      "cell_type": "code",
      "metadata": {
        "colab": {
          "base_uri": "https://localhost:8080/"
        },
        "id": "94yBw5tqQxfk",
        "outputId": "459f646d-b4fe-4d07-9e8f-88fc37ced3b1"
      },
      "source": [
        "### Simple regret minimization: run number = 2\n",
        "\n",
        "approx_output_2 = np.append(np.min(approx_2.GP.y[0:n_init]),approx_2.GP.y[n_init:(n_init+iters)]) \n",
        "exact_output_2 = np.append(np.min(exact_2.GP.y[0:n_init]),exact_2.GP.y[n_init:(n_init+iters)]) \n",
        "\n",
        "regret_approx_2 = np.log(-approx_output_2 + y_global_orig)\n",
        "regret_exact_2 = np.log(-exact_output_2 + y_global_orig)\n",
        "\n",
        "simple_regret_approx_2 = min_max_array(regret_approx_2)\n",
        "simple_regret_exact_2 = min_max_array(regret_exact_2)\n",
        "\n",
        "min_simple_regret_approx_2 = min(simple_regret_approx_2)\n",
        "min_simple_regret_exact_2 = min(simple_regret_exact_2)\n",
        "\n",
        "min_simple_regret_approx_2, min_simple_regret_exact_2"
      ],
      "execution_count": null,
      "outputs": [
        {
          "output_type": "execute_result",
          "data": {
            "text/plain": [
              "(3.1089279907189096, 2.442537715098709)"
            ]
          },
          "metadata": {
            "tags": []
          },
          "execution_count": 55
        }
      ]
    },
    {
      "cell_type": "code",
      "metadata": {
        "colab": {
          "base_uri": "https://localhost:8080/"
        },
        "id": "Bu6SBWALQxfl",
        "outputId": "b2a06113-5114-48e4-db91-dd04807fb0a4"
      },
      "source": [
        "### Simple regret minimization: run number = 3\n",
        "\n",
        "approx_output_3 = np.append(np.min(approx_3.GP.y[0:n_init]),approx_3.GP.y[n_init:(n_init+iters)]) \n",
        "exact_output_3 = np.append(np.min(exact_3.GP.y[0:n_init]),exact_3.GP.y[n_init:(n_init+iters)]) \n",
        "\n",
        "regret_approx_3 = np.log(-approx_output_3 + y_global_orig)\n",
        "regret_exact_3 = np.log(-exact_output_3 + y_global_orig)\n",
        "\n",
        "simple_regret_approx_3 = min_max_array(regret_approx_3)\n",
        "simple_regret_exact_3 = min_max_array(regret_exact_3)\n",
        "\n",
        "min_simple_regret_approx_3 = min(simple_regret_approx_3)\n",
        "min_simple_regret_exact_3 = min(simple_regret_exact_3)\n",
        "\n",
        "min_simple_regret_approx_3, min_simple_regret_exact_3"
      ],
      "execution_count": null,
      "outputs": [
        {
          "output_type": "execute_result",
          "data": {
            "text/plain": [
              "(2.6108506059478387, 2.064286267887516)"
            ]
          },
          "metadata": {
            "tags": []
          },
          "execution_count": 56
        }
      ]
    },
    {
      "cell_type": "code",
      "metadata": {
        "colab": {
          "base_uri": "https://localhost:8080/"
        },
        "id": "AZm0jgxkQxfm",
        "outputId": "beaff443-87ef-4416-8030-59bcda2b012b"
      },
      "source": [
        "### Simple regret minimization: run number = 4\n",
        "\n",
        "approx_output_4 = np.append(np.min(approx_4.GP.y[0:n_init]),approx_4.GP.y[n_init:(n_init+iters)]) \n",
        "exact_output_4 = np.append(np.min(exact_4.GP.y[0:n_init]),exact_4.GP.y[n_init:(n_init+iters)]) \n",
        "\n",
        "regret_approx_4 = np.log(-approx_output_4 + y_global_orig)\n",
        "regret_exact_4 = np.log(-exact_output_4 + y_global_orig)\n",
        "\n",
        "simple_regret_approx_4 = min_max_array(regret_approx_4)\n",
        "simple_regret_exact_4 = min_max_array(regret_exact_4)\n",
        "\n",
        "min_simple_regret_approx_4 = min(simple_regret_approx_4)\n",
        "min_simple_regret_exact_4 = min(simple_regret_exact_4)\n",
        "\n",
        "min_simple_regret_approx_4, min_simple_regret_exact_4"
      ],
      "execution_count": null,
      "outputs": [
        {
          "output_type": "execute_result",
          "data": {
            "text/plain": [
              "(2.288170828405886, 1.8083908923838952)"
            ]
          },
          "metadata": {
            "tags": []
          },
          "execution_count": 57
        }
      ]
    },
    {
      "cell_type": "code",
      "metadata": {
        "colab": {
          "base_uri": "https://localhost:8080/"
        },
        "id": "NONPm8JIQxfn",
        "outputId": "4cc16aee-5b6f-4c81-aa21-ed01bcfa7aeb"
      },
      "source": [
        "### Simple regret minimization: run number = 5\n",
        "\n",
        "approx_output_5 = np.append(np.min(approx_5.GP.y[0:n_init]),approx_5.GP.y[n_init:(n_init+iters)]) \n",
        "exact_output_5 = np.append(np.min(exact_5.GP.y[0:n_init]),exact_5.GP.y[n_init:(n_init+iters)]) \n",
        "\n",
        "regret_approx_5 = np.log(-approx_output_5 + y_global_orig)\n",
        "regret_exact_5 = np.log(-exact_output_5 + y_global_orig)\n",
        "\n",
        "simple_regret_approx_5 = min_max_array(regret_approx_5)\n",
        "simple_regret_exact_5 = min_max_array(regret_exact_5)\n",
        "\n",
        "min_simple_regret_approx_5 = min(simple_regret_approx_5)\n",
        "min_simple_regret_exact_5 = min(simple_regret_exact_5)\n",
        "\n",
        "min_simple_regret_approx_5, min_simple_regret_exact_5"
      ],
      "execution_count": null,
      "outputs": [
        {
          "output_type": "execute_result",
          "data": {
            "text/plain": [
              "(2.034576678342154, 2.6985808939996834)"
            ]
          },
          "metadata": {
            "tags": []
          },
          "execution_count": 58
        }
      ]
    },
    {
      "cell_type": "code",
      "metadata": {
        "colab": {
          "base_uri": "https://localhost:8080/"
        },
        "id": "CJv3lPuSQxfp",
        "outputId": "20cf275d-1162-4f91-b45d-5b68df3237ba"
      },
      "source": [
        "### Simple regret minimization: run number = 6\n",
        "\n",
        "approx_output_6 = np.append(np.min(approx_6.GP.y[0:n_init]),approx_6.GP.y[n_init:(n_init+iters)]) \n",
        "exact_output_6 = np.append(np.min(exact_6.GP.y[0:n_init]),exact_6.GP.y[n_init:(n_init+iters)]) \n",
        "\n",
        "regret_approx_6 = np.log(-approx_output_6 + y_global_orig)\n",
        "regret_exact_6 = np.log(-exact_output_6 + y_global_orig)\n",
        "\n",
        "simple_regret_approx_6 = min_max_array(regret_approx_6)\n",
        "simple_regret_exact_6 = min_max_array(regret_exact_6)\n",
        "\n",
        "min_simple_regret_approx_6 = min(simple_regret_approx_6)\n",
        "min_simple_regret_exact_6 = min(simple_regret_exact_6)\n",
        "\n",
        "min_simple_regret_approx_6, min_simple_regret_exact_6"
      ],
      "execution_count": null,
      "outputs": [
        {
          "output_type": "execute_result",
          "data": {
            "text/plain": [
              "(2.3114825426797987, 3.34424594224657)"
            ]
          },
          "metadata": {
            "tags": []
          },
          "execution_count": 59
        }
      ]
    },
    {
      "cell_type": "code",
      "metadata": {
        "colab": {
          "base_uri": "https://localhost:8080/"
        },
        "id": "quR2ZyApQxfq",
        "outputId": "faca55f8-06c8-4f8b-aed2-5cb833eb257c"
      },
      "source": [
        "### Simple regret minimization: run number = 7\n",
        "\n",
        "approx_output_7 = np.append(np.min(approx_7.GP.y[0:n_init]),approx_7.GP.y[n_init:(n_init+iters)]) \n",
        "exact_output_7 = np.append(np.min(exact_7.GP.y[0:n_init]),exact_7.GP.y[n_init:(n_init+iters)]) \n",
        "\n",
        "regret_approx_7 = np.log(-approx_output_7 + y_global_orig)\n",
        "regret_exact_7 = np.log(-exact_output_7 + y_global_orig)\n",
        "\n",
        "simple_regret_approx_7 = min_max_array(regret_approx_7)\n",
        "simple_regret_exact_7 = min_max_array(regret_exact_7)\n",
        "\n",
        "min_simple_regret_approx_7 = min(simple_regret_approx_7)\n",
        "min_simple_regret_exact_7 = min(simple_regret_exact_7)\n",
        "\n",
        "min_simple_regret_approx_7, min_simple_regret_exact_7"
      ],
      "execution_count": null,
      "outputs": [
        {
          "output_type": "execute_result",
          "data": {
            "text/plain": [
              "(2.8264842567634267, 2.8521455348071294)"
            ]
          },
          "metadata": {
            "tags": []
          },
          "execution_count": 60
        }
      ]
    },
    {
      "cell_type": "code",
      "metadata": {
        "colab": {
          "base_uri": "https://localhost:8080/"
        },
        "id": "99wY5nK6Qxfr",
        "outputId": "dd5f5057-4f6b-4f43-98bd-92f81fb86886"
      },
      "source": [
        "### Simple regret minimization: run number = 8\n",
        "\n",
        "approx_output_8 = np.append(np.min(approx_8.GP.y[0:n_init]),approx_8.GP.y[n_init:(n_init+iters)]) \n",
        "exact_output_8 = np.append(np.min(exact_8.GP.y[0:n_init]),exact_8.GP.y[n_init:(n_init+iters)]) \n",
        "\n",
        "regret_approx_8 = np.log(-approx_output_8 + y_global_orig)\n",
        "regret_exact_8 = np.log(-exact_output_8 + y_global_orig)\n",
        "\n",
        "simple_regret_approx_8 = min_max_array(regret_approx_8)\n",
        "simple_regret_exact_8 = min_max_array(regret_exact_8)\n",
        "\n",
        "min_simple_regret_approx_8 = min(simple_regret_approx_8)\n",
        "min_simple_regret_exact_8 = min(simple_regret_exact_8)\n",
        "\n",
        "min_simple_regret_approx_8, min_simple_regret_exact_8"
      ],
      "execution_count": null,
      "outputs": [
        {
          "output_type": "execute_result",
          "data": {
            "text/plain": [
              "(2.6984850096526367, 2.6257495285396604)"
            ]
          },
          "metadata": {
            "tags": []
          },
          "execution_count": 61
        }
      ]
    },
    {
      "cell_type": "code",
      "metadata": {
        "colab": {
          "base_uri": "https://localhost:8080/"
        },
        "id": "qt0P5t9qQxfs",
        "outputId": "968e61ef-73ca-48f6-f861-937d22663484"
      },
      "source": [
        "### Simple regret minimization: run number = 9\n",
        "\n",
        "approx_output_9 = np.append(np.min(approx_9.GP.y[0:n_init]),approx_9.GP.y[n_init:(n_init+iters)]) \n",
        "exact_output_9 = np.append(np.min(exact_9.GP.y[0:n_init]),exact_9.GP.y[n_init:(n_init+iters)]) \n",
        "\n",
        "regret_approx_9 = np.log(-approx_output_9 + y_global_orig)\n",
        "regret_exact_9 = np.log(-exact_output_9 + y_global_orig)\n",
        "\n",
        "simple_regret_approx_9 = min_max_array(regret_approx_9)\n",
        "simple_regret_exact_9 = min_max_array(regret_exact_9)\n",
        "\n",
        "min_simple_regret_approx_9 = min(simple_regret_approx_9)\n",
        "min_simple_regret_exact_9 = min(simple_regret_exact_9)\n",
        "\n",
        "min_simple_regret_approx_9, min_simple_regret_exact_9"
      ],
      "execution_count": null,
      "outputs": [
        {
          "output_type": "execute_result",
          "data": {
            "text/plain": [
              "(2.39474253794569, 2.4746054894126215)"
            ]
          },
          "metadata": {
            "tags": []
          },
          "execution_count": 62
        }
      ]
    },
    {
      "cell_type": "code",
      "metadata": {
        "colab": {
          "base_uri": "https://localhost:8080/"
        },
        "id": "vx8to9stQxft",
        "outputId": "94e97e55-1331-46b8-89a5-26e22bb7e089"
      },
      "source": [
        "### Simple regret minimization: run number = 10\n",
        "\n",
        "approx_output_10 = np.append(np.min(approx_10.GP.y[0:n_init]),approx_10.GP.y[n_init:(n_init+iters)]) \n",
        "exact_output_10 = np.append(np.min(exact_10.GP.y[0:n_init]),exact_10.GP.y[n_init:(n_init+iters)]) \n",
        "\n",
        "regret_approx_10 = np.log(-approx_output_10 + y_global_orig)\n",
        "regret_exact_10 = np.log(-exact_output_10 + y_global_orig)\n",
        "\n",
        "simple_regret_approx_10 = min_max_array(regret_approx_10)\n",
        "simple_regret_exact_10 = min_max_array(regret_exact_10)\n",
        "\n",
        "min_simple_regret_approx_10 = min(simple_regret_approx_10)\n",
        "min_simple_regret_exact_10 = min(simple_regret_exact_10)\n",
        "\n",
        "min_simple_regret_approx_10, min_simple_regret_exact_10"
      ],
      "execution_count": null,
      "outputs": [
        {
          "output_type": "execute_result",
          "data": {
            "text/plain": [
              "(2.5241871672711627, 2.2410773013304173)"
            ]
          },
          "metadata": {
            "tags": []
          },
          "execution_count": 63
        }
      ]
    },
    {
      "cell_type": "code",
      "metadata": {
        "colab": {
          "base_uri": "https://localhost:8080/"
        },
        "id": "d-FGzWyHQxfu",
        "outputId": "6c42403b-1cb2-4e85-803e-c4124753a9a7"
      },
      "source": [
        "### Simple regret minimization: run number = 11\n",
        "\n",
        "approx_output_11 = np.append(np.min(approx_11.GP.y[0:n_init]),approx_11.GP.y[n_init:(n_init+iters)]) \n",
        "exact_output_11 = np.append(np.min(exact_11.GP.y[0:n_init]),exact_11.GP.y[n_init:(n_init+iters)]) \n",
        "\n",
        "regret_approx_11 = np.log(-approx_output_11 + y_global_orig)\n",
        "regret_exact_11 = np.log(-exact_output_11 + y_global_orig)\n",
        "\n",
        "simple_regret_approx_11 = min_max_array(regret_approx_11)\n",
        "simple_regret_exact_11 = min_max_array(regret_exact_11)\n",
        "\n",
        "min_simple_regret_approx_11 = min(simple_regret_approx_11)\n",
        "min_simple_regret_exact_11 = min(simple_regret_exact_11)\n",
        "\n",
        "min_simple_regret_approx_11, min_simple_regret_exact_11"
      ],
      "execution_count": null,
      "outputs": [
        {
          "output_type": "execute_result",
          "data": {
            "text/plain": [
              "(2.489149658474126, 2.7029938766754724)"
            ]
          },
          "metadata": {
            "tags": []
          },
          "execution_count": 64
        }
      ]
    },
    {
      "cell_type": "code",
      "metadata": {
        "colab": {
          "base_uri": "https://localhost:8080/"
        },
        "id": "SvtsssyjQxfv",
        "outputId": "ba0ece75-53ec-4e07-b8b5-7a5c0a9972d9"
      },
      "source": [
        "### Simple regret minimization: run number = 12\n",
        "\n",
        "approx_output_12 = np.append(np.min(approx_12.GP.y[0:n_init]),approx_12.GP.y[n_init:(n_init+iters)]) \n",
        "exact_output_12 = np.append(np.min(exact_12.GP.y[0:n_init]),exact_12.GP.y[n_init:(n_init+iters)]) \n",
        "\n",
        "regret_approx_12 = np.log(-approx_output_12 + y_global_orig)\n",
        "regret_exact_12 = np.log(-exact_output_12 + y_global_orig)\n",
        "\n",
        "simple_regret_approx_12 = min_max_array(regret_approx_12)\n",
        "simple_regret_exact_12 = min_max_array(regret_exact_12)\n",
        "\n",
        "min_simple_regret_approx_12 = min(simple_regret_approx_12)\n",
        "min_simple_regret_exact_12 = min(simple_regret_exact_12)\n",
        "\n",
        "min_simple_regret_approx_12, min_simple_regret_exact_12"
      ],
      "execution_count": null,
      "outputs": [
        {
          "output_type": "execute_result",
          "data": {
            "text/plain": [
              "(2.1667099483116363, 2.383711149601142)"
            ]
          },
          "metadata": {
            "tags": []
          },
          "execution_count": 65
        }
      ]
    },
    {
      "cell_type": "code",
      "metadata": {
        "colab": {
          "base_uri": "https://localhost:8080/"
        },
        "id": "K6OiGcHkQxfw",
        "outputId": "ba36358f-de83-4b91-a7e5-9b99b6c138dc"
      },
      "source": [
        "### Simple regret minimization: run number = 13\n",
        "\n",
        "approx_output_13 = np.append(np.min(approx_13.GP.y[0:n_init]),approx_13.GP.y[n_init:(n_init+iters)]) \n",
        "exact_output_13 = np.append(np.min(exact_13.GP.y[0:n_init]),exact_13.GP.y[n_init:(n_init+iters)]) \n",
        "\n",
        "regret_approx_13 = np.log(-approx_output_13 + y_global_orig)\n",
        "regret_exact_13 = np.log(-exact_output_13 + y_global_orig)\n",
        "\n",
        "simple_regret_approx_13 = min_max_array(regret_approx_13)\n",
        "simple_regret_exact_13 = min_max_array(regret_exact_13)\n",
        "\n",
        "min_simple_regret_approx_13 = min(simple_regret_approx_13)\n",
        "min_simple_regret_exact_13 = min(simple_regret_exact_13)\n",
        "\n",
        "min_simple_regret_approx_13, min_simple_regret_exact_13"
      ],
      "execution_count": null,
      "outputs": [
        {
          "output_type": "execute_result",
          "data": {
            "text/plain": [
              "(2.763711012992627, 2.1205418514449623)"
            ]
          },
          "metadata": {
            "tags": []
          },
          "execution_count": 66
        }
      ]
    },
    {
      "cell_type": "code",
      "metadata": {
        "colab": {
          "base_uri": "https://localhost:8080/"
        },
        "id": "ogML73shQxfx",
        "outputId": "392a9150-a39e-4402-86b2-a402a4a3eef4"
      },
      "source": [
        "### Simple regret minimization: run number = 14\n",
        "\n",
        "approx_output_14 = np.append(np.min(approx_14.GP.y[0:n_init]),approx_14.GP.y[n_init:(n_init+iters)]) \n",
        "exact_output_14 = np.append(np.min(exact_14.GP.y[0:n_init]),exact_14.GP.y[n_init:(n_init+iters)]) \n",
        "\n",
        "regret_approx_14 = np.log(-approx_output_14 + y_global_orig)\n",
        "regret_exact_14 = np.log(-exact_output_14 + y_global_orig)\n",
        "\n",
        "simple_regret_approx_14 = min_max_array(regret_approx_14)\n",
        "simple_regret_exact_14 = min_max_array(regret_exact_14)\n",
        "\n",
        "min_simple_regret_approx_14 = min(simple_regret_approx_14)\n",
        "min_simple_regret_exact_14 = min(simple_regret_exact_14)\n",
        "\n",
        "min_simple_regret_approx_14, min_simple_regret_exact_14"
      ],
      "execution_count": null,
      "outputs": [
        {
          "output_type": "execute_result",
          "data": {
            "text/plain": [
              "(2.546375238661026, 2.0821257819171355)"
            ]
          },
          "metadata": {
            "tags": []
          },
          "execution_count": 67
        }
      ]
    },
    {
      "cell_type": "code",
      "metadata": {
        "colab": {
          "base_uri": "https://localhost:8080/"
        },
        "id": "9Eg7gFT9Qxfx",
        "outputId": "54009b4f-ac55-4022-ac96-fa7f275ad718"
      },
      "source": [
        "### Simple regret minimization: run number = 15\n",
        "\n",
        "approx_output_15 = np.append(np.min(approx_15.GP.y[0:n_init]),approx_15.GP.y[n_init:(n_init+iters)]) \n",
        "exact_output_15 = np.append(np.min(exact_15.GP.y[0:n_init]),exact_15.GP.y[n_init:(n_init+iters)]) \n",
        "\n",
        "regret_approx_15 = np.log(-approx_output_15 + y_global_orig)\n",
        "regret_exact_15 = np.log(-exact_output_15 + y_global_orig)\n",
        "\n",
        "simple_regret_approx_15 = min_max_array(regret_approx_15)\n",
        "simple_regret_exact_15 = min_max_array(regret_exact_15)\n",
        "\n",
        "min_simple_regret_approx_15 = min(simple_regret_approx_15)\n",
        "min_simple_regret_exact_15 = min(simple_regret_exact_15)\n",
        "\n",
        "min_simple_regret_approx_15, min_simple_regret_exact_15"
      ],
      "execution_count": null,
      "outputs": [
        {
          "output_type": "execute_result",
          "data": {
            "text/plain": [
              "(2.355212606187029, 3.2370678736916036)"
            ]
          },
          "metadata": {
            "tags": []
          },
          "execution_count": 68
        }
      ]
    },
    {
      "cell_type": "code",
      "metadata": {
        "colab": {
          "base_uri": "https://localhost:8080/"
        },
        "id": "lIAC1U7ZQxfy",
        "outputId": "90d09bf6-73b8-403e-c529-b03ed572416e"
      },
      "source": [
        "### Simple regret minimization: run number = 16\n",
        "\n",
        "approx_output_16 = np.append(np.min(approx_16.GP.y[0:n_init]),approx_16.GP.y[n_init:(n_init+iters)]) \n",
        "exact_output_16 = np.append(np.min(exact_16.GP.y[0:n_init]),exact_16.GP.y[n_init:(n_init+iters)]) \n",
        "\n",
        "regret_approx_16 = np.log(-approx_output_16 + y_global_orig)\n",
        "regret_exact_16 = np.log(-exact_output_16 + y_global_orig)\n",
        "\n",
        "simple_regret_approx_16 = min_max_array(regret_approx_16)\n",
        "simple_regret_exact_16 = min_max_array(regret_exact_16)\n",
        "\n",
        "min_simple_regret_approx_16 = min(simple_regret_approx_16)\n",
        "min_simple_regret_exact_16 = min(simple_regret_exact_16)\n",
        "\n",
        "min_simple_regret_approx_16, min_simple_regret_exact_16"
      ],
      "execution_count": null,
      "outputs": [
        {
          "output_type": "execute_result",
          "data": {
            "text/plain": [
              "(0.7593924197776527, 1.8607491248253725)"
            ]
          },
          "metadata": {
            "tags": []
          },
          "execution_count": 69
        }
      ]
    },
    {
      "cell_type": "code",
      "metadata": {
        "colab": {
          "base_uri": "https://localhost:8080/"
        },
        "id": "bGott36OQxfz",
        "outputId": "bd46d8f6-01e7-4a5b-cd71-ead456f7655f"
      },
      "source": [
        "### Simple regret minimization: run number = 17\n",
        "\n",
        "approx_output_17 = np.append(np.min(approx_17.GP.y[0:n_init]),approx_17.GP.y[n_init:(n_init+iters)]) \n",
        "exact_output_17 = np.append(np.min(exact_17.GP.y[0:n_init]),exact_17.GP.y[n_init:(n_init+iters)]) \n",
        "\n",
        "regret_approx_17 = np.log(-approx_output_17 + y_global_orig)\n",
        "regret_exact_17 = np.log(-exact_output_17 + y_global_orig)\n",
        "\n",
        "simple_regret_approx_17 = min_max_array(regret_approx_17)\n",
        "simple_regret_exact_17 = min_max_array(regret_exact_17)\n",
        "\n",
        "min_simple_regret_approx_17 = min(simple_regret_approx_17)\n",
        "min_simple_regret_exact_17 = min(simple_regret_exact_17)\n",
        "\n",
        "min_simple_regret_approx_17, min_simple_regret_exact_17"
      ],
      "execution_count": null,
      "outputs": [
        {
          "output_type": "execute_result",
          "data": {
            "text/plain": [
              "(2.400153680851681, 2.70975972608701)"
            ]
          },
          "metadata": {
            "tags": []
          },
          "execution_count": 70
        }
      ]
    },
    {
      "cell_type": "code",
      "metadata": {
        "colab": {
          "base_uri": "https://localhost:8080/"
        },
        "id": "Cz9ZYMBMQxfz",
        "outputId": "936f46e7-8f2e-40be-b369-6f63cb4068c8"
      },
      "source": [
        "### Simple regret minimization: run number = 18\n",
        "\n",
        "approx_output_18 = np.append(np.min(approx_18.GP.y[0:n_init]),approx_18.GP.y[n_init:(n_init+iters)]) \n",
        "exact_output_18 = np.append(np.min(exact_18.GP.y[0:n_init]),exact_18.GP.y[n_init:(n_init+iters)]) \n",
        "\n",
        "regret_approx_18 = np.log(-approx_output_18 + y_global_orig)\n",
        "regret_exact_18 = np.log(-exact_output_18 + y_global_orig)\n",
        "\n",
        "simple_regret_approx_18 = min_max_array(regret_approx_18)\n",
        "simple_regret_exact_18 = min_max_array(regret_exact_18)\n",
        "\n",
        "min_simple_regret_approx_18 = min(simple_regret_approx_18)\n",
        "min_simple_regret_exact_18 = min(simple_regret_exact_18)\n",
        "\n",
        "min_simple_regret_approx_18, min_simple_regret_exact_18"
      ],
      "execution_count": null,
      "outputs": [
        {
          "output_type": "execute_result",
          "data": {
            "text/plain": [
              "(2.70458168750813, 2.011357983188474)"
            ]
          },
          "metadata": {
            "tags": []
          },
          "execution_count": 71
        }
      ]
    },
    {
      "cell_type": "code",
      "metadata": {
        "colab": {
          "base_uri": "https://localhost:8080/"
        },
        "id": "OBfpWOHNQxf0",
        "outputId": "f8aaa199-ff26-4ba8-9a19-664ebb467c11"
      },
      "source": [
        "### Simple regret minimization: run number = 19\n",
        "\n",
        "approx_output_19 = np.append(np.min(approx_19.GP.y[0:n_init]),approx_19.GP.y[n_init:(n_init+iters)]) \n",
        "exact_output_19 = np.append(np.min(exact_19.GP.y[0:n_init]),exact_19.GP.y[n_init:(n_init+iters)]) \n",
        "\n",
        "regret_approx_19 = np.log(-approx_output_19 + y_global_orig)\n",
        "regret_exact_19 = np.log(-exact_output_19 + y_global_orig)\n",
        "\n",
        "simple_regret_approx_19 = min_max_array(regret_approx_19)\n",
        "simple_regret_exact_19 = min_max_array(regret_exact_19)\n",
        "\n",
        "min_simple_regret_approx_19 = min(simple_regret_approx_19)\n",
        "min_simple_regret_exact_19 = min(simple_regret_exact_19)\n",
        "\n",
        "min_simple_regret_approx_19, min_simple_regret_exact_19"
      ],
      "execution_count": null,
      "outputs": [
        {
          "output_type": "execute_result",
          "data": {
            "text/plain": [
              "(2.929231041510643, 1.9960943729846712)"
            ]
          },
          "metadata": {
            "tags": []
          },
          "execution_count": 72
        }
      ]
    },
    {
      "cell_type": "code",
      "metadata": {
        "colab": {
          "base_uri": "https://localhost:8080/"
        },
        "id": "BE1AJ7NsQxf0",
        "outputId": "8ae65b50-6dde-41ef-ee19-1b83e993ca23"
      },
      "source": [
        "### Simple regret minimization: run number = 20\n",
        "\n",
        "approx_output_20 = np.append(np.min(approx_20.GP.y[0:n_init]),approx_20.GP.y[n_init:(n_init+iters)]) \n",
        "exact_output_20 = np.append(np.min(exact_20.GP.y[0:n_init]),exact_20.GP.y[n_init:(n_init+iters)]) \n",
        "\n",
        "regret_approx_20 = np.log(-approx_output_20 + y_global_orig)\n",
        "regret_exact_20 = np.log(-exact_output_20 + y_global_orig)\n",
        "\n",
        "simple_regret_approx_20 = min_max_array(regret_approx_20)\n",
        "simple_regret_exact_20 = min_max_array(regret_exact_20)\n",
        "\n",
        "min_simple_regret_approx_20 = min(simple_regret_approx_20)\n",
        "min_simple_regret_exact_20 = min(simple_regret_exact_20)\n",
        "\n",
        "min_simple_regret_approx_20, min_simple_regret_exact_20"
      ],
      "execution_count": null,
      "outputs": [
        {
          "output_type": "execute_result",
          "data": {
            "text/plain": [
              "(2.641971206249818, 1.0324445815031589)"
            ]
          },
          "metadata": {
            "tags": []
          },
          "execution_count": 73
        }
      ]
    },
    {
      "cell_type": "code",
      "metadata": {
        "id": "bpX-bKAHQxf1"
      },
      "source": [
        "# Iteration1 :\n",
        "\n",
        "slice1 = 0\n",
        "\n",
        "approx1 = [simple_regret_approx_1[slice1],\n",
        "       simple_regret_approx_2[slice1],\n",
        "       simple_regret_approx_3[slice1],\n",
        "       simple_regret_approx_4[slice1],\n",
        "       simple_regret_approx_5[slice1],\n",
        "       simple_regret_approx_6[slice1],\n",
        "       simple_regret_approx_7[slice1],\n",
        "       simple_regret_approx_8[slice1],\n",
        "       simple_regret_approx_9[slice1],\n",
        "       simple_regret_approx_10[slice1],\n",
        "       simple_regret_approx_11[slice1],\n",
        "       simple_regret_approx_12[slice1],\n",
        "       simple_regret_approx_13[slice1],\n",
        "       simple_regret_approx_14[slice1],\n",
        "       simple_regret_approx_15[slice1],\n",
        "       simple_regret_approx_16[slice1],\n",
        "       simple_regret_approx_17[slice1],\n",
        "       simple_regret_approx_18[slice1],\n",
        "       simple_regret_approx_19[slice1],\n",
        "       simple_regret_approx_20[slice1]]\n",
        "\n",
        "exact1 = [simple_regret_exact_1[slice1],\n",
        "       simple_regret_exact_2[slice1],\n",
        "       simple_regret_exact_3[slice1],\n",
        "       simple_regret_exact_4[slice1],\n",
        "       simple_regret_exact_5[slice1],\n",
        "       simple_regret_exact_6[slice1],\n",
        "       simple_regret_exact_7[slice1],\n",
        "       simple_regret_exact_8[slice1],\n",
        "       simple_regret_exact_9[slice1],\n",
        "       simple_regret_exact_10[slice1],\n",
        "       simple_regret_exact_11[slice1],\n",
        "       simple_regret_exact_12[slice1],\n",
        "       simple_regret_exact_13[slice1],\n",
        "       simple_regret_exact_14[slice1],\n",
        "       simple_regret_exact_15[slice1],\n",
        "       simple_regret_exact_16[slice1],\n",
        "       simple_regret_exact_17[slice1],\n",
        "       simple_regret_exact_18[slice1],\n",
        "       simple_regret_exact_19[slice1],\n",
        "       simple_regret_exact_20[slice1]]\n",
        "\n",
        "approx1_results = pd.DataFrame(approx1).sort_values(by=[0], ascending=False)\n",
        "exact1_results = pd.DataFrame(exact1).sort_values(by=[0], ascending=False)\n",
        "\n",
        "### Best simple regret minimization IQR - approx:\n",
        "lower_approx1 = np.asarray(approx1_results[4:5][0])[0]\n",
        "median_approx1 = np.asarray(approx1_results[9:10][0])[0]\n",
        "upper_approx1 = np.asarray(approx1_results[14:15][0])[0]\n",
        "\n",
        "lower_exact1 = np.asarray(exact1_results[4:5][0])[0]\n",
        "median_exact1 = np.asarray(exact1_results[9:10][0])[0]\n",
        "upper_exact1 = np.asarray(exact1_results[14:15][0])[0]"
      ],
      "execution_count": null,
      "outputs": []
    },
    {
      "cell_type": "code",
      "metadata": {
        "id": "CgIkJA1xQxf2"
      },
      "source": [
        "# Iteration11 :\n",
        "\n",
        "slice11 = 10\n",
        "\n",
        "approx11 = [simple_regret_approx_1[slice11],\n",
        "       simple_regret_approx_2[slice11],\n",
        "       simple_regret_approx_3[slice11],\n",
        "       simple_regret_approx_4[slice11],\n",
        "       simple_regret_approx_5[slice11],\n",
        "       simple_regret_approx_6[slice11],\n",
        "       simple_regret_approx_7[slice11],\n",
        "       simple_regret_approx_8[slice11],\n",
        "       simple_regret_approx_9[slice11],\n",
        "       simple_regret_approx_10[slice11],\n",
        "       simple_regret_approx_11[slice11],\n",
        "       simple_regret_approx_12[slice11],\n",
        "       simple_regret_approx_13[slice11],\n",
        "       simple_regret_approx_14[slice11],\n",
        "       simple_regret_approx_15[slice11],\n",
        "       simple_regret_approx_16[slice11],\n",
        "       simple_regret_approx_17[slice11],\n",
        "       simple_regret_approx_18[slice11],\n",
        "       simple_regret_approx_19[slice11],\n",
        "       simple_regret_approx_20[slice11]]\n",
        "\n",
        "exact11 = [simple_regret_exact_1[slice11],\n",
        "       simple_regret_exact_2[slice11],\n",
        "       simple_regret_exact_3[slice11],\n",
        "       simple_regret_exact_4[slice11],\n",
        "       simple_regret_exact_5[slice11],\n",
        "       simple_regret_exact_6[slice11],\n",
        "       simple_regret_exact_7[slice11],\n",
        "       simple_regret_exact_8[slice11],\n",
        "       simple_regret_exact_9[slice11],\n",
        "       simple_regret_exact_10[slice11],\n",
        "       simple_regret_exact_11[slice11],\n",
        "       simple_regret_exact_12[slice11],\n",
        "       simple_regret_exact_13[slice11],\n",
        "       simple_regret_exact_14[slice11],\n",
        "       simple_regret_exact_15[slice11],\n",
        "       simple_regret_exact_16[slice11],\n",
        "       simple_regret_exact_17[slice11],\n",
        "       simple_regret_exact_18[slice11],\n",
        "       simple_regret_exact_19[slice11],\n",
        "       simple_regret_exact_20[slice11]]\n",
        "\n",
        "approx11_results = pd.DataFrame(approx11).sort_values(by=[0], ascending=False)\n",
        "exact11_results = pd.DataFrame(exact11).sort_values(by=[0], ascending=False)\n",
        "\n",
        "### Best simple regret minimization IQR - approx:\n",
        "lower_approx11 = np.asarray(approx11_results[4:5][0])[0]\n",
        "median_approx11 = np.asarray(approx11_results[9:10][0])[0]\n",
        "upper_approx11 = np.asarray(approx11_results[14:15][0])[0]\n",
        "\n",
        "lower_exact11 = np.asarray(exact11_results[4:5][0])[0]\n",
        "median_exact11 = np.asarray(exact11_results[9:10][0])[0]\n",
        "upper_exact11 = np.asarray(exact11_results[14:15][0])[0]"
      ],
      "execution_count": null,
      "outputs": []
    },
    {
      "cell_type": "code",
      "metadata": {
        "id": "MFePDfGuQxf2"
      },
      "source": [
        "# Iteration21 :\n",
        "\n",
        "slice21 = 20\n",
        "\n",
        "approx21 = [simple_regret_approx_1[slice21],\n",
        "       simple_regret_approx_2[slice21],\n",
        "       simple_regret_approx_3[slice21],\n",
        "       simple_regret_approx_4[slice21],\n",
        "       simple_regret_approx_5[slice21],\n",
        "       simple_regret_approx_6[slice21],\n",
        "       simple_regret_approx_7[slice21],\n",
        "       simple_regret_approx_8[slice21],\n",
        "       simple_regret_approx_9[slice21],\n",
        "       simple_regret_approx_10[slice21],\n",
        "       simple_regret_approx_11[slice21],\n",
        "       simple_regret_approx_12[slice21],\n",
        "       simple_regret_approx_13[slice21],\n",
        "       simple_regret_approx_14[slice21],\n",
        "       simple_regret_approx_15[slice21],\n",
        "       simple_regret_approx_16[slice21],\n",
        "       simple_regret_approx_17[slice21],\n",
        "       simple_regret_approx_18[slice21],\n",
        "       simple_regret_approx_19[slice21],\n",
        "       simple_regret_approx_20[slice21]]\n",
        "\n",
        "exact21 = [simple_regret_exact_1[slice21],\n",
        "       simple_regret_exact_2[slice21],\n",
        "       simple_regret_exact_3[slice21],\n",
        "       simple_regret_exact_4[slice21],\n",
        "       simple_regret_exact_5[slice21],\n",
        "       simple_regret_exact_6[slice21],\n",
        "       simple_regret_exact_7[slice21],\n",
        "       simple_regret_exact_8[slice21],\n",
        "       simple_regret_exact_9[slice21],\n",
        "       simple_regret_exact_10[slice21],\n",
        "       simple_regret_exact_11[slice21],\n",
        "       simple_regret_exact_12[slice21],\n",
        "       simple_regret_exact_13[slice21],\n",
        "       simple_regret_exact_14[slice21],\n",
        "       simple_regret_exact_15[slice21],\n",
        "       simple_regret_exact_16[slice21],\n",
        "       simple_regret_exact_17[slice21],\n",
        "       simple_regret_exact_18[slice21],\n",
        "       simple_regret_exact_19[slice21],\n",
        "       simple_regret_exact_20[slice21]]\n",
        "\n",
        "approx21_results = pd.DataFrame(approx21).sort_values(by=[0], ascending=False)\n",
        "exact21_results = pd.DataFrame(exact21).sort_values(by=[0], ascending=False)\n",
        "\n",
        "### Best simple regret minimization IQR - approx:\n",
        "lower_approx21 = np.asarray(approx21_results[4:5][0])[0]\n",
        "median_approx21 = np.asarray(approx21_results[9:10][0])[0]\n",
        "upper_approx21 = np.asarray(approx21_results[14:15][0])[0]\n",
        "\n",
        "lower_exact21 = np.asarray(exact21_results[4:5][0])[0]\n",
        "median_exact21 = np.asarray(exact21_results[9:10][0])[0]\n",
        "upper_exact21 = np.asarray(exact21_results[14:15][0])[0]"
      ],
      "execution_count": null,
      "outputs": []
    },
    {
      "cell_type": "code",
      "metadata": {
        "id": "PrRDB1kfQxf3"
      },
      "source": [
        "# Iteration2 :\n",
        "\n",
        "slice2 = 1\n",
        "\n",
        "approx2 = [simple_regret_approx_1[slice2],\n",
        "       simple_regret_approx_2[slice2],\n",
        "       simple_regret_approx_3[slice2],\n",
        "       simple_regret_approx_4[slice2],\n",
        "       simple_regret_approx_5[slice2],\n",
        "       simple_regret_approx_6[slice2],\n",
        "       simple_regret_approx_7[slice2],\n",
        "       simple_regret_approx_8[slice2],\n",
        "       simple_regret_approx_9[slice2],\n",
        "       simple_regret_approx_10[slice2],\n",
        "       simple_regret_approx_11[slice2],\n",
        "       simple_regret_approx_12[slice2],\n",
        "       simple_regret_approx_13[slice2],\n",
        "       simple_regret_approx_14[slice2],\n",
        "       simple_regret_approx_15[slice2],\n",
        "       simple_regret_approx_16[slice2],\n",
        "       simple_regret_approx_17[slice2],\n",
        "       simple_regret_approx_18[slice2],\n",
        "       simple_regret_approx_19[slice2],\n",
        "       simple_regret_approx_20[slice2]]\n",
        "\n",
        "exact2 = [simple_regret_exact_1[slice2],\n",
        "       simple_regret_exact_2[slice2],\n",
        "       simple_regret_exact_3[slice2],\n",
        "       simple_regret_exact_4[slice2],\n",
        "       simple_regret_exact_5[slice2],\n",
        "       simple_regret_exact_6[slice2],\n",
        "       simple_regret_exact_7[slice2],\n",
        "       simple_regret_exact_8[slice2],\n",
        "       simple_regret_exact_9[slice2],\n",
        "       simple_regret_exact_10[slice2],\n",
        "       simple_regret_exact_11[slice2],\n",
        "       simple_regret_exact_12[slice2],\n",
        "       simple_regret_exact_13[slice2],\n",
        "       simple_regret_exact_14[slice2],\n",
        "       simple_regret_exact_15[slice2],\n",
        "       simple_regret_exact_16[slice2],\n",
        "       simple_regret_exact_17[slice2],\n",
        "       simple_regret_exact_18[slice2],\n",
        "       simple_regret_exact_19[slice2],\n",
        "       simple_regret_exact_20[slice2]]\n",
        "\n",
        "approx2_results = pd.DataFrame(approx2).sort_values(by=[0], ascending=False)\n",
        "exact2_results = pd.DataFrame(exact2).sort_values(by=[0], ascending=False)\n",
        "\n",
        "### Best simple regret minimization IQR - approx:\n",
        "lower_approx2 = np.asarray(approx2_results[4:5][0])[0]\n",
        "median_approx2 = np.asarray(approx2_results[9:10][0])[0]\n",
        "upper_approx2 = np.asarray(approx2_results[14:15][0])[0]\n",
        "\n",
        "lower_exact2 = np.asarray(exact2_results[4:5][0])[0]\n",
        "median_exact2 = np.asarray(exact2_results[9:10][0])[0]\n",
        "upper_exact2 = np.asarray(exact2_results[14:15][0])[0]"
      ],
      "execution_count": null,
      "outputs": []
    },
    {
      "cell_type": "code",
      "metadata": {
        "id": "B8ncJDYeQxf3"
      },
      "source": [
        "# Iteration12 :\n",
        "\n",
        "slice12 = 11\n",
        "\n",
        "approx12 = [simple_regret_approx_1[slice12],\n",
        "       simple_regret_approx_2[slice12],\n",
        "       simple_regret_approx_3[slice12],\n",
        "       simple_regret_approx_4[slice12],\n",
        "       simple_regret_approx_5[slice12],\n",
        "       simple_regret_approx_6[slice12],\n",
        "       simple_regret_approx_7[slice12],\n",
        "       simple_regret_approx_8[slice12],\n",
        "       simple_regret_approx_9[slice12],\n",
        "       simple_regret_approx_10[slice12],\n",
        "       simple_regret_approx_11[slice12],\n",
        "       simple_regret_approx_12[slice12],\n",
        "       simple_regret_approx_13[slice12],\n",
        "       simple_regret_approx_14[slice12],\n",
        "       simple_regret_approx_15[slice12],\n",
        "       simple_regret_approx_16[slice12],\n",
        "       simple_regret_approx_17[slice12],\n",
        "       simple_regret_approx_18[slice12],\n",
        "       simple_regret_approx_19[slice12],\n",
        "       simple_regret_approx_20[slice12]]\n",
        "\n",
        "exact12 = [simple_regret_exact_1[slice12],\n",
        "       simple_regret_exact_2[slice12],\n",
        "       simple_regret_exact_3[slice12],\n",
        "       simple_regret_exact_4[slice12],\n",
        "       simple_regret_exact_5[slice12],\n",
        "       simple_regret_exact_6[slice12],\n",
        "       simple_regret_exact_7[slice12],\n",
        "       simple_regret_exact_8[slice12],\n",
        "       simple_regret_exact_9[slice12],\n",
        "       simple_regret_exact_10[slice12],\n",
        "       simple_regret_exact_11[slice12],\n",
        "       simple_regret_exact_12[slice12],\n",
        "       simple_regret_exact_13[slice12],\n",
        "       simple_regret_exact_14[slice12],\n",
        "       simple_regret_exact_15[slice12],\n",
        "       simple_regret_exact_16[slice12],\n",
        "       simple_regret_exact_17[slice12],\n",
        "       simple_regret_exact_18[slice12],\n",
        "       simple_regret_exact_19[slice12],\n",
        "       simple_regret_exact_20[slice12]]\n",
        "\n",
        "approx12_results = pd.DataFrame(approx12).sort_values(by=[0], ascending=False)\n",
        "exact12_results = pd.DataFrame(exact12).sort_values(by=[0], ascending=False)\n",
        "\n",
        "### Best simple regret minimization IQR - approx:\n",
        "lower_approx12 = np.asarray(approx12_results[4:5][0])[0]\n",
        "median_approx12 = np.asarray(approx12_results[9:10][0])[0]\n",
        "upper_approx12 = np.asarray(approx12_results[14:15][0])[0]\n",
        "\n",
        "lower_exact12 = np.asarray(exact12_results[4:5][0])[0]\n",
        "median_exact12 = np.asarray(exact12_results[9:10][0])[0]\n",
        "upper_exact12 = np.asarray(exact12_results[14:15][0])[0]"
      ],
      "execution_count": null,
      "outputs": []
    },
    {
      "cell_type": "code",
      "metadata": {
        "id": "Jn4KpGvcQxf4"
      },
      "source": [
        "# Iteration3 :\n",
        "\n",
        "slice3 = 2\n",
        "\n",
        "approx3 = [simple_regret_approx_1[slice3],\n",
        "       simple_regret_approx_2[slice3],\n",
        "       simple_regret_approx_3[slice3],\n",
        "       simple_regret_approx_4[slice3],\n",
        "       simple_regret_approx_5[slice3],\n",
        "       simple_regret_approx_6[slice3],\n",
        "       simple_regret_approx_7[slice3],\n",
        "       simple_regret_approx_8[slice3],\n",
        "       simple_regret_approx_9[slice3],\n",
        "       simple_regret_approx_10[slice3],\n",
        "       simple_regret_approx_11[slice3],\n",
        "       simple_regret_approx_12[slice3],\n",
        "       simple_regret_approx_13[slice3],\n",
        "       simple_regret_approx_14[slice3],\n",
        "       simple_regret_approx_15[slice3],\n",
        "       simple_regret_approx_16[slice3],\n",
        "       simple_regret_approx_17[slice3],\n",
        "       simple_regret_approx_18[slice3],\n",
        "       simple_regret_approx_19[slice3],\n",
        "       simple_regret_approx_20[slice3]]\n",
        "\n",
        "exact3 = [simple_regret_exact_1[slice3],\n",
        "       simple_regret_exact_2[slice3],\n",
        "       simple_regret_exact_3[slice3],\n",
        "       simple_regret_exact_4[slice3],\n",
        "       simple_regret_exact_5[slice3],\n",
        "       simple_regret_exact_6[slice3],\n",
        "       simple_regret_exact_7[slice3],\n",
        "       simple_regret_exact_8[slice3],\n",
        "       simple_regret_exact_9[slice3],\n",
        "       simple_regret_exact_10[slice3],\n",
        "       simple_regret_exact_11[slice3],\n",
        "       simple_regret_exact_12[slice3],\n",
        "       simple_regret_exact_13[slice3],\n",
        "       simple_regret_exact_14[slice3],\n",
        "       simple_regret_exact_15[slice3],\n",
        "       simple_regret_exact_16[slice3],\n",
        "       simple_regret_exact_17[slice3],\n",
        "       simple_regret_exact_18[slice3],\n",
        "       simple_regret_exact_19[slice3],\n",
        "       simple_regret_exact_20[slice3]]\n",
        "\n",
        "approx3_results = pd.DataFrame(approx3).sort_values(by=[0], ascending=False)\n",
        "exact3_results = pd.DataFrame(exact3).sort_values(by=[0], ascending=False)\n",
        "\n",
        "### Best simple regret minimization IQR - approx:\n",
        "lower_approx3 = np.asarray(approx3_results[4:5][0])[0]\n",
        "median_approx3 = np.asarray(approx3_results[9:10][0])[0]\n",
        "upper_approx3 = np.asarray(approx3_results[14:15][0])[0]\n",
        "\n",
        "lower_exact3 = np.asarray(exact3_results[4:5][0])[0]\n",
        "median_exact3 = np.asarray(exact3_results[9:10][0])[0]\n",
        "upper_exact3 = np.asarray(exact3_results[14:15][0])[0]"
      ],
      "execution_count": null,
      "outputs": []
    },
    {
      "cell_type": "code",
      "metadata": {
        "id": "plf83wxrQxf4"
      },
      "source": [
        "# Iteration13 :\n",
        "\n",
        "slice13 = 12\n",
        "\n",
        "approx13 = [simple_regret_approx_1[slice13],\n",
        "       simple_regret_approx_2[slice13],\n",
        "       simple_regret_approx_3[slice13],\n",
        "       simple_regret_approx_4[slice13],\n",
        "       simple_regret_approx_5[slice13],\n",
        "       simple_regret_approx_6[slice13],\n",
        "       simple_regret_approx_7[slice13],\n",
        "       simple_regret_approx_8[slice13],\n",
        "       simple_regret_approx_9[slice13],\n",
        "       simple_regret_approx_10[slice13],\n",
        "       simple_regret_approx_11[slice13],\n",
        "       simple_regret_approx_12[slice13],\n",
        "       simple_regret_approx_13[slice13],\n",
        "       simple_regret_approx_14[slice13],\n",
        "       simple_regret_approx_15[slice13],\n",
        "       simple_regret_approx_16[slice13],\n",
        "       simple_regret_approx_17[slice13],\n",
        "       simple_regret_approx_18[slice13],\n",
        "       simple_regret_approx_19[slice13],\n",
        "       simple_regret_approx_20[slice13]]\n",
        "\n",
        "exact13 = [simple_regret_exact_1[slice13],\n",
        "       simple_regret_exact_2[slice13],\n",
        "       simple_regret_exact_3[slice13],\n",
        "       simple_regret_exact_4[slice13],\n",
        "       simple_regret_exact_5[slice13],\n",
        "       simple_regret_exact_6[slice13],\n",
        "       simple_regret_exact_7[slice13],\n",
        "       simple_regret_exact_8[slice13],\n",
        "       simple_regret_exact_9[slice13],\n",
        "       simple_regret_exact_10[slice13],\n",
        "       simple_regret_exact_11[slice13],\n",
        "       simple_regret_exact_12[slice13],\n",
        "       simple_regret_exact_13[slice13],\n",
        "       simple_regret_exact_14[slice13],\n",
        "       simple_regret_exact_15[slice13],\n",
        "       simple_regret_exact_16[slice13],\n",
        "       simple_regret_exact_17[slice13],\n",
        "       simple_regret_exact_18[slice13],\n",
        "       simple_regret_exact_19[slice13],\n",
        "       simple_regret_exact_20[slice13]]\n",
        "\n",
        "approx13_results = pd.DataFrame(approx13).sort_values(by=[0], ascending=False)\n",
        "exact13_results = pd.DataFrame(exact13).sort_values(by=[0], ascending=False)\n",
        "\n",
        "### Best simple regret minimization IQR - approx:\n",
        "lower_approx13 = np.asarray(approx13_results[4:5][0])[0]\n",
        "median_approx13 = np.asarray(approx13_results[9:10][0])[0]\n",
        "upper_approx13 = np.asarray(approx13_results[14:15][0])[0]\n",
        "\n",
        "lower_exact13 = np.asarray(exact13_results[4:5][0])[0]\n",
        "median_exact13 = np.asarray(exact13_results[9:10][0])[0]\n",
        "upper_exact13 = np.asarray(exact13_results[14:15][0])[0]"
      ],
      "execution_count": null,
      "outputs": []
    },
    {
      "cell_type": "code",
      "metadata": {
        "id": "9A7mlVvJQxf5"
      },
      "source": [
        "# Iteration4 :\n",
        "\n",
        "slice4 = 3\n",
        "\n",
        "approx4 = [simple_regret_approx_1[slice4],\n",
        "       simple_regret_approx_2[slice4],\n",
        "       simple_regret_approx_3[slice4],\n",
        "       simple_regret_approx_4[slice4],\n",
        "       simple_regret_approx_5[slice4],\n",
        "       simple_regret_approx_6[slice4],\n",
        "       simple_regret_approx_7[slice4],\n",
        "       simple_regret_approx_8[slice4],\n",
        "       simple_regret_approx_9[slice4],\n",
        "       simple_regret_approx_10[slice4],\n",
        "       simple_regret_approx_11[slice4],\n",
        "       simple_regret_approx_12[slice4],\n",
        "       simple_regret_approx_13[slice4],\n",
        "       simple_regret_approx_14[slice4],\n",
        "       simple_regret_approx_15[slice4],\n",
        "       simple_regret_approx_16[slice4],\n",
        "       simple_regret_approx_17[slice4],\n",
        "       simple_regret_approx_18[slice4],\n",
        "       simple_regret_approx_19[slice4],\n",
        "       simple_regret_approx_20[slice4]]\n",
        "\n",
        "exact4 = [simple_regret_exact_1[slice4],\n",
        "       simple_regret_exact_2[slice4],\n",
        "       simple_regret_exact_3[slice4],\n",
        "       simple_regret_exact_4[slice4],\n",
        "       simple_regret_exact_5[slice4],\n",
        "       simple_regret_exact_6[slice4],\n",
        "       simple_regret_exact_7[slice4],\n",
        "       simple_regret_exact_8[slice4],\n",
        "       simple_regret_exact_9[slice4],\n",
        "       simple_regret_exact_10[slice4],\n",
        "       simple_regret_exact_11[slice4],\n",
        "       simple_regret_exact_12[slice4],\n",
        "       simple_regret_exact_13[slice4],\n",
        "       simple_regret_exact_14[slice4],\n",
        "       simple_regret_exact_15[slice4],\n",
        "       simple_regret_exact_16[slice4],\n",
        "       simple_regret_exact_17[slice4],\n",
        "       simple_regret_exact_18[slice4],\n",
        "       simple_regret_exact_19[slice4],\n",
        "       simple_regret_exact_20[slice4]]\n",
        "\n",
        "approx4_results = pd.DataFrame(approx4).sort_values(by=[0], ascending=False)\n",
        "exact4_results = pd.DataFrame(exact4).sort_values(by=[0], ascending=False)\n",
        "\n",
        "### Best simple regret minimization IQR - approx:\n",
        "lower_approx4 = np.asarray(approx4_results[4:5][0])[0]\n",
        "median_approx4 = np.asarray(approx4_results[9:10][0])[0]\n",
        "upper_approx4 = np.asarray(approx4_results[14:15][0])[0]\n",
        "\n",
        "lower_exact4 = np.asarray(exact4_results[4:5][0])[0]\n",
        "median_exact4 = np.asarray(exact4_results[9:10][0])[0]\n",
        "upper_exact4 = np.asarray(exact4_results[14:15][0])[0]"
      ],
      "execution_count": null,
      "outputs": []
    },
    {
      "cell_type": "code",
      "metadata": {
        "id": "ijq-rioYQxf5"
      },
      "source": [
        "# Iteration14 :\n",
        "\n",
        "slice14 = 13\n",
        "\n",
        "approx14 = [simple_regret_approx_1[slice14],\n",
        "       simple_regret_approx_2[slice14],\n",
        "       simple_regret_approx_3[slice14],\n",
        "       simple_regret_approx_4[slice14],\n",
        "       simple_regret_approx_5[slice14],\n",
        "       simple_regret_approx_6[slice14],\n",
        "       simple_regret_approx_7[slice14],\n",
        "       simple_regret_approx_8[slice14],\n",
        "       simple_regret_approx_9[slice14],\n",
        "       simple_regret_approx_10[slice14],\n",
        "       simple_regret_approx_11[slice14],\n",
        "       simple_regret_approx_12[slice14],\n",
        "       simple_regret_approx_13[slice14],\n",
        "       simple_regret_approx_14[slice14],\n",
        "       simple_regret_approx_15[slice14],\n",
        "       simple_regret_approx_16[slice14],\n",
        "       simple_regret_approx_17[slice14],\n",
        "       simple_regret_approx_18[slice14],\n",
        "       simple_regret_approx_19[slice14],\n",
        "       simple_regret_approx_20[slice14]]\n",
        "\n",
        "exact14 = [simple_regret_exact_1[slice14],\n",
        "       simple_regret_exact_2[slice14],\n",
        "       simple_regret_exact_3[slice14],\n",
        "       simple_regret_exact_4[slice14],\n",
        "       simple_regret_exact_5[slice14],\n",
        "       simple_regret_exact_6[slice14],\n",
        "       simple_regret_exact_7[slice14],\n",
        "       simple_regret_exact_8[slice14],\n",
        "       simple_regret_exact_9[slice14],\n",
        "       simple_regret_exact_10[slice14],\n",
        "       simple_regret_exact_11[slice14],\n",
        "       simple_regret_exact_12[slice14],\n",
        "       simple_regret_exact_13[slice14],\n",
        "       simple_regret_exact_14[slice14],\n",
        "       simple_regret_exact_15[slice14],\n",
        "       simple_regret_exact_16[slice14],\n",
        "       simple_regret_exact_17[slice14],\n",
        "       simple_regret_exact_18[slice14],\n",
        "       simple_regret_exact_19[slice14],\n",
        "       simple_regret_exact_20[slice14]]\n",
        "\n",
        "approx14_results = pd.DataFrame(approx14).sort_values(by=[0], ascending=False)\n",
        "exact14_results = pd.DataFrame(exact14).sort_values(by=[0], ascending=False)\n",
        "\n",
        "### Best simple regret minimization IQR - approx:\n",
        "lower_approx14 = np.asarray(approx14_results[4:5][0])[0]\n",
        "median_approx14 = np.asarray(approx14_results[9:10][0])[0]\n",
        "upper_approx14 = np.asarray(approx14_results[14:15][0])[0]\n",
        "\n",
        "lower_exact14 = np.asarray(exact14_results[4:5][0])[0]\n",
        "median_exact14 = np.asarray(exact14_results[9:10][0])[0]\n",
        "upper_exact14 = np.asarray(exact14_results[14:15][0])[0]"
      ],
      "execution_count": null,
      "outputs": []
    },
    {
      "cell_type": "code",
      "metadata": {
        "id": "XINlZjoTd-ZK"
      },
      "source": [
        "# Iteration5 :\n",
        "\n",
        "slice5 = 4\n",
        "\n",
        "approx5 = [simple_regret_approx_1[slice5],\n",
        "       simple_regret_approx_2[slice5],\n",
        "       simple_regret_approx_3[slice5],\n",
        "       simple_regret_approx_4[slice5],\n",
        "       simple_regret_approx_5[slice5],\n",
        "       simple_regret_approx_6[slice5],\n",
        "       simple_regret_approx_7[slice5],\n",
        "       simple_regret_approx_8[slice5],\n",
        "       simple_regret_approx_9[slice5],\n",
        "       simple_regret_approx_10[slice5],\n",
        "       simple_regret_approx_11[slice5],\n",
        "       simple_regret_approx_12[slice5],\n",
        "       simple_regret_approx_13[slice5],\n",
        "       simple_regret_approx_14[slice5],\n",
        "       simple_regret_approx_15[slice5],\n",
        "       simple_regret_approx_16[slice5],\n",
        "       simple_regret_approx_17[slice5],\n",
        "       simple_regret_approx_18[slice5],\n",
        "       simple_regret_approx_19[slice5],\n",
        "       simple_regret_approx_20[slice5]]\n",
        "\n",
        "exact5 = [simple_regret_exact_1[slice5],\n",
        "       simple_regret_exact_2[slice5],\n",
        "       simple_regret_exact_3[slice5],\n",
        "       simple_regret_exact_4[slice5],\n",
        "       simple_regret_exact_5[slice5],\n",
        "       simple_regret_exact_6[slice5],\n",
        "       simple_regret_exact_7[slice5],\n",
        "       simple_regret_exact_8[slice5],\n",
        "       simple_regret_exact_9[slice5],\n",
        "       simple_regret_exact_10[slice5],\n",
        "       simple_regret_exact_11[slice5],\n",
        "       simple_regret_exact_12[slice5],\n",
        "       simple_regret_exact_13[slice5],\n",
        "       simple_regret_exact_14[slice5],\n",
        "       simple_regret_exact_15[slice5],\n",
        "       simple_regret_exact_16[slice5],\n",
        "       simple_regret_exact_17[slice5],\n",
        "       simple_regret_exact_18[slice5],\n",
        "       simple_regret_exact_19[slice5],\n",
        "       simple_regret_exact_20[slice5]]\n",
        "\n",
        "approx5_results = pd.DataFrame(approx5).sort_values(by=[0], ascending=False)\n",
        "exact5_results = pd.DataFrame(exact5).sort_values(by=[0], ascending=False)\n",
        "\n",
        "### Best simple regret minimization IQR - approx:\n",
        "lower_approx5 = np.asarray(approx5_results[4:5][0])[0]\n",
        "median_approx5 = np.asarray(approx5_results[9:10][0])[0]\n",
        "upper_approx5 = np.asarray(approx5_results[14:15][0])[0]\n",
        "\n",
        "lower_exact5 = np.asarray(exact5_results[4:5][0])[0]\n",
        "median_exact5 = np.asarray(exact5_results[9:10][0])[0]\n",
        "upper_exact5 = np.asarray(exact5_results[14:15][0])[0]"
      ],
      "execution_count": null,
      "outputs": []
    },
    {
      "cell_type": "code",
      "metadata": {
        "id": "4aZ7C8sOQxf6"
      },
      "source": [
        "# Iteration15 :\n",
        "\n",
        "slice15 = 14\n",
        "\n",
        "approx15 = [simple_regret_approx_1[slice15],\n",
        "       simple_regret_approx_2[slice15],\n",
        "       simple_regret_approx_3[slice15],\n",
        "       simple_regret_approx_4[slice15],\n",
        "       simple_regret_approx_5[slice15],\n",
        "       simple_regret_approx_6[slice15],\n",
        "       simple_regret_approx_7[slice15],\n",
        "       simple_regret_approx_8[slice15],\n",
        "       simple_regret_approx_9[slice15],\n",
        "       simple_regret_approx_10[slice15],\n",
        "       simple_regret_approx_11[slice15],\n",
        "       simple_regret_approx_12[slice15],\n",
        "       simple_regret_approx_13[slice15],\n",
        "       simple_regret_approx_14[slice15],\n",
        "       simple_regret_approx_15[slice15],\n",
        "       simple_regret_approx_16[slice15],\n",
        "       simple_regret_approx_17[slice15],\n",
        "       simple_regret_approx_18[slice15],\n",
        "       simple_regret_approx_19[slice15],\n",
        "       simple_regret_approx_20[slice15]]\n",
        "\n",
        "exact15 = [simple_regret_exact_1[slice15],\n",
        "       simple_regret_exact_2[slice15],\n",
        "       simple_regret_exact_3[slice15],\n",
        "       simple_regret_exact_4[slice15],\n",
        "       simple_regret_exact_5[slice15],\n",
        "       simple_regret_exact_6[slice15],\n",
        "       simple_regret_exact_7[slice15],\n",
        "       simple_regret_exact_8[slice15],\n",
        "       simple_regret_exact_9[slice15],\n",
        "       simple_regret_exact_10[slice15],\n",
        "       simple_regret_exact_11[slice15],\n",
        "       simple_regret_exact_12[slice15],\n",
        "       simple_regret_exact_13[slice15],\n",
        "       simple_regret_exact_14[slice15],\n",
        "       simple_regret_exact_15[slice15],\n",
        "       simple_regret_exact_16[slice15],\n",
        "       simple_regret_exact_17[slice15],\n",
        "       simple_regret_exact_18[slice15],\n",
        "       simple_regret_exact_19[slice15],\n",
        "       simple_regret_exact_20[slice15]]\n",
        "\n",
        "approx15_results = pd.DataFrame(approx15).sort_values(by=[0], ascending=False)\n",
        "exact15_results = pd.DataFrame(exact15).sort_values(by=[0], ascending=False)\n",
        "\n",
        "### Best simple regret minimization IQR - approx:\n",
        "lower_approx15 = np.asarray(approx15_results[4:5][0])[0]\n",
        "median_approx15 = np.asarray(approx15_results[9:10][0])[0]\n",
        "upper_approx15 = np.asarray(approx15_results[14:15][0])[0]\n",
        "\n",
        "lower_exact15 = np.asarray(exact15_results[4:5][0])[0]\n",
        "median_exact15 = np.asarray(exact15_results[9:10][0])[0]\n",
        "upper_exact15 = np.asarray(exact15_results[14:15][0])[0]"
      ],
      "execution_count": null,
      "outputs": []
    },
    {
      "cell_type": "code",
      "metadata": {
        "id": "KJINKhv1Qxf6"
      },
      "source": [
        "# Iteration6 :\n",
        "\n",
        "slice6 = 5\n",
        "\n",
        "approx6 = [simple_regret_approx_1[slice6],\n",
        "       simple_regret_approx_2[slice6],\n",
        "       simple_regret_approx_3[slice6],\n",
        "       simple_regret_approx_4[slice6],\n",
        "       simple_regret_approx_5[slice6],\n",
        "       simple_regret_approx_6[slice6],\n",
        "       simple_regret_approx_7[slice6],\n",
        "       simple_regret_approx_8[slice6],\n",
        "       simple_regret_approx_9[slice6],\n",
        "       simple_regret_approx_10[slice6],\n",
        "       simple_regret_approx_11[slice6],\n",
        "       simple_regret_approx_12[slice6],\n",
        "       simple_regret_approx_13[slice6],\n",
        "       simple_regret_approx_14[slice6],\n",
        "       simple_regret_approx_15[slice6],\n",
        "       simple_regret_approx_16[slice6],\n",
        "       simple_regret_approx_17[slice6],\n",
        "       simple_regret_approx_18[slice6],\n",
        "       simple_regret_approx_19[slice6],\n",
        "       simple_regret_approx_20[slice6]]\n",
        "\n",
        "exact6 = [simple_regret_exact_1[slice6],\n",
        "       simple_regret_exact_2[slice6],\n",
        "       simple_regret_exact_3[slice6],\n",
        "       simple_regret_exact_4[slice6],\n",
        "       simple_regret_exact_5[slice6],\n",
        "       simple_regret_exact_6[slice6],\n",
        "       simple_regret_exact_7[slice6],\n",
        "       simple_regret_exact_8[slice6],\n",
        "       simple_regret_exact_9[slice6],\n",
        "       simple_regret_exact_10[slice6],\n",
        "       simple_regret_exact_11[slice6],\n",
        "       simple_regret_exact_12[slice6],\n",
        "       simple_regret_exact_13[slice6],\n",
        "       simple_regret_exact_14[slice6],\n",
        "       simple_regret_exact_15[slice6],\n",
        "       simple_regret_exact_16[slice6],\n",
        "       simple_regret_exact_17[slice6],\n",
        "       simple_regret_exact_18[slice6],\n",
        "       simple_regret_exact_19[slice6],\n",
        "       simple_regret_exact_20[slice6]]\n",
        "\n",
        "approx6_results = pd.DataFrame(approx6).sort_values(by=[0], ascending=False)\n",
        "exact6_results = pd.DataFrame(exact6).sort_values(by=[0], ascending=False)\n",
        "\n",
        "### Best simple regret minimization IQR - approx:\n",
        "lower_approx6 = np.asarray(approx6_results[4:5][0])[0]\n",
        "median_approx6 = np.asarray(approx6_results[9:10][0])[0]\n",
        "upper_approx6 = np.asarray(approx6_results[14:15][0])[0]\n",
        "\n",
        "lower_exact6 = np.asarray(exact6_results[4:5][0])[0]\n",
        "median_exact6 = np.asarray(exact6_results[9:10][0])[0]\n",
        "upper_exact6 = np.asarray(exact6_results[14:15][0])[0]"
      ],
      "execution_count": null,
      "outputs": []
    },
    {
      "cell_type": "code",
      "metadata": {
        "id": "nwC5N1FsQxf7"
      },
      "source": [
        "# Iteration16 :\n",
        "\n",
        "slice16 = 15\n",
        "\n",
        "approx16 = [simple_regret_approx_1[slice16],\n",
        "       simple_regret_approx_2[slice16],\n",
        "       simple_regret_approx_3[slice16],\n",
        "       simple_regret_approx_4[slice16],\n",
        "       simple_regret_approx_5[slice16],\n",
        "       simple_regret_approx_6[slice16],\n",
        "       simple_regret_approx_7[slice16],\n",
        "       simple_regret_approx_8[slice16],\n",
        "       simple_regret_approx_9[slice16],\n",
        "       simple_regret_approx_10[slice16],\n",
        "       simple_regret_approx_11[slice16],\n",
        "       simple_regret_approx_12[slice16],\n",
        "       simple_regret_approx_13[slice16],\n",
        "       simple_regret_approx_14[slice16],\n",
        "       simple_regret_approx_15[slice16],\n",
        "       simple_regret_approx_16[slice16],\n",
        "       simple_regret_approx_17[slice16],\n",
        "       simple_regret_approx_18[slice16],\n",
        "       simple_regret_approx_19[slice16],\n",
        "       simple_regret_approx_20[slice16]]\n",
        "\n",
        "exact16 = [simple_regret_exact_1[slice16],\n",
        "       simple_regret_exact_2[slice16],\n",
        "       simple_regret_exact_3[slice16],\n",
        "       simple_regret_exact_4[slice16],\n",
        "       simple_regret_exact_5[slice16],\n",
        "       simple_regret_exact_6[slice16],\n",
        "       simple_regret_exact_7[slice16],\n",
        "       simple_regret_exact_8[slice16],\n",
        "       simple_regret_exact_9[slice16],\n",
        "       simple_regret_exact_10[slice16],\n",
        "       simple_regret_exact_11[slice16],\n",
        "       simple_regret_exact_12[slice16],\n",
        "       simple_regret_exact_13[slice16],\n",
        "       simple_regret_exact_14[slice16],\n",
        "       simple_regret_exact_15[slice16],\n",
        "       simple_regret_exact_16[slice16],\n",
        "       simple_regret_exact_17[slice16],\n",
        "       simple_regret_exact_18[slice16],\n",
        "       simple_regret_exact_19[slice16],\n",
        "       simple_regret_exact_20[slice16]]\n",
        "\n",
        "approx16_results = pd.DataFrame(approx16).sort_values(by=[0], ascending=False)\n",
        "exact16_results = pd.DataFrame(exact16).sort_values(by=[0], ascending=False)\n",
        "\n",
        "### Best simple regret minimization IQR - approx:\n",
        "lower_approx16 = np.asarray(approx16_results[4:5][0])[0]\n",
        "median_approx16 = np.asarray(approx16_results[9:10][0])[0]\n",
        "upper_approx16 = np.asarray(approx16_results[14:15][0])[0]\n",
        "\n",
        "lower_exact16 = np.asarray(exact16_results[4:5][0])[0]\n",
        "median_exact16 = np.asarray(exact16_results[9:10][0])[0]\n",
        "upper_exact16 = np.asarray(exact16_results[14:15][0])[0]"
      ],
      "execution_count": null,
      "outputs": []
    },
    {
      "cell_type": "code",
      "metadata": {
        "id": "TrPV0AfnQxf7"
      },
      "source": [
        "# Iteration7 :\n",
        "\n",
        "slice7 = 6\n",
        "\n",
        "approx7 = [simple_regret_approx_1[slice7],\n",
        "       simple_regret_approx_2[slice7],\n",
        "       simple_regret_approx_3[slice7],\n",
        "       simple_regret_approx_4[slice7],\n",
        "       simple_regret_approx_5[slice7],\n",
        "       simple_regret_approx_6[slice7],\n",
        "       simple_regret_approx_7[slice7],\n",
        "       simple_regret_approx_8[slice7],\n",
        "       simple_regret_approx_9[slice7],\n",
        "       simple_regret_approx_10[slice7],\n",
        "       simple_regret_approx_11[slice7],\n",
        "       simple_regret_approx_12[slice7],\n",
        "       simple_regret_approx_13[slice7],\n",
        "       simple_regret_approx_14[slice7],\n",
        "       simple_regret_approx_15[slice7],\n",
        "       simple_regret_approx_16[slice7],\n",
        "       simple_regret_approx_17[slice7],\n",
        "       simple_regret_approx_18[slice7],\n",
        "       simple_regret_approx_19[slice7],\n",
        "       simple_regret_approx_20[slice7]]\n",
        "\n",
        "exact7 = [simple_regret_exact_1[slice7],\n",
        "       simple_regret_exact_2[slice7],\n",
        "       simple_regret_exact_3[slice7],\n",
        "       simple_regret_exact_4[slice7],\n",
        "       simple_regret_exact_5[slice7],\n",
        "       simple_regret_exact_6[slice7],\n",
        "       simple_regret_exact_7[slice7],\n",
        "       simple_regret_exact_8[slice7],\n",
        "       simple_regret_exact_9[slice7],\n",
        "       simple_regret_exact_10[slice7],\n",
        "       simple_regret_exact_11[slice7],\n",
        "       simple_regret_exact_12[slice7],\n",
        "       simple_regret_exact_13[slice7],\n",
        "       simple_regret_exact_14[slice7],\n",
        "       simple_regret_exact_15[slice7],\n",
        "       simple_regret_exact_16[slice7],\n",
        "       simple_regret_exact_17[slice7],\n",
        "       simple_regret_exact_18[slice7],\n",
        "       simple_regret_exact_19[slice7],\n",
        "       simple_regret_exact_20[slice7]]\n",
        "\n",
        "approx7_results = pd.DataFrame(approx7).sort_values(by=[0], ascending=False)\n",
        "exact7_results = pd.DataFrame(exact7).sort_values(by=[0], ascending=False)\n",
        "\n",
        "### Best simple regret minimization IQR - approx:\n",
        "lower_approx7 = np.asarray(approx7_results[4:5][0])[0]\n",
        "median_approx7 = np.asarray(approx7_results[9:10][0])[0]\n",
        "upper_approx7 = np.asarray(approx7_results[14:15][0])[0]\n",
        "\n",
        "lower_exact7 = np.asarray(exact7_results[4:5][0])[0]\n",
        "median_exact7 = np.asarray(exact7_results[9:10][0])[0]\n",
        "upper_exact7 = np.asarray(exact7_results[14:15][0])[0]"
      ],
      "execution_count": null,
      "outputs": []
    },
    {
      "cell_type": "code",
      "metadata": {
        "id": "Ub_-wpK4Qxf8"
      },
      "source": [
        "# Iteration17 :\n",
        "\n",
        "slice17 = 16\n",
        "\n",
        "approx17 = [simple_regret_approx_1[slice17],\n",
        "       simple_regret_approx_2[slice17],\n",
        "       simple_regret_approx_3[slice17],\n",
        "       simple_regret_approx_4[slice17],\n",
        "       simple_regret_approx_5[slice17],\n",
        "       simple_regret_approx_6[slice17],\n",
        "       simple_regret_approx_7[slice17],\n",
        "       simple_regret_approx_8[slice17],\n",
        "       simple_regret_approx_9[slice17],\n",
        "       simple_regret_approx_10[slice17],\n",
        "       simple_regret_approx_11[slice17],\n",
        "       simple_regret_approx_12[slice17],\n",
        "       simple_regret_approx_13[slice17],\n",
        "       simple_regret_approx_14[slice17],\n",
        "       simple_regret_approx_15[slice17],\n",
        "       simple_regret_approx_16[slice17],\n",
        "       simple_regret_approx_17[slice17],\n",
        "       simple_regret_approx_18[slice17],\n",
        "       simple_regret_approx_19[slice17],\n",
        "       simple_regret_approx_20[slice17]]\n",
        "\n",
        "exact17 = [simple_regret_exact_1[slice17],\n",
        "       simple_regret_exact_2[slice17],\n",
        "       simple_regret_exact_3[slice17],\n",
        "       simple_regret_exact_4[slice17],\n",
        "       simple_regret_exact_5[slice17],\n",
        "       simple_regret_exact_6[slice17],\n",
        "       simple_regret_exact_7[slice17],\n",
        "       simple_regret_exact_8[slice17],\n",
        "       simple_regret_exact_9[slice17],\n",
        "       simple_regret_exact_10[slice17],\n",
        "       simple_regret_exact_11[slice17],\n",
        "       simple_regret_exact_12[slice17],\n",
        "       simple_regret_exact_13[slice17],\n",
        "       simple_regret_exact_14[slice17],\n",
        "       simple_regret_exact_15[slice17],\n",
        "       simple_regret_exact_16[slice17],\n",
        "       simple_regret_exact_17[slice17],\n",
        "       simple_regret_exact_18[slice17],\n",
        "       simple_regret_exact_19[slice17],\n",
        "       simple_regret_exact_20[slice17]]\n",
        "\n",
        "approx17_results = pd.DataFrame(approx17).sort_values(by=[0], ascending=False)\n",
        "exact17_results = pd.DataFrame(exact17).sort_values(by=[0], ascending=False)\n",
        "\n",
        "### Best simple regret minimization IQR - approx:\n",
        "lower_approx17 = np.asarray(approx17_results[4:5][0])[0]\n",
        "median_approx17 = np.asarray(approx17_results[9:10][0])[0]\n",
        "upper_approx17 = np.asarray(approx17_results[14:15][0])[0]\n",
        "\n",
        "lower_exact17 = np.asarray(exact17_results[4:5][0])[0]\n",
        "median_exact17 = np.asarray(exact17_results[9:10][0])[0]\n",
        "upper_exact17 = np.asarray(exact17_results[14:15][0])[0]"
      ],
      "execution_count": null,
      "outputs": []
    },
    {
      "cell_type": "code",
      "metadata": {
        "id": "-6VLo37PQxf8"
      },
      "source": [
        "# Iteration8 :\n",
        "\n",
        "slice8 = 7\n",
        "\n",
        "approx8 = [simple_regret_approx_1[slice8],\n",
        "       simple_regret_approx_2[slice8],\n",
        "       simple_regret_approx_3[slice8],\n",
        "       simple_regret_approx_4[slice8],\n",
        "       simple_regret_approx_5[slice8],\n",
        "       simple_regret_approx_6[slice8],\n",
        "       simple_regret_approx_7[slice8],\n",
        "       simple_regret_approx_8[slice8],\n",
        "       simple_regret_approx_9[slice8],\n",
        "       simple_regret_approx_10[slice8],\n",
        "       simple_regret_approx_11[slice8],\n",
        "       simple_regret_approx_12[slice8],\n",
        "       simple_regret_approx_13[slice8],\n",
        "       simple_regret_approx_14[slice8],\n",
        "       simple_regret_approx_15[slice8],\n",
        "       simple_regret_approx_16[slice8],\n",
        "       simple_regret_approx_17[slice8],\n",
        "       simple_regret_approx_18[slice8],\n",
        "       simple_regret_approx_19[slice8],\n",
        "       simple_regret_approx_20[slice8]]\n",
        "\n",
        "exact8 = [simple_regret_exact_1[slice8],\n",
        "       simple_regret_exact_2[slice8],\n",
        "       simple_regret_exact_3[slice8],\n",
        "       simple_regret_exact_4[slice8],\n",
        "       simple_regret_exact_5[slice8],\n",
        "       simple_regret_exact_6[slice8],\n",
        "       simple_regret_exact_7[slice8],\n",
        "       simple_regret_exact_8[slice8],\n",
        "       simple_regret_exact_9[slice8],\n",
        "       simple_regret_exact_10[slice8],\n",
        "       simple_regret_exact_11[slice8],\n",
        "       simple_regret_exact_12[slice8],\n",
        "       simple_regret_exact_13[slice8],\n",
        "       simple_regret_exact_14[slice8],\n",
        "       simple_regret_exact_15[slice8],\n",
        "       simple_regret_exact_16[slice8],\n",
        "       simple_regret_exact_17[slice8],\n",
        "       simple_regret_exact_18[slice8],\n",
        "       simple_regret_exact_19[slice8],\n",
        "       simple_regret_exact_20[slice8]]\n",
        "\n",
        "approx8_results = pd.DataFrame(approx8).sort_values(by=[0], ascending=False)\n",
        "exact8_results = pd.DataFrame(exact8).sort_values(by=[0], ascending=False)\n",
        "\n",
        "### Best simple regret minimization IQR - approx:\n",
        "lower_approx8 = np.asarray(approx8_results[4:5][0])[0]\n",
        "median_approx8 = np.asarray(approx8_results[9:10][0])[0]\n",
        "upper_approx8 = np.asarray(approx8_results[14:15][0])[0]\n",
        "\n",
        "lower_exact8 = np.asarray(exact8_results[4:5][0])[0]\n",
        "median_exact8 = np.asarray(exact8_results[9:10][0])[0]\n",
        "upper_exact8 = np.asarray(exact8_results[14:15][0])[0]"
      ],
      "execution_count": null,
      "outputs": []
    },
    {
      "cell_type": "code",
      "metadata": {
        "id": "2Dp-9CC2Qxf9"
      },
      "source": [
        "# Iteration18 :\n",
        "\n",
        "slice18 = 17\n",
        "\n",
        "approx18 = [simple_regret_approx_1[slice18],\n",
        "       simple_regret_approx_2[slice18],\n",
        "       simple_regret_approx_3[slice18],\n",
        "       simple_regret_approx_4[slice18],\n",
        "       simple_regret_approx_5[slice18],\n",
        "       simple_regret_approx_6[slice18],\n",
        "       simple_regret_approx_7[slice18],\n",
        "       simple_regret_approx_8[slice18],\n",
        "       simple_regret_approx_9[slice18],\n",
        "       simple_regret_approx_10[slice18],\n",
        "       simple_regret_approx_11[slice18],\n",
        "       simple_regret_approx_12[slice18],\n",
        "       simple_regret_approx_13[slice18],\n",
        "       simple_regret_approx_14[slice18],\n",
        "       simple_regret_approx_15[slice18],\n",
        "       simple_regret_approx_16[slice18],\n",
        "       simple_regret_approx_17[slice18],\n",
        "       simple_regret_approx_18[slice18],\n",
        "       simple_regret_approx_19[slice18],\n",
        "       simple_regret_approx_20[slice18]]\n",
        "\n",
        "exact18 = [simple_regret_exact_1[slice18],\n",
        "       simple_regret_exact_2[slice18],\n",
        "       simple_regret_exact_3[slice18],\n",
        "       simple_regret_exact_4[slice18],\n",
        "       simple_regret_exact_5[slice18],\n",
        "       simple_regret_exact_6[slice18],\n",
        "       simple_regret_exact_7[slice18],\n",
        "       simple_regret_exact_8[slice18],\n",
        "       simple_regret_exact_9[slice18],\n",
        "       simple_regret_exact_10[slice18],\n",
        "       simple_regret_exact_11[slice18],\n",
        "       simple_regret_exact_12[slice18],\n",
        "       simple_regret_exact_13[slice18],\n",
        "       simple_regret_exact_14[slice18],\n",
        "       simple_regret_exact_15[slice18],\n",
        "       simple_regret_exact_16[slice18],\n",
        "       simple_regret_exact_17[slice18],\n",
        "       simple_regret_exact_18[slice18],\n",
        "       simple_regret_exact_19[slice18],\n",
        "       simple_regret_exact_20[slice18]]\n",
        "\n",
        "approx18_results = pd.DataFrame(approx18).sort_values(by=[0], ascending=False)\n",
        "exact18_results = pd.DataFrame(exact18).sort_values(by=[0], ascending=False)\n",
        "\n",
        "### Best simple regret minimization IQR - approx:\n",
        "lower_approx18 = np.asarray(approx18_results[4:5][0])[0]\n",
        "median_approx18 = np.asarray(approx18_results[9:10][0])[0]\n",
        "upper_approx18 = np.asarray(approx18_results[14:15][0])[0]\n",
        "\n",
        "lower_exact18 = np.asarray(exact18_results[4:5][0])[0]\n",
        "median_exact18 = np.asarray(exact18_results[9:10][0])[0]\n",
        "upper_exact18 = np.asarray(exact18_results[14:15][0])[0]"
      ],
      "execution_count": null,
      "outputs": []
    },
    {
      "cell_type": "code",
      "metadata": {
        "id": "SqiaOpB7Qxf9"
      },
      "source": [
        "# Iteration9 :\n",
        "\n",
        "slice9 = 8\n",
        "\n",
        "approx9 = [simple_regret_approx_1[slice9],\n",
        "       simple_regret_approx_2[slice9],\n",
        "       simple_regret_approx_3[slice9],\n",
        "       simple_regret_approx_4[slice9],\n",
        "       simple_regret_approx_5[slice9],\n",
        "       simple_regret_approx_6[slice9],\n",
        "       simple_regret_approx_7[slice9],\n",
        "       simple_regret_approx_8[slice9],\n",
        "       simple_regret_approx_9[slice9],\n",
        "       simple_regret_approx_10[slice9],\n",
        "       simple_regret_approx_11[slice9],\n",
        "       simple_regret_approx_12[slice9],\n",
        "       simple_regret_approx_13[slice9],\n",
        "       simple_regret_approx_14[slice9],\n",
        "       simple_regret_approx_15[slice9],\n",
        "       simple_regret_approx_16[slice9],\n",
        "       simple_regret_approx_17[slice9],\n",
        "       simple_regret_approx_18[slice9],\n",
        "       simple_regret_approx_19[slice9],\n",
        "       simple_regret_approx_20[slice9]]\n",
        "\n",
        "exact9 = [simple_regret_exact_1[slice9],\n",
        "       simple_regret_exact_2[slice9],\n",
        "       simple_regret_exact_3[slice9],\n",
        "       simple_regret_exact_4[slice9],\n",
        "       simple_regret_exact_5[slice9],\n",
        "       simple_regret_exact_6[slice9],\n",
        "       simple_regret_exact_7[slice9],\n",
        "       simple_regret_exact_8[slice9],\n",
        "       simple_regret_exact_9[slice9],\n",
        "       simple_regret_exact_10[slice9],\n",
        "       simple_regret_exact_11[slice9],\n",
        "       simple_regret_exact_12[slice9],\n",
        "       simple_regret_exact_13[slice9],\n",
        "       simple_regret_exact_14[slice9],\n",
        "       simple_regret_exact_15[slice9],\n",
        "       simple_regret_exact_16[slice9],\n",
        "       simple_regret_exact_17[slice9],\n",
        "       simple_regret_exact_18[slice9],\n",
        "       simple_regret_exact_19[slice9],\n",
        "       simple_regret_exact_20[slice9]]\n",
        "\n",
        "approx9_results = pd.DataFrame(approx9).sort_values(by=[0], ascending=False)\n",
        "exact9_results = pd.DataFrame(exact9).sort_values(by=[0], ascending=False)\n",
        "\n",
        "### Best simple regret minimization IQR - approx:\n",
        "lower_approx9 = np.asarray(approx9_results[4:5][0])[0]\n",
        "median_approx9 = np.asarray(approx9_results[9:10][0])[0]\n",
        "upper_approx9 = np.asarray(approx9_results[14:15][0])[0]\n",
        "\n",
        "lower_exact9 = np.asarray(exact9_results[4:5][0])[0]\n",
        "median_exact9 = np.asarray(exact9_results[9:10][0])[0]\n",
        "upper_exact9 = np.asarray(exact9_results[14:15][0])[0]"
      ],
      "execution_count": null,
      "outputs": []
    },
    {
      "cell_type": "code",
      "metadata": {
        "id": "OQkCCOsPQxf9"
      },
      "source": [
        "# Iteration19 :\n",
        "\n",
        "slice19 = 18\n",
        "\n",
        "approx19 = [simple_regret_approx_1[slice19],\n",
        "       simple_regret_approx_2[slice19],\n",
        "       simple_regret_approx_3[slice19],\n",
        "       simple_regret_approx_4[slice19],\n",
        "       simple_regret_approx_5[slice19],\n",
        "       simple_regret_approx_6[slice19],\n",
        "       simple_regret_approx_7[slice19],\n",
        "       simple_regret_approx_8[slice19],\n",
        "       simple_regret_approx_9[slice19],\n",
        "       simple_regret_approx_10[slice19],\n",
        "       simple_regret_approx_11[slice19],\n",
        "       simple_regret_approx_12[slice19],\n",
        "       simple_regret_approx_13[slice19],\n",
        "       simple_regret_approx_14[slice19],\n",
        "       simple_regret_approx_15[slice19],\n",
        "       simple_regret_approx_16[slice19],\n",
        "       simple_regret_approx_17[slice19],\n",
        "       simple_regret_approx_18[slice19],\n",
        "       simple_regret_approx_19[slice19],\n",
        "       simple_regret_approx_20[slice19]]\n",
        "\n",
        "exact19 = [simple_regret_exact_1[slice19],\n",
        "       simple_regret_exact_2[slice19],\n",
        "       simple_regret_exact_3[slice19],\n",
        "       simple_regret_exact_4[slice19],\n",
        "       simple_regret_exact_5[slice19],\n",
        "       simple_regret_exact_6[slice19],\n",
        "       simple_regret_exact_7[slice19],\n",
        "       simple_regret_exact_8[slice19],\n",
        "       simple_regret_exact_9[slice19],\n",
        "       simple_regret_exact_10[slice19],\n",
        "       simple_regret_exact_11[slice19],\n",
        "       simple_regret_exact_12[slice19],\n",
        "       simple_regret_exact_13[slice19],\n",
        "       simple_regret_exact_14[slice19],\n",
        "       simple_regret_exact_15[slice19],\n",
        "       simple_regret_exact_16[slice19],\n",
        "       simple_regret_exact_17[slice19],\n",
        "       simple_regret_exact_18[slice19],\n",
        "       simple_regret_exact_19[slice19],\n",
        "       simple_regret_exact_20[slice19]]\n",
        "\n",
        "approx19_results = pd.DataFrame(approx19).sort_values(by=[0], ascending=False)\n",
        "exact19_results = pd.DataFrame(exact19).sort_values(by=[0], ascending=False)\n",
        "\n",
        "### Best simple regret minimization IQR - approx:\n",
        "lower_approx19 = np.asarray(approx19_results[4:5][0])[0]\n",
        "median_approx19 = np.asarray(approx19_results[9:10][0])[0]\n",
        "upper_approx19 = np.asarray(approx19_results[14:15][0])[0]\n",
        "\n",
        "lower_exact19 = np.asarray(exact19_results[4:5][0])[0]\n",
        "median_exact19 = np.asarray(exact19_results[9:10][0])[0]\n",
        "upper_exact19 = np.asarray(exact19_results[14:15][0])[0]"
      ],
      "execution_count": null,
      "outputs": []
    },
    {
      "cell_type": "code",
      "metadata": {
        "id": "h4vtWahcQxf-"
      },
      "source": [
        "# Iteration10 :\n",
        "\n",
        "slice10 = 9\n",
        "\n",
        "approx10 = [simple_regret_approx_1[slice10],\n",
        "       simple_regret_approx_2[slice10],\n",
        "       simple_regret_approx_3[slice10],\n",
        "       simple_regret_approx_4[slice10],\n",
        "       simple_regret_approx_5[slice10],\n",
        "       simple_regret_approx_6[slice10],\n",
        "       simple_regret_approx_7[slice10],\n",
        "       simple_regret_approx_8[slice10],\n",
        "       simple_regret_approx_9[slice10],\n",
        "       simple_regret_approx_10[slice10],\n",
        "       simple_regret_approx_11[slice10],\n",
        "       simple_regret_approx_12[slice10],\n",
        "       simple_regret_approx_13[slice10],\n",
        "       simple_regret_approx_14[slice10],\n",
        "       simple_regret_approx_15[slice10],\n",
        "       simple_regret_approx_16[slice10],\n",
        "       simple_regret_approx_17[slice10],\n",
        "       simple_regret_approx_18[slice10],\n",
        "       simple_regret_approx_19[slice10],\n",
        "       simple_regret_approx_20[slice10]]\n",
        "\n",
        "exact10 = [simple_regret_exact_1[slice10],\n",
        "       simple_regret_exact_2[slice10],\n",
        "       simple_regret_exact_3[slice10],\n",
        "       simple_regret_exact_4[slice10],\n",
        "       simple_regret_exact_5[slice10],\n",
        "       simple_regret_exact_6[slice10],\n",
        "       simple_regret_exact_7[slice10],\n",
        "       simple_regret_exact_8[slice10],\n",
        "       simple_regret_exact_9[slice10],\n",
        "       simple_regret_exact_10[slice10],\n",
        "       simple_regret_exact_11[slice10],\n",
        "       simple_regret_exact_12[slice10],\n",
        "       simple_regret_exact_13[slice10],\n",
        "       simple_regret_exact_14[slice10],\n",
        "       simple_regret_exact_15[slice10],\n",
        "       simple_regret_exact_16[slice10],\n",
        "       simple_regret_exact_17[slice10],\n",
        "       simple_regret_exact_18[slice10],\n",
        "       simple_regret_exact_19[slice10],\n",
        "       simple_regret_exact_20[slice10]]\n",
        "\n",
        "approx10_results = pd.DataFrame(approx10).sort_values(by=[0], ascending=False)\n",
        "exact10_results = pd.DataFrame(exact10).sort_values(by=[0], ascending=False)\n",
        "\n",
        "### Best simple regret minimization IQR - approx:\n",
        "lower_approx10 = np.asarray(approx10_results[4:5][0])[0]\n",
        "median_approx10 = np.asarray(approx10_results[9:10][0])[0]\n",
        "upper_approx10 = np.asarray(approx10_results[14:15][0])[0]\n",
        "\n",
        "lower_exact10 = np.asarray(exact10_results[4:5][0])[0]\n",
        "median_exact10 = np.asarray(exact10_results[9:10][0])[0]\n",
        "upper_exact10 = np.asarray(exact10_results[14:15][0])[0]"
      ],
      "execution_count": null,
      "outputs": []
    },
    {
      "cell_type": "code",
      "metadata": {
        "id": "Rsf240pWQxf-"
      },
      "source": [
        "# Iteration20 :\n",
        "\n",
        "slice20 = 19\n",
        "\n",
        "approx20 = [simple_regret_approx_1[slice20],\n",
        "       simple_regret_approx_2[slice20],\n",
        "       simple_regret_approx_3[slice20],\n",
        "       simple_regret_approx_4[slice20],\n",
        "       simple_regret_approx_5[slice20],\n",
        "       simple_regret_approx_6[slice20],\n",
        "       simple_regret_approx_7[slice20],\n",
        "       simple_regret_approx_8[slice20],\n",
        "       simple_regret_approx_9[slice20],\n",
        "       simple_regret_approx_10[slice20],\n",
        "       simple_regret_approx_11[slice20],\n",
        "       simple_regret_approx_12[slice20],\n",
        "       simple_regret_approx_13[slice20],\n",
        "       simple_regret_approx_14[slice20],\n",
        "       simple_regret_approx_15[slice20],\n",
        "       simple_regret_approx_16[slice20],\n",
        "       simple_regret_approx_17[slice20],\n",
        "       simple_regret_approx_18[slice20],\n",
        "       simple_regret_approx_19[slice20],\n",
        "       simple_regret_approx_20[slice20]]\n",
        "\n",
        "exact20 = [simple_regret_exact_1[slice20],\n",
        "       simple_regret_exact_2[slice20],\n",
        "       simple_regret_exact_3[slice20],\n",
        "       simple_regret_exact_4[slice20],\n",
        "       simple_regret_exact_5[slice20],\n",
        "       simple_regret_exact_6[slice20],\n",
        "       simple_regret_exact_7[slice20],\n",
        "       simple_regret_exact_8[slice20],\n",
        "       simple_regret_exact_9[slice20],\n",
        "       simple_regret_exact_10[slice20],\n",
        "       simple_regret_exact_11[slice20],\n",
        "       simple_regret_exact_12[slice20],\n",
        "       simple_regret_exact_13[slice20],\n",
        "       simple_regret_exact_14[slice20],\n",
        "       simple_regret_exact_15[slice20],\n",
        "       simple_regret_exact_16[slice20],\n",
        "       simple_regret_exact_17[slice20],\n",
        "       simple_regret_exact_18[slice20],\n",
        "       simple_regret_exact_19[slice20],\n",
        "       simple_regret_exact_20[slice20]]\n",
        "\n",
        "approx20_results = pd.DataFrame(approx20).sort_values(by=[0], ascending=False)\n",
        "exact20_results = pd.DataFrame(exact20).sort_values(by=[0], ascending=False)\n",
        "\n",
        "### Best simple regret minimization IQR - approx:\n",
        "lower_approx20 = np.asarray(approx20_results[4:5][0])[0]\n",
        "median_approx20 = np.asarray(approx20_results[9:10][0])[0]\n",
        "upper_approx20 = np.asarray(approx20_results[14:15][0])[0]\n",
        "\n",
        "lower_exact20 = np.asarray(exact20_results[4:5][0])[0]\n",
        "median_exact20 = np.asarray(exact20_results[9:10][0])[0]\n",
        "upper_exact20 = np.asarray(exact20_results[14:15][0])[0]"
      ],
      "execution_count": null,
      "outputs": []
    },
    {
      "cell_type": "code",
      "metadata": {
        "id": "gn36RejbQxf_"
      },
      "source": [
        "### Summarize arrays: 'Loser'\n",
        "\n",
        "lower_approx = [lower_approx1,\n",
        "            lower_approx2,\n",
        "            lower_approx3,\n",
        "            lower_approx4,\n",
        "            lower_approx5,\n",
        "            lower_approx6,\n",
        "            lower_approx7,\n",
        "            lower_approx8,\n",
        "            lower_approx9,\n",
        "            lower_approx10,\n",
        "            lower_approx11,\n",
        "            lower_approx12,\n",
        "            lower_approx13,\n",
        "            lower_approx14,\n",
        "            lower_approx15,\n",
        "            lower_approx16,\n",
        "            lower_approx17,\n",
        "            lower_approx18,\n",
        "            lower_approx19,\n",
        "            lower_approx20,\n",
        "            lower_approx21]\n",
        "\n",
        "median_approx = [median_approx1,\n",
        "            median_approx2,\n",
        "            median_approx3,\n",
        "            median_approx4,\n",
        "            median_approx5,\n",
        "            median_approx6,\n",
        "            median_approx7,\n",
        "            median_approx8,\n",
        "            median_approx9,\n",
        "            median_approx10,\n",
        "            median_approx11,\n",
        "            median_approx12,\n",
        "            median_approx13,\n",
        "            median_approx14,\n",
        "            median_approx15,\n",
        "            median_approx16,\n",
        "            median_approx17,\n",
        "            median_approx18,\n",
        "            median_approx19,\n",
        "            median_approx20,\n",
        "            median_approx21]\n",
        "\n",
        "upper_approx = [upper_approx1,\n",
        "            upper_approx2,\n",
        "            upper_approx3,\n",
        "            upper_approx4,\n",
        "            upper_approx5,\n",
        "            upper_approx6,\n",
        "            upper_approx7,\n",
        "            upper_approx8,\n",
        "            upper_approx9,\n",
        "            upper_approx10,\n",
        "            upper_approx11,\n",
        "            upper_approx12,\n",
        "            upper_approx13,\n",
        "            upper_approx14,\n",
        "            upper_approx15,\n",
        "            upper_approx16,\n",
        "            upper_approx17,\n",
        "            upper_approx18,\n",
        "            upper_approx19,\n",
        "            upper_approx20,\n",
        "            upper_approx21]"
      ],
      "execution_count": null,
      "outputs": []
    },
    {
      "cell_type": "code",
      "metadata": {
        "id": "wxtGTOYfQxf_"
      },
      "source": [
        "### Summarize arrays: 'exact'\n",
        "\n",
        "lower_exact = [lower_exact1,\n",
        "            lower_exact2,\n",
        "            lower_exact3,\n",
        "            lower_exact4,\n",
        "            lower_exact5,\n",
        "            lower_exact6,\n",
        "            lower_exact7,\n",
        "            lower_exact8,\n",
        "            lower_exact9,\n",
        "            lower_exact10,\n",
        "            lower_exact11,\n",
        "            lower_exact12,\n",
        "            lower_exact13,\n",
        "            lower_exact14,\n",
        "            lower_exact15,\n",
        "            lower_exact16,\n",
        "            lower_exact17,\n",
        "            lower_exact18,\n",
        "            lower_exact19,\n",
        "            lower_exact20,\n",
        "            lower_exact21]\n",
        "\n",
        "median_exact = [median_exact1,\n",
        "            median_exact2,\n",
        "            median_exact3,\n",
        "            median_exact4,\n",
        "            median_exact5,\n",
        "            median_exact6,\n",
        "            median_exact7,\n",
        "            median_exact8,\n",
        "            median_exact9,\n",
        "            median_exact10,\n",
        "            median_exact11,\n",
        "            median_exact12,\n",
        "            median_exact13,\n",
        "            median_exact14,\n",
        "            median_exact15,\n",
        "            median_exact16,\n",
        "            median_exact17,\n",
        "            median_exact18,\n",
        "            median_exact19,\n",
        "            median_exact20,\n",
        "            median_exact21]\n",
        "\n",
        "upper_exact = [upper_exact1,\n",
        "            upper_exact2,\n",
        "            upper_exact3,\n",
        "            upper_exact4,\n",
        "            upper_exact5,\n",
        "            upper_exact6,\n",
        "            upper_exact7,\n",
        "            upper_exact8,\n",
        "            upper_exact9,\n",
        "            upper_exact10,\n",
        "            upper_exact11,\n",
        "            upper_exact12,\n",
        "            upper_exact13,\n",
        "            upper_exact14,\n",
        "            upper_exact15,\n",
        "            upper_exact16,\n",
        "            upper_exact17,\n",
        "            upper_exact18,\n",
        "            upper_exact19,\n",
        "            upper_exact20,\n",
        "            upper_exact21]"
      ],
      "execution_count": null,
      "outputs": []
    },
    {
      "cell_type": "code",
      "metadata": {
        "colab": {
          "base_uri": "https://localhost:8080/",
          "height": 333
        },
        "id": "2MONq-BXQxgA",
        "outputId": "4ca892fa-4bd1-462f-bca9-7b83efd00e4e"
      },
      "source": [
        "### Visualize!\n",
        "\n",
        "title = 'Rastrigin'\n",
        "\n",
        "plt.figure()\n",
        "\n",
        "plt.plot(median_approx, color = 'Green')\n",
        "plt.plot(median_exact, color = 'Red')\n",
        "\n",
        "xstar = np.arange(0, iters+1, step=1)\n",
        "plt.fill_between(xstar, lower_approx, upper_approx, facecolor = 'Green', alpha=0.4, label='GP EI Regret IQR')\n",
        "plt.fill_between(xstar, lower_exact, upper_exact, facecolor = 'Red', alpha=0.4, label='GP dEI Regret IQR')\n",
        "\n",
        "plt.title(title, weight = 'bold', family = 'Arial')\n",
        "plt.xlabel('(Post-initialization) iteration $\\it{k}$', weight = 'bold', family = 'Arial') \n",
        "plt.ylabel('log(Regret)', weight = 'bold', family = 'Arial') \n",
        "plt.legend(loc=1) # add plot legend\n",
        "\n",
        "### Make the x-ticks integers, not floats:\n",
        "count = len(xstar)\n",
        "plt.xticks(np.arange(count), np.arange(0, count))\n",
        "plt.show() #visualize!"
      ],
      "execution_count": null,
      "outputs": [
        {
          "output_type": "stream",
          "text": [
            "findfont: Font family ['Arial'] not found. Falling back to DejaVu Sans.\n",
            "findfont: Font family ['Arial'] not found. Falling back to DejaVu Sans.\n"
          ],
          "name": "stderr"
        },
        {
          "output_type": "display_data",
          "data": {
            "image/png": "[encoded data removed]",
            "text/plain": [
              "<Figure size 432x288 with 1 Axes>"
            ]
          },
          "metadata": {
            "tags": [],
            "needs_background": "light"
          }
        }
      ]
    },
    {
      "cell_type": "code",
      "metadata": {
        "id": "l5dkR2Id2oiu",
        "colab": {
          "base_uri": "https://localhost:8080/"
        },
        "outputId": "cdf8e430-48db-48d3-ef17-d786dd494e60"
      },
      "source": [
        "time_approx, time_exact"
      ],
      "execution_count": null,
      "outputs": [
        {
          "output_type": "execute_result",
          "data": {
            "text/plain": [
              "(814.9613211154938, 82.01042890548706)"
            ]
          },
          "metadata": {
            "tags": []
          },
          "execution_count": 98
        }
      ]
    },
    {
      "cell_type": "code",
      "metadata": {
        "id": "S0akyeonTANL"
      },
      "source": [
        ""
      ],
      "execution_count": null,
      "outputs": []
    }
  ]
}
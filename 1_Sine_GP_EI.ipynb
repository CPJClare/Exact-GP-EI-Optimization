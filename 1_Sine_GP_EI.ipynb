{
  "nbformat": 4,
  "nbformat_minor": 0,
  "metadata": {
    "colab": {
      "name": "1_Sine_GP_EI.ipynb",
      "provenance": [],
      "collapsed_sections": []
    },
    "kernelspec": {
      "name": "python3",
      "display_name": "Python 3"
    },
    "language_info": {
      "name": "python"
    }
  },
  "cells": [
    {
      "cell_type": "markdown",
      "metadata": {
        "id": "Dqn4dFx7Z2Ir"
      },
      "source": [
        "Sine:\n",
        "\n",
        "GP EI: exact GP dEI Jacobian vs. estimated GP EI Jacobian"
      ]
    },
    {
      "cell_type": "code",
      "metadata": {
        "id": "MJTM_GZZZb5x"
      },
      "source": [
        "pip install pyGPGO\n"
      ],
      "execution_count": 46,
      "outputs": []
    },
    {
      "cell_type": "code",
      "metadata": {
        "id": "ZJSSPbwPaEUB"
      },
      "source": [
        "### Import:\n",
        "\n",
        "import numpy as np\n",
        "import scipy as sp\n",
        "import pandas as pd\n",
        "import matplotlib.pyplot as plt\n",
        "import warnings\n",
        "\n",
        "from pyGPGO.GPGO import GPGO\n",
        "from pyGPGO.surrogates.GaussianProcess import GaussianProcess\n",
        "from pyGPGO.acquisition import Acquisition\n",
        "from pyGPGO.covfunc import squaredExponential\n",
        "\n",
        "from joblib import Parallel, delayed\n",
        "from numpy.linalg import cholesky, solve\n",
        "from scipy.optimize import minimize\n",
        "from scipy.spatial.distance import cdist\n",
        "from scipy.stats import norm\n",
        "from mpl_toolkits.axes_grid1.inset_locator import inset_axes, mark_inset\n",
        "\n",
        "warnings.filterwarnings(\"ignore\", category=RuntimeWarning)\n"
      ],
      "execution_count": 2,
      "outputs": []
    },
    {
      "cell_type": "code",
      "metadata": {
        "id": "eYpI3Zm4aGxi"
      },
      "source": [
        "n_start_AcqFunc = 250 #multi-start iterations to avoid local optima in AcqFunc optimization\n"
      ],
      "execution_count": 3,
      "outputs": []
    },
    {
      "cell_type": "code",
      "metadata": {
        "id": "OeYcTUNoaJWa"
      },
      "source": [
        "### Inputs:\n",
        "\n",
        "run_num_1 = 0\n",
        "n_test = 500\n",
        "eps = 1e-08\n",
        "\n",
        "util_grad_exact = 'dEI_GP'\n",
        "util_grad_approx = 'ExpectedImprovement'\n",
        "\n",
        "n_init = 2 # random initialisations\n",
        "iters = 1\n",
        "opt = True\n"
      ],
      "execution_count": 4,
      "outputs": []
    },
    {
      "cell_type": "code",
      "metadata": {
        "id": "xpaEOjdzaPMS"
      },
      "source": [
        "### Objective Function - Sin(x) 1-D:\n",
        "\n",
        "def objfunc(x1_training):\n",
        "    return operator * np.sin(x1_training)\n",
        "    \n",
        "# Constraints:\n",
        "lb = 0\n",
        "ub = 2 * np.pi\n",
        "y_global_orig = 1\n",
        "\n",
        "# Input array dimension(s):\n",
        "dim = 1\n",
        "operator = 1\n",
        "\n",
        "# 1-D inputs' parameter bounds:\n",
        "param = {'x1_training': ('cont', [lb, ub])}\n",
        "    \n",
        "# Test data:\n",
        "x_test = np.linspace(lb, ub, n_test).reshape((n_test, 1))\n"
      ],
      "execution_count": 5,
      "outputs": []
    },
    {
      "cell_type": "code",
      "metadata": {
        "id": "oO_GUmOoaV0T"
      },
      "source": [
        "### Cumulative Regret Calculator:\n",
        "\n",
        "def min_max_array(x):\n",
        "    new_list = []\n",
        "    for i, num in enumerate(x):\n",
        "            new_list.append(np.min(x[0:i+1]))\n",
        "    return new_list\n",
        "  "
      ],
      "execution_count": 6,
      "outputs": []
    },
    {
      "cell_type": "code",
      "metadata": {
        "id": "_Dc3YVHVaXz7"
      },
      "source": [
        "class Acquisition_new(Acquisition):    \n",
        "    def __init__(self, mode, eps=1e-08, **params):\n",
        "        \n",
        "        self.params = params\n",
        "        self.eps = eps\n",
        "\n",
        "        mode_dict = {\n",
        "            'dEI_GP': self.dEI_GP\n",
        "        }\n",
        "\n",
        "        self.f = mode_dict[mode]\n",
        "    \n",
        "    def dEI_GP(self, tau, mean, std, ds, dm):\n",
        "        gamma = (mean - tau - self.eps) / (std + self.eps)\n",
        "        dsdx = ds / (2 * (std + self.eps))\n",
        "        dmdx = (dm - gamma * dsdx) / (std + self.eps)\n",
        "        \n",
        "        f = np.array((std + self.eps) * (gamma * norm.cdf(gamma) + norm.pdf(gamma)))\n",
        "        df1 = f / (std + self.eps) * dsdx \n",
        "        df2 = (std + self.eps) * norm.cdf(gamma) * dmdx\n",
        "        df = df1 + df2\n",
        "\n",
        "        df_arr = []\n",
        "        \n",
        "        for i in range(0, dim):\n",
        "          df_arr.append([df])\n",
        "        return f, np.asarray(df_arr).transpose()\n",
        "\n",
        "    def d_eval(self, tau, mean, std, ds, dm):\n",
        "    \n",
        "        return self.f(tau, mean, std, ds, dm, **self.params)\n"
      ],
      "execution_count": 7,
      "outputs": []
    },
    {
      "cell_type": "code",
      "metadata": {
        "id": "kuuJx0IMam9S"
      },
      "source": [
        "### Surrogate derivatives: \n",
        "\n",
        "cov_func = squaredExponential()\n",
        "\n",
        "class dGaussianProcess(GaussianProcess):\n",
        "    l = GaussianProcess(cov_func, optimize=opt).getcovparams()['l']\n",
        "    sigmaf = GaussianProcess(cov_func, optimize=opt).getcovparams()['sigmaf']\n",
        "    sigman = GaussianProcess(cov_func, optimize=opt).getcovparams()['sigman']\n",
        "\n",
        "    def AcqGrad(self, Xstar):\n",
        "        Xstar = np.atleast_2d(Xstar)\n",
        "        Kstar = squaredExponential.K(self, self.X, Xstar).T\n",
        "        dKstar = Kstar * cdist(self.X, Xstar).T * -1\n",
        "        \n",
        "        v = solve(self.L, Kstar.T)\n",
        "        dv = solve(self.L, dKstar.T)\n",
        "        \n",
        "        ds = -2 * np.diag(np.dot(dv.T, v))\n",
        "        dm = np.dot(dKstar, self.alpha)\n",
        "        return ds, dm\n"
      ],
      "execution_count": 8,
      "outputs": []
    },
    {
      "cell_type": "code",
      "metadata": {
        "id": "YAc1Yu71aosi"
      },
      "source": [
        "## dGPGO:\n",
        "\n",
        "class dGPGO(GPGO):  \n",
        "    n_start = n_start_AcqFunc\n",
        "    eps = 1e-08\n",
        "    \n",
        "    def d_optimizeAcq(self, method='L-BFGS-B', n_start=n_start_AcqFunc):\n",
        "        start_points_dict = [self._sampleParam() for i in range(n_start)]\n",
        "        start_points_arr = np.array([list(s.values())\n",
        "                                     for s in start_points_dict])\n",
        "        x_best = np.empty((n_start, len(self.parameter_key)))\n",
        "        f_best = np.empty((n_start,))\n",
        "        opt = Parallel(n_jobs=self.n_jobs)(delayed(minimize)(self.acqfunc,\n",
        "                                                                 x0=start_point,\n",
        "                                                                 method=method,\n",
        "                                                                 jac = True,\n",
        "                                                                 bounds=self.parameter_range) for start_point in\n",
        "                                               start_points_arr)\n",
        "        x_best = np.array([res.x for res in opt])\n",
        "        f_best = np.array([np.atleast_1d(res.fun)[0] for res in opt])\n",
        "\n",
        "        self.x_best = x_best\n",
        "        self.f_best = f_best\n",
        "        self.best = x_best[np.argmin(f_best)]\n",
        "        self.start_points_arr = start_points_arr\n",
        "\n",
        "        return x_best, f_best\n",
        "    \n",
        "    def run(self, max_iter=10, init_evals=3, resume=False):\n",
        "        \n",
        "        if not resume:\n",
        "            self.init_evals = init_evals\n",
        "            self._firstRun(self.init_evals)\n",
        "            self.logger._printInit(self)\n",
        "        for iteration in range(max_iter):\n",
        "            self.d_optimizeAcq()\n",
        "            self.updateGP()\n",
        "            self.logger._printCurrent(self)\n",
        "\n",
        "    def acqfunc(self, xnew, n_start=n_start_AcqFunc):\n",
        "        new_mean, new_var = self.GP.predict(xnew, return_std=True)\n",
        "        new_std = np.sqrt(new_var + eps)\n",
        "        ds, dm = self.GP.AcqGrad(xnew)\n",
        "        f, df = self.A.d_eval(-self.tau, new_mean, new_std, ds=ds, dm=dm)\n",
        "        return -f, df\n",
        "\n",
        "    def acqfunc_h(self, xnew, n_start=n_start_AcqFunc, eps=eps):\n",
        "        f = self.acqfunc(xnew)[0]\n",
        "        \n",
        "        new_mean_h, new_var_h = self.GP.predict(xnew + eps, return_std=True)\n",
        "        new_std_h = np.sqrt(new_var_h + eps)\n",
        "        ds_h, dm_h = self.GP.AcqGrad(xnew + eps)\n",
        "        f_h = self.A.d_eval(-self.tau, new_mean_h, new_std_h, ds=ds_h, dm=dm_h)[0]\n",
        "        \n",
        "        approx_grad = (-f_h - f)/eps\n",
        "        return approx_grad\n"
      ],
      "execution_count": 9,
      "outputs": []
    },
    {
      "cell_type": "code",
      "metadata": {
        "id": "q_0Q5UogBGvt"
      },
      "source": [
        "## est_GPGO:\n",
        "\n",
        "class est_GPGO(GPGO):  \n",
        "    n_start = n_start_AcqFunc\n",
        "    eps = 1e-08\n",
        "    \n",
        "    def _optimizeAcq(self, method='L-BFGS-B', n_start=n_start_AcqFunc):\n",
        "        start_points_dict = [self._sampleParam() for i in range(n_start)]\n",
        "        start_points_arr = np.array([list(s.values())\n",
        "                                     for s in start_points_dict])\n",
        "        x_best = np.empty((n_start, len(self.parameter_key)))\n",
        "        f_best = np.empty((n_start,))\n",
        "        if self.n_jobs == 1:\n",
        "            for index, start_point in enumerate(start_points_arr):\n",
        "                res = minimize(self._acqWrapper, x0=start_point, method=method,\n",
        "                               bounds=self.parameter_range)\n",
        "                x_best[index], f_best[index] = res.x, np.atleast_1d(res.fun)[0]\n",
        "        else:\n",
        "            opt = Parallel(n_jobs=self.n_jobs)(delayed(minimize)(self._acqWrapper,\n",
        "                                                                 x0=start_point,\n",
        "                                                                 method=method,\n",
        "                                                                 bounds=self.parameter_range) for start_point in\n",
        "                                               start_points_arr)\n",
        "            x_best = np.array([res.x for res in opt])\n",
        "            f_best = np.array([np.atleast_1d(res.fun)[0] for res in opt])\n",
        "\n",
        "        self.x_best = x_best\n",
        "        self.f_best = f_best\n",
        "        self.best = x_best[np.argmin(f_best)]\n",
        "        self.start_points_arr = start_points_arr\n",
        "\n",
        "        return x_best, f_best\n",
        "    "
      ],
      "execution_count": 10,
      "outputs": []
    },
    {
      "cell_type": "code",
      "metadata": {
        "id": "8Yc4wajqcaAE"
      },
      "source": [
        "### Plot Methods:\n",
        "\n",
        "def plot_sine(gpgo, param, new=True):\n",
        "    x_test = np.linspace(lb, ub, n_test).reshape((n_test, 1))\n",
        "    y_hat, y_var = gpgo.GP.predict(x_test, return_std=True)\n",
        "    std = np.sqrt(y_var)\n",
        "    l, u = y_hat - 1.96 * std, y_hat + 1.96 * std # z-score, 95% confidence (two-tail)\n",
        "    colours = ['Post', 'Random']\n",
        "    if new:\n",
        "        plt.figure(figsize=[7,5])\n",
        "        plt.scatter(gpgo.GP.X, gpgo.GP.y, marker ='D', color = 'Red', label='Post-initialization ($\\mathbf{x}$, $y$)')\n",
        "        plt.scatter(gpgo.X, gpgo.y, marker ='D', color = 'Green', label='Random-initialization ($\\mathbf{x}$, $y$)')\n",
        "        plt.ylim(-3,3)\n",
        "        plt.xlim(0, 2 * np.pi)\n",
        "        plt.plot(x_test.flatten(), y_hat, color = 'Yellow', label='$\\hat{\\mu}_{GP}(\\mathbf{x})$')\n",
        "        plt.plot(x_test.flatten(), np.sin(x_test.flatten()), color = 'Orange', label='True function: y = sin($\\mathbf{x}$)')\n",
        "        plt.fill_between(x_test.flatten(), l, u, alpha=0.2, label='95% C.I. for $\\mu_{GP}(\\mathbf{x})$')\n",
        "        title = 'Sine'\n",
        "        plt.title(title, weight = 'bold')\n",
        "        plt.xlabel(\"$\\mathbf{x}$\")\n",
        "        plt.ylabel(\"sin($\\mathbf{x}$)\")\n",
        "        plt.legend(loc=0)\n",
        "        plt.show()\n",
        "\n",
        "def plot_GP_dEI(dgpgo, param, new):\n",
        "    fig, ax = plt.subplots(figsize=[7,5])\n",
        "    x_test = np.linspace(lb, ub, n_test).reshape((n_test, 1))\n",
        "    a = -dGPGO.acqfunc(dgpgo, x_test)[0].flatten()\n",
        "    plt.plot(x_test, a, color='Purple', label='GP dEI$(\\mathbf{x})$')\n",
        "    xbest = x_test[np.argmax(-GPGO.acqfunc(dgpgo, x_test)[0])][0]\n",
        "    ybest = np.max(-dGPGO.acqfunc(dgpgo, x_test)[0])\n",
        "    plt.scatter(xbest, ybest, marker ='D', color = 'Blue', label='GP dEI$(\\mathbf{x})$: maximum')\n",
        "    plt.ylim(-0.1 + min(a), max(a) + 0.1)\n",
        "    plt.xlim(0, 2 * np.pi)\n",
        "    plt.axvline(x=xbest, color='Black', label='GP dEI$(\\mathbf{x})$: arg max $\\mathbf{x}$')\n",
        "    plt.legend(loc=0)\n",
        "    plt.xlabel(\"$\\mathbf{x}$\")\n",
        "    plt.ylabel(\"GP dEI$(\\mathbf{x})$\")\n",
        "    title = 'GP dEI'\n",
        "    plt.suptitle(title, weight = 'bold')\n",
        "    plt.show()\n",
        "\n",
        "def plot_GP_EI_jac(gpgo, param, new):\n",
        "    plt.figure(figsize=[7,5])\n",
        "    x_test = np.linspace(lb, ub, n_test).reshape((n_test, 1))\n",
        "    jac = -dGPGO.acqfunc(gpgo, x_test)[1].flatten()\n",
        "    approx_jac = -dGPGO.acqfunc_h(gpgo, x_test).flatten()\n",
        "    plt.plot(x_test, jac, color='Red', label='GP dEI$(\\mathbf{x})$: exact GP EI Jacobian')\n",
        "    plt.plot(x_test, approx_jac, color='Green', label='Estimated GP EI Jacobian')\n",
        "    xbest = x_test[np.argmax(-dGPGO.acqfunc(gpgo, x_test)[0])][0]\n",
        "    plt.axvline(x=xbest, color='Black', label='GP EI$(\\mathbf{x})$: arg max $\\mathbf{x}$')\n",
        "    plt.ylim(-0.1 + min([min(approx_jac), min(jac)]), max([max(approx_jac), max(jac)]) + 0.1)\n",
        "    plt.xlim(0, 2 * np.pi)\n",
        "    plt.legend(loc=0)\n",
        "    plt.xlabel(\"$\\mathbf{x}$\")\n",
        "    plt.ylabel(\"GP dEI$(\\mathbf{x})$, GP deltaEI$(\\mathbf{x})$\")\n",
        "    title = 'GP dEI'\n",
        "    plt.suptitle(title, weight = 'bold')\n",
        "    plt.show()\n",
        "\n",
        "def plot_GP_dEI_vs_approx(dgpgo, est_GPGO, param, new):\n",
        "    fig, ax = plt.subplots(figsize=[7,5])\n",
        "    x_test = np.linspace(lb, ub, n_test).reshape((n_test, 1))\n",
        "    a = -dGPGO.acqfunc(dgpgo, x_test)[0].flatten()\n",
        "    plt.plot(x_test, a, color='Purple', label='GP EI$(\\mathbf{x})$')\n",
        "    ybest = np.max(-dGPGO.acqfunc(dgpgo, x_test)[0])\n",
        "    xbest = x_test[np.argmax(-dGPGO.acqfunc(dgpgo, x_test)[0])][0]\n",
        "    plt.scatter(xbest, ybest, marker ='D', color = 'Blue', label='GP EI$(\\mathbf{x})$: maximum')\n",
        "    plt.ylim(-0.1 + min(a), max(a) + 0.1)\n",
        "    plt.xlim(0, 2 * np.pi)\n",
        "    xbest_approx = est_GPGO.x_best[np.argmax(np.array(-est_GPGO.f_best))][0]\n",
        "    plt.axvline(x=xbest, color = 'Black', label='GP EI$(\\mathbf{x})$: arg max $\\mathbf{x}$')\n",
        "    plt.axvline(x=xbest_approx, color = 'Brown', ls = '--', label='Alternative GP EI$(\\mathbf{x})$: arg max $\\mathbf{x}$')\n",
        "    plt.legend(loc=0)\n",
        "    plt.xlabel(\"$\\mathbf{x}$\")\n",
        "    plt.ylabel(\"GP dEI$(\\mathbf{x})$\")\n",
        "    title = 'GP dEI'\n",
        "    plt.suptitle(title, weight = 'bold')\n",
        "    plt.show()\n"
      ],
      "execution_count": 11,
      "outputs": []
    },
    {
      "cell_type": "code",
      "metadata": {
        "colab": {
          "base_uri": "https://localhost:8080/"
        },
        "id": "7CG3Ndvb16Rb",
        "outputId": "650f42fb-3c63-422e-9cd1-afa85eba0023"
      },
      "source": [
        "### Random-initialisation: Bayesian optimisation\n",
        "\n",
        "### EXACT GP EI Jacobian\n",
        "\n",
        "np.random.seed(run_num_1)\n",
        "surrogate_exact_0 = dGaussianProcess(cov_func, optimize=opt)\n",
        "\n",
        "exact_0 = dGPGO(surrogate_exact_0, Acquisition_new(util_grad_exact), objfunc, param)\n",
        "exact_0.run(init_evals=n_init, max_iter=iters-1)\n"
      ],
      "execution_count": 12,
      "outputs": [
        {
          "output_type": "stream",
          "text": [
            "Evaluation \t Proposed point \t  Current eval. \t Best eval.\n",
            "init   \t [3.44829694]. \t  -0.301918370765691 \t -0.301918370765691\n",
            "init   \t [4.49366732]. \t  -0.9761756231500798 \t -0.301918370765691\n"
          ],
          "name": "stdout"
        }
      ]
    },
    {
      "cell_type": "code",
      "metadata": {
        "colab": {
          "base_uri": "https://localhost:8080/"
        },
        "id": "aH0YSTXufD1v",
        "outputId": "7f32ca5d-ae54-488e-eb6d-d752c207b944"
      },
      "source": [
        "### Random-initialisation: Bayesian optimisation\n",
        "\n",
        "### versus ESTIMATED GP EI Jacobian\n",
        "\n",
        "np.random.seed(run_num_1)\n",
        "surrogate_approx_0 = GaussianProcess(cov_func, optimize=opt)\n",
        "\n",
        "approx_0 = est_GPGO(surrogate_approx_0, Acquisition(util_grad_approx), objfunc, param)\n",
        "approx_0.run(init_evals=n_init, max_iter=iters-1)\n"
      ],
      "execution_count": 13,
      "outputs": [
        {
          "output_type": "stream",
          "text": [
            "Evaluation \t Proposed point \t  Current eval. \t Best eval.\n",
            "init   \t [3.44829694]. \t  -0.301918370765691 \t -0.301918370765691\n",
            "init   \t [4.49366732]. \t  -0.9761756231500798 \t -0.301918370765691\n"
          ],
          "name": "stdout"
        }
      ]
    },
    {
      "cell_type": "code",
      "metadata": {
        "id": "_kcoQJKHqt6B",
        "colab": {
          "base_uri": "https://localhost:8080/"
        },
        "outputId": "41e6dae0-f118-4af8-ab40-dc1394b45acf"
      },
      "source": [
        "### Random-initialisation: GP EI arg max x, max\n",
        "np.random.seed(run_num_1)\n",
        "\n",
        "AcqFuncMaxExact_0 = np.max(-dGPGO.acqfunc(exact_0, x_test)[0])\n",
        "XBestExact_0 = x_test[np.argmax(-dGPGO.acqfunc(exact_0, x_test)[0])][0]\n",
        "\n",
        "XBestExactGradExact_0 = exact_0.acqfunc(XBestExact_0)[1][0][0][0]\n",
        "XBestApproxGradExact_0 = exact_0.acqfunc_h(XBestExact_0)[0]\n",
        "\n",
        "print(\"Exact GP EI Jacobian: arg max  x:\", np.round(XBestExactGradExact_0, 4))\n",
        "print(\"Estm. GP EI Jacobian: arg max  x:\", np.round(XBestApproxGradExact_0, 4))\n"
      ],
      "execution_count": 14,
      "outputs": [
        {
          "output_type": "stream",
          "text": [
            "Exact GP EI Jacobian: arg max  x: 0.0474\n",
            "Estm. GP EI Jacobian: arg max  x: -0.0001\n"
          ],
          "name": "stdout"
        }
      ]
    },
    {
      "cell_type": "code",
      "metadata": {
        "colab": {
          "base_uri": "https://localhost:8080/",
          "height": 350
        },
        "id": "TTA4HIVL7Rks",
        "outputId": "e9856354-5607-4764-b46a-4ec6788a7483"
      },
      "source": [
        "### Random-initialisation: plots\n",
        "\n",
        "plot_sine(exact_0, param, new=True)\n"
      ],
      "execution_count": 15,
      "outputs": [
        {
          "output_type": "display_data",
          "data": {
            "image/png": "[encoded data removed]",
            "text/plain": [
              "<Figure size 504x360 with 1 Axes>"
            ]
          },
          "metadata": {
            "tags": [],
            "needs_background": "light"
          }
        }
      ]
    },
    {
      "cell_type": "code",
      "metadata": {
        "id": "c1-euNskQwH9",
        "colab": {
          "base_uri": "https://localhost:8080/",
          "height": 472
        },
        "outputId": "169c0d87-61f7-4ac1-8823-9c3badc0c81c"
      },
      "source": [
        "### Random-initialisation: STP EI Jacobian' plots - exact versus estimated\n",
        "\n",
        "plot_GP_EI_jac(exact_0, param, new=True)\n",
        "print(\"Max. Exact GP EI Jacobian: \", np.round(max(-dGPGO.acqfunc(exact_0, x_test)[1])[0][0], 4))\n",
        "print(\"Min. Exact GP EI Jacobian:\", np.round(min(-dGPGO.acqfunc(exact_0, x_test)[1])[0][0], 4))\n",
        "print(\"Max. Estm. GP EI Jacobian: \", np.round(max(-dGPGO.acqfunc_h(exact_0, x_test)), 4))\n",
        "print(\"Min. Estm. GP EI Jacobian:\", np.round(min(-dGPGO.acqfunc_h(exact_0, x_test)), 4))\n",
        "print(\"Exact Jacobian: arg max x:\", np.round(XBestExactGradExact_0, 4))\n",
        "print(\"Estm. Jacobian: arg max x:\", np.round(XBestApproxGradExact_0, 4))\n"
      ],
      "execution_count": 16,
      "outputs": [
        {
          "output_type": "display_data",
          "data": {
            "image/png": "[encoded data removed]",
            "text/plain": [
              "<Figure size 504x360 with 1 Axes>"
            ]
          },
          "metadata": {
            "tags": [],
            "needs_background": "light"
          }
        },
        {
          "output_type": "stream",
          "text": [
            "Max. Exact GP EI Jacobian:  0.0153\n",
            "Min. Exact GP EI Jacobian: -0.7158\n",
            "Max. Estm. GP EI Jacobian:  0.1214\n",
            "Min. Estm. GP EI Jacobian: -0.2168\n",
            "Exact Jacobian: arg max x: 0.0474\n",
            "Estm. Jacobian: arg max x: -0.0001\n"
          ],
          "name": "stdout"
        }
      ]
    },
    {
      "cell_type": "code",
      "metadata": {
        "colab": {
          "base_uri": "https://localhost:8080/"
        },
        "id": "NAc2539mOkCE",
        "outputId": "3859f7fd-e920-4f03-f358-91a46e264cba"
      },
      "source": [
        "min(-dGPGO.acqfunc(exact_0, x_test)[1])[0][0]"
      ],
      "execution_count": 17,
      "outputs": [
        {
          "output_type": "execute_result",
          "data": {
            "text/plain": [
              "-0.7158356355687903"
            ]
          },
          "metadata": {
            "tags": []
          },
          "execution_count": 17
        }
      ]
    },
    {
      "cell_type": "code",
      "metadata": {
        "id": "noD7koOraxrK",
        "colab": {
          "base_uri": "https://localhost:8080/"
        },
        "outputId": "0f4b7112-e4e5-42fb-f9ed-2b28a36ab45c"
      },
      "source": [
        "### Post-initialisation: iteration 1 Bayesian optimisation\n",
        "\n",
        "### EXACT GP EI Jacobian\n",
        "\n",
        "np.random.seed(run_num_1)\n",
        "surrogate_exact_1 = dGaussianProcess(cov_func, optimize=opt)\n",
        "\n",
        "exact_1 = dGPGO(surrogate_exact_1, Acquisition_new(util_grad_exact), objfunc, param)\n",
        "exact_1.run(init_evals=n_init, max_iter=iters)\n",
        "\n",
        "a_exact_1 = np.array(-exact_1.f_best)\n",
        "xbest_exact_1 = exact_1.x_best[np.argmax(a_exact_1)][0]\n",
        "regret_exact_1 = y_global_orig - objfunc(xbest_exact_1)\n",
        "\n",
        "print(\"Exact GP EI Jacobian: Max. GP EI\", np.round(np.max(a_exact_1), 4))\n",
        "print(\"Exact GP EI Jacobian: regret\", np.round(regret_exact_1, 4))\n"
      ],
      "execution_count": 18,
      "outputs": [
        {
          "output_type": "stream",
          "text": [
            "Evaluation \t Proposed point \t  Current eval. \t Best eval.\n",
            "init   \t [3.44829694]. \t  -0.301918370765691 \t -0.301918370765691\n",
            "init   \t [4.49366732]. \t  -0.9761756231500798 \t -0.301918370765691\n",
            "1      \t [1.66399209]. \t  \u001b[92m0.9956604172034629\u001b[0m \t 0.9956604172034629\n",
            "Exact GP EI Jacobian: Max. GP EI 0.173\n",
            "Exact GP EI Jacobian: regret 0.0043\n"
          ],
          "name": "stdout"
        }
      ]
    },
    {
      "cell_type": "code",
      "metadata": {
        "id": "yR0dbJrvfQsj",
        "colab": {
          "base_uri": "https://localhost:8080/"
        },
        "outputId": "7423dd9a-1f90-4495-b3cb-b72580c21b90"
      },
      "source": [
        "### Post-initialisation: iteration 1 Bayesian optimisation\n",
        "\n",
        "### versus ESTIMATED GP EI Jacobian\n",
        "\n",
        "np.random.seed(run_num_1)\n",
        "surrogate_approx_1 = GaussianProcess(cov_func, optimize=opt)\n",
        "\n",
        "approx_1 = est_GPGO(surrogate_approx_1, Acquisition(util_grad_approx), objfunc, param)\n",
        "approx_1.run(init_evals=n_init, max_iter=iters)\n",
        "\n",
        "a_approx_1 = np.array(-approx_1.f_best)\n",
        "xbest_approx_1 = approx_1.x_best[np.argmax(a_approx_1)][0]\n",
        "regret_approx_1 = y_global_orig - objfunc(xbest_approx_1)\n",
        "\n",
        "print(\"Estimated GP EI Jacobian: Max. GP EI\", np.round(np.max(a_approx_1), 4))\n",
        "print(\"Estimated GP EI Jacobian: regret\", np.round(regret_approx_1, 4))\n"
      ],
      "execution_count": 19,
      "outputs": [
        {
          "output_type": "stream",
          "text": [
            "Evaluation \t Proposed point \t  Current eval. \t Best eval.\n",
            "init   \t [3.44829694]. \t  -0.301918370765691 \t -0.301918370765691\n",
            "init   \t [4.49366732]. \t  -0.9761756231500798 \t -0.301918370765691\n",
            "1      \t [1.90357748]. \t  \u001b[92m0.9451374717390602\u001b[0m \t 0.9451374717390602\n",
            "Estimated GP EI Jacobian: Max. GP EI 0.4955\n",
            "Estimated GP EI Jacobian: regret 0.0549\n"
          ],
          "name": "stdout"
        }
      ]
    },
    {
      "cell_type": "code",
      "metadata": {
        "id": "KW1_9MbtonyP",
        "colab": {
          "base_uri": "https://localhost:8080/",
          "height": 703
        },
        "outputId": "cad8cc7b-e76c-479f-b692-63d4995ec7b3"
      },
      "source": [
        "### Post-initialisation: iteration 1 plots\n",
        "\n",
        "plot_sine(exact_1, param, new=True)\n",
        "plot_GP_dEI_vs_approx(exact_1, approx_1, param, new=True)\n"
      ],
      "execution_count": 20,
      "outputs": [
        {
          "output_type": "display_data",
          "data": {
            "image/png": "[encoded data removed]",
            "text/plain": [
              "<Figure size 504x360 with 1 Axes>"
            ]
          },
          "metadata": {
            "tags": [],
            "needs_background": "light"
          }
        },
        {
          "output_type": "display_data",
          "data": {
            "image/png": "[encoded data removed]",
            "text/plain": [
              "<Figure size 504x360 with 1 Axes>"
            ]
          },
          "metadata": {
            "tags": [],
            "needs_background": "light"
          }
        }
      ]
    },
    {
      "cell_type": "code",
      "metadata": {
        "id": "VDR7IPFOqvlW",
        "colab": {
          "base_uri": "https://localhost:8080/"
        },
        "outputId": "39cc89bd-b593-4e3a-c1f6-77f66e1f57e7"
      },
      "source": [
        "### Post-initialisation: iteration 1 GP EI arg max x, max\n",
        "\n",
        "np.random.seed(run_num_1)\n",
        "\n",
        "AcqFuncMaxExact_1 = np.max(-dGPGO.acqfunc(exact_1, x_test)[0])\n",
        "XBestExact_1 = x_test[np.argmax(-dGPGO.acqfunc(exact_1, x_test)[0])][0]\n",
        "\n",
        "XBestExactGradExact_1 = exact_1.acqfunc(XBestExact_1)[1][0][0][0]\n",
        "XBestApproxGradExact_1 = exact_1.acqfunc_h(XBestExact_1)[0]\n",
        "\n",
        "print(\"Exact GP EI Jacobian: arg max  x:\", np.round(XBestExactGradExact_1, 4))\n",
        "print(\"Estm. GP EI Jacobian: arg max  x:\", np.round(XBestApproxGradExact_1, 4))\n"
      ],
      "execution_count": 21,
      "outputs": [
        {
          "output_type": "stream",
          "text": [
            "Exact GP EI Jacobian: arg max  x: -0.0003\n",
            "Estm. GP EI Jacobian: arg max  x: -0.0002\n"
          ],
          "name": "stdout"
        }
      ]
    },
    {
      "cell_type": "code",
      "metadata": {
        "id": "JiezJjttg1D7",
        "colab": {
          "base_uri": "https://localhost:8080/",
          "height": 472
        },
        "outputId": "f1222094-a3cb-410e-e3d9-127618d9f88b"
      },
      "source": [
        "### Post-initialisation: iteration 1 GP EI Jacobian' plots - exact versus estimated\n",
        "\n",
        "plot_GP_EI_jac(exact_1, param, new=True)\n",
        "print(\"Max. Exact GP EI Jacobian: \", np.round(max(-dGPGO.acqfunc(exact_1, x_test)[1])[0][0], 4))\n",
        "print(\"Min. Exact GP EI Jacobian:\", np.round(min(-dGPGO.acqfunc(exact_1, x_test)[1])[0][0], 4))\n",
        "print(\"Max. Estm. GP EI Jacobian: \", np.round(max(-dGPGO.acqfunc_h(exact_1, x_test)), 4))\n",
        "print(\"Min. Estm. GP EI Jacobian:\", np.round(min(-dGPGO.acqfunc_h(exact_1, x_test)), 4))\n",
        "print(\"Exact GP EI Jacobian: arg max x:\", np.round(XBestExactGradExact_1, 4))\n",
        "print(\"Estm. GP EI Jacobian: arg max x:\", np.round(XBestApproxGradExact_1, 4))\n"
      ],
      "execution_count": 22,
      "outputs": [
        {
          "output_type": "display_data",
          "data": {
            "image/png": "[encoded data removed]",
            "text/plain": [
              "<Figure size 504x360 with 1 Axes>"
            ]
          },
          "metadata": {
            "tags": [],
            "needs_background": "light"
          }
        },
        {
          "output_type": "stream",
          "text": [
            "Max. Exact GP EI Jacobian:  0.8967\n",
            "Min. Exact GP EI Jacobian: -1.5411\n",
            "Max. Estm. GP EI Jacobian:  0.5968\n",
            "Min. Estm. GP EI Jacobian: -1.035\n",
            "Exact GP EI Jacobian: arg max x: -0.0003\n",
            "Estm. GP EI Jacobian: arg max x: -0.0002\n"
          ],
          "name": "stdout"
        }
      ]
    },
    {
      "cell_type": "code",
      "metadata": {
        "id": "psEdf8_bz6j_",
        "colab": {
          "base_uri": "https://localhost:8080/"
        },
        "outputId": "ad360668-1370-408b-f4ea-9046cd23fb0a"
      },
      "source": [
        "### Post-initialisation: iteration 2 Bayesian optimisation\n",
        "\n",
        "### EXACT GP EI Jacobian\n",
        "\n",
        "np.random.seed(run_num_1)\n",
        "surrogate_exact_2 = dGaussianProcess(cov_func, optimize=opt)\n",
        "\n",
        "exact_2 = dGPGO(surrogate_exact_2, Acquisition_new(util_grad_exact), objfunc, param)\n",
        "exact_2.run(init_evals=n_init, max_iter=iters+1)\n",
        "\n",
        "a_exact_2 = np.array(-exact_2.f_best)\n",
        "xbest_exact_2 = exact_2.x_best[np.argmax(a_exact_2)][0]\n",
        "regret_exact_2 = y_global_orig - objfunc(xbest_exact_2)\n",
        "\n",
        "print(\"Exact GP EI Jacobian: Max. GP EI\", np.round(np.max(a_exact_2), 4))\n",
        "print(\"Exact GP EI Jacobian: regret\", np.round(regret_exact_2, 4))\n"
      ],
      "execution_count": 23,
      "outputs": [
        {
          "output_type": "stream",
          "text": [
            "Evaluation \t Proposed point \t  Current eval. \t Best eval.\n",
            "init   \t [3.44829694]. \t  -0.301918370765691 \t -0.301918370765691\n",
            "init   \t [4.49366732]. \t  -0.9761756231500798 \t -0.301918370765691\n",
            "1      \t [1.66399209]. \t  \u001b[92m0.9956604172034629\u001b[0m \t 0.9956604172034629\n",
            "2      \t [1.64970468]. \t  \u001b[92m0.9968883509017231\u001b[0m \t 0.9968883509017231\n",
            "Exact GP EI Jacobian: Max. GP EI 1.9914\n",
            "Exact GP EI Jacobian: regret 0.0031\n"
          ],
          "name": "stdout"
        }
      ]
    },
    {
      "cell_type": "code",
      "metadata": {
        "id": "cFXcfiqifyvR",
        "colab": {
          "base_uri": "https://localhost:8080/"
        },
        "outputId": "835274ab-c4a8-460a-82ff-7c1b1dcf4d0c"
      },
      "source": [
        "### Post-initialisation: iteration 2 Bayesian optimisation\n",
        "\n",
        "### versus ESTIMATED GP EI Jacobian\n",
        "\n",
        "np.random.seed(run_num_1)\n",
        "surrogate_approx_2 = GaussianProcess(cov_func, optimize=opt)\n",
        "\n",
        "approx_2 = est_GPGO(surrogate_approx_2, Acquisition(util_grad_approx), objfunc, param)\n",
        "approx_2.run(init_evals=n_init, max_iter=iters+1)\n",
        "\n",
        "a_approx_2 = np.array(-approx_2.f_best)\n",
        "xbest_approx_2 = approx_2.x_best[np.argmax(a_approx_2)][0]\n",
        "regret_approx_2 = y_global_orig - objfunc(xbest_approx_1) ### Iteration 1's y-value is closer to y_global_orig\n",
        "\n",
        "print(\"Estimated GP EI Jacobian: Max. GP EI\", np.round(np.max(a_approx_2), 4))\n",
        "print(\"Estimated GP EI Jacobian: regret\", np.round(regret_approx_2, 4))\n"
      ],
      "execution_count": 24,
      "outputs": [
        {
          "output_type": "stream",
          "text": [
            "Evaluation \t Proposed point \t  Current eval. \t Best eval.\n",
            "init   \t [3.44829694]. \t  -0.301918370765691 \t -0.301918370765691\n",
            "init   \t [4.49366732]. \t  -0.9761756231500798 \t -0.301918370765691\n",
            "1      \t [1.90357748]. \t  \u001b[92m0.9451374717390602\u001b[0m \t 0.9451374717390602\n",
            "2      \t [1.09255415]. \t  0.8878052780090047 \t 0.9451374717390602\n",
            "Estimated GP EI Jacobian: Max. GP EI 0.1143\n",
            "Estimated GP EI Jacobian: regret 0.0549\n"
          ],
          "name": "stdout"
        }
      ]
    },
    {
      "cell_type": "code",
      "metadata": {
        "id": "PP6uxMmBh93G",
        "colab": {
          "base_uri": "https://localhost:8080/",
          "height": 703
        },
        "outputId": "5560f405-b66e-475f-e52e-2b01ad613a02"
      },
      "source": [
        "### Post-initialisation: iteration 2 plots\n",
        "\n",
        "plot_sine(exact_2, param, new=True)\n",
        "plot_GP_dEI_vs_approx(exact_2, approx_2, param, new=True)\n"
      ],
      "execution_count": 25,
      "outputs": [
        {
          "output_type": "display_data",
          "data": {
            "image/png": "[encoded data removed]",
            "text/plain": [
              "<Figure size 504x360 with 1 Axes>"
            ]
          },
          "metadata": {
            "tags": [],
            "needs_background": "light"
          }
        },
        {
          "output_type": "display_data",
          "data": {
            "image/png": "[encoded data removed]",
            "text/plain": [
              "<Figure size 504x360 with 1 Axes>"
            ]
          },
          "metadata": {
            "tags": [],
            "needs_background": "light"
          }
        }
      ]
    },
    {
      "cell_type": "code",
      "metadata": {
        "id": "Mby0hDP_FNaq",
        "colab": {
          "base_uri": "https://localhost:8080/"
        },
        "outputId": "bc349657-66c4-4518-b416-5cbb36db3b19"
      },
      "source": [
        "### Post-initialisation: iteration 2 GP EI arg max x, max\n",
        "np.random.seed(run_num_1)\n",
        "\n",
        "AcqFuncMaxExact_2 = np.max(-dGPGO.acqfunc(exact_2, x_test)[0])\n",
        "XBestExact_2 = x_test[np.argmax(-dGPGO.acqfunc(exact_2, x_test)[0])][0]\n",
        "\n",
        "XBestExactGradExact_2 = exact_2.acqfunc(XBestExact_2)[1][0][0][0]\n",
        "XBestApproxGradExact_2 = exact_2.acqfunc_h(XBestExact_2)[0]\n",
        "\n",
        "print(\"Exact GP EI Jacobian: arg max  x:\", np.round(XBestExactGradExact_2, 4))\n",
        "print(\"Estm. GP EI Jacobian: arg max  x:\", np.round(XBestApproxGradExact_2, 4))\n"
      ],
      "execution_count": 26,
      "outputs": [
        {
          "output_type": "stream",
          "text": [
            "Exact GP EI Jacobian: arg max  x: -0.0052\n",
            "Estm. GP EI Jacobian: arg max  x: -0.0026\n"
          ],
          "name": "stdout"
        }
      ]
    },
    {
      "cell_type": "code",
      "metadata": {
        "id": "QxwrzoM-h-9l",
        "colab": {
          "base_uri": "https://localhost:8080/",
          "height": 472
        },
        "outputId": "e5ff30df-02b6-45e6-c750-ad3a2d6fd38d"
      },
      "source": [
        "### Post-initialisation: iteration 2 GP EI Jacobian' plots - exact versus estimated\n",
        "\n",
        "plot_GP_EI_jac(exact_2, param, new=True)\n",
        "print(\"Max. Exact GP EI Jacobian: \", np.round(max(-dGPGO.acqfunc(exact_2, x_test)[1])[0][0], 4))\n",
        "print(\"Min. Exact GP EI Jacobian:\", np.round(min(-dGPGO.acqfunc(exact_2, x_test)[1])[0][0], 4))\n",
        "print(\"Max. Estm. GP EI Jacobian: \", np.round(max(-dGPGO.acqfunc_h(exact_2, x_test)), 4))\n",
        "print(\"Min. Estm. GP EI Jacobian:\", np.round(min(-dGPGO.acqfunc_h(exact_2, x_test)), 4))\n",
        "print(\"Exact GP EI Jacobian: arg max x:\", np.round(XBestExactGradExact_2, 4))\n",
        "print(\"Estm. GP EI Jacobian: arg max x:\", np.round(XBestApproxGradExact_2, 4))\n"
      ],
      "execution_count": 27,
      "outputs": [
        {
          "output_type": "display_data",
          "data": {
            "image/png": "[encoded data removed]",
            "text/plain": [
              "<Figure size 504x360 with 1 Axes>"
            ]
          },
          "metadata": {
            "tags": [],
            "needs_background": "light"
          }
        },
        {
          "output_type": "stream",
          "text": [
            "Max. Exact GP EI Jacobian:  1.2089\n",
            "Min. Exact GP EI Jacobian: -2.0651\n",
            "Max. Estm. GP EI Jacobian:  0.6064\n",
            "Min. Estm. GP EI Jacobian: -0.9934\n",
            "Exact GP EI Jacobian: arg max x: -0.0052\n",
            "Estm. GP EI Jacobian: arg max x: -0.0026\n"
          ],
          "name": "stdout"
        }
      ]
    },
    {
      "cell_type": "code",
      "metadata": {
        "id": "oZri6uFZCwi-",
        "colab": {
          "base_uri": "https://localhost:8080/"
        },
        "outputId": "2778cb8b-c24e-4ab6-d487-2ee6384846c1"
      },
      "source": [
        "### Post-initialisation: iteration 3 Bayesian optimisation\n",
        "\n",
        "### EXACT GP EI Jacobian\n",
        "\n",
        "np.random.seed(run_num_1)\n",
        "surrogate_exact_3 = dGaussianProcess(cov_func, optimize=opt)\n",
        "\n",
        "exact_3 = dGPGO(surrogate_exact_3, Acquisition_new(util_grad_exact), objfunc, param)\n",
        "exact_3.run(init_evals=n_init, max_iter=iters+2)\n",
        "\n",
        "a_exact_3 = np.array(-exact_3.f_best)\n",
        "xbest_exact_3 = exact_3.x_best[np.argmax(a_exact_3)][0]\n",
        "regret_exact_3 = y_global_orig - objfunc(xbest_exact_3)\n",
        "\n",
        "print(\"Exact GP EI Jacobian: Max. GP EI\", np.round(np.max(a_exact_3), 4))\n",
        "print(\"Exact GP EI Jacobian: regret\", np.round(regret_exact_3, 4))\n"
      ],
      "execution_count": 28,
      "outputs": [
        {
          "output_type": "stream",
          "text": [
            "Evaluation \t Proposed point \t  Current eval. \t Best eval.\n",
            "init   \t [3.44829694]. \t  -0.301918370765691 \t -0.301918370765691\n",
            "init   \t [4.49366732]. \t  -0.9761756231500798 \t -0.301918370765691\n",
            "1      \t [1.66399209]. \t  \u001b[92m0.9956604172034629\u001b[0m \t 0.9956604172034629\n",
            "2      \t [1.64970468]. \t  \u001b[92m0.9968883509017231\u001b[0m \t 0.9968883509017231\n",
            "3      \t [1.57642514]. \t  \u001b[92m0.9999841582756325\u001b[0m \t 0.9999841582756325\n",
            "Exact GP EI Jacobian: Max. GP EI 1.9966\n",
            "Exact GP EI Jacobian: regret 0.0\n"
          ],
          "name": "stdout"
        }
      ]
    },
    {
      "cell_type": "code",
      "metadata": {
        "id": "Dlh0bHhvgc2V",
        "colab": {
          "base_uri": "https://localhost:8080/"
        },
        "outputId": "ec30f9c2-b125-457f-da91-643a5a44bafc"
      },
      "source": [
        "### Post-initialisation: iteration 3 Bayesian optimisation\n",
        "\n",
        "### versus ESTIMATED GP EI Jacobian\n",
        "\n",
        "np.random.seed(run_num_1)\n",
        "surrogate_approx_3 = GaussianProcess(cov_func, optimize=opt)\n",
        "\n",
        "approx_3 = est_GPGO(surrogate_approx_3, Acquisition(util_grad_approx), objfunc, param)\n",
        "approx_3.run(init_evals=n_init, max_iter=iters+2)\n",
        "\n",
        "a_approx_3 = np.array(-approx_3.f_best)\n",
        "xbest_approx_3 = approx_3.x_best[np.argmax(a_approx_3)][0]\n",
        "regret_approx_3 = y_global_orig - objfunc(xbest_approx_3)\n",
        "\n",
        "print(\"Estimated GP EI Jacobian: Max. GP EI\", np.round(np.max(a_approx_3), 4))\n",
        "print(\"Estimated GP EI Jacobian: regret\", np.round(regret_approx_3, 4))\n"
      ],
      "execution_count": 29,
      "outputs": [
        {
          "output_type": "stream",
          "text": [
            "Evaluation \t Proposed point \t  Current eval. \t Best eval.\n",
            "init   \t [3.44829694]. \t  -0.301918370765691 \t -0.301918370765691\n",
            "init   \t [4.49366732]. \t  -0.9761756231500798 \t -0.301918370765691\n",
            "1      \t [1.90357748]. \t  \u001b[92m0.9451374717390602\u001b[0m \t 0.9451374717390602\n",
            "2      \t [1.09255415]. \t  0.8878052780090047 \t 0.9451374717390602\n",
            "3      \t [1.55822889]. \t  \u001b[92m0.9999210308501604\u001b[0m \t 0.9999210308501604\n",
            "Estimated GP EI Jacobian: Max. GP EI 0.0562\n",
            "Estimated GP EI Jacobian: regret 0.0001\n"
          ],
          "name": "stdout"
        }
      ]
    },
    {
      "cell_type": "code",
      "metadata": {
        "id": "HSGZ6cYtqvr2",
        "colab": {
          "base_uri": "https://localhost:8080/",
          "height": 703
        },
        "outputId": "dd92b189-9f16-4a9b-cdba-c6c1ffeaf976"
      },
      "source": [
        "### Post-initialisation: iteration 3 plots\n",
        "\n",
        "plot_sine(exact_3, param, new=True)\n",
        "plot_GP_dEI_vs_approx(exact_3, approx_3, param, new=True)\n"
      ],
      "execution_count": 30,
      "outputs": [
        {
          "output_type": "display_data",
          "data": {
            "image/png": "[encoded data removed]",
            "text/plain": [
              "<Figure size 504x360 with 1 Axes>"
            ]
          },
          "metadata": {
            "tags": [],
            "needs_background": "light"
          }
        },
        {
          "output_type": "display_data",
          "data": {
            "image/png": "[encoded data removed]",
            "text/plain": [
              "<Figure size 504x360 with 1 Axes>"
            ]
          },
          "metadata": {
            "tags": [],
            "needs_background": "light"
          }
        }
      ]
    },
    {
      "cell_type": "code",
      "metadata": {
        "id": "3FcqDYGwh_Iy",
        "colab": {
          "base_uri": "https://localhost:8080/"
        },
        "outputId": "02f49dcd-b7a7-41a2-8fbd-970f5f3e15a4"
      },
      "source": [
        "### Post-initialisation: iteration 3 STP EI arg max x, max\n",
        "np.random.seed(run_num_1)\n",
        "\n",
        "AcqFuncMaxExact_3 = np.max(-dGPGO.acqfunc(exact_3, x_test)[0])\n",
        "XBestExact_3 = x_test[np.argmax(-dGPGO.acqfunc(exact_3, x_test)[0])][0]\n",
        "\n",
        "XBestExactGradExact_3 = exact_3.acqfunc(XBestExact_3)[1][0][0][0]\n",
        "XBestApproxGradExact_3 = exact_3.acqfunc_h(XBestExact_3)[0]\n",
        "\n",
        "print(\"Exact GP EI Jacobian: arg max  x:\", np.round(XBestExactGradExact_3, 4))\n",
        "print(\"Estm. GP EI Jacobian: arg max  x:\", np.round(XBestApproxGradExact_3, 4))\n"
      ],
      "execution_count": 31,
      "outputs": [
        {
          "output_type": "stream",
          "text": [
            "Exact GP EI Jacobian: arg max  x: 0.0031\n",
            "Estm. GP EI Jacobian: arg max  x: 0.0015\n"
          ],
          "name": "stdout"
        }
      ]
    },
    {
      "cell_type": "code",
      "metadata": {
        "id": "4Z66qBDHh_T6",
        "colab": {
          "base_uri": "https://localhost:8080/",
          "height": 472
        },
        "outputId": "19ed1bfc-3049-48df-ad4d-6fc5d0a12499"
      },
      "source": [
        "### Post-initialisation: iteration 3 GP EI Jacobian' plots - exact versus estimated\n",
        "\n",
        "plot_GP_EI_jac(exact_3, param, new=True)\n",
        "print(\"Max. Exact GP EI Jacobian: \", np.round(max(-dGPGO.acqfunc(exact_3, x_test)[1])[0][0], 4))\n",
        "print(\"Min. Exact GP EI Jacobian:\", np.round(min(-dGPGO.acqfunc(exact_3, x_test)[1])[0][0], 4))\n",
        "print(\"Max. Estm. GP EI Jacobian: \", np.round(max(-dGPGO.acqfunc_h(exact_3, x_test)), 4))\n",
        "print(\"Min. Estm. GP EI Jacobian:\", np.round(min(-dGPGO.acqfunc_h(exact_3, x_test)), 4))\n",
        "print(\"Exact GP EI Jacobian: arg max x:\", np.round(XBestExactGradExact_3, 4))\n",
        "print(\"Estm. GP EI Jacobian: arg max x:\", np.round(XBestApproxGradExact_3, 4))\n"
      ],
      "execution_count": 32,
      "outputs": [
        {
          "output_type": "display_data",
          "data": {
            "image/png": "[encoded data removed]",
            "text/plain": [
              "<Figure size 504x360 with 1 Axes>"
            ]
          },
          "metadata": {
            "tags": [],
            "needs_background": "light"
          }
        },
        {
          "output_type": "stream",
          "text": [
            "Max. Exact GP EI Jacobian:  1.2387\n",
            "Min. Exact GP EI Jacobian: -2.0505\n",
            "Max. Estm. GP EI Jacobian:  0.6034\n",
            "Min. Estm. GP EI Jacobian: -0.9945\n",
            "Exact GP EI Jacobian: arg max x: 0.0031\n",
            "Estm. GP EI Jacobian: arg max x: 0.0015\n"
          ],
          "name": "stdout"
        }
      ]
    },
    {
      "cell_type": "code",
      "metadata": {
        "id": "ukzEOi76GrrQ",
        "colab": {
          "base_uri": "https://localhost:8080/"
        },
        "outputId": "101999d2-8235-4e56-b3f6-cee555fc799f"
      },
      "source": [
        "### Post-initialisation: iteration 4 Bayesian optimisation\n",
        "\n",
        "### EXACT GP EI Jacobian\n",
        "\n",
        "np.random.seed(run_num_1)\n",
        "surrogate_exact_4 = dGaussianProcess(cov_func, optimize=opt)\n",
        "\n",
        "exact_4 = dGPGO(surrogate_exact_4, Acquisition_new(util_grad_exact), objfunc, param)\n",
        "exact_4.run(init_evals=n_init, max_iter=iters+3)\n",
        "\n",
        "a_exact_4 = np.array(-exact_4.f_best)\n",
        "xbest_exact_4 = exact_4.x_best[np.argmax(a_exact_4)][0]\n",
        "regret_exact_4 = y_global_orig - objfunc(xbest_exact_4)\n",
        "\n",
        "print(\"Exact GP EI Jacobian: Max. GP EI\", np.round(np.max(a_exact_4), 4))\n",
        "print(\"Exact GP EI Jacobian: regret\", np.round(regret_exact_4, 4))\n"
      ],
      "execution_count": 33,
      "outputs": [
        {
          "output_type": "stream",
          "text": [
            "Evaluation \t Proposed point \t  Current eval. \t Best eval.\n",
            "init   \t [3.44829694]. \t  -0.301918370765691 \t -0.301918370765691\n",
            "init   \t [4.49366732]. \t  -0.9761756231500798 \t -0.301918370765691\n",
            "1      \t [1.66399209]. \t  \u001b[92m0.9956604172034629\u001b[0m \t 0.9956604172034629\n",
            "2      \t [1.64970468]. \t  \u001b[92m0.9968883509017231\u001b[0m \t 0.9968883509017231\n",
            "3      \t [1.57642514]. \t  \u001b[92m0.9999841582756325\u001b[0m \t 0.9999841582756325\n",
            "4      \t [1.57249288]. \t  \u001b[92m0.9999985608512583\u001b[0m \t 0.9999985608512583\n",
            "Exact GP EI Jacobian: Max. GP EI 2.0\n",
            "Exact GP EI Jacobian: regret 0.0\n"
          ],
          "name": "stdout"
        }
      ]
    },
    {
      "cell_type": "code",
      "metadata": {
        "id": "cabwlZpZg6bo",
        "colab": {
          "base_uri": "https://localhost:8080/"
        },
        "outputId": "60a37a85-f60e-4726-c96c-7afebf5082bd"
      },
      "source": [
        "### Post-initialisation: iteration 4 Bayesian optimisation\n",
        "\n",
        "### versus ESTIMATED GP EI Jacobian\n",
        "\n",
        "np.random.seed(run_num_1)\n",
        "surrogate_approx_4 = GaussianProcess(cov_func, optimize=opt)\n",
        "\n",
        "approx_4 = est_GPGO(surrogate_exact_4, Acquisition(util_grad_approx), objfunc, param)\n",
        "approx_4.run(init_evals=n_init, max_iter=iters+3)\n",
        "\n",
        "a_approx_4 = np.array(-approx_4.f_best)\n",
        "xbest_approx_4 = approx_4.x_best[np.argmax(a_approx_4)][0]\n",
        "regret_approx_4 = y_global_orig - objfunc(xbest_approx_3) ### Iteration 3's y-value is closest to y_global_orig\n",
        "\n",
        "print(\"Estimated GP EI Jacobian: Max. GP EI\", np.round(np.max(a_approx_4), 4))\n",
        "print(\"Estimated GP EI Jacobian: regret\", np.round(regret_approx_4, 4))\n"
      ],
      "execution_count": 34,
      "outputs": [
        {
          "output_type": "stream",
          "text": [
            "Evaluation \t Proposed point \t  Current eval. \t Best eval.\n",
            "init   \t [3.44829694]. \t  -0.301918370765691 \t -0.301918370765691\n",
            "init   \t [4.49366732]. \t  -0.9761756231500798 \t -0.301918370765691\n",
            "1      \t [1.90357748]. \t  \u001b[92m0.9451374717390602\u001b[0m \t 0.9451374717390602\n",
            "2      \t [1.09255415]. \t  0.8878052780090047 \t 0.9451374717390602\n",
            "3      \t [1.55822889]. \t  \u001b[92m0.9999210308501604\u001b[0m \t 0.9999210308501604\n",
            "4      \t [6.28318531]. \t  -2.4492935982947064e-16 \t 0.9999210308501604\n",
            "Estimated GP EI Jacobian: Max. GP EI 0.0054\n",
            "Estimated GP EI Jacobian: regret 0.0001\n"
          ],
          "name": "stdout"
        }
      ]
    },
    {
      "cell_type": "code",
      "metadata": {
        "id": "T_50DnIO1r_c",
        "colab": {
          "base_uri": "https://localhost:8080/",
          "height": 703
        },
        "outputId": "8483e176-744c-4d10-d8db-cd2b47d2c753"
      },
      "source": [
        "### Post-initialisation: iteration 4 plots\n",
        "\n",
        "plot_sine(exact_4, param, new=True)\n",
        "plot_GP_dEI_vs_approx(exact_4, approx_4, param, new=True)\n"
      ],
      "execution_count": 35,
      "outputs": [
        {
          "output_type": "display_data",
          "data": {
            "image/png": "[encoded data removed]",
            "text/plain": [
              "<Figure size 504x360 with 1 Axes>"
            ]
          },
          "metadata": {
            "tags": [],
            "needs_background": "light"
          }
        },
        {
          "output_type": "display_data",
          "data": {
            "image/png": "[encoded data removed]",
            "text/plain": [
              "<Figure size 504x360 with 1 Axes>"
            ]
          },
          "metadata": {
            "tags": [],
            "needs_background": "light"
          }
        }
      ]
    },
    {
      "cell_type": "code",
      "metadata": {
        "id": "fb9K1ZUi1r5e",
        "colab": {
          "base_uri": "https://localhost:8080/"
        },
        "outputId": "83ac13be-f168-4810-e6f4-e665e2558e30"
      },
      "source": [
        "### Post-initialisation: iteration 4 STP EI arg max x, max\n",
        "np.random.seed(run_num_1)\n",
        "\n",
        "AcqFuncMaxExact_4 = np.max(-dGPGO.acqfunc(exact_4, x_test)[0])\n",
        "XBestExact_4 = x_test[np.argmax(-dGPGO.acqfunc(exact_4, x_test)[0])][0]\n",
        "\n",
        "XBestExactGradExact_4 = exact_4.acqfunc(XBestExact_4)[1][0][0][0]\n",
        "XBestApproxGradExact_4 = exact_4.acqfunc_h(XBestExact_4)[0]\n",
        "\n",
        "print(\"Exact GP EI Jacobian: arg max  x:\", np.round(XBestExactGradExact_4, 4))\n",
        "print(\"Estm. GP EI Jacobian: arg max  x:\", np.round(XBestApproxGradExact_4, 4))\n"
      ],
      "execution_count": 36,
      "outputs": [
        {
          "output_type": "stream",
          "text": [
            "Exact GP EI Jacobian: arg max  x: 0.0044\n",
            "Estm. GP EI Jacobian: arg max  x: -0.0032\n"
          ],
          "name": "stdout"
        }
      ]
    },
    {
      "cell_type": "code",
      "metadata": {
        "id": "P-dx-5Yg1sE8",
        "colab": {
          "base_uri": "https://localhost:8080/",
          "height": 472
        },
        "outputId": "44bb956e-ae9e-4d25-b11a-50036d6c3c60"
      },
      "source": [
        "### Post-initialisation: iteration 4 GP EI Jacobian' plots - exact versus estimated\n",
        "\n",
        "plot_GP_EI_jac(exact_4, param, new=True)\n",
        "print(\"Max. Exact GP EI Jacobian: \", np.round(max(-dGPGO.acqfunc(exact_4, x_test)[1])[0][0], 4))\n",
        "print(\"Min. Exact GP EI Jacobian:\", np.round(min(-dGPGO.acqfunc(exact_4, x_test)[1])[0][0], 4))\n",
        "print(\"Max. Estm. GP EI Jacobian: \", np.round(max(-dGPGO.acqfunc_h(exact_4, x_test)), 4))\n",
        "print(\"Min. Estm. GP EI Jacobian:\", np.round(min(-dGPGO.acqfunc_h(exact_4, x_test)), 4))\n",
        "print(\"Exact GP EI Jacobian: arg max x:\", np.round(XBestExactGradExact_4, 4))\n",
        "print(\"Estm. GP EI Jacobian: arg max x:\", np.round(XBestApproxGradExact_4, 4))\n"
      ],
      "execution_count": 37,
      "outputs": [
        {
          "output_type": "display_data",
          "data": {
            "image/png": "[encoded data removed]",
            "text/plain": [
              "<Figure size 504x360 with 1 Axes>"
            ]
          },
          "metadata": {
            "tags": [],
            "needs_background": "light"
          }
        },
        {
          "output_type": "stream",
          "text": [
            "Max. Exact GP EI Jacobian:  1.7836\n",
            "Min. Exact GP EI Jacobian: -2.8227\n",
            "Max. Estm. GP EI Jacobian:  0.7607\n",
            "Min. Estm. GP EI Jacobian: -1.0099\n",
            "Exact GP EI Jacobian: arg max x: 0.0044\n",
            "Estm. GP EI Jacobian: arg max x: -0.0032\n"
          ],
          "name": "stdout"
        }
      ]
    },
    {
      "cell_type": "markdown",
      "metadata": {
        "id": "EA6LNvNvNgUg"
      },
      "source": [
        "**CHECKS:** exact_0 BayesOpt surrogate, exact GP EI Jacobian"
      ]
    },
    {
      "cell_type": "code",
      "metadata": {
        "id": "CEittAb14Xw3",
        "colab": {
          "base_uri": "https://localhost:8080/"
        },
        "outputId": "d618aff5-0435-4652-cb58-44bd99a30bed"
      },
      "source": [
        "### Exact GP EI Jacobian checks: exact_0 BayesOpt surrogate\n",
        "\n",
        "f0, df0 = exact_0.acqfunc(x_test)\n",
        "print(\"Max. Exact GP EI AcqFunc:  \", np.round(max(-dGPGO.acqfunc(exact_0, x_test)[0]), 4))\n",
        "print(\"Min. Exact GP EI AcqFunc:  \", np.round(min(-dGPGO.acqfunc(exact_0, x_test)[0]), 4))\n",
        "print(\"Max. Exact GP EI Jacobian: \", np.round(max(-dGPGO.acqfunc(exact_0, x_test)[1][0][0]), 4))\n",
        "print(\"Min. Exact GP EI Jacobian:\", np.round(min(-dGPGO.acqfunc(exact_0, x_test)[1][0][0]), 4))\n"
      ],
      "execution_count": 38,
      "outputs": [
        {
          "output_type": "stream",
          "text": [
            "Max. Exact GP EI AcqFunc:   0.173\n",
            "Min. Exact GP EI AcqFunc:   0.0\n",
            "Max. Exact GP EI Jacobian:  0.002\n",
            "Min. Exact GP EI Jacobian: 0.002\n"
          ],
          "name": "stdout"
        }
      ]
    },
    {
      "cell_type": "code",
      "metadata": {
        "id": "djFzt57P4Ysa",
        "colab": {
          "base_uri": "https://localhost:8080/"
        },
        "outputId": "ddf9489f-44d7-4dd4-96ed-a668f6c12958"
      },
      "source": [
        "### Exact GP EI Jacobian checks: exact_0 BayesOpt surrogate\n",
        "\n",
        "mean0, var0 = exact_0.GP.predict(x_test, return_std=True)\n",
        "std0 = np.sqrt(var0 + eps)\n",
        "print(\"Max. GP Posterior Mean: \", np.round(max(mean0), 4))\n",
        "print(\"Min. GP Posterior Mean:\", np.round(min(mean0), 4))\n",
        "print(\"Max. GP Posterior Std. Dev:\", np.round(max(std0), 4))\n",
        "print(\"Min. GP Posterior Std. Dev:\", np.round(min(std0), 4))\n"
      ],
      "execution_count": 39,
      "outputs": [
        {
          "output_type": "stream",
          "text": [
            "Max. GP Posterior Mean:  0.081\n",
            "Min. GP Posterior Mean: -0.9665\n",
            "Max. GP Posterior Std. Dev: 0.7225\n",
            "Min. GP Posterior Std. Dev: 0.1588\n"
          ],
          "name": "stdout"
        }
      ]
    },
    {
      "cell_type": "code",
      "metadata": {
        "id": "o9UcymwD4Y0N",
        "colab": {
          "base_uri": "https://localhost:8080/"
        },
        "outputId": "b633ba2d-5e28-47be-da67-cd7bdc7be009"
      },
      "source": [
        "### Exact GP EI Jacobian checks: exact_0 BayesOpt surrogate\n",
        "\n",
        "ds0, dm0 = exact_0.GP.AcqGrad(x_test)\n",
        "print(\"Max. GP Posterior Mean 1st Derivative:\", np.round(max(dm0), 4))\n",
        "print(\"Min. GP Posterior Mean 1st Derivative:\", np.round(min(dm0), 4))\n",
        "print(\"Max. GP Posterior Variance 1st Derivative: \", np.round(max(ds0), 4))\n",
        "print(\"Min. GP Posterior Variance 1st Derivative:\", np.round(min(ds0), 4))\n"
      ],
      "execution_count": 40,
      "outputs": [
        {
          "output_type": "stream",
          "text": [
            "Max. GP Posterior Mean 1st Derivative: 1.3703\n",
            "Min. GP Posterior Mean 1st Derivative: -0.4206\n",
            "Max. GP Posterior Variance 1st Derivative:  1.9477\n",
            "Min. GP Posterior Variance 1st Derivative: 0.0001\n"
          ],
          "name": "stdout"
        }
      ]
    },
    {
      "cell_type": "code",
      "metadata": {
        "id": "XD0xG1RTAdyx",
        "colab": {
          "base_uri": "https://localhost:8080/"
        },
        "outputId": "0bca9ff5-caa3-42d3-fcfa-91c6fdb74bd4"
      },
      "source": [
        "### Exact GP EI Jacobian checks: exact_0 BayesOpt surrogate\n",
        "\n",
        "tau0 = -exact_0.tau\n",
        "gamma0 = (mean0 - tau0)/(std0 + eps)\n",
        "print(\"tau:\", np.round(tau0, 4))\n",
        "print(\"Max. gamma:\", np.round(max(gamma0), 4))\n",
        "print(\"Min. gamma:\", np.round(min(gamma0), 4))\n"
      ],
      "execution_count": 41,
      "outputs": [
        {
          "output_type": "stream",
          "text": [
            "tau: 0.3019\n",
            "Max. gamma: -0.3427\n",
            "Min. gamma: -7.8397\n"
          ],
          "name": "stdout"
        }
      ]
    },
    {
      "cell_type": "code",
      "metadata": {
        "id": "vp_ZwS7mABaI",
        "colab": {
          "base_uri": "https://localhost:8080/"
        },
        "outputId": "1fdcdad8-339e-4814-ee25-d67b7bdb3499"
      },
      "source": [
        "### Exact GP EI Jacobian checks: exact_0 BayesOpt surrogate\n",
        "\n",
        "dsdx0 = ds0 / (2 * (std0 + eps))\n",
        "dmdx0 = (dm0 - gamma0 * dsdx0) / (std0 + eps)\n",
        "print(\"Max. GP Posterior Std. Dev. 1st Derivative: \", np.round(max(dsdx0), 4))\n",
        "print(\"Min. GP Posterior Std. Dev. 1st Derivative:\", np.round(min(dsdx0), 4))\n",
        "print(\"Max. gamma 1st Derivative:\", np.round(max(dmdx0), 4))\n",
        "print(\"Min. gamma 1st Derivative:\", np.round(min(dmdx0), 4))\n"
      ],
      "execution_count": 42,
      "outputs": [
        {
          "output_type": "stream",
          "text": [
            "Max. GP Posterior Std. Dev. 1st Derivative:  4.9228\n",
            "Min. GP Posterior Std. Dev. 1st Derivative: 0.0001\n",
            "Max. gamma 1st Derivative: 142.5155\n",
            "Min. gamma 1st Derivative: -0.1074\n"
          ],
          "name": "stdout"
        }
      ]
    },
    {
      "cell_type": "code",
      "metadata": {
        "id": "2662IAVG4ZJ6",
        "colab": {
          "base_uri": "https://localhost:8080/"
        },
        "outputId": "d2c73607-059d-48d1-9389-31738ad936c5"
      },
      "source": [
        "### Exact GP EI Jacobian checks: exact_0 BayesOpt surrogate\n",
        "\n",
        "df0_check = -f0/(std0 + eps) * dsdx0 + (std0 + eps) * norm.cdf(gamma0) * dmdx0\n",
        "\n",
        "print(\"Max. GP EI 1st Derivative - check:\", np.round(max(-df0_check), 4))\n",
        "print(\"Min. GP EI 1st Derivative - check:\", np.round(min(-df0_check), 4))\n"
      ],
      "execution_count": 43,
      "outputs": [
        {
          "output_type": "stream",
          "text": [
            "Max. GP EI 1st Derivative - check: 0.0153\n",
            "Min. GP EI 1st Derivative - check: -0.7158\n"
          ],
          "name": "stdout"
        }
      ]
    },
    {
      "cell_type": "code",
      "metadata": {
        "id": "OK3uiDFUYTnx",
        "colab": {
          "base_uri": "https://localhost:8080/"
        },
        "outputId": "5cb57993-30e8-4ea4-e8b5-005d06898bae"
      },
      "source": [
        "### Exact GP EI Jacobian checks: exact_0 BayesOpt surrogate\n",
        "\n",
        "print(\"Max. GP EI 1st Derivative:\", np.round(max(-df0)[0][0], 4))\n",
        "print(\"Min. GP EI 1st Derivative:\", np.round(min(-df0)[0][0], 4))\n"
      ],
      "execution_count": 44,
      "outputs": [
        {
          "output_type": "stream",
          "text": [
            "Max. GP EI 1st Derivative: 0.0153\n",
            "Min. GP EI 1st Derivative: -0.7158\n"
          ],
          "name": "stdout"
        }
      ]
    },
    {
      "cell_type": "code",
      "metadata": {
        "id": "lW-K9pkoZTzn",
        "colab": {
          "base_uri": "https://localhost:8080/"
        },
        "outputId": "b94c4ed2-16b6-4c10-cbca-1b7aec9bcfca"
      },
      "source": [
        "np.random.seed(run_num_1)\n",
        "\n",
        "new_mean, new_var = exact_0.GP.predict(x_test, return_std=True)\n",
        "new_std = np.sqrt(new_var + eps)\n",
        "new_ds, new_dm = exact_0.GP.AcqGrad(x_test)\n",
        "\n",
        "exact_0.A.dEI_GP(-exact_0.tau, new_mean, new_std, new_ds, new_dm)\n"
      ],
      "execution_count": 45,
      "outputs": [
        {
          "output_type": "execute_result",
          "data": {
            "text/plain": [
              "(array([1.62388712e-01, 1.62401642e-01, 1.62415077e-01, 1.62429032e-01,\n",
              "        1.62443527e-01, 1.62458577e-01, 1.62474203e-01, 1.62490421e-01,\n",
              "        1.62507251e-01, 1.62524713e-01, 1.62542827e-01, 1.62561612e-01,\n",
              "        1.62581090e-01, 1.62601283e-01, 1.62622210e-01, 1.62643896e-01,\n",
              "        1.62666362e-01, 1.62689632e-01, 1.62713728e-01, 1.62738675e-01,\n",
              "        1.62764498e-01, 1.62791220e-01, 1.62818867e-01, 1.62847465e-01,\n",
              "        1.62877040e-01, 1.62907617e-01, 1.62939224e-01, 1.62971888e-01,\n",
              "        1.63005635e-01, 1.63040495e-01, 1.63076494e-01, 1.63113662e-01,\n",
              "        1.63152026e-01, 1.63191616e-01, 1.63232461e-01, 1.63274590e-01,\n",
              "        1.63318032e-01, 1.63362817e-01, 1.63408975e-01, 1.63456535e-01,\n",
              "        1.63505528e-01, 1.63555983e-01, 1.63607929e-01, 1.63661398e-01,\n",
              "        1.63716417e-01, 1.63773017e-01, 1.63831226e-01, 1.63891074e-01,\n",
              "        1.63952588e-01, 1.64015798e-01, 1.64080731e-01, 1.64147413e-01,\n",
              "        1.64215872e-01, 1.64286133e-01, 1.64358221e-01, 1.64432162e-01,\n",
              "        1.64507977e-01, 1.64585690e-01, 1.64665322e-01, 1.64746893e-01,\n",
              "        1.64830422e-01, 1.64915927e-01, 1.65003423e-01, 1.65092925e-01,\n",
              "        1.65184447e-01, 1.65277998e-01, 1.65373589e-01, 1.65471226e-01,\n",
              "        1.65570914e-01, 1.65672656e-01, 1.65776452e-01, 1.65882299e-01,\n",
              "        1.65990192e-01, 1.66100124e-01, 1.66212083e-01, 1.66326055e-01,\n",
              "        1.66442022e-01, 1.66559963e-01, 1.66679855e-01, 1.66801667e-01,\n",
              "        1.66925367e-01, 1.67050919e-01, 1.67178282e-01, 1.67307409e-01,\n",
              "        1.67438249e-01, 1.67570749e-01, 1.67704845e-01, 1.67840474e-01,\n",
              "        1.67977562e-01, 1.68116033e-01, 1.68255802e-01, 1.68396782e-01,\n",
              "        1.68538874e-01, 1.68681977e-01, 1.68825981e-01, 1.68970769e-01,\n",
              "        1.69116218e-01, 1.69262195e-01, 1.69408562e-01, 1.69555171e-01,\n",
              "        1.69701866e-01, 1.69848485e-01, 1.69994853e-01, 1.70140790e-01,\n",
              "        1.70286105e-01, 1.70430598e-01, 1.70574060e-01, 1.70716270e-01,\n",
              "        1.70857000e-01, 1.70996010e-01, 1.71133050e-01, 1.71267860e-01,\n",
              "        1.71400167e-01, 1.71529690e-01, 1.71656135e-01, 1.71779196e-01,\n",
              "        1.71898557e-01, 1.72013890e-01, 1.72124853e-01, 1.72231096e-01,\n",
              "        1.72332252e-01, 1.72427945e-01, 1.72517787e-01, 1.72601374e-01,\n",
              "        1.72678292e-01, 1.72748114e-01, 1.72810399e-01, 1.72864696e-01,\n",
              "        1.72910536e-01, 1.72947443e-01, 1.72974923e-01, 1.72992472e-01,\n",
              "        1.72999572e-01, 1.72995693e-01, 1.72980291e-01, 1.72952810e-01,\n",
              "        1.72912681e-01, 1.72859323e-01, 1.72792143e-01, 1.72710533e-01,\n",
              "        1.72613877e-01, 1.72501545e-01, 1.72372895e-01, 1.72227276e-01,\n",
              "        1.72064024e-01, 1.71882465e-01, 1.71681915e-01, 1.71461681e-01,\n",
              "        1.71221057e-01, 1.70959333e-01, 1.70675788e-01, 1.70369692e-01,\n",
              "        1.70040309e-01, 1.69686897e-01, 1.69308705e-01, 1.68904981e-01,\n",
              "        1.68474963e-01, 1.68017890e-01, 1.67532993e-01, 1.67019505e-01,\n",
              "        1.66476654e-01, 1.65903670e-01, 1.65299782e-01, 1.64664220e-01,\n",
              "        1.63996220e-01, 1.63295016e-01, 1.62559852e-01, 1.61789976e-01,\n",
              "        1.60984642e-01, 1.60143116e-01, 1.59264671e-01, 1.58348594e-01,\n",
              "        1.57394184e-01, 1.56400755e-01, 1.55367638e-01, 1.54294182e-01,\n",
              "        1.53179756e-01, 1.52023752e-01, 1.50825584e-01, 1.49584694e-01,\n",
              "        1.48300551e-01, 1.46972656e-01, 1.45600542e-01, 1.44183777e-01,\n",
              "        1.42721968e-01, 1.41214762e-01, 1.39661849e-01, 1.38062966e-01,\n",
              "        1.36417898e-01, 1.34726484e-01, 1.32988617e-01, 1.31204252e-01,\n",
              "        1.29373403e-01, 1.27496152e-01, 1.25572651e-01, 1.23603127e-01,\n",
              "        1.21587883e-01, 1.19527307e-01, 1.17421872e-01, 1.15272144e-01,\n",
              "        1.13078785e-01, 1.10842558e-01, 1.08564334e-01, 1.06245093e-01,\n",
              "        1.03885936e-01, 1.01488085e-01, 9.90528902e-02, 9.65818380e-02,\n",
              "        9.40765546e-02, 9.15388135e-02, 8.89705410e-02, 8.63738226e-02,\n",
              "        8.37509091e-02, 8.11042231e-02, 7.84363643e-02, 7.57501156e-02,\n",
              "        7.30484484e-02, 7.03345277e-02, 6.76117159e-02, 6.48835772e-02,\n",
              "        6.21538796e-02, 5.94265968e-02, 5.67059083e-02, 5.39961978e-02,\n",
              "        5.13020498e-02, 4.86282437e-02, 4.59797453e-02, 4.33616951e-02,\n",
              "        4.07793925e-02, 3.82382773e-02, 3.57439043e-02, 3.33019148e-02,\n",
              "        3.09180014e-02, 2.85978665e-02, 2.63471744e-02, 2.41714963e-02,\n",
              "        2.20762487e-02, 2.00666236e-02, 1.81475127e-02, 1.63234254e-02,\n",
              "        1.45984018e-02, 1.29759217e-02, 1.14588137e-02, 1.00491646e-02,\n",
              "        8.74823565e-03, 7.55638702e-03, 6.47301692e-03, 5.49651988e-03,\n",
              "        4.62426902e-03, 3.85262712e-03, 3.17699015e-03, 2.59186558e-03,\n",
              "        2.09098567e-03, 1.66745369e-03, 1.31391783e-03, 1.02276528e-03,\n",
              "        7.86325962e-04, 5.97074260e-04, 4.47816022e-04, 3.31849365e-04,\n",
              "        2.43089775e-04, 1.76153533e-04, 1.26397590e-04, 8.99182691e-05,\n",
              "        6.35148021e-05, 4.46262498e-05, 3.12514930e-05, 2.18616973e-05,\n",
              "        1.53132703e-05, 1.07672576e-05, 7.61886306e-06, 5.43871750e-06,\n",
              "        3.92591515e-06, 2.87177162e-06, 2.13269901e-06, 1.61042718e-06,\n",
              "        1.23789363e-06, 9.69356079e-07, 7.73561768e-07, 6.29078865e-07,\n",
              "        5.21129761e-07, 4.39453110e-07, 3.76863494e-07, 3.28280991e-07,\n",
              "        2.90076037e-07, 2.59625616e-07, 2.35011205e-07, 2.14812102e-07,\n",
              "        1.97963203e-07, 1.83656560e-07, 1.71272875e-07, 1.60333558e-07,\n",
              "        1.50467014e-07, 1.41384764e-07, 1.32864391e-07, 1.24737177e-07,\n",
              "        1.16878918e-07, 1.09202870e-07, 1.01654043e-07, 9.42043319e-08,\n",
              "        8.68481239e-08, 7.95981566e-08, 7.24815157e-08, 6.55357302e-08,\n",
              "        5.88049881e-08, 5.23365360e-08, 4.61773496e-08, 4.03711721e-08,\n",
              "        3.49560120e-08, 2.99621782e-08, 2.54109023e-08, 2.13135714e-08,\n",
              "        1.76715584e-08, 1.44766067e-08, 1.17116955e-08, 9.35228867e-09,\n",
              "        7.36785534e-09, 5.72354239e-09, 4.38188114e-09, 3.30442122e-09,\n",
              "        2.45320136e-09, 1.79198946e-09, 1.28724927e-09, 9.08816487e-10,\n",
              "        6.30290593e-10, 4.29168387e-10, 2.86759864e-10, 1.87935671e-10,\n",
              "        1.20758426e-10, 7.60479868e-11, 4.69245760e-11, 2.83648706e-11,\n",
              "        1.67961906e-11, 9.74408666e-12, 5.53995741e-12, 3.08845727e-12,\n",
              "        1.68966443e-12, 9.08188678e-13, 4.80311316e-13, 2.50426139e-13,\n",
              "        1.29031072e-13, 6.58941937e-14, 3.34714126e-14, 1.69819039e-14,\n",
              "        8.64742332e-15, 4.44403792e-15, 2.31932846e-15, 1.23774553e-15,\n",
              "        6.80516595e-16, 3.88560021e-16, 2.32339514e-16, 1.46739732e-16,\n",
              "        9.87255600e-17, 7.13406500e-17, 5.57937227e-17, 4.75453214e-17,\n",
              "        4.43945709e-17, 4.56094407e-17, 5.16855926e-17, 6.46516722e-17,\n",
              "        8.91618647e-17, 1.35162644e-16, 2.24151904e-16, 4.04099209e-16,\n",
              "        7.85915164e-16, 1.63473688e-15, 3.60285956e-15, 8.33217846e-15,\n",
              "        2.00235799e-14, 4.95281800e-14, 1.24951647e-13, 3.18813605e-13,\n",
              "        8.16384130e-13, 2.08371982e-12, 5.26960770e-12, 1.31371686e-11,\n",
              "        3.21492533e-11, 7.69654221e-11, 1.79765648e-10, 4.08811604e-10,\n",
              "        9.03897464e-10, 1.94128655e-09, 4.04779370e-09, 8.19308311e-09,\n",
              "        1.61008645e-08, 3.07328031e-08, 5.70122810e-08, 1.02866717e-07,\n",
              "        1.80674595e-07, 3.09204206e-07, 5.16123310e-07, 8.41141185e-07,\n",
              "        1.33981672e-06, 2.08802961e-06, 3.18706889e-06, 4.76924710e-06,\n",
              "        7.00390407e-06, 1.01036249e-05, 1.43304660e-05, 2.00019647e-05,\n",
              "        2.74966998e-05, 3.72591816e-05, 4.98038633e-05, 6.57181014e-05,\n",
              "        8.56639283e-05, 1.10378542e-04, 1.40673469e-04, 1.77432389e-04,\n",
              "        2.21607677e-04, 2.74215723e-04, 3.36331153e-04, 4.09080080e-04,\n",
              "        4.93632541e-04, 5.91194279e-04, 7.02998051e-04, 8.30294623e-04,\n",
              "        9.74343607e-04, 1.13640432e-03, 1.31772675e-03, 1.51954285e-03,\n",
              "        1.74305816e-03, 1.98944387e-03, 2.25982955e-03, 2.55529629e-03,\n",
              "        2.87687068e-03, 3.22551929e-03, 3.60214394e-03, 4.00757760e-03,\n",
              "        4.44258100e-03, 4.90783988e-03, 5.40396285e-03, 5.93147994e-03,\n",
              "        6.49084161e-03, 7.08241842e-03, 7.70650108e-03, 8.36330103e-03,\n",
              "        9.05295143e-03, 9.77550847e-03, 1.05309531e-02, 1.13191930e-02,\n",
              "        1.21400648e-02, 1.29933365e-02, 1.38787102e-02, 1.47958247e-02,\n",
              "        1.57442588e-02, 1.67235341e-02, 1.77331177e-02, 1.87724262e-02,\n",
              "        1.98408280e-02, 2.09376473e-02, 2.20621664e-02, 2.32136296e-02,\n",
              "        2.43912459e-02, 2.55941922e-02, 2.68216162e-02, 2.80726394e-02,\n",
              "        2.93463602e-02, 3.06418562e-02, 3.19581873e-02, 3.32943982e-02,\n",
              "        3.46495207e-02, 3.60225765e-02, 3.74125792e-02, 3.88185368e-02,\n",
              "        4.02394533e-02, 4.16743316e-02, 4.31221744e-02, 4.45819870e-02,\n",
              "        4.60527783e-02, 4.75335627e-02, 4.90233617e-02, 5.05212054e-02,\n",
              "        5.20261334e-02, 5.35371969e-02, 5.50534591e-02, 5.65739966e-02,\n",
              "        5.80979005e-02, 5.96242772e-02, 6.11522496e-02, 6.26809572e-02,\n",
              "        6.42095576e-02, 6.57372268e-02, 6.72631596e-02, 6.87865705e-02,\n",
              "        7.03066941e-02, 7.18227853e-02, 7.33341198e-02, 7.48399944e-02,\n",
              "        7.63397273e-02, 7.78326584e-02, 7.93181491e-02, 8.07955828e-02,\n",
              "        8.22643648e-02, 8.37239225e-02, 8.51737050e-02, 8.66131836e-02,\n",
              "        8.80418515e-02, 8.94592237e-02, 9.08648367e-02, 9.22582488e-02]),\n",
              " array([[[-1.96596153e-03]],\n",
              " \n",
              "        [[-2.04206665e-03]],\n",
              " \n",
              "        [[-2.12065723e-03]],\n",
              " \n",
              "        [[-2.20179076e-03]],\n",
              " \n",
              "        [[-2.28552472e-03]],\n",
              " \n",
              "        [[-2.37191654e-03]],\n",
              " \n",
              "        [[-2.46102343e-03]],\n",
              " \n",
              "        [[-2.55290235e-03]],\n",
              " \n",
              "        [[-2.64760980e-03]],\n",
              " \n",
              "        [[-2.74520179e-03]],\n",
              " \n",
              "        [[-2.84573362e-03]],\n",
              " \n",
              "        [[-2.94925980e-03]],\n",
              " \n",
              "        [[-3.05583388e-03]],\n",
              " \n",
              "        [[-3.16550828e-03]],\n",
              " \n",
              "        [[-3.27833411e-03]],\n",
              " \n",
              "        [[-3.39436105e-03]],\n",
              " \n",
              "        [[-3.51363709e-03]],\n",
              " \n",
              "        [[-3.63620838e-03]],\n",
              " \n",
              "        [[-3.76211898e-03]],\n",
              " \n",
              "        [[-3.89141069e-03]],\n",
              " \n",
              "        [[-4.02412276e-03]],\n",
              " \n",
              "        [[-4.16029169e-03]],\n",
              " \n",
              "        [[-4.29995096e-03]],\n",
              " \n",
              "        [[-4.44313075e-03]],\n",
              " \n",
              "        [[-4.58985767e-03]],\n",
              " \n",
              "        [[-4.74015445e-03]],\n",
              " \n",
              "        [[-4.89403964e-03]],\n",
              " \n",
              "        [[-5.05152731e-03]],\n",
              " \n",
              "        [[-5.21262666e-03]],\n",
              " \n",
              "        [[-5.37734171e-03]],\n",
              " \n",
              "        [[-5.54567091e-03]],\n",
              " \n",
              "        [[-5.71760677e-03]],\n",
              " \n",
              "        [[-5.89313546e-03]],\n",
              " \n",
              "        [[-6.07223638e-03]],\n",
              " \n",
              "        [[-6.25488174e-03]],\n",
              " \n",
              "        [[-6.44103610e-03]],\n",
              " \n",
              "        [[-6.63065595e-03]],\n",
              " \n",
              "        [[-6.82368915e-03]],\n",
              " \n",
              "        [[-7.02007450e-03]],\n",
              " \n",
              "        [[-7.21974117e-03]],\n",
              " \n",
              "        [[-7.42260822e-03]],\n",
              " \n",
              "        [[-7.62858400e-03]],\n",
              " \n",
              "        [[-7.83756559e-03]],\n",
              " \n",
              "        [[-8.04943823e-03]],\n",
              " \n",
              "        [[-8.26407468e-03]],\n",
              " \n",
              "        [[-8.48133463e-03]],\n",
              " \n",
              "        [[-8.70106402e-03]],\n",
              " \n",
              "        [[-8.92309442e-03]],\n",
              " \n",
              "        [[-9.14724231e-03]],\n",
              " \n",
              "        [[-9.37330839e-03]],\n",
              " \n",
              "        [[-9.60107688e-03]],\n",
              " \n",
              "        [[-9.83031478e-03]],\n",
              " \n",
              "        [[-1.00607711e-02]],\n",
              " \n",
              "        [[-1.02921762e-02]],\n",
              " \n",
              "        [[-1.05242408e-02]],\n",
              " \n",
              "        [[-1.07566552e-02]],\n",
              " \n",
              "        [[-1.09890889e-02]],\n",
              " \n",
              "        [[-1.12211892e-02]],\n",
              " \n",
              "        [[-1.14525805e-02]],\n",
              " \n",
              "        [[-1.16828638e-02]],\n",
              " \n",
              "        [[-1.19116152e-02]],\n",
              " \n",
              "        [[-1.21383858e-02]],\n",
              " \n",
              "        [[-1.23627001e-02]],\n",
              " \n",
              "        [[-1.25840554e-02]],\n",
              " \n",
              "        [[-1.28019211e-02]],\n",
              " \n",
              "        [[-1.30157372e-02]],\n",
              " \n",
              "        [[-1.32249140e-02]],\n",
              " \n",
              "        [[-1.34288310e-02]],\n",
              " \n",
              "        [[-1.36268355e-02]],\n",
              " \n",
              "        [[-1.38182424e-02]],\n",
              " \n",
              "        [[-1.40023327e-02]],\n",
              " \n",
              "        [[-1.41783531e-02]],\n",
              " \n",
              "        [[-1.43455143e-02]],\n",
              " \n",
              "        [[-1.45029910e-02]],\n",
              " \n",
              "        [[-1.46499203e-02]],\n",
              " \n",
              "        [[-1.47854012e-02]],\n",
              " \n",
              "        [[-1.49084932e-02]],\n",
              " \n",
              "        [[-1.50182164e-02]],\n",
              " \n",
              "        [[-1.51135494e-02]],\n",
              " \n",
              "        [[-1.51934296e-02]],\n",
              " \n",
              "        [[-1.52567517e-02]],\n",
              " \n",
              "        [[-1.53023670e-02]],\n",
              " \n",
              "        [[-1.53290831e-02]],\n",
              " \n",
              "        [[-1.53356625e-02]],\n",
              " \n",
              "        [[-1.53208225e-02]],\n",
              " \n",
              "        [[-1.52832343e-02]],\n",
              " \n",
              "        [[-1.52215222e-02]],\n",
              " \n",
              "        [[-1.51342635e-02]],\n",
              " \n",
              "        [[-1.50199876e-02]],\n",
              " \n",
              "        [[-1.48771758e-02]],\n",
              " \n",
              "        [[-1.47042606e-02]],\n",
              " \n",
              "        [[-1.44996258e-02]],\n",
              " \n",
              "        [[-1.42616056e-02]],\n",
              " \n",
              "        [[-1.39884851e-02]],\n",
              " \n",
              "        [[-1.36784994e-02]],\n",
              " \n",
              "        [[-1.33298342e-02]],\n",
              " \n",
              "        [[-1.29406255e-02]],\n",
              " \n",
              "        [[-1.25089595e-02]],\n",
              " \n",
              "        [[-1.20328731e-02]],\n",
              " \n",
              "        [[-1.15103541e-02]],\n",
              " \n",
              "        [[-1.09393414e-02]],\n",
              " \n",
              "        [[-1.03177255e-02]],\n",
              " \n",
              "        [[-9.64334919e-03]],\n",
              " \n",
              "        [[-8.91400802e-03]],\n",
              " \n",
              "        [[-8.12745118e-03]],\n",
              " \n",
              "        [[-7.28138231e-03]],\n",
              " \n",
              "        [[-6.37346053e-03]],\n",
              " \n",
              "        [[-5.40130152e-03]],\n",
              " \n",
              "        [[-4.36247879e-03]],\n",
              " \n",
              "        [[-3.25452496e-03]],\n",
              " \n",
              "        [[-2.07493333e-03]],\n",
              " \n",
              "        [[-8.21159431e-04]],\n",
              " \n",
              "        [[ 5.09377206e-04]],\n",
              " \n",
              "        [[ 1.91929115e-03]],\n",
              " \n",
              "        [[ 3.41122906e-03]],\n",
              " \n",
              "        [[ 4.98786751e-03]],\n",
              " \n",
              "        [[ 6.65191066e-03]],\n",
              " \n",
              "        [[ 8.40608782e-03]],\n",
              " \n",
              "        [[ 1.02531508e-02]],\n",
              " \n",
              "        [[ 1.21958712e-02]],\n",
              " \n",
              "        [[ 1.42370374e-02]],\n",
              " \n",
              "        [[ 1.63794516e-02]],\n",
              " \n",
              "        [[ 1.86259266e-02]],\n",
              " \n",
              "        [[ 2.09792820e-02]],\n",
              " \n",
              "        [[ 2.34423415e-02]],\n",
              " \n",
              "        [[ 2.60179282e-02]],\n",
              " \n",
              "        [[ 2.87088616e-02]],\n",
              " \n",
              "        [[ 3.15179529e-02]],\n",
              " \n",
              "        [[ 3.44480011e-02]],\n",
              " \n",
              "        [[ 3.75017887e-02]],\n",
              " \n",
              "        [[ 4.06820772e-02]],\n",
              " \n",
              "        [[ 4.39916019e-02]],\n",
              " \n",
              "        [[ 4.74330680e-02]],\n",
              " \n",
              "        [[ 5.10091445e-02]],\n",
              " \n",
              "        [[ 5.47224598e-02]],\n",
              " \n",
              "        [[ 5.85755962e-02]],\n",
              " \n",
              "        [[ 6.25710840e-02]],\n",
              " \n",
              "        [[ 6.67113965e-02]],\n",
              " \n",
              "        [[ 7.09989434e-02]],\n",
              " \n",
              "        [[ 7.54360653e-02]],\n",
              " \n",
              "        [[ 8.00250277e-02]],\n",
              " \n",
              "        [[ 8.47680141e-02]],\n",
              " \n",
              "        [[ 8.96671198e-02]],\n",
              " \n",
              "        [[ 9.47243455e-02]],\n",
              " \n",
              "        [[ 9.99415901e-02]],\n",
              " \n",
              "        [[ 1.05320644e-01]],\n",
              " \n",
              "        [[ 1.10863181e-01]],\n",
              " \n",
              "        [[ 1.16570754e-01]],\n",
              " \n",
              "        [[ 1.22444782e-01]],\n",
              " \n",
              "        [[ 1.28486549e-01]],\n",
              " \n",
              "        [[ 1.34697192e-01]],\n",
              " \n",
              "        [[ 1.41077693e-01]],\n",
              " \n",
              "        [[ 1.47628872e-01]],\n",
              " \n",
              "        [[ 1.54351380e-01]],\n",
              " \n",
              "        [[ 1.61245688e-01]],\n",
              " \n",
              "        [[ 1.68312079e-01]],\n",
              " \n",
              "        [[ 1.75550639e-01]],\n",
              " \n",
              "        [[ 1.82961249e-01]],\n",
              " \n",
              "        [[ 1.90543575e-01]],\n",
              " \n",
              "        [[ 1.98297057e-01]],\n",
              " \n",
              "        [[ 2.06220902e-01]],\n",
              " \n",
              "        [[ 2.14314073e-01]],\n",
              " \n",
              "        [[ 2.22575275e-01]],\n",
              " \n",
              "        [[ 2.31002951e-01]],\n",
              " \n",
              "        [[ 2.39595267e-01]],\n",
              " \n",
              "        [[ 2.48350100e-01]],\n",
              " \n",
              "        [[ 2.57265032e-01]],\n",
              " \n",
              "        [[ 2.66337330e-01]],\n",
              " \n",
              "        [[ 2.75563943e-01]],\n",
              " \n",
              "        [[ 2.84941481e-01]],\n",
              " \n",
              "        [[ 2.94466209e-01]],\n",
              " \n",
              "        [[ 3.04134029e-01]],\n",
              " \n",
              "        [[ 3.13940469e-01]],\n",
              " \n",
              "        [[ 3.23880667e-01]],\n",
              " \n",
              "        [[ 3.33949357e-01]],\n",
              " \n",
              "        [[ 3.44140855e-01]],\n",
              " \n",
              "        [[ 3.54449039e-01]],\n",
              " \n",
              "        [[ 3.64867338e-01]],\n",
              " \n",
              "        [[ 3.75388710e-01]],\n",
              " \n",
              "        [[ 3.86005626e-01]],\n",
              " \n",
              "        [[ 3.96710052e-01]],\n",
              " \n",
              "        [[ 4.07493429e-01]],\n",
              " \n",
              "        [[ 4.18346652e-01]],\n",
              " \n",
              "        [[ 4.29260048e-01]],\n",
              " \n",
              "        [[ 4.40223357e-01]],\n",
              " \n",
              "        [[ 4.51225706e-01]],\n",
              " \n",
              "        [[ 4.62255584e-01]],\n",
              " \n",
              "        [[ 4.73300819e-01]],\n",
              " \n",
              "        [[ 4.84348551e-01]],\n",
              " \n",
              "        [[ 4.95385203e-01]],\n",
              " \n",
              "        [[ 5.06396454e-01]],\n",
              " \n",
              "        [[ 5.17367204e-01]],\n",
              " \n",
              "        [[ 5.28281551e-01]],\n",
              " \n",
              "        [[ 5.39122749e-01]],\n",
              " \n",
              "        [[ 5.49873181e-01]],\n",
              " \n",
              "        [[ 5.60514318e-01]],\n",
              " \n",
              "        [[ 5.71026687e-01]],\n",
              " \n",
              "        [[ 5.81389831e-01]],\n",
              " \n",
              "        [[ 5.91582270e-01]],\n",
              " \n",
              "        [[ 6.01581461e-01]],\n",
              " \n",
              "        [[ 6.11363760e-01]],\n",
              " \n",
              "        [[ 6.20904379e-01]],\n",
              " \n",
              "        [[ 6.30177345e-01]],\n",
              " \n",
              "        [[ 6.39155461e-01]],\n",
              " \n",
              "        [[ 6.47810263e-01]],\n",
              " \n",
              "        [[ 6.56111987e-01]],\n",
              " \n",
              "        [[ 6.64029528e-01]],\n",
              " \n",
              "        [[ 6.71530411e-01]],\n",
              " \n",
              "        [[ 6.78580759e-01]],\n",
              " \n",
              "        [[ 6.85145273e-01]],\n",
              " \n",
              "        [[ 6.91187216e-01]],\n",
              " \n",
              "        [[ 6.96668409e-01]],\n",
              " \n",
              "        [[ 7.01549231e-01]],\n",
              " \n",
              "        [[ 7.05788646e-01]],\n",
              " \n",
              "        [[ 7.09344235e-01]],\n",
              " \n",
              "        [[ 7.12172257e-01]],\n",
              " \n",
              "        [[ 7.14227733e-01]],\n",
              " \n",
              "        [[ 7.15464554e-01]],\n",
              " \n",
              "        [[ 7.15835636e-01]],\n",
              " \n",
              "        [[ 7.15293106e-01]],\n",
              " \n",
              "        [[ 7.13788543e-01]],\n",
              " \n",
              "        [[ 7.11273270e-01]],\n",
              " \n",
              "        [[ 7.07698713e-01]],\n",
              " \n",
              "        [[ 7.03016835e-01]],\n",
              " \n",
              "        [[ 6.97180652e-01]],\n",
              " \n",
              "        [[ 6.90144839e-01]],\n",
              " \n",
              "        [[ 6.81866447e-01]],\n",
              " \n",
              "        [[ 6.72305728e-01]],\n",
              " \n",
              "        [[ 6.61427087e-01]],\n",
              " \n",
              "        [[ 6.49200164e-01]],\n",
              " \n",
              "        [[ 6.35601050e-01]],\n",
              " \n",
              "        [[ 6.20613652e-01]],\n",
              " \n",
              "        [[ 6.04231179e-01]],\n",
              " \n",
              "        [[ 5.86457763e-01]],\n",
              " \n",
              "        [[ 5.67310187e-01]],\n",
              " \n",
              "        [[ 5.46819681e-01]],\n",
              " \n",
              "        [[ 5.25033754e-01]],\n",
              " \n",
              "        [[ 5.02017993e-01]],\n",
              " \n",
              "        [[ 4.77857751e-01]],\n",
              " \n",
              "        [[ 4.52659621e-01]],\n",
              " \n",
              "        [[ 4.26552572e-01]],\n",
              " \n",
              "        [[ 3.99688608e-01]],\n",
              " \n",
              "        [[ 3.72242783e-01]],\n",
              " \n",
              "        [[ 3.44412402e-01]],\n",
              " \n",
              "        [[ 3.16415240e-01]],\n",
              " \n",
              "        [[ 2.88486621e-01]],\n",
              " \n",
              "        [[ 2.60875249e-01]],\n",
              " \n",
              "        [[ 2.33837724e-01]],\n",
              " \n",
              "        [[ 2.07631792e-01]],\n",
              " \n",
              "        [[ 1.82508482e-01]],\n",
              " \n",
              "        [[ 1.58703425e-01]],\n",
              " \n",
              "        [[ 1.36427793e-01]],\n",
              " \n",
              "        [[ 1.15859457e-01]],\n",
              " \n",
              "        [[ 9.71350543e-02]],\n",
              " \n",
              "        [[ 8.03436989e-02]],\n",
              " \n",
              "        [[ 6.55230539e-02]],\n",
              " \n",
              "        [[ 5.26583102e-02]],\n",
              " \n",
              "        [[ 4.16843861e-02]],\n",
              " \n",
              "        [[ 3.24913166e-02]],\n",
              " \n",
              "        [[ 2.49324285e-02]],\n",
              " \n",
              "        [[ 1.88345488e-02]],\n",
              " \n",
              "        [[ 1.40092291e-02]],\n",
              " \n",
              "        [[ 1.02638658e-02]],\n",
              " \n",
              "        [[ 7.41166164e-03]],\n",
              " \n",
              "        [[ 5.27960864e-03]],\n",
              " \n",
              "        [[ 3.71401722e-03]],\n",
              " \n",
              "        [[ 2.58350146e-03]],\n",
              " \n",
              "        [[ 1.77966714e-03]],\n",
              " \n",
              "        [[ 1.21598735e-03]],\n",
              " \n",
              "        [[ 8.25457634e-04]],\n",
              " \n",
              "        [[ 5.57611024e-04]],\n",
              " \n",
              "        [[ 3.75375309e-04]],\n",
              " \n",
              "        [[ 2.52115108e-04]],\n",
              " \n",
              "        [[ 1.69058676e-04]],\n",
              " \n",
              "        [[ 1.23047858e-04]],\n",
              " \n",
              "        [[ 1.37049004e-04]],\n",
              " \n",
              "        [[ 1.40736896e-04]],\n",
              " \n",
              "        [[ 1.38698188e-04]],\n",
              " \n",
              "        [[ 1.33742543e-04]],\n",
              " \n",
              "        [[ 1.27542306e-04]],\n",
              " \n",
              "        [[ 1.21055367e-04]],\n",
              " \n",
              "        [[ 1.14799011e-04]],\n",
              " \n",
              "        [[ 1.09024095e-04]],\n",
              " \n",
              "        [[ 1.03824027e-04]],\n",
              " \n",
              "        [[ 9.92019269e-05]],\n",
              " \n",
              "        [[ 9.51114095e-05]],\n",
              " \n",
              "        [[ 9.14810090e-05]],\n",
              " \n",
              "        [[ 8.82286107e-05]],\n",
              " \n",
              "        [[ 8.52698929e-05]],\n",
              " \n",
              "        [[ 8.25232497e-05]],\n",
              " \n",
              "        [[ 7.99126931e-05]],\n",
              " \n",
              "        [[ 7.73696208e-05]],\n",
              " \n",
              "        [[ 7.48339555e-05]],\n",
              " \n",
              "        [[ 7.22549244e-05]],\n",
              " \n",
              "        [[ 6.95916028e-05]],\n",
              " \n",
              "        [[ 6.68132650e-05]],\n",
              " \n",
              "        [[ 6.38995378e-05]],\n",
              " \n",
              "        [[ 6.08403336e-05]],\n",
              " \n",
              "        [[ 5.76355361e-05]],\n",
              " \n",
              "        [[ 5.42944188e-05]],\n",
              " \n",
              "        [[ 5.08347910e-05]],\n",
              " \n",
              "        [[ 4.72818834e-05]],\n",
              " \n",
              "        [[ 4.36670021e-05]],\n",
              " \n",
              "        [[ 4.00259983e-05]],\n",
              " \n",
              "        [[ 3.63976141e-05]],\n",
              " \n",
              "        [[ 3.28217749e-05]],\n",
              " \n",
              "        [[ 2.93379031e-05]],\n",
              " \n",
              "        [[ 2.59833307e-05]],\n",
              " \n",
              "        [[ 2.27918803e-05]],\n",
              " \n",
              "        [[ 1.97926761e-05]],\n",
              " \n",
              "        [[ 1.70092333e-05]],\n",
              " \n",
              "        [[ 1.44588554e-05]],\n",
              " \n",
              "        [[ 1.21523555e-05]],\n",
              " \n",
              "        [[ 1.00940921e-05]],\n",
              " \n",
              "        [[ 8.28230017e-06]],\n",
              " \n",
              "        [[ 6.70967442e-06]],\n",
              " \n",
              "        [[ 5.36415635e-06]],\n",
              " \n",
              "        [[ 4.22986271e-06]],\n",
              " \n",
              "        [[ 3.28809225e-06]],\n",
              " \n",
              "        [[ 2.51834659e-06]],\n",
              " \n",
              "        [[ 1.89930673e-06]],\n",
              " \n",
              "        [[ 1.40971515e-06]],\n",
              " \n",
              "        [[ 1.02912532e-06]],\n",
              " \n",
              "        [[ 7.38493793e-07]],\n",
              " \n",
              "        [[ 5.20603859e-07]],\n",
              " \n",
              "        [[ 3.60323046e-07]],\n",
              " \n",
              "        [[ 2.44708089e-07]],\n",
              " \n",
              "        [[ 1.62979608e-07]],\n",
              " \n",
              "        [[ 1.06394342e-07]],\n",
              " \n",
              "        [[ 6.80450508e-08]],\n",
              " \n",
              "        [[ 4.26174851e-08]],\n",
              " \n",
              "        [[ 2.61306119e-08]],\n",
              " \n",
              "        [[ 1.56814355e-08]],\n",
              " \n",
              "        [[ 9.20998483e-09]],\n",
              " \n",
              "        [[ 5.29423147e-09]],\n",
              " \n",
              "        [[ 2.97946665e-09]],\n",
              " \n",
              "        [[ 1.64244055e-09]],\n",
              " \n",
              "        [[ 8.87568031e-10]],\n",
              " \n",
              "        [[ 4.70717804e-10]],\n",
              " \n",
              "        [[ 2.45365575e-10]],\n",
              " \n",
              "        [[ 1.25947287e-10]],\n",
              " \n",
              "        [[ 6.38137904e-11]],\n",
              " \n",
              "        [[ 3.20063360e-11]],\n",
              " \n",
              "        [[ 1.59450937e-11]],\n",
              " \n",
              "        [[ 7.92128479e-12]],\n",
              " \n",
              "        [[ 3.94164348e-12]],\n",
              " \n",
              "        [[ 1.97430859e-12]],\n",
              " \n",
              "        [[ 1.00072898e-12]],\n",
              " \n",
              "        [[ 5.16157606e-13]],\n",
              " \n",
              "        [[ 2.72389894e-13]],\n",
              " \n",
              "        [[ 1.47814720e-13]],\n",
              " \n",
              "        [[ 8.28026993e-14]],\n",
              " \n",
              "        [[ 4.79586728e-14]],\n",
              " \n",
              "        [[ 2.86395085e-14]],\n",
              " \n",
              "        [[ 1.74245893e-14]],\n",
              " \n",
              "        [[ 1.04406574e-14]],\n",
              " \n",
              "        [[ 5.53884521e-15]],\n",
              " \n",
              "        [[ 2.02101856e-15]],\n",
              " \n",
              "        [[ 3.77321632e-15]],\n",
              " \n",
              "        [[ 6.56755096e-15]],\n",
              " \n",
              "        [[ 1.15457452e-14]],\n",
              " \n",
              "        [[ 2.11106862e-14]],\n",
              " \n",
              "        [[ 4.06104455e-14]],\n",
              " \n",
              "        [[ 8.24455602e-14]],\n",
              " \n",
              "        [[ 1.76352502e-13]],\n",
              " \n",
              "        [[ 3.95654614e-13]],\n",
              " \n",
              "        [[ 9.25170900e-13]],\n",
              " \n",
              "        [[ 2.23813051e-12]],\n",
              " \n",
              "        [[ 5.55732619e-12]],\n",
              " \n",
              "        [[ 1.40500320e-11]],\n",
              " \n",
              "        [[ 3.58862170e-11]],\n",
              " \n",
              "        [[ 9.19227685e-11]],\n",
              " \n",
              "        [[ 2.34553033e-10]],\n",
              " \n",
              "        [[ 5.92621128e-10]],\n",
              " \n",
              "        [[ 1.47492298e-09]],\n",
              " \n",
              "        [[ 3.60001453e-09]],\n",
              " \n",
              "        [[ 8.58635754e-09]],\n",
              " \n",
              "        [[ 1.99541258e-08]],\n",
              " \n",
              "        [[ 4.50838841e-08]],\n",
              " \n",
              "        [[ 9.88752510e-08]],\n",
              " \n",
              "        [[ 2.10271074e-07]],\n",
              " \n",
              "        [[ 4.33359650e-07]],\n",
              " \n",
              "        [[ 8.65402763e-07]],\n",
              " \n",
              "        [[ 1.67477500e-06]],\n",
              " \n",
              "        [[ 3.14230151e-06]],\n",
              " \n",
              "        [[ 5.71966939e-06]],\n",
              " \n",
              "        [[ 1.01082769e-05]],\n",
              " \n",
              "        [[ 1.73609270e-05]],\n",
              " \n",
              "        [[ 2.90071077e-05]],\n",
              " \n",
              "        [[ 4.72002911e-05]],\n",
              " \n",
              "        [[ 7.48829285e-05]],\n",
              " \n",
              "        [[ 1.15961933e-04]],\n",
              " \n",
              "        [[ 1.75484811e-04]],\n",
              " \n",
              "        [[ 2.59804601e-04]],\n",
              " \n",
              "        [[ 3.76720768e-04]],\n",
              " \n",
              "        [[ 5.35583295e-04]],\n",
              " \n",
              "        [[ 7.47348573e-04]],\n",
              " \n",
              "        [[ 1.02457807e-03]],\n",
              " \n",
              "        [[ 1.38137404e-03]],\n",
              " \n",
              "        [[ 1.83325026e-03]],\n",
              " \n",
              "        [[ 2.39693977e-03]],\n",
              " \n",
              "        [[ 3.09014514e-03]],\n",
              " \n",
              "        [[ 3.93124013e-03]],\n",
              " \n",
              "        [[ 4.93893388e-03]],\n",
              " \n",
              "        [[ 6.13191050e-03]],\n",
              " \n",
              "        [[ 7.52845756e-03]],\n",
              " \n",
              "        [[ 9.14609686e-03]],\n",
              " \n",
              "        [[ 1.10012299e-02]],\n",
              " \n",
              "        [[ 1.31088092e-02]],\n",
              " \n",
              "        [[ 1.54820450e-02]],\n",
              " \n",
              "        [[ 1.81321533e-02]],\n",
              " \n",
              "        [[ 2.10681521e-02]],\n",
              " \n",
              "        [[ 2.42967066e-02]],\n",
              " \n",
              "        [[ 2.78220258e-02]],\n",
              " \n",
              "        [[ 3.16458086e-02]],\n",
              " \n",
              "        [[ 3.57672373e-02]],\n",
              " \n",
              "        [[ 4.01830155e-02]],\n",
              " \n",
              "        [[ 4.48874442e-02]],\n",
              " \n",
              "        [[ 4.98725342e-02]],\n",
              " \n",
              "        [[ 5.51281455e-02]],\n",
              " \n",
              "        [[ 6.06421518e-02]],\n",
              " \n",
              "        [[ 6.64006225e-02]],\n",
              " \n",
              "        [[ 7.23880177e-02]],\n",
              " \n",
              "        [[ 7.85873922e-02]],\n",
              " \n",
              "        [[ 8.49806026e-02]],\n",
              " \n",
              "        [[ 9.15485150e-02]],\n",
              " \n",
              "        [[ 9.82712094e-02]],\n",
              " \n",
              "        [[ 1.05128178e-01]],\n",
              " \n",
              "        [[ 1.12098514e-01]],\n",
              " \n",
              "        [[ 1.19161092e-01]],\n",
              " \n",
              "        [[ 1.26294737e-01]],\n",
              " \n",
              "        [[ 1.33478377e-01]],\n",
              " \n",
              "        [[ 1.40691185e-01]],\n",
              " \n",
              "        [[ 1.47912708e-01]],\n",
              " \n",
              "        [[ 1.55122982e-01]],\n",
              " \n",
              "        [[ 1.62302629e-01]],\n",
              " \n",
              "        [[ 1.69432948e-01]],\n",
              " \n",
              "        [[ 1.76495987e-01]],\n",
              " \n",
              "        [[ 1.83474604e-01]],\n",
              " \n",
              "        [[ 1.90352521e-01]],\n",
              " \n",
              "        [[ 1.97114362e-01]],\n",
              " \n",
              "        [[ 2.03745681e-01]],\n",
              " \n",
              "        [[ 2.10232985e-01]],\n",
              " \n",
              "        [[ 2.16563747e-01]],\n",
              " \n",
              "        [[ 2.22726407e-01]],\n",
              " \n",
              "        [[ 2.28710373e-01]],\n",
              " \n",
              "        [[ 2.34506012e-01]],\n",
              " \n",
              "        [[ 2.40104637e-01]],\n",
              " \n",
              "        [[ 2.45498487e-01]],\n",
              " \n",
              "        [[ 2.50680709e-01]],\n",
              " \n",
              "        [[ 2.55645328e-01]],\n",
              " \n",
              "        [[ 2.60387221e-01]],\n",
              " \n",
              "        [[ 2.64902088e-01]],\n",
              " \n",
              "        [[ 2.69186418e-01]],\n",
              " \n",
              "        [[ 2.73237452e-01]],\n",
              " \n",
              "        [[ 2.77053156e-01]],\n",
              " \n",
              "        [[ 2.80632177e-01]],\n",
              " \n",
              "        [[ 2.83973813e-01]],\n",
              " \n",
              "        [[ 2.87077971e-01]],\n",
              " \n",
              "        [[ 2.89945139e-01]],\n",
              " \n",
              "        [[ 2.92576341e-01]],\n",
              " \n",
              "        [[ 2.94973110e-01]],\n",
              " \n",
              "        [[ 2.97137445e-01]],\n",
              " \n",
              "        [[ 2.99071785e-01]],\n",
              " \n",
              "        [[ 3.00778971e-01]],\n",
              " \n",
              "        [[ 3.02262215e-01]],\n",
              " \n",
              "        [[ 3.03525068e-01]],\n",
              " \n",
              "        [[ 3.04571392e-01]],\n",
              " \n",
              "        [[ 3.05405329e-01]],\n",
              " \n",
              "        [[ 3.06031276e-01]],\n",
              " \n",
              "        [[ 3.06453854e-01]],\n",
              " \n",
              "        [[ 3.06677885e-01]],\n",
              " \n",
              "        [[ 3.06708371e-01]],\n",
              " \n",
              "        [[ 3.06550464e-01]],\n",
              " \n",
              "        [[ 3.06209450e-01]],\n",
              " \n",
              "        [[ 3.05690727e-01]],\n",
              " \n",
              "        [[ 3.04999783e-01]],\n",
              " \n",
              "        [[ 3.04142180e-01]],\n",
              " \n",
              "        [[ 3.03123536e-01]],\n",
              " \n",
              "        [[ 3.01949509e-01]],\n",
              " \n",
              "        [[ 3.00625783e-01]],\n",
              " \n",
              "        [[ 2.99158050e-01]],\n",
              " \n",
              "        [[ 2.97552000e-01]],\n",
              " \n",
              "        [[ 2.95813309e-01]],\n",
              " \n",
              "        [[ 2.93947626e-01]],\n",
              " \n",
              "        [[ 2.91960563e-01]],\n",
              " \n",
              "        [[ 2.89857685e-01]],\n",
              " \n",
              "        [[ 2.87644503e-01]],\n",
              " \n",
              "        [[ 2.85326461e-01]],\n",
              " \n",
              "        [[ 2.82908936e-01]],\n",
              " \n",
              "        [[ 2.80397225e-01]],\n",
              " \n",
              "        [[ 2.77796540e-01]],\n",
              " \n",
              "        [[ 2.75112006e-01]],\n",
              " \n",
              "        [[ 2.72348653e-01]],\n",
              " \n",
              "        [[ 2.69511412e-01]],\n",
              " \n",
              "        [[ 2.66605111e-01]],\n",
              " \n",
              "        [[ 2.63634473e-01]],\n",
              " \n",
              "        [[ 2.60604112e-01]],\n",
              " \n",
              "        [[ 2.57518532e-01]],\n",
              " \n",
              "        [[ 2.54382123e-01]]]))"
            ]
          },
          "metadata": {
            "tags": []
          },
          "execution_count": 45
        }
      ]
    },
    {
      "cell_type": "code",
      "metadata": {
        "id": "ElSoYstc1ugD"
      },
      "source": [
        ""
      ],
      "execution_count": 45,
      "outputs": []
    }
  ]
}
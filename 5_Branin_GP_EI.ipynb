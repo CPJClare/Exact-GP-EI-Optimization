{
  "nbformat": 4,
  "nbformat_minor": 0,
  "metadata": {
    "colab": {
      "name": "5. Branin_GP_EI.ipynb",
      "provenance": [],
      "collapsed_sections": []
    },
    "kernelspec": {
      "name": "python3",
      "display_name": "Python 3"
    },
    "language_info": {
      "name": "python"
    }
  },
  "cells": [
    {
      "cell_type": "markdown",
      "metadata": {
        "id": "Dqn4dFx7Z2Ir"
      },
      "source": [
        "\n",
        "Branin:\n",
        "\n",
        "GP EI: derivation of exact partial-order GP EI derivatives wrt **x1**, **x2**"
      ]
    },
    {
      "cell_type": "code",
      "metadata": {
        "id": "MJTM_GZZZb5x"
      },
      "source": [
        "#pip install pyGPGO\n"
      ],
      "execution_count": null,
      "outputs": []
    },
    {
      "cell_type": "code",
      "metadata": {
        "id": "ZJSSPbwPaEUB"
      },
      "source": [
        "### Import:\n",
        "\n",
        "import numpy as np\n",
        "import scipy as sp\n",
        "import pandas as pd\n",
        "import matplotlib.pyplot as plt\n",
        "import warnings\n",
        "\n",
        "from pyGPGO.GPGO import GPGO\n",
        "from pyGPGO.surrogates.GaussianProcess import GaussianProcess\n",
        "from pyGPGO.acquisition import Acquisition\n",
        "from pyGPGO.covfunc import squaredExponential\n",
        "\n",
        "from joblib import Parallel, delayed\n",
        "from numpy.linalg import solve\n",
        "from scipy.optimize import minimize, approx_fprime\n",
        "from scipy.optimize._numdiff import _dense_difference, _compute_absolute_step, approx_derivative, _adjust_scheme_to_bounds, _prepare_bounds\n",
        "from scipy.spatial.distance import cdist\n",
        "from scipy.stats import norm\n",
        "import time\n",
        "\n",
        "warnings.filterwarnings(\"ignore\", category=RuntimeWarning)\n"
      ],
      "execution_count": null,
      "outputs": []
    },
    {
      "cell_type": "code",
      "metadata": {
        "id": "eYpI3Zm4aGxi"
      },
      "source": [
        "n_start_AcqFunc = 100 #multi-start iterations to avoid local optima in AcqFunc optimization\n"
      ],
      "execution_count": null,
      "outputs": []
    },
    {
      "cell_type": "code",
      "metadata": {
        "id": "OeYcTUNoaJWa"
      },
      "source": [
        "### Inputs:\n",
        "\n",
        "n_test = 500\n",
        "eps = 1e-08\n",
        "\n",
        "util_grad_exact = 'dEI_GP'\n",
        "util_grad_approx = 'ExpectedImprovement'\n",
        "\n",
        "n_init = 5 # random initialisations\n",
        "iters = 20\n",
        "opt = True"
      ],
      "execution_count": null,
      "outputs": []
    },
    {
      "cell_type": "code",
      "metadata": {
        "id": "xpaEOjdzaPMS"
      },
      "source": [
        "### Objective Function - Branin(x) 2-D:\n",
        "\n",
        "def objfunc(x1_training, x2_training, a = 1, b = (5.1 / (4 * (np.pi) ** 2)), c = (5 / (np.pi)), r = 6, s = 10, t = (1 / (8 * np.pi))):\n",
        "        return operator * ((a * (x2_training - b * x1_training ** 2 + c * x1_training - r) ** 2) + \n",
        "                 s * (1 - t) * np.cos(x1_training) + s)\n",
        "        \n",
        "# Constraints:\n",
        "lb_x1 = -5 \n",
        "ub_x1 = +10\n",
        "lb_x2 = +0 \n",
        "ub_x2 = +15\n",
        "\n",
        "# Input array dimension(s):\n",
        "dim = 2\n",
        "\n",
        "# 2-D inputs' parameter bounds:\n",
        "param = {'x1_training': ('cont', [lb_x1, ub_x1]),\n",
        "             'x2_training': ('cont', [lb_x2, ub_x2])}\n",
        "\n",
        "# True y bounds:\n",
        "operator = -1\n",
        "y_lb = 0.397887 # targets global minimum\n",
        "y_global_orig = y_lb * operator # targets global minimum\n",
        "\n",
        "\n",
        "# Test data:\n",
        "x1_test = np.linspace(lb_x1, ub_x1, n_test)\n",
        "x2_test = np.linspace(lb_x2, ub_x2, n_test)\n",
        "  \n",
        "x_test = np.column_stack((x1_test,x2_test))\n"
      ],
      "execution_count": null,
      "outputs": []
    },
    {
      "cell_type": "code",
      "metadata": {
        "id": "oO_GUmOoaV0T"
      },
      "source": [
        "### Cumulative Regret Calculator:\n",
        "\n",
        "def min_max_array(x):\n",
        "    new_list = []\n",
        "    for i, num in enumerate(x):\n",
        "            new_list.append(np.min(x[0:i+1]))\n",
        "    return new_list\n",
        "  "
      ],
      "execution_count": null,
      "outputs": []
    },
    {
      "cell_type": "code",
      "metadata": {
        "id": "kuuJx0IMam9S"
      },
      "source": [
        "### Surrogate derivatives: \n",
        "\n",
        "cov_func = squaredExponential()\n",
        "\n",
        "class dGaussianProcess(GaussianProcess):\n",
        "    l = GaussianProcess(cov_func, optimize=opt).getcovparams()['l']\n",
        "    sigmaf = GaussianProcess(cov_func, optimize=opt).getcovparams()['sigmaf']\n",
        "    sigman = GaussianProcess(cov_func, optimize=opt).getcovparams()['sigman']\n",
        "\n",
        "    def AcqGrad(self, Xstar):\n",
        "        Xstar = np.atleast_2d(Xstar)\n",
        "        Kstar = squaredExponential.K(self, self.X, Xstar).T\n",
        "        dKstar = Kstar * cdist(self.X, Xstar).T * -1\n",
        "        \n",
        "        v = solve(self.L, Kstar.T)\n",
        "        dv = solve(self.L, dKstar.T)\n",
        "        \n",
        "        ds = -2 * np.diag(np.dot(dv.T, v))\n",
        "        dm = np.dot(dKstar, self.alpha)\n",
        "        return ds, dm\n",
        "        "
      ],
      "execution_count": null,
      "outputs": []
    },
    {
      "cell_type": "code",
      "metadata": {
        "id": "_Dc3YVHVaXz7"
      },
      "source": [
        "class Acquisition_new(Acquisition):    \n",
        "    def __init__(self, mode, eps=1e-08, **params):\n",
        "        \n",
        "        self.params = params\n",
        "        self.eps = eps\n",
        "\n",
        "        mode_dict = {\n",
        "            'dEI_GP': self.dEI_GP\n",
        "        }\n",
        "\n",
        "        self.f = mode_dict[mode]\n",
        "    \n",
        "    def dEI_GP(self, tau, mean, std, ds, dm):\n",
        "        gamma = (mean - tau - self.eps) / (std + self.eps)\n",
        "        gamma_h = (mean - tau) / (std + self.eps)\n",
        "        dsdx = ds / (2 * (std + self.eps))\n",
        "        dmdx = (dm - gamma * dsdx) / (std + self.eps)\n",
        "        \n",
        "        f = (std + self.eps) * (gamma * norm.cdf(gamma) + norm.pdf(gamma))\n",
        "        df1 = f / (std + self.eps) * dsdx \n",
        "        df2 = (std + self.eps) * norm.cdf(gamma) * dmdx\n",
        "        df = df1 + df2\n",
        "\n",
        "        df_arr = []\n",
        "\n",
        "        for j in range(0, dim):\n",
        "          df_arr.append([df])\n",
        "        return f, np.asarray(df_arr).transpose()\n",
        "\n",
        "    def d_eval(self, tau, mean, std, ds, dm):\n",
        "    \n",
        "        return self.f(tau, mean, std, ds, dm, **self.params)\n",
        "        "
      ],
      "execution_count": null,
      "outputs": []
    },
    {
      "cell_type": "code",
      "metadata": {
        "id": "YAc1Yu71aosi"
      },
      "source": [
        "## dGPGO:\n",
        "\n",
        "class dGPGO(GPGO):  \n",
        "    n_start = n_start_AcqFunc\n",
        "    eps = 1e-08\n",
        "\n",
        "    def d_optimizeAcq(self, method='L-BFGS-B', n_start=n_start_AcqFunc):\n",
        "        start_points_dict = [self._sampleParam() for i in range(n_start)]\n",
        "        start_points_arr = np.array([list(s.values())\n",
        "                                     for s in start_points_dict])\n",
        "        x_best = np.empty((n_start, len(self.parameter_key)))\n",
        "        f_best = np.empty((n_start,))\n",
        "        opt = Parallel(n_jobs=self.n_jobs)(delayed(minimize)(self.acqfunc,\n",
        "                                                                 x0=start_point,\n",
        "                                                                 method=method,\n",
        "                                                                 jac = True,\n",
        "                                                                 bounds=self.parameter_range) for start_point in\n",
        "                                               start_points_arr)\n",
        "        x_best = np.array([res.x for res in opt])\n",
        "        f_best = np.array([np.atleast_1d(res.fun)[0] for res in opt])\n",
        "\n",
        "        self.x_best = x_best\n",
        "        self.f_best = f_best\n",
        "        self.best = x_best[np.argmin(f_best)]\n",
        "        self.start_points_arr = start_points_arr\n",
        "\n",
        "        return x_best, f_best\n",
        "    \n",
        "    def run(self, max_iter=10, init_evals=3, resume=False):\n",
        "        \n",
        "        if not resume:\n",
        "            self.init_evals = init_evals\n",
        "            self._firstRun(self.init_evals)\n",
        "            self.logger._printInit(self)\n",
        "        for iteration in range(max_iter):\n",
        "            self.d_optimizeAcq()\n",
        "            self.updateGP()\n",
        "            self.logger._printCurrent(self)\n",
        "\n",
        "    def acqfunc(self, xnew, n_start=n_start_AcqFunc):\n",
        "        new_mean, new_var = self.GP.predict(xnew, return_std=True)\n",
        "        new_std = np.sqrt(new_var + eps)\n",
        "        ds, dm = self.GP.AcqGrad(xnew)\n",
        "        f, df = self.A.d_eval(-self.tau, new_mean, new_std, ds=ds, dm=dm)\n",
        "        \n",
        "        return -f, df\n",
        "\n",
        "    def acqfunc_h(self, xnew, n_start=n_start_AcqFunc, eps=eps):\n",
        "        f = self.acqfunc(xnew)[0]\n",
        "        \n",
        "        new_mean_h, new_var_h = self.GP.predict(xnew + eps, return_std=True)\n",
        "        new_std_h = np.sqrt(new_var_h + eps)\n",
        "        ds_h, dm_h = self.GP.AcqGrad(xnew + eps)\n",
        "        f_h = self.A.d_eval(-self.tau, new_mean_h, new_std_h, ds=ds_h, dm=dm_h)[0]\n",
        "        \n",
        "        approx_grad = (-f_h - f)/eps\n",
        "        return approx_grad\n"
      ],
      "execution_count": null,
      "outputs": []
    },
    {
      "cell_type": "code",
      "metadata": {
        "id": "qXIKGuXVGEg2"
      },
      "source": [
        "###Reproducible set-seeds:\n",
        "\n",
        "run_num_1 = 1\n",
        "run_num_2 = 2\n",
        "run_num_3 = 3\n",
        "run_num_4 = 4\n",
        "run_num_5 = 5\n",
        "run_num_6 = 6\n",
        "run_num_7 = 7\n",
        "run_num_8 = 8\n",
        "run_num_9 = 9\n",
        "run_num_10 = 10\n",
        "run_num_11 = 11\n",
        "run_num_12 = 12\n",
        "run_num_13 = 13\n",
        "run_num_14 = 14\n",
        "run_num_15 = 15\n",
        "run_num_16 = 16\n",
        "run_num_17 = 17\n",
        "run_num_18 = 18\n",
        "run_num_19 = 19\n",
        "run_num_20 = 20\n"
      ],
      "execution_count": null,
      "outputs": []
    },
    {
      "cell_type": "code",
      "metadata": {
        "colab": {
          "base_uri": "https://localhost:8080/"
        },
        "id": "JEhagQmnTVIK",
        "outputId": "f18a4073-5cb7-4eab-9bb1-ef0a8eba8577"
      },
      "source": [
        "start_approx = time.time()\n",
        "start_approx\n"
      ],
      "execution_count": null,
      "outputs": [
        {
          "output_type": "execute_result",
          "data": {
            "text/plain": [
              "1623405554.8673966"
            ]
          },
          "metadata": {
            "tags": []
          },
          "execution_count": 11
        }
      ]
    },
    {
      "cell_type": "code",
      "metadata": {
        "colab": {
          "base_uri": "https://localhost:8080/"
        },
        "id": "aH0YSTXufD1v",
        "outputId": "fe0c5b70-2adc-4784-9c33-0089937374f9"
      },
      "source": [
        "### ESTIMATED GP EI GRADIENTS\n",
        "\n",
        "np.random.seed(run_num_1)\n",
        "surrogate_approx_1 = GaussianProcess(cov_func, optimize=opt)\n",
        "\n",
        "approx_1 = GPGO(surrogate_approx_1, Acquisition(util_grad_approx), objfunc, param)\n",
        "approx_1.run(init_evals=n_init, max_iter=iters)\n"
      ],
      "execution_count": null,
      "outputs": [
        {
          "output_type": "stream",
          "text": [
            "Evaluation \t Proposed point \t  Current eval. \t Best eval.\n",
            "init   \t [ 1.25533007 10.8048674 ]. \t  -56.52874004692151 \t -27.68166689936483\n",
            "init   \t [-4.99828438  4.53498859]. \t  -172.66531086516164 \t -27.68166689936483\n",
            "init   \t [-2.79866164  1.38507892]. \t  -102.58290348816024 \t -27.68166689936483\n",
            "init   \t [-2.20609683  5.18341091]. \t  -28.868064601155666 \t -27.68166689936483\n",
            "init   \t [0.95151211 8.08225101]. \t  -27.68166689936483 \t -27.68166689936483\n",
            "1      \t [8.41909995 1.27566317]. \t  \u001b[92m-5.089934878453152\u001b[0m \t -5.089934878453152\n",
            "2      \t [10. 15.]. \t  -145.87219087939556 \t -5.089934878453152\n",
            "3      \t [-5. 15.]. \t  -17.508299515778166 \t -5.089934878453152\n",
            "4      \t [7.90355496 8.38355717]. \t  -57.03477656850546 \t -5.089934878453152\n",
            "5      \t [3.09545804 0.        ]. \t  -5.749996691813506 \t -5.089934878453152\n",
            "6      \t [ 4.44885833 15.        ]. \t  -190.38958142014138 \t -5.089934878453152\n",
            "7      \t [-5.         10.00149973]. \t  -64.36034239837272 \t -5.089934878453152\n",
            "8      \t [4.54379235 4.43734747]. \t  -17.39998559668396 \t -5.089934878453152\n",
            "9      \t [-0.62125597 15.        ]. \t  -81.19151841324849 \t -5.089934878453152\n",
            "10     \t [10.          4.60523104]. \t  \u001b[92m-4.510424031234777\u001b[0m \t -4.510424031234777\n",
            "11     \t [1.1309625  3.00014358]. \t  -15.952001765586363 \t -4.510424031234777\n",
            "12     \t [ 5.12326709 10.88820044]. \t  -106.98311627713647 \t -4.510424031234777\n",
            "13     \t [5.96196546 0.        ]. \t  -20.327814275678143 \t -4.510424031234777\n",
            "14     \t [10.         11.16954914]. \t  -68.63637436648813 \t -4.510424031234777\n",
            "15     \t [7.55017529 4.08438927]. \t  -20.361956399962384 \t -4.510424031234777\n",
            "16     \t [-2.12839138 11.78945695]. \t  -8.219849210160788 \t -4.510424031234777\n",
            "17     \t [0.48977701 0.        ]. \t  -46.05135814049239 \t -4.510424031234777\n",
            "18     \t [4.20880835 7.37751993]. \t  -38.86340555048443 \t -4.510424031234777\n",
            "19     \t [10.  0.]. \t  -10.960889035651505 \t -4.510424031234777\n",
            "20     \t [-2.08692957  8.42967828]. \t  -7.376458591176743 \t -4.510424031234777\n"
          ],
          "name": "stdout"
        }
      ]
    },
    {
      "cell_type": "code",
      "metadata": {
        "colab": {
          "base_uri": "https://localhost:8080/"
        },
        "id": "wTxsSZxFGBB5",
        "outputId": "acc4e489-cc3b-4e5a-c21f-7e67b5e1319f"
      },
      "source": [
        "### ESTIMATED GP EI GRADIENTS\n",
        "\n",
        "np.random.seed(run_num_2)\n",
        "surrogate_approx_2 = GaussianProcess(cov_func, optimize=opt)\n",
        "\n",
        "approx_2 = GPGO(surrogate_approx_2, Acquisition(util_grad_approx), objfunc, param)\n",
        "approx_2.run(init_evals=n_init, max_iter=iters)\n"
      ],
      "execution_count": null,
      "outputs": [
        {
          "output_type": "stream",
          "text": [
            "Evaluation \t Proposed point \t  Current eval. \t Best eval.\n",
            "init   \t [1.53992353 0.38889348]. \t  -22.31361308916297 \t -6.692051508754487\n",
            "init   \t [3.24493717 6.52983589]. \t  -19.233109967858276 \t -6.692051508754487\n",
            "init   \t [1.30551703 4.95502232]. \t  -13.177851563387286 \t -6.692051508754487\n",
            "init   \t [-1.93027049  9.2890645 ]. \t  -6.692051508754487 \t -6.692051508754487\n",
            "init   \t [-0.50517989  4.00240913]. \t  -26.437522758780958 \t -6.692051508754487\n",
            "1      \t [ 8.8924193 14.1167381]. \t  -147.03001228842345 \t -6.692051508754487\n",
            "2      \t [9.06869679 2.0164014 ]. \t  \u001b[92m-1.0307174678975652\u001b[0m \t -1.0307174678975652\n",
            "3      \t [ 1.36060871 15.        ]. \t  -131.3879388015716 \t -1.0307174678975652\n",
            "4      \t [10.          7.54055547]. \t  -22.532944128421136 \t -1.0307174678975652\n",
            "5      \t [-5. 15.]. \t  -17.508299515778166 \t -1.0307174678975652\n",
            "6      \t [-4.45110035  0.        ]. \t  -252.2413653810009 \t -1.0307174678975652\n",
            "7      \t [-5.          5.78397276]. \t  -142.76099421684668 \t -1.0307174678975652\n",
            "8      \t [ 4.7508558  11.00172144]. \t  -103.43711085858219 \t -1.0307174678975652\n",
            "9      \t [6.02402314 0.        ]. \t  -20.492390609875855 \t -1.0307174678975652\n",
            "10     \t [6.85243076 4.50856244]. \t  -29.300935515364387 \t -1.0307174678975652\n",
            "11     \t [-5.         11.01027283]. \t  -50.88016069509787 \t -1.0307174678975652\n",
            "12     \t [10.  0.]. \t  -10.960889035651505 \t -1.0307174678975652\n",
            "13     \t [ 0.74703876 10.84482256]. \t  -52.586715430202965 \t -1.0307174678975652\n",
            "14     \t [ 5.17152762 15.        ]. \t  -204.02647166124498 \t -1.0307174678975652\n",
            "15     \t [-2.13059297 13.31864092]. \t  -16.06525222576589 \t -1.0307174678975652\n",
            "16     \t [3.84996892 2.82826672]. \t  -3.791393592509783 \t -1.0307174678975652\n",
            "17     \t [10.          3.74491743]. \t  -2.4936465294415733 \t -1.0307174678975652\n",
            "18     \t [ 8.50100837 10.31811021]. \t  -76.66735855426205 \t -1.0307174678975652\n",
            "19     \t [6.23279115 7.60172407]. \t  -61.878932823740676 \t -1.0307174678975652\n",
            "20     \t [-0.27817652  7.36168258]. \t  -20.059183938001933 \t -1.0307174678975652\n"
          ],
          "name": "stdout"
        }
      ]
    },
    {
      "cell_type": "code",
      "metadata": {
        "colab": {
          "base_uri": "https://localhost:8080/"
        },
        "id": "-dgzIrUIGCGT",
        "outputId": "2893cab7-174b-495e-b7af-2a15e0e79e4a"
      },
      "source": [
        "### ESTIMATED GP EI GRADIENTS\n",
        "\n",
        "np.random.seed(run_num_3)\n",
        "surrogate_approx_3 = GaussianProcess(cov_func, optimize=opt)\n",
        "\n",
        "approx_3 = GPGO(surrogate_approx_3, Acquisition(util_grad_approx), objfunc, param)\n",
        "approx_3.run(init_evals=n_init, max_iter=iters)\n"
      ],
      "execution_count": null,
      "outputs": [
        {
          "output_type": "stream",
          "text": [
            "Evaluation \t Proposed point \t  Current eval. \t Best eval.\n",
            "init   \t [ 3.26196854 10.62221734]. \t  -71.68783452098575 \t -18.07886746449891\n",
            "init   \t [-0.63642892  7.66241408]. \t  -18.07886746449891 \t -18.07886746449891\n",
            "init   \t [ 8.39420432 13.44439633]. \t  -141.98653529865882 \t -18.07886746449891\n",
            "init   \t [-3.11622034  3.10864317]. \t  -83.31045707266176 \t -18.07886746449891\n",
            "init   \t [-4.22799195  6.61214765]. \t  -76.5294170688398 \t -18.07886746449891\n",
            "1      \t [6.70472147 4.59545299]. \t  -30.726791812855225 \t -18.07886746449891\n",
            "2      \t [-4.7134253 15.       ]. \t  \u001b[92m-11.891405374053779\u001b[0m \t -11.891405374053779\n",
            "3      \t [3.21559981 0.        ]. \t  \u001b[92m-5.3436612636626375\u001b[0m \t -5.3436612636626375\n",
            "4      \t [10.  0.]. \t  -10.960889035651505 \t -5.3436612636626375\n",
            "5      \t [ 0.31730532 15.        ]. \t  -109.22084446808685 \t -5.3436612636626375\n",
            "6      \t [10.          8.34436145]. \t  -30.47374632713747 \t -5.3436612636626375\n",
            "7      \t [1.98438537 4.03074364]. \t  -6.603721636751023 \t -5.3436612636626375\n",
            "8      \t [-3.05610153 11.22529   ]. \t  \u001b[92m-1.1473161488487023\u001b[0m \t -1.1473161488487023\n",
            "9      \t [-0.3179314  0.       ]. \t  -61.61905762543009 \t -1.1473161488487023\n",
            "10     \t [ 4.48556335 15.        ]. \t  -191.1659266565978 \t -1.1473161488487023\n",
            "11     \t [6.48971286 0.        ]. \t  -20.63478820707109 \t -1.1473161488487023\n",
            "12     \t [10.          3.50658284]. \t  -2.196780044092054 \t -1.1473161488487023\n",
            "13     \t [3.66130787 6.78259717]. \t  -25.460712390739396 \t -1.1473161488487023\n",
            "14     \t [6.58550354 8.83561403]. \t  -78.6752797100621 \t -1.1473161488487023\n",
            "15     \t [-5.         10.53541952]. \t  -56.972066793440256 \t -1.1473161488487023\n",
            "16     \t [-2.0252941  11.54423571]. \t  -8.992207004607074 \t -1.1473161488487023\n",
            "17     \t [-5.  0.]. \t  -308.12909601160663 \t -1.1473161488487023\n",
            "18     \t [4.2061207  2.46396377]. \t  -6.105467036056245 \t -1.1473161488487023\n",
            "19     \t [10.          5.29631355]. \t  -7.202626721273782 \t -1.1473161488487023\n",
            "20     \t [-0.20602399  4.81346771]. \t  -21.709182908108197 \t -1.1473161488487023\n"
          ],
          "name": "stdout"
        }
      ]
    },
    {
      "cell_type": "code",
      "metadata": {
        "colab": {
          "base_uri": "https://localhost:8080/"
        },
        "id": "hOtG-2sCGCKS",
        "outputId": "f52c2d80-0c9a-4514-c9ea-4ea68e773b51"
      },
      "source": [
        "### ESTIMATED GP EI GRADIENTS\n",
        "\n",
        "np.random.seed(run_num_4)\n",
        "surrogate_approx_4 = GaussianProcess(cov_func, optimize=opt)\n",
        "\n",
        "approx_4 = GPGO(surrogate_approx_4, Acquisition(util_grad_approx), objfunc, param)\n",
        "approx_4.run(init_evals=n_init, max_iter=iters)\n"
      ],
      "execution_count": null,
      "outputs": [
        {
          "output_type": "stream",
          "text": [
            "Evaluation \t Proposed point \t  Current eval. \t Best eval.\n",
            "init   \t [9.50544759 8.20848374]. \t  -32.51676744781521 \t -7.247126865776948\n",
            "init   \t [ 9.5902654  10.72223991]. \t  -66.20566674364716 \t -7.247126865776948\n",
            "init   \t [5.46593237 3.24134243]. \t  -20.90089401680587 \t -7.247126865776948\n",
            "init   \t [9.64411682 0.09345383]. \t  -7.247126865776948 \t -7.247126865776948\n",
            "init   \t [-1.20526456  6.52187299]. \t  -15.941376982363263 \t -7.247126865776948\n",
            "1      \t [ 0.5775056  14.31328634]. \t  -102.48870217898984 \t -7.247126865776948\n",
            "2      \t [-0.13367617  0.17881992]. \t  -55.952651178085794 \t -7.247126865776948\n",
            "3      \t [-5.         10.64820829]. \t  -55.48425984802846 \t -7.247126865776948\n",
            "4      \t [3.72336998 9.18654362]. \t  -55.582264756322004 \t -7.247126865776948\n",
            "5      \t [-5.          2.74886772]. \t  -221.19381209897196 \t -7.247126865776948\n",
            "6      \t [ 6.17850605 15.        ]. \t  -212.8128335272435 \t -7.247126865776948\n",
            "7      \t [-4.33551193 15.        ]. \t  \u001b[92m-6.574104226712752\u001b[0m \t -6.574104226712752\n",
            "8      \t [10.          3.97109164]. \t  \u001b[92m-2.880426110882599\u001b[0m \t -2.880426110882599\n",
            "9      \t [1.6937807  4.08595093]. \t  -8.991043450037363 \t -2.880426110882599\n",
            "10     \t [-0.65217279 10.24672532]. \t  -27.57798553460698 \t -2.880426110882599\n",
            "11     \t [3.95655257 0.        ]. \t  -6.390405094788827 \t -2.880426110882599\n",
            "12     \t [-5.          6.88872878]. \t  -118.78555885693459 \t -2.880426110882599\n",
            "13     \t [10. 15.]. \t  -145.87219087939556 \t -2.880426110882599\n",
            "14     \t [6.38841813 6.50802932]. \t  -48.74409560082792 \t -2.880426110882599\n",
            "15     \t [6.8103764 0.       ]. \t  -19.62705637605663 \t -2.880426110882599\n",
            "16     \t [-1.20049951  3.47913076]. \t  -34.798120813534354 \t -2.880426110882599\n",
            "17     \t [ 6.24419694 11.24491928]. \t  -122.53539981091201 \t -2.880426110882599\n",
            "18     \t [-2.66661975 13.01160242]. \t  -4.879342343159136 \t -2.880426110882599\n",
            "19     \t [1.71815229 6.68545222]. \t  -17.8233842272911 \t -2.880426110882599\n",
            "20     \t [8.49368638 2.70521121]. \t  -5.084451999242475 \t -2.880426110882599\n"
          ],
          "name": "stdout"
        }
      ]
    },
    {
      "cell_type": "code",
      "metadata": {
        "colab": {
          "base_uri": "https://localhost:8080/"
        },
        "id": "JF_SxcEvGCOl",
        "outputId": "d6d48575-3c28-4861-e67c-eb58624699d1"
      },
      "source": [
        "### ESTIMATED GP EI GRADIENTS\n",
        "\n",
        "np.random.seed(run_num_5)\n",
        "surrogate_approx_5 = GaussianProcess(cov_func, optimize=opt)\n",
        "\n",
        "approx_5 = GPGO(surrogate_approx_5, Acquisition(util_grad_approx), objfunc, param)\n",
        "approx_5.run(init_evals=n_init, max_iter=iters)\n"
      ],
      "execution_count": null,
      "outputs": [
        {
          "output_type": "stream",
          "text": [
            "Evaluation \t Proposed point \t  Current eval. \t Best eval.\n",
            "init   \t [-1.67010243 13.06098459]. \t  -25.390690545664548 \t -25.311309190989615\n",
            "init   \t [-1.89921267 13.77916362]. \t  -25.311309190989615 \t -25.311309190989615\n",
            "init   \t [2.32616783 9.17615794]. \t  -41.60147975414021 \t -25.311309190989615\n",
            "init   \t [6.48861785 7.77626982]. \t  -63.81281921768236 \t -25.311309190989615\n",
            "init   \t [-0.54799248  2.81581843]. \t  -34.966203644931994 \t -25.311309190989615\n",
            "1      \t [10.  0.]. \t  \u001b[92m-10.960889035651505\u001b[0m \t -10.960889035651505\n",
            "2      \t [ 8.90352463 15.        ]. \t  -168.84733860933238 \t -10.960889035651505\n",
            "3      \t [-5.         7.1442263]. \t  -113.58828844509826 \t -10.960889035651505\n",
            "4      \t [4.40256958 0.        ]. \t  \u001b[92m-9.313533992579627\u001b[0m \t -9.313533992579627\n",
            "5      \t [-5.  0.]. \t  -308.12909601160663 \t -9.313533992579627\n",
            "6      \t [ 3.28455811 15.        ]. \t  -165.20362005987207 \t -9.313533992579627\n",
            "7      \t [10.          4.49481459]. \t  \u001b[92m-4.1687809039062325\u001b[0m \t -4.1687809039062325\n",
            "8      \t [3.73428711 4.15207739]. \t  -7.2976825774345775 \t -4.1687809039062325\n",
            "9      \t [10.         10.40600568]. \t  -56.74827627602043 \t -4.1687809039062325\n",
            "10     \t [7.10300969 2.63656064]. \t  -18.578743850140377 \t -4.1687809039062325\n",
            "11     \t [-5.         11.41757667]. \t  -46.01415453016331 \t -4.1687809039062325\n",
            "12     \t [-0.78455773  6.78778412]. \t  -17.087449984111828 \t -4.1687809039062325\n",
            "13     \t [ 5.9448145  11.72116086]. \t  -131.7813154964645 \t -4.1687809039062325\n",
            "14     \t [-5. 15.]. \t  -17.508299515778166 \t -4.1687809039062325\n",
            "15     \t [1.28674293 0.        ]. \t  -30.046344055982637 \t -4.1687809039062325\n",
            "16     \t [-1.56108233  9.83208067]. \t  -11.159786412525692 \t -4.1687809039062325\n",
            "17     \t [-3.80619215  3.75121164]. \t  -106.03406334088206 \t -4.1687809039062325\n",
            "18     \t [10.          6.91897176]. \t  -17.278315330649434 \t -4.1687809039062325\n",
            "19     \t [1.9440385  5.79489555]. \t  -12.26209978145576 \t -4.1687809039062325\n",
            "20     \t [ 1.12003286 12.06966608]. \t  -73.3222899478788 \t -4.1687809039062325\n"
          ],
          "name": "stdout"
        }
      ]
    },
    {
      "cell_type": "code",
      "metadata": {
        "colab": {
          "base_uri": "https://localhost:8080/"
        },
        "id": "-kDxZtJsGCR3",
        "outputId": "a887239c-0a3b-498d-a6ad-d2aa7e6d9497"
      },
      "source": [
        "### ESTIMATED GP EI GRADIENTS\n",
        "\n",
        "np.random.seed(run_num_6)\n",
        "surrogate_approx_6 = GaussianProcess(cov_func, optimize=opt)\n",
        "\n",
        "approx_6 = GPGO(surrogate_approx_6, Acquisition(util_grad_approx), objfunc, param)\n",
        "approx_6.run(init_evals=n_init, max_iter=iters)\n"
      ],
      "execution_count": null,
      "outputs": [
        {
          "output_type": "stream",
          "text": [
            "Evaluation \t Proposed point \t  Current eval. \t Best eval.\n",
            "init   \t [8.39290227 4.97969708]. \t  -15.553860636684597 \t -15.31731051317483\n",
            "init   \t [7.31843685 0.62544939]. \t  -15.31731051317483 \t -15.31731051317483\n",
            "init   \t [-3.3851498   8.92578096]. \t  -16.222288919361837 \t -15.31731051317483\n",
            "init   \t [2.94726043 6.28211143]. \t  -15.406373581304088 \t -15.31731051317483\n",
            "init   \t [0.03111774 9.33779148]. \t  -31.07053245856209 \t -15.31731051317483\n",
            "1      \t [ 9.72522083 14.5299912 ]. \t  -139.8297584868663 \t -15.31731051317483\n",
            "2      \t [-4.42013634  0.37777   ]. \t  -237.69785665817545 \t -15.31731051317483\n",
            "3      \t [-3.99671519 14.86986649]. \t  \u001b[92m-3.898129686703599\u001b[0m \t -3.898129686703599\n",
            "4      \t [ 3.01682823 14.83374236]. \t  -155.70998935074863 \t -3.898129686703599\n",
            "5      \t [1.76387394 0.        ]. \t  -21.078930203265006 \t -3.898129686703599\n",
            "6      \t [ 6.51112433 10.00143544]. \t  -98.34083324613164 \t -3.898129686703599\n",
            "7      \t [-1.36588047  4.53364094]. \t  -27.017874835590963 \t -3.898129686703599\n",
            "8      \t [-1.11716557 13.18710515]. \t  -41.747893399911376 \t -3.898129686703599\n",
            "9      \t [-5.          5.34411144]. \t  -152.98628997678327 \t -3.898129686703599\n",
            "10     \t [4.41768041 2.92039548]. \t  -9.25643352742401 \t -3.898129686703599\n",
            "11     \t [10.          8.19251001]. \t  -28.874605179549697 \t -3.898129686703599\n",
            "12     \t [-5.         11.99773964]. \t  -39.65591448874086 \t -3.898129686703599\n",
            "13     \t [10.          2.12150829]. \t  \u001b[92m-2.720091790618171\u001b[0m \t -2.720091790618171\n",
            "14     \t [ 2.9295331  10.93621466]. \t  -72.69356723271218 \t -2.720091790618171\n",
            "15     \t [1.53683993 3.24064477]. \t  -10.708553016980726 \t -2.720091790618171\n",
            "16     \t [5.84836947 6.3538518 ]. \t  -46.20047447530566 \t -2.720091790618171\n",
            "17     \t [10.  0.]. \t  -10.960889035651505 \t -2.720091790618171\n",
            "18     \t [ 6.33172196 13.56051827]. \t  -174.8092369131531 \t -2.720091790618171\n",
            "19     \t [-0.84739394  1.32557388]. \t  -53.75975213277636 \t -2.720091790618171\n",
            "20     \t [4.6523125 0.       ]. \t  -11.36027487594677 \t -2.720091790618171\n"
          ],
          "name": "stdout"
        }
      ]
    },
    {
      "cell_type": "code",
      "metadata": {
        "colab": {
          "base_uri": "https://localhost:8080/"
        },
        "id": "fKB8MCD_GCVI",
        "outputId": "da37e959-1843-4bdc-99bf-3555f3e6556d"
      },
      "source": [
        "### ESTIMATED GP EI GRADIENTS\n",
        "\n",
        "np.random.seed(run_num_7)\n",
        "surrogate_approx_7 = GaussianProcess(cov_func, optimize=opt)\n",
        "\n",
        "approx_7 = GPGO(surrogate_approx_7, Acquisition(util_grad_approx), objfunc, param)\n",
        "approx_7.run(init_evals=n_init, max_iter=iters)\n"
      ],
      "execution_count": null,
      "outputs": [
        {
          "output_type": "stream",
          "text": [
            "Evaluation \t Proposed point \t  Current eval. \t Best eval.\n",
            "init   \t [-3.85537566 11.69878188]. \t  -8.299317850233932 \t -5.211335324193094\n",
            "init   \t [ 1.57613847 10.85197767]. \t  -59.50408380701259 \t -5.211335324193094\n",
            "init   \t [9.66984268 8.07743806]. \t  -29.714921414987273 \t -5.211335324193094\n",
            "init   \t [2.51680695 1.080767  ]. \t  -5.211335324193094 \t -5.211335324193094\n",
            "init   \t [-0.9734153   7.49823751]. \t  -15.431057204948033 \t -5.211335324193094\n",
            "1      \t [-4.97859679  1.38393519]. \t  -260.3293952774437 \t -5.211335324193094\n",
            "2      \t [ 9.25668108 14.87713055]. \t  -157.79168966390583 \t -5.211335324193094\n",
            "3      \t [9.84403446 2.23618575]. \t  \u001b[92m-1.607946967220208\u001b[0m \t -1.607946967220208\n",
            "4      \t [4.55900388 5.89375631]. \t  -28.465589739949205 \t -1.607946967220208\n",
            "5      \t [ 4.07549503 15.        ]. \t  -182.26231569631855 \t -1.607946967220208\n",
            "6      \t [6.63656991 0.        ]. \t  -20.27975546004532 \t -1.607946967220208\n",
            "7      \t [-1.10321767 15.        ]. \t  -64.55271949626872 \t -1.607946967220208\n",
            "8      \t [-5.          6.49338833]. \t  -127.0847837975716 \t -1.607946967220208\n",
            "9      \t [-1.00615862  3.53548229]. \t  -32.75005148348958 \t -1.607946967220208\n",
            "10     \t [ 6.15564868 10.11747234]. \t  -100.87425641230558 \t -1.607946967220208\n",
            "11     \t [-5. 15.]. \t  -17.508299515778166 \t -1.607946967220208\n",
            "12     \t [8.07676988 4.42951178]. \t  -16.03995360443043 \t -1.607946967220208\n",
            "13     \t [-0.66114141  0.        ]. \t  -68.11258227581459 \t -1.607946967220208\n",
            "14     \t [10.  0.]. \t  -10.960889035651505 \t -1.607946967220208\n",
            "15     \t [4.83706984 2.64288996]. \t  -12.933239102013518 \t -1.607946967220208\n",
            "16     \t [10.       11.254153]. \t  -70.025382571958 \t -1.607946967220208\n",
            "17     \t [1.47317618 5.68982396]. \t  -14.012718146993524 \t -1.607946967220208\n",
            "18     \t [-1.79688796 10.29049125]. \t  -8.874761496408627 \t -1.607946967220208\n",
            "19     \t [-5.          9.86428721]. \t  -66.35114962135708 \t -1.607946967220208\n",
            "20     \t [2.93515195 8.16198683]. \t  -33.3257388312568 \t -1.607946967220208\n"
          ],
          "name": "stdout"
        }
      ]
    },
    {
      "cell_type": "code",
      "metadata": {
        "colab": {
          "base_uri": "https://localhost:8080/"
        },
        "id": "4unvifF-GCXp",
        "outputId": "e4a47ade-a56b-44a3-c011-1b8547b4b3ad"
      },
      "source": [
        "### ESTIMATED GP EI GRADIENTS\n",
        "\n",
        "np.random.seed(run_num_8)\n",
        "surrogate_approx_8 = GaussianProcess(cov_func, optimize=opt)\n",
        "\n",
        "approx_8 = GPGO(surrogate_approx_8, Acquisition(util_grad_approx), objfunc, param)\n",
        "approx_8.run(init_evals=n_init, max_iter=iters)\n"
      ],
      "execution_count": null,
      "outputs": [
        {
          "output_type": "stream",
          "text": [
            "Evaluation \t Proposed point \t  Current eval. \t Best eval.\n",
            "init   \t [ 8.10144104 14.52810994]. \t  -175.17297136347514 \t -15.416245468470875\n",
            "init   \t [8.0379181  7.96283537]. \t  -49.32173799887473 \t -15.416245468470875\n",
            "init   \t [-1.50907508  0.17098206]. \t  -83.26753461673219 \t -15.416245468470875\n",
            "init   \t [1.45703227 6.0352704 ]. \t  -15.416245468470875 \t -15.416245468470875\n",
            "init   \t [2.84012007 7.17587694]. \t  -22.49093277852639 \t -15.416245468470875\n",
            "1      \t [-4.98884166 14.83408411]. \t  -18.008434758014253 \t -15.416245468470875\n",
            "2      \t [10.  0.]. \t  \u001b[92m-10.960889035651505\u001b[0m \t -10.960889035651505\n",
            "3      \t [-4.8401206   6.42823123]. \t  -117.34273274148853 \t -10.960889035651505\n",
            "4      \t [ 1.46752997 14.78454975]. \t  -128.53831736599975 \t -10.960889035651505\n",
            "5      \t [4.44479756 0.89726458]. \t  \u001b[92m-7.798462032411121\u001b[0m \t -7.798462032411121\n",
            "6      \t [-1.53733241 10.48501503]. \t  -13.324418197268233 \t -7.798462032411121\n",
            "7      \t [ 4.59101393 11.15592345]. \t  -103.70255460707435 \t -7.798462032411121\n",
            "8      \t [7.68054207 3.49376241]. \t  -16.054612311234727 \t -7.798462032411121\n",
            "9      \t [-5.          2.14980151]. \t  -238.85191822262627 \t -7.798462032411121\n",
            "10     \t [-5.         10.92816854]. \t  -51.90123254600216 \t -7.798462032411121\n",
            "11     \t [1.64304625 2.61760521]. \t  -10.55264701517783 \t -7.798462032411121\n",
            "12     \t [10.         11.01204094]. \t  -66.08857250704284 \t -7.798462032411121\n",
            "13     \t [-1.38500482  4.34595593]. \t  -28.63424903579045 \t -7.798462032411121\n",
            "14     \t [4.56603278 4.24557199]. \t  -16.548223116171087 \t -7.798462032411121\n",
            "15     \t [7.05867001 0.        ]. \t  -18.302394626226477 \t -7.798462032411121\n",
            "16     \t [-2.10201367 13.64598882]. \t  -19.046641323885666 \t -7.798462032411121\n",
            "17     \t [10.          5.19673156]. \t  \u001b[92m-6.755789217465072\u001b[0m \t -6.755789217465072\n",
            "18     \t [-1.14446026  7.66355057]. \t  -14.077841644959545 \t -6.755789217465072\n",
            "19     \t [ 1.22722397 10.1289271 ]. \t  -47.89777521583031 \t -6.755789217465072\n",
            "20     \t [2.03523621 0.        ]. \t  -16.56213832971314 \t -6.755789217465072\n"
          ],
          "name": "stdout"
        }
      ]
    },
    {
      "cell_type": "code",
      "metadata": {
        "colab": {
          "base_uri": "https://localhost:8080/"
        },
        "id": "85OIXcg7GCaJ",
        "outputId": "d359751e-856c-46f8-fd2f-8a3cb1d4dd92"
      },
      "source": [
        "### ESTIMATED GP EI GRADIENTS\n",
        "\n",
        "np.random.seed(run_num_9)\n",
        "surrogate_approx_9 = GaussianProcess(cov_func, optimize=opt)\n",
        "\n",
        "approx_9 = GPGO(surrogate_approx_9, Acquisition(util_grad_approx), objfunc, param)\n",
        "approx_9.run(init_evals=n_init, max_iter=iters)\n"
      ],
      "execution_count": null,
      "outputs": [
        {
          "output_type": "stream",
          "text": [
            "Evaluation \t Proposed point \t  Current eval. \t Best eval.\n",
            "init   \t [-4.84438769  7.52811888]. \t  -96.15564306553264 \t -3.4640248583909496\n",
            "init   \t [2.4365994  2.00744293]. \t  -3.4640248583909496 \t -3.4640248583909496\n",
            "init   \t [-2.86833372  3.27838013]. \t  -70.46930174488207 \t -3.4640248583909496\n",
            "init   \t [1.27762271 3.72151753]. \t  -12.982825924833865 \t -3.4640248583909496\n",
            "init   \t [-3.73910523  5.1824796 ]. \t  -75.58547400560856 \t -3.4640248583909496\n",
            "1      \t [ 7.05609655 14.75038872]. \t  -200.4388688685465 \t -3.4640248583909496\n",
            "2      \t [9.79053515 5.9968998 ]. \t  -11.24805159216164 \t -3.4640248583909496\n",
            "3      \t [-1.16788554 15.        ]. \t  -62.276893026499415 \t -3.4640248583909496\n",
            "4      \t [7.94468781 0.        ]. \t  -11.40885179920395 \t -3.4640248583909496\n",
            "5      \t [2.83905495 9.81057089]. \t  -53.94615567523124 \t -3.4640248583909496\n",
            "6      \t [10.         10.54613846]. \t  -58.8427331976896 \t -3.4640248583909496\n",
            "7      \t [5.40021154 5.51823191]. \t  -34.980375915287354 \t -3.4640248583909496\n",
            "8      \t [-5.         12.38435749]. \t  -35.79258827471595 \t -3.4640248583909496\n",
            "9      \t [-1.33336996 10.31600592]. \t  -16.116547978109825 \t -3.4640248583909496\n",
            "10     \t [-0.29866745  0.        ]. \t  -61.25647245562254 \t -3.4640248583909496\n",
            "11     \t [-5.  0.]. \t  -308.12909601160663 \t -3.4640248583909496\n",
            "12     \t [ 2.76587243 14.06021978]. \t  -132.71978661440204 \t -3.4640248583909496\n",
            "13     \t [4.46689221 0.        ]. \t  -9.82238601092727 \t -3.4640248583909496\n",
            "14     \t [10.          2.60845129]. \t  \u001b[92m-2.098775109155979\u001b[0m \t -2.098775109155979\n",
            "15     \t [0.00880137 6.9572859 ]. \t  -20.545132778190705 \t -2.098775109155979\n",
            "16     \t [6.55675899 9.09280976]. \t  -82.8366086031989 \t -2.098775109155979\n",
            "17     \t [7.57104949 3.00824675]. \t  -15.413014515803981 \t -2.098775109155979\n",
            "18     \t [4.49125841 2.59442006]. \t  -9.185908487061909 \t -2.098775109155979\n",
            "19     \t [-5. 15.]. \t  -17.508299515778166 \t -2.098775109155979\n",
            "20     \t [2.66723923 6.41723987]. \t  -15.469941833671024 \t -2.098775109155979\n"
          ],
          "name": "stdout"
        }
      ]
    },
    {
      "cell_type": "code",
      "metadata": {
        "colab": {
          "base_uri": "https://localhost:8080/"
        },
        "id": "QQBR-qJPGCcp",
        "outputId": "a299bf2f-e260-4fca-8aeb-b1303fb75dad"
      },
      "source": [
        "### ESTIMATED GP EI GRADIENTS\n",
        "\n",
        "np.random.seed(run_num_10)\n",
        "surrogate_approx_10 = GaussianProcess(cov_func, optimize=opt)\n",
        "\n",
        "approx_10 = GPGO(surrogate_approx_10, Acquisition(util_grad_approx), objfunc, param)\n",
        "approx_10.run(init_evals=n_init, max_iter=iters)\n"
      ],
      "execution_count": null,
      "outputs": [
        {
          "output_type": "stream",
          "text": [
            "Evaluation \t Proposed point \t  Current eval. \t Best eval.\n",
            "init   \t [6.56980965 0.31127924]. \t  -19.863985024602144 \t -2.710610964564512\n",
            "init   \t [ 4.50472352 11.23205824]. \t  -103.66999147252169 \t -2.710610964564512\n",
            "init   \t [2.47760518 3.37194968]. \t  -2.710610964564512 \t -2.710610964564512\n",
            "init   \t [-2.02905703 11.40796068]. \t  -8.463930835255017 \t -2.710610964564512\n",
            "init   \t [-2.46333745  1.32509721]. \t  -90.49481266026973 \t -2.710610964564512\n",
            "1      \t [8.70372597 6.86774268]. \t  -27.130126017218842 \t -2.710610964564512\n",
            "2      \t [ 9.45036259 14.63089076]. \t  -147.64044674485945 \t -2.710610964564512\n",
            "3      \t [-5.          6.13548754]. \t  -134.86763853640946 \t -2.710610964564512\n",
            "4      \t [-5. 15.]. \t  -17.508299515778166 \t -2.710610964564512\n",
            "5      \t [0.53535976 7.40116606]. \t  -23.17014149092612 \t -2.710610964564512\n",
            "6      \t [ 0.92476669 15.        ]. \t  -123.13791799284002 \t -2.710610964564512\n",
            "7      \t [7.30917046 4.63031131]. \t  -26.277167965113733 \t -2.710610964564512\n",
            "8      \t [2.04065446 0.        ]. \t  -16.477681249661387 \t -2.710610964564512\n",
            "9      \t [10.          1.71596188]. \t  -3.5994960877383804 \t -2.710610964564512\n",
            "10     \t [10.         10.41835981]. \t  -56.931345305911215 \t -2.710610964564512\n",
            "11     \t [4.29173593 6.92088674]. \t  -34.93673328169899 \t -2.710610964564512\n",
            "12     \t [-5.         10.40160815]. \t  -58.770182824044745 \t -2.710610964564512\n",
            "13     \t [ 5.26787321 15.        ]. \t  -205.48018946265273 \t -2.710610964564512\n",
            "14     \t [-0.14217217  4.1899552 ]. \t  -23.662468280046603 \t -2.710610964564512\n",
            "15     \t [ 0.80211348 10.84796118]. \t  -53.17438859113578 \t -2.710610964564512\n",
            "16     \t [4.54649196 2.76245714]. \t  -10.178194925001506 \t -2.710610964564512\n",
            "17     \t [-2.19319068  8.47435323]. \t  -7.083894788963509 \t -2.710610964564512\n",
            "18     \t [10.  0.]. \t  -10.960889035651505 \t -2.710610964564512\n",
            "19     \t [10.          3.72658725]. \t  \u001b[92m-2.4667819700235754\u001b[0m \t -2.4667819700235754\n",
            "20     \t [-2.42863439 14.00519658]. \t  -14.147153055354629 \t -2.4667819700235754\n"
          ],
          "name": "stdout"
        }
      ]
    },
    {
      "cell_type": "code",
      "metadata": {
        "colab": {
          "base_uri": "https://localhost:8080/"
        },
        "id": "JS8ejeQ2GCfi",
        "outputId": "ae326e5f-f70d-4839-c677-0082fb9eaa56"
      },
      "source": [
        "### ESTIMATED GP EI GRADIENTS\n",
        "\n",
        "np.random.seed(run_num_11)\n",
        "surrogate_approx_11 = GaussianProcess(cov_func, optimize=opt)\n",
        "\n",
        "approx_11 = GPGO(surrogate_approx_11, Acquisition(util_grad_approx), objfunc, param)\n",
        "approx_11.run(init_evals=n_init, max_iter=iters)\n"
      ],
      "execution_count": null,
      "outputs": [
        {
          "output_type": "stream",
          "text": [
            "Evaluation \t Proposed point \t  Current eval. \t Best eval.\n",
            "init   \t [-2.29595467  0.29212862]. \t  -104.49282729548965 \t -22.37435843952312\n",
            "init   \t [ 1.9482779  10.87400894]. \t  -62.47758067812407 \t -22.37435843952312\n",
            "init   \t [1.30305407 7.28140647]. \t  -22.37435843952312 \t -22.37435843952312\n",
            "init   \t [-4.80828778  7.31057411]. \t  -97.94503054415523 \t -22.37435843952312\n",
            "init   \t [ 9.12709979 12.76192634]. \t  -111.62900800771942 \t -22.37435843952312\n",
            "1      \t [10.  0.]. \t  \u001b[92m-10.960889035651505\u001b[0m \t -10.960889035651505\n",
            "2      \t [-3.99917487 15.        ]. \t  \u001b[92m-4.041425554956509\u001b[0m \t -4.041425554956509\n",
            "3      \t [8.0701298  6.37438228]. \t  -31.02861060087873 \t -4.041425554956509\n",
            "4      \t [3.91721456 1.58212528]. \t  \u001b[92m-3.171689933951897\u001b[0m \t -3.171689933951897\n",
            "5      \t [ 4.54037959 15.        ]. \t  -192.31399373181276 \t -3.171689933951897\n",
            "6      \t [-2.60740522 11.41248237]. \t  \u001b[92m-1.883391194202435\u001b[0m \t -1.883391194202435\n",
            "7      \t [-0.2309989 15.       ]. \t  -93.74563162359628 \t -1.883391194202435\n",
            "8      \t [0.85044034 3.33404553]. \t  -18.31052349905193 \t -1.883391194202435\n",
            "9      \t [5.9388425  9.75317472]. \t  -93.840494574843 \t -1.883391194202435\n",
            "10     \t [7.16333845 2.43331853]. \t  -17.569435925180144 \t -1.883391194202435\n",
            "11     \t [4.37872351 5.09898827]. \t  -19.7509396429289 \t -1.883391194202435\n",
            "12     \t [-5.          3.26329121]. \t  -206.60344467183972 \t -1.883391194202435\n",
            "13     \t [-5.        11.8792143]. \t  -40.90016582675334 \t -1.883391194202435\n",
            "14     \t [1.7116418 0.       ]. \t  -22.006046182138995 \t -1.883391194202435\n",
            "15     \t [-1.5583204   9.38545838]. \t  -10.469791676121407 \t -1.883391194202435\n",
            "16     \t [10.          9.08131724]. \t  -38.88960866070064 \t -1.883391194202435\n",
            "17     \t [10.          3.55876887]. \t  -2.252067935644445 \t -1.883391194202435\n",
            "18     \t [-1.55235116  5.48038341]. \t  -21.07745556846134 \t -1.883391194202435\n",
            "19     \t [5.55369622 0.        ]. \t  -18.470748386474238 \t -1.883391194202435\n",
            "20     \t [-1.59819722 11.98733714]. \t  -19.432426261227548 \t -1.883391194202435\n"
          ],
          "name": "stdout"
        }
      ]
    },
    {
      "cell_type": "code",
      "metadata": {
        "colab": {
          "base_uri": "https://localhost:8080/"
        },
        "id": "DXwjUVZ4GCii",
        "outputId": "09f06d0b-c94a-44ce-db88-413f3ba0be83"
      },
      "source": [
        "### ESTIMATED GP EI GRADIENTS\n",
        "\n",
        "np.random.seed(run_num_12)\n",
        "surrogate_approx_12 = GaussianProcess(cov_func, optimize=opt)\n",
        "\n",
        "approx_12 = GPGO(surrogate_approx_12, Acquisition(util_grad_approx), objfunc, param)\n",
        "approx_12.run(init_evals=n_init, max_iter=iters)\n"
      ],
      "execution_count": null,
      "outputs": [
        {
          "output_type": "stream",
          "text": [
            "Evaluation \t Proposed point \t  Current eval. \t Best eval.\n",
            "init   \t [-2.68755736 11.10074545]. \t  -1.3827702760021356 \t -0.5499315281120278\n",
            "init   \t [-1.05027477  8.0060909 ]. \t  -14.81231853080056 \t -0.5499315281120278\n",
            "init   \t [-4.78137556 13.78120512]. \t  -18.401131000214548 \t -0.5499315281120278\n",
            "init   \t [8.51072281 0.50132141]. \t  -5.855172364344769 \t -0.5499315281120278\n",
            "init   \t [9.35424004 2.05813982]. \t  -0.5499315281120278 \t -0.5499315281120278\n",
            "1      \t [10.          4.42222996]. \t  -3.9574775283256747 \t -0.5499315281120278\n",
            "2      \t [ 8.68497867 14.25940608]. \t  -155.1276557842789 \t -0.5499315281120278\n",
            "3      \t [-5.  0.]. \t  -308.12909601160663 \t -0.5499315281120278\n",
            "4      \t [5.30078686 8.4325947 ]. \t  -67.7353026392114 \t -0.5499315281120278\n",
            "5      \t [1.81449881 0.93833083]. \t  -14.438525235006493 \t -0.5499315281120278\n",
            "6      \t [ 2.69349751 13.83339951]. \t  -126.40556738566146 \t -0.5499315281120278\n",
            "7      \t [-5.          5.45174749]. \t  -150.44835450431262 \t -0.5499315281120278\n",
            "8      \t [10.          9.18338707]. \t  -40.140861437849495 \t -0.5499315281120278\n",
            "9      \t [5.48959113 3.59983853]. \t  -22.705708490302452 \t -0.5499315281120278\n",
            "10     \t [1.55403075 5.02943763]. \t  -11.578916130929688 \t -0.5499315281120278\n",
            "11     \t [-1.46045028  2.84645165]. \t  -44.15978588070091 \t -0.5499315281120278\n",
            "12     \t [-1.32998724 15.        ]. \t  -56.57568341451988 \t -0.5499315281120278\n",
            "13     \t [-5.          9.73229132]. \t  -68.30180347015676 \t -0.5499315281120278\n",
            "14     \t [5.24225669 0.        ]. \t  -16.309559190040787 \t -0.5499315281120278\n",
            "15     \t [1.67646168 9.9449355 ]. \t  -48.05016383270482 \t -0.5499315281120278\n",
            "16     \t [8.02096249 6.04308816]. \t  -28.63295089854334 \t -0.5499315281120278\n",
            "17     \t [ 5.87835294 11.83413301]. \t  -133.86975855122358 \t -0.5499315281120278\n",
            "18     \t [-1.37390968 11.50921611]. \t  -21.35684592378965 \t -0.5499315281120278\n",
            "19     \t [10.          2.29060641]. \t  -2.4505834659722137 \t -0.5499315281120278\n",
            "20     \t [-0.8916461  0.       ]. \t  -72.60894139200812 \t -0.5499315281120278\n"
          ],
          "name": "stdout"
        }
      ]
    },
    {
      "cell_type": "code",
      "metadata": {
        "colab": {
          "base_uri": "https://localhost:8080/"
        },
        "id": "CphOPndPGClX",
        "outputId": "4987aa00-ade0-4673-b24b-62d093aac081"
      },
      "source": [
        "### ESTIMATED GP EI GRADIENTS\n",
        "\n",
        "np.random.seed(run_num_13)\n",
        "surrogate_approx_13 = GaussianProcess(cov_func, optimize=opt)\n",
        "\n",
        "approx_13 = GPGO(surrogate_approx_13, Acquisition(util_grad_approx), objfunc, param)\n",
        "approx_13.run(init_evals=n_init, max_iter=iters)\n"
      ],
      "execution_count": null,
      "outputs": [
        {
          "output_type": "stream",
          "text": [
            "Evaluation \t Proposed point \t  Current eval. \t Best eval.\n",
            "init   \t [6.66553616 3.5631183 ]. \t  -24.823670200298267 \t -18.038943061558626\n",
            "init   \t [ 7.36417799 14.48623797]. \t  -188.7803334745195 \t -18.038943061558626\n",
            "init   \t [9.58901671 6.80173871]. \t  -18.038943061558626 \t -18.038943061558626\n",
            "init   \t [ 4.13563694 11.63289772]. \t  -104.87319703906111 \t -18.038943061558626\n",
            "init   \t [ 4.62420017 10.83027344]. \t  -98.03271225790056 \t -18.038943061558626\n",
            "1      \t [-5.         10.55852118]. \t  -56.66525878591628 \t -18.038943061558626\n",
            "2      \t [-4.14720717  0.94877071]. \t  -197.3342113761513 \t -18.038943061558626\n",
            "3      \t [-0.12335059  6.35840654]. \t  -19.554794556716274 \t -18.038943061558626\n",
            "4      \t [-0.99272771 15.        ]. \t  -68.43031894475294 \t -18.038943061558626\n",
            "5      \t [2.20276677 0.        ]. \t  \u001b[92m-14.068419772396153\u001b[0m \t -14.068419772396153\n",
            "6      \t [10.  0.]. \t  \u001b[92m-10.960889035651505\u001b[0m \t -10.960889035651505\n",
            "7      \t [-5.          5.84821499]. \t  -141.29996322506628 \t -10.960889035651505\n",
            "8      \t [-0.41220542 10.52481489]. \t  -33.595854385590286 \t -10.960889035651505\n",
            "9      \t [10.         10.78931988]. \t  -62.57059363401944 \t -10.960889035651505\n",
            "10     \t [3.90491025 6.50962489]. \t  -25.668584447722168 \t -10.960889035651505\n",
            "11     \t [-5. 15.]. \t  -17.508299515778166 \t -10.960889035651505\n",
            "12     \t [6.00936985 0.        ]. \t  -20.45653172757895 \t -10.960889035651505\n",
            "13     \t [-0.14059623  2.69846735]. \t  -31.95310561715899 \t -10.960889035651505\n",
            "14     \t [ 2.81601883 15.        ]. \t  -156.08924891414276 \t -10.960889035651505\n",
            "15     \t [10.          3.30737489]. \t  \u001b[92m-2.0358111549603777\u001b[0m \t -2.0358111549603777\n",
            "16     \t [3.32760876 3.07412193]. \t  \u001b[92m-1.4466053975072377\u001b[0m \t -1.4466053975072377\n",
            "17     \t [6.86999407 8.0765211 ]. \t  -65.79031832440131 \t -1.4466053975072377\n",
            "18     \t [-2.45258807  8.26924644]. \t  -8.402396403233654 \t -1.4466053975072377\n",
            "19     \t [1.88664671 8.60481495]. \t  -33.51597964124437 \t -1.4466053975072377\n",
            "20     \t [-0.6700678  0.       ]. \t  -68.2837087849351 \t -1.4466053975072377\n"
          ],
          "name": "stdout"
        }
      ]
    },
    {
      "cell_type": "code",
      "metadata": {
        "colab": {
          "base_uri": "https://localhost:8080/"
        },
        "id": "ojHTeARNGCoi",
        "outputId": "f996d252-d926-4a5b-ebb9-4151338323a7"
      },
      "source": [
        "### ESTIMATED GP EI GRADIENTS\n",
        "\n",
        "np.random.seed(run_num_14)\n",
        "surrogate_approx_14 = GaussianProcess(cov_func, optimize=opt)\n",
        "\n",
        "approx_14 = GPGO(surrogate_approx_14, Acquisition(util_grad_approx), objfunc, param)\n",
        "approx_14.run(init_evals=n_init, max_iter=iters)\n"
      ],
      "execution_count": null,
      "outputs": [
        {
          "output_type": "stream",
          "text": [
            "Evaluation \t Proposed point \t  Current eval. \t Best eval.\n",
            "init   \t [ 2.70915016 11.59747578]. \t  -81.58264375064097 \t -1.4149920024014744\n",
            "init   \t [8.05641529 0.12070423]. \t  -10.148649076616518 \t -1.4149920024014744\n",
            "init   \t [-0.35396112 14.36405609]. \t  -79.6056658956529 \t -1.4149920024014744\n",
            "init   \t [2.69675068 4.77426637]. \t  -5.855607664288365 \t -1.4149920024014744\n",
            "init   \t [3.08799906 3.31882414]. \t  -1.4149920024014744 \t -1.4149920024014744\n",
            "1      \t [-3.9690762   0.55943317]. \t  -193.7395503314444 \t -1.4149920024014744\n",
            "2      \t [9.91083167 7.9391897 ]. \t  -26.74726853005628 \t -1.4149920024014744\n",
            "3      \t [10. 15.]. \t  -145.87219087939556 \t -1.4149920024014744\n",
            "4      \t [-3.75022473  8.67485872]. \t  -28.241223279942684 \t -1.4149920024014744\n",
            "5      \t [1.31384966 0.        ]. \t  -29.513114536508205 \t -1.4149920024014744\n",
            "6      \t [-5.         13.37062657]. \t  -27.291209415000157 \t -1.4149920024014744\n",
            "7      \t [6.99460041 4.39917956]. \t  -27.584513770007984 \t -1.4149920024014744\n",
            "8      \t [-1.42817233  4.8023786 ]. \t  -25.30852675190059 \t -1.4149920024014744\n",
            "9      \t [ 7.19418072 11.22622498]. \t  -115.68611123966527 \t -1.4149920024014744\n",
            "10     \t [ 5.16524605 15.        ]. \t  -203.92798169924106 \t -1.4149920024014744\n",
            "11     \t [4.60182334 7.71580065]. \t  -48.6824054442007 \t -1.4149920024014744\n",
            "12     \t [0.28095521 8.25502638]. \t  -26.472397154229505 \t -1.4149920024014744\n",
            "13     \t [-5.          4.91912178]. \t  -163.23342236713881 \t -1.4149920024014744\n",
            "14     \t [4.82272532 1.15777313]. \t  -11.08665119630106 \t -1.4149920024014744\n",
            "15     \t [10.          2.74833398]. \t  -2.007973346672351 \t -1.4149920024014744\n",
            "16     \t [-1.68775573 11.12722116]. \t  -13.177203060888006 \t -1.4149920024014744\n",
            "17     \t [10.          4.80310908]. \t  -5.1836895987670975 \t -1.4149920024014744\n",
            "18     \t [0.96825453 2.98230028]. \t  -17.994811333359575 \t -1.4149920024014744\n",
            "19     \t [10.         1.2353938]. \t  -5.067418935910082 \t -1.4149920024014744\n",
            "20     \t [4.19520379 3.51081173]. \t  -8.916050132306102 \t -1.4149920024014744\n"
          ],
          "name": "stdout"
        }
      ]
    },
    {
      "cell_type": "code",
      "metadata": {
        "colab": {
          "base_uri": "https://localhost:8080/"
        },
        "id": "vCJzn4vWGCs3",
        "outputId": "20abf374-534e-4d3e-d081-8e56da30b164"
      },
      "source": [
        "### ESTIMATED GP EI GRADIENTS\n",
        "\n",
        "np.random.seed(run_num_15)\n",
        "surrogate_approx_15 = GaussianProcess(cov_func, optimize=opt)\n",
        "\n",
        "approx_15 = GPGO(surrogate_approx_15, Acquisition(util_grad_approx), objfunc, param)\n",
        "approx_15.run(init_evals=n_init, max_iter=iters)\n"
      ],
      "execution_count": null,
      "outputs": [
        {
          "output_type": "stream",
          "text": [
            "Evaluation \t Proposed point \t  Current eval. \t Best eval.\n",
            "init   \t [7.73226546 2.68343887]. \t  -12.768724532005583 \t -12.768724532005583\n",
            "init   \t [-4.18455179  5.42307669]. \t  -95.39334176626551 \t -12.768724532005583\n",
            "init   \t [-0.86898607  7.95000337]. \t  -16.419487782111716 \t -12.768724532005583\n",
            "init   \t [-0.41121626  4.56711539]. \t  -23.250362743740954 \t -12.768724532005583\n",
            "init   \t [-3.32388086  3.74848521]. \t  -80.99796277938532 \t -12.768724532005583\n",
            "1      \t [ 6.44369262 14.11318321]. \t  -188.60210814630312 \t -12.768724532005583\n",
            "2      \t [-4.79844257 15.        ]. \t  -13.422010816783201 \t -12.768724532005583\n",
            "3      \t [10.          7.77588884]. \t  -24.72402279647976 \t -12.768724532005583\n",
            "4      \t [2.82282728 0.        ]. \t  \u001b[92m-7.316554287678703\u001b[0m \t -7.316554287678703\n",
            "5      \t [ 0.46549494 13.40537109]. \t  -84.4862131471065 \t -7.316554287678703\n",
            "6      \t [4.50952792 8.16052408]. \t  -53.09738757367675 \t -7.316554287678703\n",
            "7      \t [-5.         10.41329741]. \t  -58.611678607638595 \t -7.316554287678703\n",
            "8      \t [-1.11782388  0.        ]. \t  -77.25368174404295 \t -7.316554287678703\n",
            "9      \t [3.79188383 3.80740748]. \t  \u001b[92m-6.297488441485162\u001b[0m \t -6.297488441485162\n",
            "10     \t [10.  0.]. \t  -10.960889035651505 \t -6.297488441485162\n",
            "11     \t [10.        11.6983054]. \t  -77.55223128279921 \t -6.297488441485162\n",
            "12     \t [-5.  0.]. \t  -308.12909601160663 \t -6.297488441485162\n",
            "13     \t [6.00093923 0.        ]. \t  -20.43505628790286 \t -6.297488441485162\n",
            "14     \t [7.18646382 5.74494392]. \t  -36.29128990520782 \t -6.297488441485162\n",
            "15     \t [ 3.52411836 11.472272  ]. \t  -90.89944330246465 \t -6.297488441485162\n",
            "16     \t [10.          4.19696432]. \t  \u001b[92m-3.368795097118179\u001b[0m \t -3.368795097118179\n",
            "17     \t [10. 15.]. \t  -145.87219087939556 \t -3.368795097118179\n",
            "18     \t [-1.68371737 10.77559849]. \t  -11.909723049756376 \t -3.368795097118179\n",
            "19     \t [7.18412072 9.92007307]. \t  -91.41767859293532 \t -3.368795097118179\n",
            "20     \t [2.03815398 6.135088  ]. \t  -13.752464609443821 \t -3.368795097118179\n"
          ],
          "name": "stdout"
        }
      ]
    },
    {
      "cell_type": "code",
      "metadata": {
        "colab": {
          "base_uri": "https://localhost:8080/"
        },
        "id": "bGGkhp-kGCw6",
        "outputId": "6a0ab9b4-208d-4163-81fd-efa7e3c0a30c"
      },
      "source": [
        "### ESTIMATED GP EI GRADIENTS\n",
        "\n",
        "np.random.seed(run_num_16)\n",
        "surrogate_approx_16 = GaussianProcess(cov_func, optimize=opt)\n",
        "\n",
        "approx_16 = GPGO(surrogate_approx_16, Acquisition(util_grad_approx), objfunc, param)\n",
        "approx_16.run(init_evals=n_init, max_iter=iters)\n"
      ],
      "execution_count": null,
      "outputs": [
        {
          "output_type": "stream",
          "text": [
            "Evaluation \t Proposed point \t  Current eval. \t Best eval.\n",
            "init   \t [-1.65063381  7.84745012]. \t  -10.514702126319445 \t -2.715864006988424\n",
            "init   \t [3.26052185 0.68402925]. \t  -2.715864006988424 \t -2.715864006988424\n",
            "init   \t [0.41093253 3.34621413]. \t  -22.889515127492515 \t -2.715864006988424\n",
            "init   \t [5.33089243 2.45597138]. \t  -17.178157611778595 \t -2.715864006988424\n",
            "init   \t [-3.945127  14.1151629]. \t  -3.3649224341694195 \t -2.715864006988424\n",
            "1      \t [ 5.63879248 14.58068289]. \t  -198.51319639462758 \t -2.715864006988424\n",
            "2      \t [9.91844219 8.81695252]. \t  -36.28422213736768 \t -2.715864006988424\n",
            "3      \t [-4.79859594  0.        ]. \t  -286.78105858747693 \t -2.715864006988424\n",
            "4      \t [3.81408659 8.61177775]. \t  -48.766704850031 \t -2.715864006988424\n",
            "5      \t [10.  0.]. \t  -10.960889035651505 \t -2.715864006988424\n",
            "6      \t [ 0.44391888 12.69865484]. \t  -73.13164220805213 \t -2.715864006988424\n",
            "7      \t [-5.          5.13899229]. \t  -157.88691797579548 \t -2.715864006988424\n",
            "8      \t [10.         4.2682766]. \t  -3.54417535675414 \t -2.715864006988424\n",
            "9      \t [-5.         10.32671612]. \t  -59.792189151288454 \t -2.715864006988424\n",
            "10     \t [10.         13.26461567]. \t  -107.2447873223146 \t -2.715864006988424\n",
            "11     \t [6.96068526 5.95677145]. \t  -40.29072338303703 \t -2.715864006988424\n",
            "12     \t [-0.32961053  0.        ]. \t  -61.83885216164565 \t -2.715864006988424\n",
            "13     \t [ 6.82622134 10.65931328]. \t  -108.5455303017713 \t -2.715864006988424\n",
            "14     \t [3.31979007 5.07480389]. \t  -9.162230281425373 \t -2.715864006988424\n",
            "15     \t [6.99195503 0.        ]. \t  -18.699625704219592 \t -2.715864006988424\n",
            "16     \t [0.87219172 6.69048846]. \t  -20.09738956200713 \t -2.715864006988424\n",
            "17     \t [-1.9866179 15.       ]. \t  -34.51265554160604 \t -2.715864006988424\n",
            "18     \t [8.52927322 2.67929763]. \t  -4.730349637572919 \t -2.715864006988424\n",
            "19     \t [-5. 15.]. \t  -17.508299515778166 \t -2.715864006988424\n",
            "20     \t [-1.76824828 10.39782081]. \t  -9.50790168258634 \t -2.715864006988424\n"
          ],
          "name": "stdout"
        }
      ]
    },
    {
      "cell_type": "code",
      "metadata": {
        "colab": {
          "base_uri": "https://localhost:8080/"
        },
        "id": "Yrs2mp7hGC1Z",
        "outputId": "598a6e55-5ea1-4508-b60d-3fa157737169"
      },
      "source": [
        "### ESTIMATED GP EI GRADIENTS\n",
        "\n",
        "np.random.seed(run_num_17)\n",
        "surrogate_approx_17 = GaussianProcess(cov_func, optimize=opt)\n",
        "\n",
        "approx_17 = GPGO(surrogate_approx_17, Acquisition(util_grad_approx), objfunc, param)\n",
        "approx_17.run(init_evals=n_init, max_iter=iters)\n"
      ],
      "execution_count": null,
      "outputs": [
        {
          "output_type": "stream",
          "text": [
            "Evaluation \t Proposed point \t  Current eval. \t Best eval.\n",
            "init   \t [-0.58002496  7.95880133]. \t  -19.016141117164256 \t -19.016141117164256\n",
            "init   \t [-2.1271882   1.01850537]. \t  -85.05949339404415 \t -19.016141117164256\n",
            "init   \t [6.8047819  9.84500283]. \t  -93.89792695202516 \t -19.016141117164256\n",
            "init   \t [4.56281344 8.63404341]. \t  -60.50217141122736 \t -19.016141117164256\n",
            "init   \t [-4.41405626  5.36720407]. \t  -110.70834086593878 \t -19.016141117164256\n",
            "1      \t [10.  0.]. \t  \u001b[92m-10.960889035651505\u001b[0m \t -10.960889035651505\n",
            "2      \t [-4.6254625 15.       ]. \t  \u001b[92m-10.433218359909354\u001b[0m \t -10.433218359909354\n",
            "3      \t [ 2.13775952 15.        ]. \t  -144.36571223765986 \t -10.433218359909354\n",
            "4      \t [10. 15.]. \t  -145.87219087939556 \t -10.433218359909354\n",
            "5      \t [4.33245489 0.        ]. \t  \u001b[92m-8.77833321061879\u001b[0m \t -8.77833321061879\n",
            "6      \t [10.          5.23799378]. \t  \u001b[92m-6.9385318265124925\u001b[0m \t -6.9385318265124925\n",
            "7      \t [-5.         10.43936201]. \t  -58.25923149903159 \t -6.9385318265124925\n",
            "8      \t [2.22930361 4.05972038]. \t  \u001b[92m-5.056779526589618\u001b[0m \t -5.056779526589618\n",
            "9      \t [6.25561109 3.78338802]. \t  -26.80321767574614 \t -5.056779526589618\n",
            "10     \t [-1.10952057 12.04965534]. \t  -31.28752175381043 \t -5.056779526589618\n",
            "11     \t [ 6.05336035 13.8979508 ]. \t  -183.14977791252898 \t -5.056779526589618\n",
            "12     \t [1.4024169 0.       ]. \t  -27.786142455688946 \t -5.056779526589618\n",
            "13     \t [10.          8.21799432]. \t  -29.139759047775705 \t -5.056779526589618\n",
            "14     \t [-0.55709851  4.5360587 ]. \t  -23.86557697822957 \t -5.056779526589618\n",
            "15     \t [ 2.10433196 11.07507459]. \t  -66.77306758542363 \t -5.056779526589618\n",
            "16     \t [7.12211142 0.        ]. \t  -17.89933501696511 \t -5.056779526589618\n",
            "17     \t [-1.76053939 15.        ]. \t  -41.80122854389079 \t -5.056779526589618\n",
            "18     \t [10.          2.72526762]. \t  \u001b[92m-2.0202518349282093\u001b[0m \t -2.0202518349282093\n",
            "19     \t [10.         11.40692499]. \t  -72.56982526462113 \t -2.0202518349282093\n",
            "20     \t [2.12160756 6.45693569]. \t  -15.5505568974713 \t -2.0202518349282093\n"
          ],
          "name": "stdout"
        }
      ]
    },
    {
      "cell_type": "code",
      "metadata": {
        "colab": {
          "base_uri": "https://localhost:8080/"
        },
        "id": "f0HIEP3PIUEa",
        "outputId": "518eda0c-1aed-4c33-9059-00f7e47b5105"
      },
      "source": [
        "### ESTIMATED GP EI GRADIENTS\n",
        "\n",
        "np.random.seed(run_num_18)\n",
        "surrogate_approx_18 = GaussianProcess(cov_func, optimize=opt)\n",
        "\n",
        "approx_18 = GPGO(surrogate_approx_18, Acquisition(util_grad_approx), objfunc, param)\n",
        "approx_18.run(init_evals=n_init, max_iter=iters)\n"
      ],
      "execution_count": null,
      "outputs": [
        {
          "output_type": "stream",
          "text": [
            "Evaluation \t Proposed point \t  Current eval. \t Best eval.\n",
            "init   \t [4.75561363 7.58180061]. \t  -49.215059064668324 \t -8.150075223157177\n",
            "init   \t [8.17902206 2.72760338]. \t  -8.150075223157177 \t -8.150075223157177\n",
            "init   \t [ 7.78349603 11.25204429]. \t  -106.98107856533271 \t -8.150075223157177\n",
            "init   \t [ 4.99152501 14.81843172]. \t  -196.08601750690153 \t -8.150075223157177\n",
            "init   \t [-1.14547366  0.42458888]. \t  -71.23649635555944 \t -8.150075223157177\n",
            "1      \t [-4.83474958 11.77354131]. \t  -35.58412906267954 \t -8.150075223157177\n",
            "2      \t [-4.3294464   5.61430449]. \t  -100.45699054630283 \t -8.150075223157177\n",
            "3      \t [ 0.51275923 11.10460609]. \t  -53.020724598536006 \t -8.150075223157177\n",
            "4      \t [4.16816792 0.        ]. \t  \u001b[92m-7.622384903229538\u001b[0m \t -7.622384903229538\n",
            "5      \t [10.          7.20264219]. \t  -19.580499656524992 \t -7.622384903229538\n",
            "6      \t [0.68815102 5.04168539]. \t  -17.42261558796049 \t -7.622384903229538\n",
            "7      \t [-1.72921987 15.        ]. \t  -42.84319715187649 \t -7.622384903229538\n",
            "8      \t [10. 15.]. \t  -145.87219087939556 \t -7.622384903229538\n",
            "9      \t [-5.          1.24200756]. \t  -266.9780170194058 \t -7.622384903229538\n",
            "10     \t [4.41908142 3.51927413]. \t  -11.343556041356456 \t -7.622384903229538\n",
            "11     \t [10.  0.]. \t  -10.960889035651505 \t -7.622384903229538\n",
            "12     \t [-2.37002081  8.88176695]. \t  \u001b[92m-5.72808405213056\u001b[0m \t -5.72808405213056\n",
            "13     \t [6.95600895 0.        ]. \t  -18.90163505117335 \t -5.72808405213056\n",
            "14     \t [ 3.9798879  11.01130369]. \t  -90.05524484920635 \t -5.72808405213056\n",
            "15     \t [-5. 15.]. \t  -17.508299515778166 \t -5.72808405213056\n",
            "16     \t [7.36750134 5.36647591]. \t  -31.136154737852188 \t -5.72808405213056\n",
            "17     \t [1.97124129 1.95002408]. \t  -8.25801035753311 \t -5.72808405213056\n",
            "18     \t [1.17366787 7.88013606]. \t  -26.459693239294232 \t -5.72808405213056\n",
            "19     \t [ 1.38740769 15.        ]. \t  -131.86084219290987 \t -5.72808405213056\n",
            "20     \t [-5.          8.84332938]. \t  -82.34660136328705 \t -5.72808405213056\n"
          ],
          "name": "stdout"
        }
      ]
    },
    {
      "cell_type": "code",
      "metadata": {
        "colab": {
          "base_uri": "https://localhost:8080/"
        },
        "id": "S3mxRQDLIUPC",
        "outputId": "c181a5ff-b82d-462f-aa35-4310fb16eb88"
      },
      "source": [
        "### ESTIMATED GP EI GRADIENTS\n",
        "\n",
        "np.random.seed(run_num_19)\n",
        "surrogate_approx_19 = GaussianProcess(cov_func, optimize=opt)\n",
        "\n",
        "approx_19 = GPGO(surrogate_approx_19, Acquisition(util_grad_approx), objfunc, param)\n",
        "approx_19.run(init_evals=n_init, max_iter=iters)\n"
      ],
      "execution_count": null,
      "outputs": [
        {
          "output_type": "stream",
          "text": [
            "Evaluation \t Proposed point \t  Current eval. \t Best eval.\n",
            "init   \t [-3.53699597 11.41874575]. \t  -4.475608269502271 \t -4.475608269502271\n",
            "init   \t [-1.2959304   2.07197531]. \t  -51.13947793770689 \t -4.475608269502271\n",
            "init   \t [-0.02830155  1.24499348]. \t  -42.63973921760034 \t -4.475608269502271\n",
            "init   \t [ 5.07965622 12.09890697]. \t  -131.17235664506808 \t -4.475608269502271\n",
            "init   \t [9.74112872 9.53491102]. \t  -46.84458913925112 \t -4.475608269502271\n",
            "1      \t [8.6773951  0.80876842]. \t  \u001b[92m-4.184707152540867\u001b[0m \t -4.184707152540867\n",
            "2      \t [4.45041553 5.47999855]. \t  -23.54840201771013 \t -4.184707152540867\n",
            "3      \t [-5.          6.34985382]. \t  -130.17529401788659 \t -4.184707152540867\n",
            "4      \t [ 0.0873144 15.       ]. \t  -103.06821773257954 \t -4.184707152540867\n",
            "5      \t [10. 15.]. \t  -145.87219087939556 \t -4.184707152540867\n",
            "6      \t [0.38615144 8.6436678 ]. \t  -29.386080997722466 \t -4.184707152540867\n",
            "7      \t [4.52927623 0.        ]. \t  -10.329659446180516 \t -4.184707152540867\n",
            "8      \t [10.          4.77775304]. \t  -5.0930430616415485 \t -4.184707152540867\n",
            "9      \t [-5. 15.]. \t  -17.508299515778166 \t -4.184707152540867\n",
            "10     \t [-5.  0.]. \t  -308.12909601160663 \t -4.184707152540867\n",
            "11     \t [0.87690023 5.09927128]. \t  -16.297379330348566 \t -4.184707152540867\n",
            "12     \t [7.03894792 3.18274589]. \t  -20.927761063267077 \t -4.184707152540867\n",
            "13     \t [6.31498789 8.27590644]. \t  -71.07448820748486 \t -4.184707152540867\n",
            "14     \t [3.14942604 2.54652035]. \t  \u001b[92m-0.47525558225881426\u001b[0m \t -0.47525558225881426\n",
            "15     \t [ 1.34143153 11.64567908]. \t  -69.15805867652578 \t -0.47525558225881426\n",
            "16     \t [-2.72757155  9.18806926]. \t  -5.678510435253411 \t -0.47525558225881426\n",
            "17     \t [ 3.55278946 15.        ]. \t  -170.81850897929945 \t -0.47525558225881426\n",
            "18     \t [10.         2.3524637]. \t  -2.3662816781093357 \t -0.47525558225881426\n",
            "19     \t [-5.         10.02508797]. \t  -64.0218952296447 \t -0.47525558225881426\n",
            "20     \t [-2.54379641 12.57903117]. \t  -4.934481076732693 \t -0.47525558225881426\n"
          ],
          "name": "stdout"
        }
      ]
    },
    {
      "cell_type": "code",
      "metadata": {
        "colab": {
          "base_uri": "https://localhost:8080/"
        },
        "id": "Aawd59dRIUYn",
        "outputId": "b2e46eaf-6868-4b60-bc0b-9d9c2a0ff99f"
      },
      "source": [
        "### ESTIMATED GP EI GRADIENTS\n",
        "\n",
        "np.random.seed(run_num_20)\n",
        "surrogate_approx_20 = GaussianProcess(cov_func, optimize=opt)\n",
        "\n",
        "approx_20 = GPGO(surrogate_approx_20, Acquisition(util_grad_approx), objfunc, param)\n",
        "approx_20.run(init_evals=n_init, max_iter=iters)\n"
      ],
      "execution_count": null,
      "outputs": [
        {
          "output_type": "stream",
          "text": [
            "Evaluation \t Proposed point \t  Current eval. \t Best eval.\n",
            "init   \t [ 3.82196202 13.46570592]. \t  -138.5264349938869 \t -14.042667401507376\n",
            "init   \t [ 8.37296094 12.23756216]. \t  -115.63178540512689 \t -14.042667401507376\n",
            "init   \t [-4.46165622 10.37636373]. \t  -35.66708529307584 \t -14.042667401507376\n",
            "init   \t [0.68021413 7.77766418]. \t  -25.307769914281764 \t -14.042667401507376\n",
            "init   \t [4.86927198 2.90775327]. \t  -14.042667401507376 \t -14.042667401507376\n",
            "1      \t [-4.88337277  1.15554411]. \t  -258.03874991509736 \t -14.042667401507376\n",
            "2      \t [10.          5.67308311]. \t  \u001b[92m-9.072716233411997\u001b[0m \t -9.072716233411997\n",
            "3      \t [9.84832611 0.06591567]. \t  \u001b[92m-9.027847655844058\u001b[0m \t -9.027847655844058\n",
            "4      \t [-1.70866498 15.        ]. \t  -43.53068468679724 \t -9.027847655844058\n",
            "5      \t [0.11401177 1.25905543]. \t  -40.34403021450308 \t -9.027847655844058\n",
            "6      \t [6.34167483 7.90009461]. \t  -65.79565375919643 \t -9.027847655844058\n",
            "7      \t [-3.52279418  5.91051374]. \t  -54.3680517740781 \t -9.027847655844058\n",
            "8      \t [-0.1848059  11.40919125]. \t  -45.5573656393724 \t -9.027847655844058\n",
            "9      \t [6.44407639 0.        ]. \t  -20.706796158679435 \t -9.027847655844058\n",
            "10     \t [1.92173517 4.53655254]. \t  \u001b[92m-7.948918546291848\u001b[0m \t -7.948918546291848\n",
            "11     \t [-5.         14.08925918]. \t  -22.321984249993857 \t -7.948918546291848\n",
            "12     \t [8.3426774  3.06196412]. \t  \u001b[92m-7.310425890385614\u001b[0m \t -7.310425890385614\n",
            "13     \t [10.          8.78276435]. \t  -35.349318268169796 \t -7.310425890385614\n",
            "14     \t [3.22054292 0.        ]. \t  \u001b[92m-5.330634712932251\u001b[0m \t -5.330634712932251\n",
            "15     \t [3.29040332 9.72739009]. \t  -57.74202036956133 \t -5.330634712932251\n",
            "16     \t [10. 15.]. \t  -145.87219087939556 \t -5.330634712932251\n",
            "17     \t [-0.67741045  4.42648342]. \t  -24.831090235816156 \t -5.330634712932251\n",
            "18     \t [3.81886761 5.90554444]. \t  -19.322858995875393 \t -5.330634712932251\n",
            "19     \t [-2.00719238  8.71701415]. \t  -6.937407242150097 \t -5.330634712932251\n",
            "20     \t [6.97723007 4.81293023]. \t  -30.54762029665723 \t -5.330634712932251\n"
          ],
          "name": "stdout"
        }
      ]
    },
    {
      "cell_type": "code",
      "metadata": {
        "colab": {
          "base_uri": "https://localhost:8080/"
        },
        "id": "xkgzPRbBTHaq",
        "outputId": "e980dac6-5328-450d-8bfd-bb78f85102bb"
      },
      "source": [
        "end_approx = time.time()\n",
        "end_approx\n",
        "\n",
        "time_approx = end_approx - start_approx\n",
        "time_approx\n",
        "\n",
        "start_exact = time.time()\n",
        "start_exact"
      ],
      "execution_count": null,
      "outputs": [
        {
          "output_type": "execute_result",
          "data": {
            "text/plain": [
              "1623406360.7274048"
            ]
          },
          "metadata": {
            "tags": []
          },
          "execution_count": 32
        }
      ]
    },
    {
      "cell_type": "code",
      "metadata": {
        "colab": {
          "base_uri": "https://localhost:8080/"
        },
        "id": "7CG3Ndvb16Rb",
        "outputId": "4535d228-c23a-4f65-a2b9-36d0da7deb52"
      },
      "source": [
        "### EXACT GP EI GRADIENTS\n",
        "\n",
        "np.random.seed(run_num_1)\n",
        "surrogate_exact_1 = dGaussianProcess(cov_func, optimize=opt)\n",
        "\n",
        "exact_1 = dGPGO(surrogate_exact_1, Acquisition_new(util_grad_exact), objfunc, param)\n",
        "exact_1.run(init_evals=n_init, max_iter=iters)\n"
      ],
      "execution_count": null,
      "outputs": [
        {
          "output_type": "stream",
          "text": [
            "Evaluation \t Proposed point \t  Current eval. \t Best eval.\n",
            "init   \t [ 1.25533007 10.8048674 ]. \t  -56.52874004692151 \t -27.68166689936483\n",
            "init   \t [-4.99828438  4.53498859]. \t  -172.66531086516164 \t -27.68166689936483\n",
            "init   \t [-2.79866164  1.38507892]. \t  -102.58290348816024 \t -27.68166689936483\n",
            "init   \t [-2.20609683  5.18341091]. \t  -28.868064601155666 \t -27.68166689936483\n",
            "init   \t [0.95151211 8.08225101]. \t  -27.68166689936483 \t -27.68166689936483\n",
            "1      \t [9.47260071 9.95162247]. \t  -55.70277575038468 \t -27.68166689936483\n",
            "2      \t [6.77944042 0.33495642]. \t  \u001b[92m-19.104233620056625\u001b[0m \t -19.104233620056625\n",
            "3      \t [-3.40124185 14.78563236]. \t  \u001b[92m-4.246346957669259\u001b[0m \t -4.246346957669259\n",
            "4      \t [ 5.75393503 14.80989262]. \t  -205.71967217110094 \t -4.246346957669259\n",
            "5      \t [9.61605203 4.67554377]. \t  -4.712086132001213 \t -4.246346957669259\n",
            "6      \t [-5.         10.68552092]. \t  -54.99766615417242 \t -4.246346957669259\n",
            "7      \t [5.08598148 4.73310463]. \t  -25.65697663075452 \t -4.246346957669259\n",
            "8      \t [2.01024959 0.        ]. \t  -16.954744203759482 \t -4.246346957669259\n",
            "9      \t [5.16240709 9.27255048]. \t  -78.91408248056042 \t -4.246346957669259\n",
            "10     \t [1.27150924 3.77985512]. \t  -12.99537209775962 \t -4.246346957669259\n",
            "11     \t [ 1.62068846 14.58208631]. \t  -126.6405369153871 \t -4.246346957669259\n",
            "12     \t [ 9.55928048 13.94325565]. \t  -129.36302497139116 \t -4.246346957669259\n",
            "13     \t [9.99723239 1.79434474]. \t  \u001b[92m-3.382829474803896\u001b[0m \t -3.382829474803896\n",
            "14     \t [-1.95651649 12.39047307]. \t  -14.127331272125602 \t -3.382829474803896\n",
            "15     \t [7.91601241 6.67694683]. \t  -36.242857432606996 \t -3.382829474803896\n",
            "16     \t [-2.60061393  8.19802829]. \t  -9.691427385043374 \t -3.382829474803896\n",
            "17     \t [4.23359578 1.67747107]. \t  -5.586232071608859 \t -3.382829474803896\n",
            "18     \t [7.90798322 3.02389547]. \t  -11.8260925458786 \t -3.382829474803896\n",
            "19     \t [2.83117972 6.34624688]. \t  -15.42415351716031 \t -3.382829474803896\n",
            "20     \t [9.14003975 0.50455077]. \t  -3.8146909252306624 \t -3.382829474803896\n"
          ],
          "name": "stdout"
        }
      ]
    },
    {
      "cell_type": "code",
      "metadata": {
        "id": "-ilCPSAu9SAg",
        "colab": {
          "base_uri": "https://localhost:8080/"
        },
        "outputId": "02d85e8b-e1b8-4eab-de0b-775842b9c203"
      },
      "source": [
        "### EXACT GP EI GRADIENTS\n",
        "\n",
        "np.random.seed(run_num_2)\n",
        "surrogate_exact_2 = dGaussianProcess(cov_func, optimize=opt)\n",
        "\n",
        "exact_2 = dGPGO(surrogate_exact_2, Acquisition_new(util_grad_exact), objfunc, param)\n",
        "exact_2.run(init_evals=n_init, max_iter=iters)\n"
      ],
      "execution_count": null,
      "outputs": [
        {
          "output_type": "stream",
          "text": [
            "Evaluation \t Proposed point \t  Current eval. \t Best eval.\n",
            "init   \t [1.53992353 0.38889348]. \t  -22.31361308916297 \t -6.692051508754487\n",
            "init   \t [3.24493717 6.52983589]. \t  -19.233109967858276 \t -6.692051508754487\n",
            "init   \t [1.30551703 4.95502232]. \t  -13.177851563387286 \t -6.692051508754487\n",
            "init   \t [-1.93027049  9.2890645 ]. \t  -6.692051508754487 \t -6.692051508754487\n",
            "init   \t [-0.50517989  4.00240913]. \t  -26.437522758780958 \t -6.692051508754487\n",
            "1      \t [ 9.5587047  12.00387527]. \t  -89.09951357262268 \t -6.692051508754487\n",
            "2      \t [9.06869679 2.0164014 ]. \t  \u001b[92m-1.0307174678975652\u001b[0m \t -1.0307174678975652\n",
            "3      \t [-0.16427306 14.97419295]. \t  -95.32402138742069 \t -1.0307174678975652\n",
            "4      \t [-5.  0.]. \t  -308.12909601160663 \t -1.0307174678975652\n",
            "5      \t [8.87401661 6.61039509]. \t  -22.618568623676445 \t -1.0307174678975652\n",
            "6      \t [-5.         12.97618816]. \t  -30.45772350488552 \t -1.0307174678975652\n",
            "7      \t [ 4.18301482 11.56379641]. \t  -104.36954494369935 \t -1.0307174678975652\n",
            "8      \t [-5.         5.7954092]. \t  -142.5002965706689 \t -1.0307174678975652\n",
            "9      \t [6.02212844 0.        ]. \t  -20.48785907865212 \t -1.0307174678975652\n",
            "10     \t [6.39374973 3.54158379]. \t  -25.479942045701176 \t -1.0307174678975652\n",
            "11     \t [-5.          9.53932812]. \t  -71.21614604777105 \t -1.0307174678975652\n",
            "12     \t [ 7.5999292  14.98756105]. \t  -197.963062952534 \t -1.0307174678975652\n",
            "13     \t [ 0.13788539 11.1489037 ]. \t  -48.303849917898134 \t -1.0307174678975652\n",
            "14     \t [9.33551326 0.        ]. \t  -6.199635174137813 \t -1.0307174678975652\n",
            "15     \t [6.12693335 8.37865806]. \t  -72.49049044538489 \t -1.0307174678975652\n",
            "16     \t [0.23097845 7.5788441 ]. \t  -23.10902271562412 \t -1.0307174678975652\n",
            "17     \t [-1.2753278  0.       ]. \t  -80.6913269029646 \t -1.0307174678975652\n",
            "18     \t [3.30023938 2.83747178]. \t  \u001b[92m-0.9848813016418614\u001b[0m \t -0.9848813016418614\n",
            "19     \t [9.12246647 4.0165424 ]. \t  -4.01863936350104 \t -0.9848813016418614\n",
            "20     \t [-3.16189021  3.09706011]. \t  -85.53320518671964 \t -0.9848813016418614\n"
          ],
          "name": "stdout"
        }
      ]
    },
    {
      "cell_type": "code",
      "metadata": {
        "colab": {
          "base_uri": "https://localhost:8080/"
        },
        "id": "XieJ158mIvlP",
        "outputId": "b3572706-1ae2-4ff6-c2d3-7221f9c6a0ea"
      },
      "source": [
        "### EXACT GP EI GRADIENTS\n",
        "\n",
        "np.random.seed(run_num_3)\n",
        "surrogate_exact_3 = dGaussianProcess(cov_func, optimize=opt)\n",
        "\n",
        "exact_3 = dGPGO(surrogate_exact_3, Acquisition_new(util_grad_exact), objfunc, param)\n",
        "exact_3.run(init_evals=n_init, max_iter=iters)\n"
      ],
      "execution_count": null,
      "outputs": [
        {
          "output_type": "stream",
          "text": [
            "Evaluation \t Proposed point \t  Current eval. \t Best eval.\n",
            "init   \t [ 3.26196854 10.62221734]. \t  -71.68783452098575 \t -18.07886746449891\n",
            "init   \t [-0.63642892  7.66241408]. \t  -18.07886746449891 \t -18.07886746449891\n",
            "init   \t [ 8.39420432 13.44439633]. \t  -141.98653529865882 \t -18.07886746449891\n",
            "init   \t [-3.11622034  3.10864317]. \t  -83.31045707266176 \t -18.07886746449891\n",
            "init   \t [-4.22799195  6.61214765]. \t  -76.5294170688398 \t -18.07886746449891\n",
            "1      \t [8.38589781 9.60264925]. \t  -66.98095812668986 \t -18.07886746449891\n",
            "2      \t [5.36445556 1.34242487]. \t  \u001b[92m-15.853300865113308\u001b[0m \t -15.853300865113308\n",
            "3      \t [-3.08864377 14.70503451]. \t  \u001b[92m-6.949190296303928\u001b[0m \t -6.949190296303928\n",
            "4      \t [8.69056724 4.31708052]. \t  -8.592312272503058 \t -6.949190296303928\n",
            "5      \t [0.56047254 0.52748086]. \t  -39.4874086937192 \t -6.949190296303928\n",
            "6      \t [3.29041148 5.41159541]. \t  -11.065169073156763 \t -6.949190296303928\n",
            "7      \t [ 2.13483631 14.96181456]. \t  -143.41722782959573 \t -6.949190296303928\n",
            "8      \t [9.12628913 1.01046409]. \t  \u001b[92m-2.3212961739849582\u001b[0m \t -2.3212961739849582\n",
            "9      \t [-5.         11.17586988]. \t  -48.86176834548933 \t -2.3212961739849582\n",
            "10     \t [-1.17009389 11.92075001]. \t  -28.81241382788842 \t -2.3212961739849582\n",
            "11     \t [-5.  0.]. \t  -308.12909601160663 \t -2.3212961739849582\n",
            "12     \t [0.48421884 4.20033201]. \t  -19.620358051938585 \t -2.3212961739849582\n",
            "13     \t [5.89785926 6.89304443]. \t  -52.37733461429231 \t -2.3212961739849582\n",
            "14     \t [ 5.64106616 14.42648623]. \t  -194.41105549770649 \t -2.3212961739849582\n",
            "15     \t [7.69190727 0.        ]. \t  -13.51283395340081 \t -2.3212961739849582\n",
            "16     \t [2.79584682 2.89585474]. \t  \u001b[92m-1.0788595154055631\u001b[0m \t -1.0788595154055631\n",
            "17     \t [5.94218381 3.80060928]. \t  -26.32002367627955 \t -1.0788595154055631\n",
            "18     \t [9.26719579 6.31925914]. \t  -16.3093395449881 \t -1.0788595154055631\n",
            "19     \t [-5.         14.36659717]. \t  -20.680458551884495 \t -1.0788595154055631\n",
            "20     \t [3.3795623 0.       ]. \t  -5.064776999696175 \t -1.0788595154055631\n"
          ],
          "name": "stdout"
        }
      ]
    },
    {
      "cell_type": "code",
      "metadata": {
        "colab": {
          "base_uri": "https://localhost:8080/"
        },
        "id": "PhLBVOIfIvol",
        "outputId": "35511446-cecb-4481-d414-acb245386d4b"
      },
      "source": [
        "### EXACT GP EI GRADIENTS\n",
        "\n",
        "np.random.seed(run_num_4)\n",
        "surrogate_exact_4 = dGaussianProcess(cov_func, optimize=opt)\n",
        "\n",
        "exact_4 = dGPGO(surrogate_exact_4, Acquisition_new(util_grad_exact), objfunc, param)\n",
        "exact_4.run(init_evals=n_init, max_iter=iters)\n"
      ],
      "execution_count": null,
      "outputs": [
        {
          "output_type": "stream",
          "text": [
            "Evaluation \t Proposed point \t  Current eval. \t Best eval.\n",
            "init   \t [9.50544759 8.20848374]. \t  -32.51676744781521 \t -7.247126865776948\n",
            "init   \t [ 9.5902654  10.72223991]. \t  -66.20566674364716 \t -7.247126865776948\n",
            "init   \t [5.46593237 3.24134243]. \t  -20.90089401680587 \t -7.247126865776948\n",
            "init   \t [9.64411682 0.09345383]. \t  -7.247126865776948 \t -7.247126865776948\n",
            "init   \t [-1.20526456  6.52187299]. \t  -15.941376982363263 \t -7.247126865776948\n",
            "1      \t [ 0.5775056  14.31328634]. \t  -102.48870217898984 \t -7.247126865776948\n",
            "2      \t [-0.13367617  0.17881992]. \t  -55.952651178085794 \t -7.247126865776948\n",
            "3      \t [-4.98639995 14.6489551 ]. \t  -18.844355450809267 \t -7.247126865776948\n",
            "4      \t [4.32819126 9.17004107]. \t  -64.74807516948553 \t -7.247126865776948\n",
            "5      \t [-4.93569217  3.54331379]. \t  -193.27527353634537 \t -7.247126865776948\n",
            "6      \t [ 5.76797903 14.82190962]. \t  -206.15580235617168 \t -7.247126865776948\n",
            "7      \t [-4.95336009  9.46492024]. \t  -69.87288098121975 \t -7.247126865776948\n",
            "8      \t [-0.16914819 10.36255978]. \t  -36.190362240300715 \t -7.247126865776948\n",
            "9      \t [9.16862347 3.07805919]. \t  \u001b[92m-1.3683511749105275\u001b[0m \t -1.3683511749105275\n",
            "10     \t [1.77097701 3.87702624]. \t  -8.175018294001896 \t -1.3683511749105275\n",
            "11     \t [3.8933132 0.       ]. \t  -6.089324660639614 \t -1.3683511749105275\n",
            "12     \t [-3.88638993  0.        ]. \t  -202.7834023208659 \t -1.3683511749105275\n",
            "13     \t [6.1638444  6.43571539]. \t  -48.024582292979304 \t -1.3683511749105275\n",
            "14     \t [6.41902483 0.37792916]. \t  -20.044775995583656 \t -1.3683511749105275\n",
            "15     \t [2.01735199 6.29703812]. \t  -14.745601666768007 \t -1.3683511749105275\n",
            "16     \t [ 9.61508667 14.10805784]. \t  -132.08282128659621 \t -1.3683511749105275\n",
            "17     \t [-2.6738185  12.28179721]. \t  -2.6453574456380977 \t -1.3683511749105275\n",
            "18     \t [9.57964912 4.82463969]. \t  -5.4230419977061635 \t -1.3683511749105275\n",
            "19     \t [-1.10360376  3.42302935]. \t  -34.4914468369297 \t -1.3683511749105275\n",
            "20     \t [ 2.71837567 12.16338735]. \t  -92.16508024778177 \t -1.3683511749105275\n"
          ],
          "name": "stdout"
        }
      ]
    },
    {
      "cell_type": "code",
      "metadata": {
        "colab": {
          "base_uri": "https://localhost:8080/"
        },
        "id": "arbiPyj2IvsJ",
        "outputId": "8f40c9f0-ba67-498a-9569-75cb6aa99375"
      },
      "source": [
        "### EXACT GP EI GRADIENTS\n",
        "\n",
        "np.random.seed(run_num_5)\n",
        "surrogate_exact_5 = dGaussianProcess(cov_func, optimize=opt)\n",
        "\n",
        "exact_5 = dGPGO(surrogate_exact_5, Acquisition_new(util_grad_exact), objfunc, param)\n",
        "exact_5.run(init_evals=n_init, max_iter=iters)\n"
      ],
      "execution_count": null,
      "outputs": [
        {
          "output_type": "stream",
          "text": [
            "Evaluation \t Proposed point \t  Current eval. \t Best eval.\n",
            "init   \t [-1.67010243 13.06098459]. \t  -25.390690545664548 \t -25.311309190989615\n",
            "init   \t [-1.89921267 13.77916362]. \t  -25.311309190989615 \t -25.311309190989615\n",
            "init   \t [2.32616783 9.17615794]. \t  -41.60147975414021 \t -25.311309190989615\n",
            "init   \t [6.48861785 7.77626982]. \t  -63.81281921768236 \t -25.311309190989615\n",
            "init   \t [-0.54799248  2.81581843]. \t  -34.966203644931994 \t -25.311309190989615\n",
            "1      \t [8.84124421 0.03321319]. \t  \u001b[92m-5.96108856337545\u001b[0m \t -5.96108856337545\n",
            "2      \t [ 9.0736314  14.50090003]. \t  -152.42565438241107 \t -5.96108856337545\n",
            "3      \t [-4.81236982  8.00518018]. \t  -85.70683082507513 \t -5.96108856337545\n",
            "4      \t [-5.  0.]. \t  -308.12909601160663 \t -5.96108856337545\n",
            "5      \t [3.91824516 0.        ]. \t  -6.204019264406566 \t -5.96108856337545\n",
            "6      \t [ 2.622107   14.91945666]. \t  -150.61370255044642 \t -5.96108856337545\n",
            "7      \t [9.51881542 3.9966536 ]. \t  \u001b[92m-2.517336699008217\u001b[0m \t -2.517336699008217\n",
            "8      \t [3.88320041 3.95002052]. \t  -7.682085372222798 \t -2.517336699008217\n",
            "9      \t [ 5.83337313 11.69578969]. \t  -130.6673919213544 \t -2.517336699008217\n",
            "10     \t [-1.12997151  7.15285708]. \t  -14.753986420091532 \t -2.517336699008217\n",
            "11     \t [-5.         12.03506732]. \t  -39.26987488525771 \t -2.517336699008217\n",
            "12     \t [-5.          4.13974479]. \t  -182.96401575387907 \t -2.517336699008217\n",
            "13     \t [6.8031699  2.88861857]. \t  -21.350617802677874 \t -2.517336699008217\n",
            "14     \t [1.05053693 0.        ]. \t  -34.75943692279499 \t -2.517336699008217\n",
            "15     \t [ 9.44363707 10.08398027]. \t  -58.05364275224202 \t -2.517336699008217\n",
            "16     \t [-1.40220613 10.07633611]. \t  -14.141349306607253 \t -2.517336699008217\n",
            "17     \t [1.30497636 5.81307932]. \t  -15.311437560928843 \t -2.517336699008217\n",
            "18     \t [9.05272596 5.306356  ]. \t  -10.834885094395876 \t -2.517336699008217\n",
            "19     \t [5.9380293 0.       ]. \t  -20.255512741690204 \t -2.517336699008217\n",
            "20     \t [9.93148416 2.20711877]. \t  \u001b[92m-2.1350786473167114\u001b[0m \t -2.1350786473167114\n"
          ],
          "name": "stdout"
        }
      ]
    },
    {
      "cell_type": "code",
      "metadata": {
        "colab": {
          "base_uri": "https://localhost:8080/"
        },
        "id": "04KJCEm_Ivvf",
        "outputId": "1bd59a41-f6cb-4047-e8ec-0a777faf6efb"
      },
      "source": [
        "### EXACT GP EI GRADIENTS\n",
        "\n",
        "np.random.seed(run_num_6)\n",
        "surrogate_exact_6 = dGaussianProcess(cov_func, optimize=opt)\n",
        "\n",
        "exact_6 = dGPGO(surrogate_exact_6, Acquisition_new(util_grad_exact), objfunc, param)\n",
        "exact_6.run(init_evals=n_init, max_iter=iters)\n"
      ],
      "execution_count": null,
      "outputs": [
        {
          "output_type": "stream",
          "text": [
            "Evaluation \t Proposed point \t  Current eval. \t Best eval.\n",
            "init   \t [8.39290227 4.97969708]. \t  -15.553860636684597 \t -15.31731051317483\n",
            "init   \t [7.31843685 0.62544939]. \t  -15.31731051317483 \t -15.31731051317483\n",
            "init   \t [-3.3851498   8.92578096]. \t  -16.222288919361837 \t -15.31731051317483\n",
            "init   \t [2.94726043 6.28211143]. \t  -15.406373581304088 \t -15.31731051317483\n",
            "init   \t [0.03111774 9.33779148]. \t  -31.07053245856209 \t -15.31731051317483\n",
            "1      \t [ 9.72522083 14.5299912 ]. \t  -139.8297584868663 \t -15.31731051317483\n",
            "2      \t [-4.42013634  0.37777   ]. \t  -237.69785665817545 \t -15.31731051317483\n",
            "3      \t [ 3.61480227 14.3758058 ]. \t  -156.22942206205929 \t -15.31731051317483\n",
            "4      \t [1.33236176 0.68568901]. \t  -23.985581932967577 \t -15.31731051317483\n",
            "5      \t [-4.19302139 14.61872658]. \t  \u001b[92m-5.3403971656550695\u001b[0m \t -5.3403971656550695\n",
            "6      \t [ 6.40979378 10.06666115]. \t  -99.81689660275181 \t -5.3403971656550695\n",
            "7      \t [-5.          5.12364844]. \t  -158.25688995372795 \t -5.3403971656550695\n",
            "8      \t [-0.59824397  4.17707408]. \t  -25.894181651083727 \t -5.3403971656550695\n",
            "9      \t [-0.81914508 13.50481785]. \t  -53.942961683213866 \t -5.3403971656550695\n",
            "10     \t [4.52645109 2.90779502]. \t  -10.37120197751454 \t -5.3403971656550695\n",
            "11     \t [-5.         11.78842408]. \t  -41.87226403856418 \t -5.3403971656550695\n",
            "12     \t [9.93332299 8.15272864]. \t  -28.812880358314132 \t -5.3403971656550695\n",
            "13     \t [4.36369847 0.        ]. \t  -9.014108437934913 \t -5.3403971656550695\n",
            "14     \t [5.72619803 6.57459356]. \t  -47.87774929312015 \t -5.3403971656550695\n",
            "15     \t [ 2.97185193 10.21145323]. \t  -61.38145738681465 \t -5.3403971656550695\n",
            "16     \t [9.35985297 1.95156086]. \t  \u001b[92m-0.6382835313791233\u001b[0m \t -0.6382835313791233\n",
            "17     \t [ 9.62688676 11.13421189]. \t  -72.56229037536801 \t -0.6382835313791233\n",
            "18     \t [9.95754335 3.12079698]. \t  -1.7541985493835206 \t -0.6382835313791233\n",
            "19     \t [-1.49901661  6.73859765]. \t  -14.442340452186656 \t -0.6382835313791233\n",
            "20     \t [2.26160142 3.46007602]. \t  -4.0409541925142065 \t -0.6382835313791233\n"
          ],
          "name": "stdout"
        }
      ]
    },
    {
      "cell_type": "code",
      "metadata": {
        "colab": {
          "base_uri": "https://localhost:8080/"
        },
        "id": "tAOkme3CIvyO",
        "outputId": "4fab5f08-1b3c-4695-e20a-616ad1c89e9c"
      },
      "source": [
        "### EXACT GP EI GRADIENTS\n",
        "\n",
        "np.random.seed(run_num_7)\n",
        "surrogate_exact_7 = dGaussianProcess(cov_func, optimize=opt)\n",
        "\n",
        "exact_7 = dGPGO(surrogate_exact_7, Acquisition_new(util_grad_exact), objfunc, param)\n",
        "exact_7.run(init_evals=n_init, max_iter=iters)\n"
      ],
      "execution_count": null,
      "outputs": [
        {
          "output_type": "stream",
          "text": [
            "Evaluation \t Proposed point \t  Current eval. \t Best eval.\n",
            "init   \t [-3.85537566 11.69878188]. \t  -8.299317850233932 \t -5.211335324193094\n",
            "init   \t [ 1.57613847 10.85197767]. \t  -59.50408380701259 \t -5.211335324193094\n",
            "init   \t [9.66984268 8.07743806]. \t  -29.714921414987273 \t -5.211335324193094\n",
            "init   \t [2.51680695 1.080767  ]. \t  -5.211335324193094 \t -5.211335324193094\n",
            "init   \t [-0.9734153   7.49823751]. \t  -15.431057204948033 \t -5.211335324193094\n",
            "1      \t [-3.15644272  0.        ]. \t  -151.95269311203583 \t -5.211335324193094\n",
            "2      \t [ 9.25668108 14.87713055]. \t  -157.79168966390583 \t -5.211335324193094\n",
            "3      \t [7.83339381 0.01037029]. \t  -12.29850161167343 \t -5.211335324193094\n",
            "4      \t [4.4556015  6.00369035]. \t  -28.08564757730271 \t -5.211335324193094\n",
            "5      \t [-5.          5.19297584]. \t  -156.58900479915567 \t -5.211335324193094\n",
            "6      \t [-0.66517009 14.88752362]. \t  -77.9546048777314 \t -5.211335324193094\n",
            "7      \t [ 4.59415787 14.23709363]. \t  -173.27920595767617 \t -5.211335324193094\n",
            "8      \t [9.53046987 3.95926056]. \t  \u001b[92m-2.39376862049631\u001b[0m \t -2.39376862049631\n",
            "9      \t [-0.84004858  3.75712261]. \t  -29.88508899821236 \t -2.39376862049631\n",
            "10     \t [ 6.15564868 10.11747234]. \t  -100.87425641228145 \t -2.39376862049631\n",
            "11     \t [5.11067786 2.34886485]. \t  -14.953066053244225 \t -2.39376862049631\n",
            "12     \t [-5.          9.05365463]. \t  -78.88091737733349 \t -2.39376862049631\n",
            "13     \t [7.56840459 5.12548076]. \t  -26.92686223753419 \t -2.39376862049631\n",
            "14     \t [0.48297955 0.        ]. \t  -46.18662095403514 \t -2.39376862049631\n",
            "15     \t [-4.12505239 14.16441748]. \t  -5.037851363850817 \t -2.39376862049631\n",
            "16     \t [ 9.62070745 11.05602901]. \t  -71.32314558447405 \t -2.39376862049631\n",
            "17     \t [1.49156341 5.84639153]. \t  -14.496047062587 \t -2.39376862049631\n",
            "18     \t [9.45734956 2.27605218]. \t  \u001b[92m-0.4543096953905579\u001b[0m \t -0.4543096953905579\n",
            "19     \t [4.4547232 0.       ]. \t  -9.724934487844362 \t -0.4543096953905579\n",
            "20     \t [-1.69425977 11.22620026]. \t  -13.478244704038248 \t -0.4543096953905579\n"
          ],
          "name": "stdout"
        }
      ]
    },
    {
      "cell_type": "code",
      "metadata": {
        "colab": {
          "base_uri": "https://localhost:8080/"
        },
        "id": "69-J3EF4Iv1S",
        "outputId": "bd6235d6-b27d-49a6-b001-fdfc82a7f22c"
      },
      "source": [
        "### EXACT GP EI GRADIENTS\n",
        "\n",
        "np.random.seed(run_num_8)\n",
        "surrogate_exact_8 = dGaussianProcess(cov_func, optimize=opt)\n",
        "\n",
        "exact_8 = dGPGO(surrogate_exact_8, Acquisition_new(util_grad_exact), objfunc, param)\n",
        "exact_8.run(init_evals=n_init, max_iter=iters)\n"
      ],
      "execution_count": null,
      "outputs": [
        {
          "output_type": "stream",
          "text": [
            "Evaluation \t Proposed point \t  Current eval. \t Best eval.\n",
            "init   \t [ 8.10144104 14.52810994]. \t  -175.17297136347514 \t -15.416245468470875\n",
            "init   \t [8.0379181  7.96283537]. \t  -49.32173799887473 \t -15.416245468470875\n",
            "init   \t [-1.50907508  0.17098206]. \t  -83.26753461673219 \t -15.416245468470875\n",
            "init   \t [1.45703227 6.0352704 ]. \t  -15.416245468470875 \t -15.416245468470875\n",
            "init   \t [2.84012007 7.17587694]. \t  -22.49093277852639 \t -15.416245468470875\n",
            "1      \t [-0.47864575 14.6326007 ]. \t  -80.00768934620143 \t -15.416245468470875\n",
            "2      \t [6.2584639  0.79690936]. \t  -19.69061392229066 \t -15.416245468470875\n",
            "3      \t [-4.8401206   6.42823123]. \t  -117.34273274148853 \t -15.416245468470875\n",
            "4      \t [-3.93434094 11.15335008]. \t  \u001b[92m-12.920033320986416\u001b[0m \t -12.920033320986416\n",
            "5      \t [ 3.37643278 12.34569511]. \t  -105.65657433447679 \t -12.920033320986416\n",
            "6      \t [2.39907019 2.26982123]. \t  \u001b[92m-3.355132209626336\u001b[0m \t -3.355132209626336\n",
            "7      \t [8.96015034 3.6583582 ]. \t  -3.8102476776448864 \t -3.355132209626336\n",
            "8      \t [-0.72764928  8.94814568]. \t  -20.13438107467893 \t -3.355132209626336\n",
            "9      \t [-4.84490371 14.8271652 ]. \t  -14.940133796228146 \t -3.355132209626336\n",
            "10     \t [-5.          2.13992428]. \t  -239.14907437782054 \t -3.355132209626336\n",
            "11     \t [5.74588614 4.4168561 ]. \t  -29.11711586406138 \t -3.355132209626336\n",
            "12     \t [-1.37625533  4.1811101 ]. \t  -29.95236792745573 \t -3.355132209626336\n",
            "13     \t [9.99008953 0.12991645]. \t  -10.089797543288475 \t -3.355132209626336\n",
            "14     \t [1.81641076 0.        ]. \t  -20.163690937652753 \t -3.355132209626336\n",
            "15     \t [5.09727359 9.28523236]. \t  -78.26760358414715 \t -3.355132209626336\n",
            "16     \t [ 9.32441646 10.92305278]. \t  -73.2311382417214 \t -3.355132209626336\n",
            "17     \t [-0.34413652 11.51006361]. \t  -43.51245650020666 \t -3.355132209626336\n",
            "18     \t [2.26077277 3.59385919]. \t  -4.1707953776312285 \t -3.355132209626336\n",
            "19     \t [9.92583404 5.63487006]. \t  -8.894086683040968 \t -3.355132209626336\n",
            "20     \t [4.13588038 0.        ]. \t  -7.414019350324661 \t -3.355132209626336\n"
          ],
          "name": "stdout"
        }
      ]
    },
    {
      "cell_type": "code",
      "metadata": {
        "colab": {
          "base_uri": "https://localhost:8080/"
        },
        "id": "vonm9jyuIv4t",
        "outputId": "8cbdc6b5-8bc7-4cd2-97c1-16a4c9b79f78"
      },
      "source": [
        "### EXACT GP EI GRADIENTS\n",
        "\n",
        "np.random.seed(run_num_9)\n",
        "surrogate_exact_9 = dGaussianProcess(cov_func, optimize=opt)\n",
        "\n",
        "exact_9 = dGPGO(surrogate_exact_9, Acquisition_new(util_grad_exact), objfunc, param)\n",
        "exact_9.run(init_evals=n_init, max_iter=iters)\n"
      ],
      "execution_count": null,
      "outputs": [
        {
          "output_type": "stream",
          "text": [
            "Evaluation \t Proposed point \t  Current eval. \t Best eval.\n",
            "init   \t [-4.84438769  7.52811888]. \t  -96.15564306553264 \t -3.4640248583909496\n",
            "init   \t [2.4365994  2.00744293]. \t  -3.4640248583909496 \t -3.4640248583909496\n",
            "init   \t [-2.86833372  3.27838013]. \t  -70.46930174488207 \t -3.4640248583909496\n",
            "init   \t [1.27762271 3.72151753]. \t  -12.982825924833865 \t -3.4640248583909496\n",
            "init   \t [-3.73910523  5.1824796 ]. \t  -75.58547400560856 \t -3.4640248583909496\n",
            "1      \t [ 7.05609655 14.75038872]. \t  -200.4388688685465 \t -3.4640248583909496\n",
            "2      \t [9.79053515 5.9968998 ]. \t  -11.24805159216164 \t -3.4640248583909496\n",
            "3      \t [-0.91490984 13.25685032]. \t  -48.26155495184477 \t -3.4640248583909496\n",
            "4      \t [4.42329559 9.16761691]. \t  -66.24415745540334 \t -3.4640248583909496\n",
            "5      \t [8.09381179 0.36546333]. \t  -9.19702700265266 \t -3.4640248583909496\n",
            "6      \t [-0.11304091  8.3679709 ]. \t  -24.321217375314745 \t -3.4640248583909496\n",
            "7      \t [ 9.43884454 10.2183652 ]. \t  -60.17453038358803 \t -3.4640248583909496\n",
            "8      \t [5.57235414 4.63725127]. \t  -29.48892327426774 \t -3.4640248583909496\n",
            "9      \t [-5.        12.0047373]. \t  -39.58333314384184 \t -3.4640248583909496\n",
            "10     \t [-0.29887753  0.        ]. \t  -61.26042699608233 \t -3.4640248583909496\n",
            "11     \t [-5.  0.]. \t  -308.12909601160663 \t -3.4640248583909496\n",
            "12     \t [4.60501306 0.86161159]. \t  -9.27211266246828 \t -3.4640248583909496\n",
            "13     \t [ 2.57498773 13.51903583]. \t  -117.69088059470447 \t -3.4640248583909496\n",
            "14     \t [8.46361221 3.26183489]. \t  -6.687401338525152 \t -3.4640248583909496\n",
            "15     \t [-3.94672    14.81957836]. \t  -3.6221444768682645 \t -3.4640248583909496\n",
            "16     \t [2.07361513 6.40526612]. \t  -15.295577538921345 \t -3.4640248583909496\n",
            "17     \t [7.27870001 7.42081772]. \t  -53.18340068847093 \t -3.4640248583909496\n",
            "18     \t [9.91313931 1.85072915]. \t  \u001b[92m-2.658887237261661\u001b[0m \t -2.658887237261661\n",
            "19     \t [-2.22894912 10.02200043]. \t  -4.154793912149543 \t -2.658887237261661\n",
            "20     \t [ 9.88660101 13.1221454 ]. \t  -106.05741144993789 \t -2.658887237261661\n"
          ],
          "name": "stdout"
        }
      ]
    },
    {
      "cell_type": "code",
      "metadata": {
        "colab": {
          "base_uri": "https://localhost:8080/"
        },
        "id": "6amuYlUdIv7r",
        "outputId": "1f80ad40-5c8f-4f25-9c33-ccb49b198197"
      },
      "source": [
        "### EXACT GP EI GRADIENTS\n",
        "\n",
        "np.random.seed(run_num_10)\n",
        "surrogate_exact_10 = dGaussianProcess(cov_func, optimize=opt)\n",
        "\n",
        "exact_10 = dGPGO(surrogate_exact_10, Acquisition_new(util_grad_exact), objfunc, param)\n",
        "exact_10.run(init_evals=n_init, max_iter=iters)\n"
      ],
      "execution_count": null,
      "outputs": [
        {
          "output_type": "stream",
          "text": [
            "Evaluation \t Proposed point \t  Current eval. \t Best eval.\n",
            "init   \t [6.56980965 0.31127924]. \t  -19.863985024602144 \t -2.710610964564512\n",
            "init   \t [ 4.50472352 11.23205824]. \t  -103.66999147252169 \t -2.710610964564512\n",
            "init   \t [2.47760518 3.37194968]. \t  -2.710610964564512 \t -2.710610964564512\n",
            "init   \t [-2.02905703 11.40796068]. \t  -8.463930835255017 \t -2.710610964564512\n",
            "init   \t [-2.46333745  1.32509721]. \t  -90.49481266026973 \t -2.710610964564512\n",
            "1      \t [8.70372597 6.86774268]. \t  -27.130126017218842 \t -2.710610964564512\n",
            "2      \t [ 9.45036259 14.63089076]. \t  -147.64044674485945 \t -2.710610964564512\n",
            "3      \t [-5.         7.4952192]. \t  -106.66134726369775 \t -2.710610964564512\n",
            "4      \t [ 1.08105942 14.97116497]. \t  -125.62413988622455 \t -2.710610964564512\n",
            "5      \t [0.03910533 7.52803182]. \t  -22.123101688582683 \t -2.710610964564512\n",
            "6      \t [4.29852499 6.53236012]. \t  -31.0056064602294 \t -2.710610964564512\n",
            "7      \t [-4.31113374 14.62074842]. \t  -6.661365851958085 \t -2.710610964564512\n",
            "8      \t [2.04084071 0.        ]. \t  -16.474782473739975 \t -2.710610964564512\n",
            "9      \t [9.44963174 2.45886016]. \t  \u001b[92m-0.40223554223319447\u001b[0m \t -0.40223554223319447\n",
            "10     \t [ 9.90623718 10.80791959]. \t  -63.84974428406751 \t -0.40223554223319447\n",
            "11     \t [6.92221404 3.72277849]. \t  -24.208268689326776 \t -0.40223554223319447\n",
            "12     \t [-5.         11.40803482]. \t  -46.12435444234146 \t -0.40223554223319447\n",
            "13     \t [-0.36707105  4.28232863]. \t  -24.34154796738504 \t -0.40223554223319447\n",
            "14     \t [ 5.32830902 14.94021784]. \t  -204.68738881850703 \t -0.40223554223319447\n",
            "15     \t [-4.98760559  3.74188908]. \t  -192.43089231074592 \t -0.40223554223319447\n",
            "16     \t [9.90545853 1.84875862]. \t  -2.612891840338106 \t -0.40223554223319447\n",
            "17     \t [ 0.67873078 10.8234573 ]. \t  -51.6284233232048 \t -0.40223554223319447\n",
            "18     \t [3.88743533 2.26060726]. \t  -3.192509256132417 \t -0.40223554223319447\n",
            "19     \t [9.90384587 3.76388583]. \t  -2.210098482264814 \t -0.40223554223319447\n",
            "20     \t [-2.13717298 13.84580476]. \t  -19.70363121337588 \t -0.40223554223319447\n"
          ],
          "name": "stdout"
        }
      ]
    },
    {
      "cell_type": "code",
      "metadata": {
        "colab": {
          "base_uri": "https://localhost:8080/"
        },
        "id": "VwbLIP9cIv-F",
        "outputId": "73ba1ec4-0ad8-4435-9d02-70d2477c3bba"
      },
      "source": [
        "### EXACT GP EI GRADIENTS\n",
        "\n",
        "np.random.seed(run_num_11)\n",
        "surrogate_exact_11 = dGaussianProcess(cov_func, optimize=opt)\n",
        "\n",
        "exact_11 = dGPGO(surrogate_exact_11, Acquisition_new(util_grad_exact), objfunc, param)\n",
        "exact_11.run(init_evals=n_init, max_iter=iters)\n"
      ],
      "execution_count": null,
      "outputs": [
        {
          "output_type": "stream",
          "text": [
            "Evaluation \t Proposed point \t  Current eval. \t Best eval.\n",
            "init   \t [-2.29595467  0.29212862]. \t  -104.49282729548965 \t -22.37435843952312\n",
            "init   \t [ 1.9482779  10.87400894]. \t  -62.47758067812407 \t -22.37435843952312\n",
            "init   \t [1.30305407 7.28140647]. \t  -22.37435843952312 \t -22.37435843952312\n",
            "init   \t [-4.80828778  7.31057411]. \t  -97.94503054415523 \t -22.37435843952312\n",
            "init   \t [ 9.12709979 12.76192634]. \t  -111.62900800771942 \t -22.37435843952312\n",
            "1      \t [6.94653631 0.95529646]. \t  \u001b[92m-17.615403152614682\u001b[0m \t -17.615403152614682\n",
            "2      \t [-3.32392335 14.51197433]. \t  \u001b[92m-3.777267680584016\u001b[0m \t -3.777267680584016\n",
            "3      \t [9.72363233 6.87677997]. \t  -17.947808548975658 \t -3.777267680584016\n",
            "4      \t [2.47196947 2.06083336]. \t  \u001b[92m-3.1023288619513876\u001b[0m \t -3.1023288619513876\n",
            "5      \t [ 3.58353585 14.94720983]. \t  -170.10293330444745 \t -3.1023288619513876\n",
            "6      \t [5.39808201 5.61457141]. \t  -35.807435550549954 \t -3.1023288619513876\n",
            "7      \t [-5.         11.61011793]. \t  -43.82938406177341 \t -3.1023288619513876\n",
            "8      \t [-1.233849    4.37974435]. \t  -27.467888955719456 \t -3.1023288619513876\n",
            "9      \t [6.40338978 9.39336155]. \t  -88.21827786975473 \t -3.1023288619513876\n",
            "10     \t [-5.          3.22438031]. \t  -207.68855472534503 \t -3.1023288619513876\n",
            "11     \t [-1.61206974  9.59321134]. \t  -10.082390570475399 \t -3.1023288619513876\n",
            "12     \t [-0.49043072 14.0558337 ]. \t  -70.94899545871193 \t -3.1023288619513876\n",
            "13     \t [9.83750142 2.61125041]. \t  \u001b[92m-1.2588665383981255\u001b[0m \t -1.2588665383981255\n",
            "14     \t [3.72886005 0.        ]. \t  -5.47207969132192 \t -1.2588665383981255\n",
            "15     \t [1.10383114 0.        ]. \t  -33.68796375749133 \t -1.2588665383981255\n",
            "16     \t [8.23326782 4.05065076]. \t  -12.191850927163275 \t -1.2588665383981255\n",
            "17     \t [4.31426076 2.41757474]. \t  -7.05074132025608 \t -1.2588665383981255\n",
            "18     \t [9.81708139 0.83789111]. \t  -5.079125374695652 \t -1.2588665383981255\n",
            "19     \t [2.68515675 3.72552065]. \t  -2.520744035550546 \t -1.2588665383981255\n",
            "20     \t [1.00909168 3.14156426]. \t  -17.029717350521512 \t -1.2588665383981255\n"
          ],
          "name": "stdout"
        }
      ]
    },
    {
      "cell_type": "code",
      "metadata": {
        "colab": {
          "base_uri": "https://localhost:8080/"
        },
        "id": "MlUNFjc-JTBY",
        "outputId": "279db3a7-2826-405a-e70a-fa1a15f70c5d"
      },
      "source": [
        "### EXACT GP EI GRADIENTS\n",
        "\n",
        "np.random.seed(run_num_12)\n",
        "surrogate_exact_12 = dGaussianProcess(cov_func, optimize=opt)\n",
        "\n",
        "exact_12 = dGPGO(surrogate_exact_12, Acquisition_new(util_grad_exact), objfunc, param)\n",
        "exact_12.run(init_evals=n_init, max_iter=iters)\n"
      ],
      "execution_count": null,
      "outputs": [
        {
          "output_type": "stream",
          "text": [
            "Evaluation \t Proposed point \t  Current eval. \t Best eval.\n",
            "init   \t [-2.68755736 11.10074545]. \t  -1.3827702760021356 \t -0.5499315281120278\n",
            "init   \t [-1.05027477  8.0060909 ]. \t  -14.81231853080056 \t -0.5499315281120278\n",
            "init   \t [-4.78137556 13.78120512]. \t  -18.401131000214548 \t -0.5499315281120278\n",
            "init   \t [8.51072281 0.50132141]. \t  -5.855172364344769 \t -0.5499315281120278\n",
            "init   \t [9.35424004 2.05813982]. \t  -0.5499315281120278 \t -0.5499315281120278\n",
            "1      \t [9.82941798 5.1689241 ]. \t  -6.608972192183428 \t -0.5499315281120278\n",
            "2      \t [ 8.68497867 14.25940608]. \t  -155.1276557842789 \t -0.5499315281120278\n",
            "3      \t [-5.  0.]. \t  -308.12909601160663 \t -0.5499315281120278\n",
            "4      \t [2.64482858 0.        ]. \t  -8.8176752663584 \t -0.5499315281120278\n",
            "5      \t [ 2.33380414 14.34125566]. \t  -132.23186597332315 \t -0.5499315281120278\n",
            "6      \t [5.62360485 9.20963842]. \t  -82.78452011516237 \t -0.5499315281120278\n",
            "7      \t [3.09998873 4.65591628]. \t  -5.9204624447012675 \t -0.5499315281120278\n",
            "8      \t [-5.          5.45104449]. \t  -150.4648553184957 \t -0.5499315281120278\n",
            "9      \t [-0.62223179  2.58482126]. \t  -37.65403378567214 \t -0.5499315281120278\n",
            "10     \t [6.4409178  3.32313442]. \t  -24.38869218110994 \t -0.5499315281120278\n",
            "11     \t [-5.          9.72826959]. \t  -68.36178431846182 \t -0.5499315281120278\n",
            "12     \t [ 9.56058806 10.18663569]. \t  -58.16568478001416 \t -0.5499315281120278\n",
            "13     \t [ 1.70684142 10.16634919]. \t  -51.03247510339132 \t -0.5499315281120278\n",
            "14     \t [-1.6783647  12.69610094]. \t  -22.37202562158393 \t -0.5499315281120278\n",
            "15     \t [5.63023566 0.        ]. \t  -18.913532859363595 \t -0.5499315281120278\n",
            "16     \t [7.55807437 6.28323147]. \t  -37.131397397403916 \t -0.5499315281120278\n",
            "17     \t [0.76616574 5.80881136]. \t  -17.82604551570398 \t -0.5499315281120278\n",
            "18     \t [ 5.32380935 12.84687022]. \t  -151.43268246126414 \t -0.5499315281120278\n",
            "19     \t [2.3766028  2.70097342]. \t  -3.1337577489183115 \t -0.5499315281120278\n",
            "20     \t [9.48262579 2.819244  ]. \t  \u001b[92m-0.5009833369059624\u001b[0m \t -0.5009833369059624\n"
          ],
          "name": "stdout"
        }
      ]
    },
    {
      "cell_type": "code",
      "metadata": {
        "colab": {
          "base_uri": "https://localhost:8080/"
        },
        "id": "9BsKdU9eJTFL",
        "outputId": "00a8915c-101b-4f82-e8db-94e1cc959c47"
      },
      "source": [
        "### EXACT GP EI GRADIENTS\n",
        "\n",
        "np.random.seed(run_num_13)\n",
        "surrogate_exact_13 = dGaussianProcess(cov_func, optimize=opt)\n",
        "\n",
        "exact_13 = dGPGO(surrogate_exact_13, Acquisition_new(util_grad_exact), objfunc, param)\n",
        "exact_13.run(init_evals=n_init, max_iter=iters)\n"
      ],
      "execution_count": null,
      "outputs": [
        {
          "output_type": "stream",
          "text": [
            "Evaluation \t Proposed point \t  Current eval. \t Best eval.\n",
            "init   \t [6.66553616 3.5631183 ]. \t  -24.823670200298267 \t -18.038943061558626\n",
            "init   \t [ 7.36417799 14.48623797]. \t  -188.7803334745195 \t -18.038943061558626\n",
            "init   \t [9.58901671 6.80173871]. \t  -18.038943061558626 \t -18.038943061558626\n",
            "init   \t [ 4.13563694 11.63289772]. \t  -104.87319703906111 \t -18.038943061558626\n",
            "init   \t [ 4.62420017 10.83027344]. \t  -98.03271225790056 \t -18.038943061558626\n",
            "1      \t [-1.62789089  4.1918933 ]. \t  -31.93216745479765 \t -18.038943061558626\n",
            "2      \t [-4.35385058 13.32256485]. \t  \u001b[92m-10.85616402870354\u001b[0m \t -10.85616402870354\n",
            "3      \t [2.9523568  0.05149534]. \t  \u001b[92m-6.213290736446655\u001b[0m \t -6.213290736446655\n",
            "4      \t [-5.  0.]. \t  -308.12909601160663 \t -6.213290736446655\n",
            "5      \t [-5.          8.73987037]. \t  -84.0838352604296 \t -6.213290736446655\n",
            "6      \t [-0.45911352  9.66427263]. \t  -27.054588141146777 \t -6.213290736446655\n",
            "7      \t [ 0.19688744 14.21576331]. \t  -92.07708032463351 \t -6.213290736446655\n",
            "8      \t [2.9171967  5.50508571]. \t  -9.93248653798666 \t -6.213290736446655\n",
            "9      \t [9.74243132 0.28918417]. \t  -6.963365868843974 \t -6.213290736446655\n",
            "10     \t [-0.50165264  0.        ]. \t  -65.08042616156222 \t -6.213290736446655\n",
            "11     \t [ 9.71084004 10.83857417]. \t  -66.58782483256539 \t -6.213290736446655\n",
            "12     \t [5.14103601 7.03439101]. \t  -47.65684193387447 \t -6.213290736446655\n",
            "13     \t [6.29582412 0.        ]. \t  -20.81227638434767 \t -6.213290736446655\n",
            "14     \t [1.57425972 2.81839768]. \t  -10.959252839706751 \t -6.213290736446655\n",
            "15     \t [-5.          4.61746228]. \t  -170.72608210829023 \t -6.213290736446655\n",
            "16     \t [0.2369298  6.62713374]. \t  -20.32780417718545 \t -6.213290736446655\n",
            "17     \t [3.95235416 2.72884215]. \t  \u001b[92m-4.3870669358895125\u001b[0m \t -4.3870669358895125\n",
            "18     \t [-2.91432663 11.38522627]. \t  \u001b[92m-0.7674857269668536\u001b[0m \t -0.7674857269668536\n",
            "19     \t [9.8299885  3.82020006]. \t  -2.140159086292873 \t -0.7674857269668536\n",
            "20     \t [ 3.78085656 14.4265263 ]. \t  -160.985174324529 \t -0.7674857269668536\n"
          ],
          "name": "stdout"
        }
      ]
    },
    {
      "cell_type": "code",
      "metadata": {
        "colab": {
          "base_uri": "https://localhost:8080/"
        },
        "id": "k6GjFBr1JTJf",
        "outputId": "822c27dc-b297-491d-ad3f-4271fca1a5b9"
      },
      "source": [
        "### EXACT GP EI GRADIENTS\n",
        "\n",
        "np.random.seed(run_num_14)\n",
        "surrogate_exact_14 = dGaussianProcess(cov_func, optimize=opt)\n",
        "\n",
        "exact_14 = dGPGO(surrogate_exact_14, Acquisition_new(util_grad_exact), objfunc, param)\n",
        "exact_14.run(init_evals=n_init, max_iter=iters)\n"
      ],
      "execution_count": null,
      "outputs": [
        {
          "output_type": "stream",
          "text": [
            "Evaluation \t Proposed point \t  Current eval. \t Best eval.\n",
            "init   \t [ 2.70915016 11.59747578]. \t  -81.58264375064097 \t -1.4149920024014744\n",
            "init   \t [8.05641529 0.12070423]. \t  -10.148649076616518 \t -1.4149920024014744\n",
            "init   \t [-0.35396112 14.36405609]. \t  -79.6056658956529 \t -1.4149920024014744\n",
            "init   \t [2.69675068 4.77426637]. \t  -5.855607664288365 \t -1.4149920024014744\n",
            "init   \t [3.08799906 3.31882414]. \t  -1.4149920024014744 \t -1.4149920024014744\n",
            "1      \t [-5.          1.71244664]. \t  -252.1966961125983 \t -1.4149920024014744\n",
            "2      \t [9.91083167 7.9391897 ]. \t  -26.74726853005628 \t -1.4149920024014744\n",
            "3      \t [-3.66670736  8.25640817]. \t  -29.95349403696578 \t -1.4149920024014744\n",
            "4      \t [ 9.14372498 14.98887041]. \t  -163.10109673985522 \t -1.4149920024014744\n",
            "5      \t [0.3921633 0.       ]. \t  -47.98696017190056 \t -1.4149920024014744\n",
            "6      \t [-5.         12.95513221]. \t  -30.63550731378922 \t -1.4149920024014744\n",
            "7      \t [7.03280169 4.32120341]. \t  -26.792334386451934 \t -1.4149920024014744\n",
            "8      \t [5.26695842 7.93629954]. \t  -60.41965862881821 \t -1.4149920024014744\n",
            "9      \t [-1.13962388  4.24944697]. \t  -27.941627651336383 \t -1.4149920024014744\n",
            "10     \t [4.40009097 0.        ]. \t  -9.294249499050936 \t -1.4149920024014744\n",
            "11     \t [1.01714263 7.64375223]. \t  -24.83900161320126 \t -1.4149920024014744\n",
            "12     \t [ 7.60116152 11.07880939]. \t  -106.73362003157524 \t -1.4149920024014744\n",
            "13     \t [ 4.9762777  14.22648165]. \t  -180.140622096974 \t -1.4149920024014744\n",
            "14     \t [-1.65868501 10.94126534]. \t  -12.943964751892187 \t -1.4149920024014744\n",
            "15     \t [9.83162899 2.85709599]. \t  \u001b[92m-1.1820007042698428\u001b[0m \t -1.1820007042698428\n",
            "16     \t [-4.05411965  5.14748752]. \t  -93.01510588278751 \t -1.1820007042698428\n",
            "17     \t [2.77870657 2.16721846]. \t  -1.1895085643088663 \t -1.1820007042698428\n",
            "18     \t [4.24076527 2.28029862]. \t  -6.136469752575828 \t -1.1820007042698428\n",
            "19     \t [1.46056    2.97645243]. \t  -12.006155733257126 \t -1.1820007042698428\n",
            "20     \t [9.56548939 1.49088682]. \t  -1.7146198322776307 \t -1.1820007042698428\n"
          ],
          "name": "stdout"
        }
      ]
    },
    {
      "cell_type": "code",
      "metadata": {
        "colab": {
          "base_uri": "https://localhost:8080/"
        },
        "id": "dPS8WB3aJTN6",
        "outputId": "5646fb11-806d-435e-e6fa-82c88c11d4d3"
      },
      "source": [
        "### EXACT GP EI GRADIENTS\n",
        "\n",
        "np.random.seed(run_num_15)\n",
        "surrogate_exact_15 = dGaussianProcess(cov_func, optimize=opt)\n",
        "\n",
        "exact_15 = dGPGO(surrogate_exact_15, Acquisition_new(util_grad_exact), objfunc, param)\n",
        "exact_15.run(init_evals=n_init, max_iter=iters)\n"
      ],
      "execution_count": null,
      "outputs": [
        {
          "output_type": "stream",
          "text": [
            "Evaluation \t Proposed point \t  Current eval. \t Best eval.\n",
            "init   \t [7.73226546 2.68343887]. \t  -12.768724532005583 \t -12.768724532005583\n",
            "init   \t [-4.18455179  5.42307669]. \t  -95.39334176626551 \t -12.768724532005583\n",
            "init   \t [-0.86898607  7.95000337]. \t  -16.419487782111716 \t -12.768724532005583\n",
            "init   \t [-0.41121626  4.56711539]. \t  -23.250362743740954 \t -12.768724532005583\n",
            "init   \t [-3.32388086  3.74848521]. \t  -80.99796277938532 \t -12.768724532005583\n",
            "1      \t [ 6.5655417  11.87699252]. \t  -134.95011349993544 \t -12.768724532005583\n",
            "2      \t [-3.60562328 14.8673558 ]. \t  \u001b[92m-3.5139061901593145\u001b[0m \t -3.5139061901593145\n",
            "3      \t [3.70191311 0.        ]. \t  -5.395287153486009 \t -3.5139061901593145\n",
            "4      \t [ 1.1492482  14.87856364]. \t  -124.95784214201342 \t -3.5139061901593145\n",
            "5      \t [4.48125008 6.99235223]. \t  -38.383967237383466 \t -3.5139061901593145\n",
            "6      \t [-5.         10.62235039]. \t  -55.823105861698835 \t -3.5139061901593145\n",
            "7      \t [9.59540512 6.67459399]. \t  -16.955261629397306 \t -3.5139061901593145\n",
            "8      \t [-5.01648060e-01 -5.55111512e-17]. \t  -65.0803396750184 \t -3.5139061901593145\n",
            "9      \t [-5.  0.]. \t  -308.12909601160663 \t -3.5139061901593145\n",
            "10     \t [ 2.16263768 10.35244426]. \t  -56.34194944059825 \t -3.5139061901593145\n",
            "11     \t [3.06960752 3.37294058]. \t  \u001b[92m-1.5067127234240214\u001b[0m \t -1.5067127234240214\n",
            "12     \t [ 9.57760795 14.48621149]. \t  -141.6270720718067 \t -1.5067127234240214\n",
            "13     \t [-1.36225854 11.52038799]. \t  -21.675902983916835 \t -1.5067127234240214\n",
            "14     \t [9.94404917 9.91027059]. \t  -50.138929140564244 \t -1.5067127234240214\n",
            "15     \t [4.85270452 2.49791699]. \t  -12.733194037409271 \t -1.5067127234240214\n",
            "16     \t [6.99530507 0.        ]. \t  -18.680361156939213 \t -1.5067127234240214\n",
            "17     \t [1.89296949 2.20732254]. \t  -8.504332566535222 \t -1.5067127234240214\n",
            "18     \t [9.71179631 0.72341832]. \t  -4.808026773401662 \t -1.5067127234240214\n",
            "19     \t [ 5.0254296  14.85771607]. \t  -197.73720446173766 \t -1.5067127234240214\n",
            "20     \t [6.96242292 5.47214431]. \t  -35.88295729004187 \t -1.5067127234240214\n"
          ],
          "name": "stdout"
        }
      ]
    },
    {
      "cell_type": "code",
      "metadata": {
        "colab": {
          "base_uri": "https://localhost:8080/"
        },
        "id": "SHWdp2giJTRm",
        "outputId": "2bb027f9-f42e-4d72-d436-e86f8108f3e0"
      },
      "source": [
        "### EXACT GP EI GRADIENTS\n",
        "\n",
        "np.random.seed(run_num_16)\n",
        "surrogate_exact_16 = dGaussianProcess(cov_func, optimize=opt)\n",
        "\n",
        "exact_16 = dGPGO(surrogate_exact_16, Acquisition_new(util_grad_exact), objfunc, param)\n",
        "exact_16.run(init_evals=n_init, max_iter=iters)\n"
      ],
      "execution_count": null,
      "outputs": [
        {
          "output_type": "stream",
          "text": [
            "Evaluation \t Proposed point \t  Current eval. \t Best eval.\n",
            "init   \t [-1.65063381  7.84745012]. \t  -10.514702126319445 \t -2.715864006988424\n",
            "init   \t [3.26052185 0.68402925]. \t  -2.715864006988424 \t -2.715864006988424\n",
            "init   \t [0.41093253 3.34621413]. \t  -22.889515127492515 \t -2.715864006988424\n",
            "init   \t [5.33089243 2.45597138]. \t  -17.178157611778595 \t -2.715864006988424\n",
            "init   \t [-3.945127  14.1151629]. \t  -3.3649224341694195 \t -2.715864006988424\n",
            "1      \t [ 5.63879248 14.58068289]. \t  -198.51319639462758 \t -2.715864006988424\n",
            "2      \t [9.91844219 8.81695252]. \t  -36.28422213736768 \t -2.715864006988424\n",
            "3      \t [-5.  0.]. \t  -308.12909601160663 \t -2.715864006988424\n",
            "4      \t [3.85654417 9.13706995]. \t  -56.82460928884615 \t -2.715864006988424\n",
            "5      \t [9.99139112 1.55175532]. \t  -3.9797647677295895 \t -2.715864006988424\n",
            "6      \t [ 0.40948096 12.76888861]. \t  -73.55254909962426 \t -2.715864006988424\n",
            "7      \t [-5.          5.14765042]. \t  -157.678360254256 \t -2.715864006988424\n",
            "8      \t [-5.         10.25993479]. \t  -60.712974646155395 \t -2.715864006988424\n",
            "9      \t [8.59339051 4.84654713]. \t  -12.431157376265867 \t -2.715864006988424\n",
            "10     \t [ 9.97855902 14.65271178]. \t  -138.04449874167767 \t -2.715864006988424\n",
            "11     \t [-0.50779219  0.        ]. \t  -65.19646384909731 \t -2.715864006988424\n",
            "12     \t [3.13335423 5.5180022 ]. \t  -10.87358963697566 \t -2.715864006988424\n",
            "13     \t [7.42632566 0.        ]. \t  -15.685922322919057 \t -2.715864006988424\n",
            "14     \t [6.18039596 6.62907409]. \t  -50.143182479314746 \t -2.715864006988424\n",
            "15     \t [ 7.10301331 10.45283618]. \t  -101.9279648753849 \t -2.715864006988424\n",
            "16     \t [0.74686818 7.06946503]. \t  -21.825177154408294 \t -2.715864006988424\n",
            "17     \t [-2.29061893  2.65829196]. \t  -62.42453445451797 \t -2.715864006988424\n",
            "18     \t [-2.91201402 12.80602327]. \t  \u001b[92m-1.807485731494669\u001b[0m \t -1.807485731494669\n",
            "19     \t [-1.85489977 10.49462588]. \t  -8.51412186644138 \t -1.807485731494669\n",
            "20     \t [2.77713907 2.30922964]. \t  \u001b[92m-1.0999371186934965\u001b[0m \t -1.0999371186934965\n"
          ],
          "name": "stdout"
        }
      ]
    },
    {
      "cell_type": "code",
      "metadata": {
        "colab": {
          "base_uri": "https://localhost:8080/"
        },
        "id": "yU2SflSsJTUs",
        "outputId": "79664abc-3ff2-4f7a-f561-93a847b93aa2"
      },
      "source": [
        "### EXACT GP EI GRADIENTS\n",
        "\n",
        "np.random.seed(run_num_17)\n",
        "surrogate_exact_17 = dGaussianProcess(cov_func, optimize=opt)\n",
        "\n",
        "exact_17 = dGPGO(surrogate_exact_17, Acquisition_new(util_grad_exact), objfunc, param)\n",
        "exact_17.run(init_evals=n_init, max_iter=iters)\n"
      ],
      "execution_count": null,
      "outputs": [
        {
          "output_type": "stream",
          "text": [
            "Evaluation \t Proposed point \t  Current eval. \t Best eval.\n",
            "init   \t [-0.58002496  7.95880133]. \t  -19.016141117164256 \t -19.016141117164256\n",
            "init   \t [-2.1271882   1.01850537]. \t  -85.05949339404415 \t -19.016141117164256\n",
            "init   \t [6.8047819  9.84500283]. \t  -93.89792695202516 \t -19.016141117164256\n",
            "init   \t [4.56281344 8.63404341]. \t  -60.50217141122736 \t -19.016141117164256\n",
            "init   \t [-4.41405626  5.36720407]. \t  -110.70834086593878 \t -19.016141117164256\n",
            "1      \t [9.76575296 0.98553483]. \t  \u001b[92m-4.1623278326263815\u001b[0m \t -4.1623278326263815\n",
            "2      \t [-4.0692092  14.64043819]. \t  -4.241825729253317 \t -4.1623278326263815\n",
            "3      \t [4.06607537 0.        ]. \t  -6.987522719297042 \t -4.1623278326263815\n",
            "4      \t [ 3.03819562 14.9592515 ]. \t  -159.26550321070087 \t -4.1623278326263815\n",
            "5      \t [-5.         10.41147783]. \t  -58.63633387366506 \t -4.1623278326263815\n",
            "6      \t [ 9.7165504  14.35949467]. \t  -135.9996997459606 \t -4.1623278326263815\n",
            "7      \t [8.19532719 4.95303034]. \t  -17.806908799512883 \t -4.1623278326263815\n",
            "8      \t [1.11582031 4.1832658 ]. \t  -14.260239804067487 \t -4.1623278326263815\n",
            "9      \t [-0.34010601 11.89060981]. \t  -47.50761351775903 \t -4.1623278326263815\n",
            "10     \t [4.64303553 3.99239564]. \t  -16.079445109534554 \t -4.1623278326263815\n",
            "11     \t [6.63454958 0.79833416]. \t  -19.123570939816663 \t -4.1623278326263815\n",
            "12     \t [1.32968955 0.        ]. \t  -29.2024737149897 \t -4.1623278326263815\n",
            "13     \t [ 6.38692789 13.15818715]. \t  -164.8372187830587 \t -4.1623278326263815\n",
            "14     \t [ 9.99695878 10.33071554]. \t  -55.66755430261044 \t -4.1623278326263815\n",
            "15     \t [-5.  0.]. \t  -308.12909601160663 \t -4.1623278326263815\n",
            "16     \t [2.64367617 6.18622385]. \t  -13.75010405502346 \t -4.1623278326263815\n",
            "17     \t [ 2.66790796 11.37512455]. \t  -77.17526687618609 \t -4.1623278326263815\n",
            "18     \t [-1.66653152 14.52358219]. \t  -39.46899750437008 \t -4.1623278326263815\n",
            "19     \t [9.81961649 7.06573159]. \t  -19.093409543666745 \t -4.1623278326263815\n",
            "20     \t [-5.         13.46984178]. \t  -26.54369713901015 \t -4.1623278326263815\n"
          ],
          "name": "stdout"
        }
      ]
    },
    {
      "cell_type": "code",
      "metadata": {
        "colab": {
          "base_uri": "https://localhost:8080/"
        },
        "id": "es0KCh_0JTgY",
        "outputId": "0ad031f3-f0f3-43ba-9d60-0f3a7951826a"
      },
      "source": [
        "### EXACT GP EI GRADIENTS\n",
        "\n",
        "np.random.seed(run_num_18)\n",
        "surrogate_exact_18 = dGaussianProcess(cov_func, optimize=opt)\n",
        "\n",
        "exact_18 = dGPGO(surrogate_exact_18, Acquisition_new(util_grad_exact), objfunc, param)\n",
        "exact_18.run(init_evals=n_init, max_iter=iters)\n"
      ],
      "execution_count": null,
      "outputs": [
        {
          "output_type": "stream",
          "text": [
            "Evaluation \t Proposed point \t  Current eval. \t Best eval.\n",
            "init   \t [4.75561363 7.58180061]. \t  -49.215059064668324 \t -8.150075223157177\n",
            "init   \t [8.17902206 2.72760338]. \t  -8.150075223157177 \t -8.150075223157177\n",
            "init   \t [ 7.78349603 11.25204429]. \t  -106.98107856533271 \t -8.150075223157177\n",
            "init   \t [ 4.99152501 14.81843172]. \t  -196.08601750690153 \t -8.150075223157177\n",
            "init   \t [-1.14547366  0.42458888]. \t  -71.23649635555944 \t -8.150075223157177\n",
            "1      \t [-4.83474958 11.77354131]. \t  -35.58412906267954 \t -8.150075223157177\n",
            "2      \t [-1.88826854  6.70399181]. \t  -14.630614325969386 \t -8.150075223157177\n",
            "3      \t [-0.51657686 14.28710066]. \t  -73.5610643915935 \t -8.150075223157177\n",
            "4      \t [4.18472296 0.83236175]. \t  \u001b[92m-5.757617883721708\u001b[0m \t -5.757617883721708\n",
            "5      \t [ 0.86842496 10.0227023 ]. \t  -44.37192956080076 \t -5.757617883721708\n",
            "6      \t [-5.          3.18813342]. \t  -208.702097778099 \t -5.757617883721708\n",
            "7      \t [1.84462578 4.06147988]. \t  -7.7144510287816 \t -5.757617883721708\n",
            "8      \t [ 9.59675026 14.67960992]. \t  -145.8800819268564 \t -5.757617883721708\n",
            "9      \t [8.66313736 6.69467935]. \t  -25.968187639214978 \t -5.757617883721708\n",
            "10     \t [-5.          7.88814383]. \t  -99.19917553327659 \t -5.757617883721708\n",
            "11     \t [7.22480662 0.        ]. \t  -17.199447285302824 \t -5.757617883721708\n",
            "12     \t [5.19197717 3.808651  ]. \t  -21.13637250329181 \t -5.757617883721708\n",
            "13     \t [-1.12533381  3.82887264]. \t  -31.15910927858084 \t -5.757617883721708\n",
            "14     \t [-4.68199713 14.92551895]. \t  -11.552320795324627 \t -5.757617883721708\n",
            "15     \t [ 3.82478451 11.07643055]. \t  -88.55869087071808 \t -5.757617883721708\n",
            "16     \t [-2.26717971 10.08322737]. \t  \u001b[92m-3.876517881589809\u001b[0m \t -3.876517881589809\n",
            "17     \t [1.52644442 6.30964627]. \t  -16.369839276929937 \t -3.876517881589809\n",
            "18     \t [1.87680645 1.16582288]. \t  -12.407364659722182 \t -3.876517881589809\n",
            "19     \t [-5.  0.]. \t  -308.12909601160663 \t -3.876517881589809\n",
            "20     \t [9.97696352 2.55733096]. \t  \u001b[92m-2.003744773764411\u001b[0m \t -2.003744773764411\n"
          ],
          "name": "stdout"
        }
      ]
    },
    {
      "cell_type": "code",
      "metadata": {
        "colab": {
          "base_uri": "https://localhost:8080/"
        },
        "id": "Pput2LHPIwBM",
        "outputId": "dda56321-7381-478a-8593-b49129bcdbd5"
      },
      "source": [
        "### EXACT GP EI GRADIENTS\n",
        "\n",
        "np.random.seed(run_num_19)\n",
        "surrogate_exact_19 = dGaussianProcess(cov_func, optimize=opt)\n",
        "\n",
        "exact_19 = dGPGO(surrogate_exact_19, Acquisition_new(util_grad_exact), objfunc, param)\n",
        "exact_19.run(init_evals=n_init, max_iter=iters)\n"
      ],
      "execution_count": null,
      "outputs": [
        {
          "output_type": "stream",
          "text": [
            "Evaluation \t Proposed point \t  Current eval. \t Best eval.\n",
            "init   \t [-3.53699597 11.41874575]. \t  -4.475608269502271 \t -4.475608269502271\n",
            "init   \t [-1.2959304   2.07197531]. \t  -51.13947793770689 \t -4.475608269502271\n",
            "init   \t [-0.02830155  1.24499348]. \t  -42.63973921760034 \t -4.475608269502271\n",
            "init   \t [ 5.07965622 12.09890697]. \t  -131.17235664506808 \t -4.475608269502271\n",
            "init   \t [9.74112872 9.53491102]. \t  -46.84458913925112 \t -4.475608269502271\n",
            "1      \t [8.6773951  0.80876842]. \t  \u001b[92m-4.184707152540867\u001b[0m \t -4.184707152540867\n",
            "2      \t [4.45041553 5.47999855]. \t  -23.54840201771013 \t -4.184707152540867\n",
            "3      \t [-4.04838436  6.32106816]. \t  -71.9700715917133 \t -4.184707152540867\n",
            "4      \t [-8.69860031e-04  1.42821549e+01]. \t  -88.17326654597659 \t -4.184707152540867\n",
            "5      \t [0.80655347 8.67861441]. \t  -31.685363189083702 \t -4.184707152540867\n",
            "6      \t [4.5267817 0.       ]. \t  -10.309146212628553 \t -4.184707152540867\n",
            "7      \t [ 9.55368033 14.5300422 ]. \t  -143.140599752017 \t -4.184707152540867\n",
            "8      \t [-5.  0.]. \t  -308.12909601160663 \t -4.184707152540867\n",
            "9      \t [8.98634645 4.92281445]. \t  -9.105848201119821 \t -4.184707152540867\n",
            "10     \t [0.80400624 5.10119911]. \t  -16.750598342783768 \t -4.184707152540867\n",
            "11     \t [6.38776327 2.54152106]. \t  -21.61398856083099 \t -4.184707152540867\n",
            "12     \t [-4.26795547 14.34625502]. \t  -6.510901919506036 \t -4.184707152540867\n",
            "13     \t [6.65649654 7.59676408]. \t  -60.76127542886388 \t -4.184707152540867\n",
            "14     \t [-5.          9.61899984]. \t  -70.00383005346774 \t -4.184707152540867\n",
            "15     \t [3.09847994 2.21049321]. \t  \u001b[92m-0.4164861410776428\u001b[0m \t -0.4164861410776428\n",
            "16     \t [2.87865522 2.85419458]. \t  -0.8612833800100894 \t -0.4164861410776428\n",
            "17     \t [-1.98482839 10.07211907]. \t  -6.300440821720379 \t -0.4164861410776428\n",
            "18     \t [3.66391216 8.65411004]. \t  -47.256918565808576 \t -0.4164861410776428\n",
            "19     \t [ 3.02409105 14.90354405]. \t  -157.59347477537295 \t -0.4164861410776428\n",
            "20     \t [2.8461419  1.89221928]. \t  -1.203896878362313 \t -0.4164861410776428\n"
          ],
          "name": "stdout"
        }
      ]
    },
    {
      "cell_type": "code",
      "metadata": {
        "colab": {
          "base_uri": "https://localhost:8080/"
        },
        "id": "aw3xvSryIwDi",
        "outputId": "0e6bdb7a-ae14-47a1-9a3b-91df411d660c"
      },
      "source": [
        "### EXACT GP EI GRADIENTS\n",
        "\n",
        "np.random.seed(run_num_20)\n",
        "surrogate_exact_20 = dGaussianProcess(cov_func, optimize=opt)\n",
        "\n",
        "exact_20 = dGPGO(surrogate_exact_20, Acquisition_new(util_grad_exact), objfunc, param)\n",
        "exact_20.run(init_evals=n_init, max_iter=iters)\n"
      ],
      "execution_count": null,
      "outputs": [
        {
          "output_type": "stream",
          "text": [
            "Evaluation \t Proposed point \t  Current eval. \t Best eval.\n",
            "init   \t [ 3.82196202 13.46570592]. \t  -138.5264349938869 \t -14.042667401507376\n",
            "init   \t [ 8.37296094 12.23756216]. \t  -115.63178540512689 \t -14.042667401507376\n",
            "init   \t [-4.46165622 10.37636373]. \t  -35.66708529307584 \t -14.042667401507376\n",
            "init   \t [0.68021413 7.77766418]. \t  -25.307769914281764 \t -14.042667401507376\n",
            "init   \t [4.86927198 2.90775327]. \t  -14.042667401507376 \t -14.042667401507376\n",
            "1      \t [-4.88337277  1.15554411]. \t  -258.03874991509736 \t -14.042667401507376\n",
            "2      \t [-1.84310627 14.89552828]. \t  -37.92416090431381 \t -14.042667401507376\n",
            "3      \t [9.98998478 0.35020336]. \t  \u001b[92m-8.875777366291523\u001b[0m \t -8.875777366291523\n",
            "4      \t [9.82049302 5.23462252]. \t  \u001b[92m-6.926835976089437\u001b[0m \t -6.926835976089437\n",
            "5      \t [0.11401177 1.25905543]. \t  -40.34403021450308 \t -6.926835976089437\n",
            "6      \t [6.34167483 7.90009461]. \t  -65.79565375919643 \t -6.926835976089437\n",
            "7      \t [-5.          5.51340856]. \t  -149.00489585112476 \t -6.926835976089437\n",
            "8      \t [-0.53405313 11.49764199]. \t  -39.52473478318865 \t -6.926835976089437\n",
            "9      \t [5.78794253 0.        ]. \t  -19.693729446216174 \t -6.926835976089437\n",
            "10     \t [-0.56018414  4.58448812]. \t  -23.64577960232005 \t -6.926835976089437\n",
            "11     \t [7.94295741 3.09170569]. \t  -11.652630026865006 \t -6.926835976089437\n",
            "12     \t [3.53895381 5.13608054]. \t  -11.072114646842019 \t -6.926835976089437\n",
            "13     \t [-5.         13.92763768]. \t  -23.349545126428623 \t -6.926835976089437\n",
            "14     \t [9.82106318 7.9963632 ]. \t  -27.837869899793276 \t -6.926835976089437\n",
            "15     \t [2.71099301 9.86405986]. \t  -53.53718705475601 \t -6.926835976089437\n",
            "16     \t [2.69605974 0.        ]. \t  -8.347647162761653 \t -6.926835976089437\n",
            "17     \t [ 9.5753511  14.80706293]. \t  -149.3983233662887 \t -6.926835976089437\n",
            "18     \t [-2.55613798  8.18045993]. \t  -9.45991547733541 \t -6.926835976089437\n",
            "19     \t [6.9362799  4.81790452]. \t  -30.890336248422418 \t -6.926835976089437\n",
            "20     \t [ 5.75900204 10.82833027]. \t  -112.58763977748158 \t -6.926835976089437\n"
          ],
          "name": "stdout"
        }
      ]
    },
    {
      "cell_type": "code",
      "metadata": {
        "colab": {
          "base_uri": "https://localhost:8080/"
        },
        "id": "qNqAB3vBTPqb",
        "outputId": "269afc0f-aefa-4719-88bc-263ba2585649"
      },
      "source": [
        "end_exact = time.time()\n",
        "end_exact\n",
        "\n",
        "time_exact = end_exact - start_exact\n",
        "time_exact"
      ],
      "execution_count": null,
      "outputs": [
        {
          "output_type": "execute_result",
          "data": {
            "text/plain": [
              "775.5369441509247"
            ]
          },
          "metadata": {
            "tags": []
          },
          "execution_count": 53
        }
      ]
    },
    {
      "cell_type": "code",
      "metadata": {
        "colab": {
          "base_uri": "https://localhost:8080/"
        },
        "id": "JPQzjdBZQxfg",
        "outputId": "4b673a24-3d9e-4575-b57d-db424dbf9866"
      },
      "source": [
        "### Simple regret minimization: run number = 1\n",
        "\n",
        "approx_output_1 = np.append(np.min(approx_1.GP.y[0:n_init]),approx_1.GP.y[n_init:(n_init+iters)]) \n",
        "exact_output_1 = np.append(np.min(exact_1.GP.y[0:n_init]),exact_1.GP.y[n_init:(n_init+iters)]) \n",
        "\n",
        "regret_approx_1 = np.log(-approx_output_1 + y_global_orig)\n",
        "regret_exact_1 = np.log(-exact_output_1 + y_global_orig)\n",
        "\n",
        "simple_regret_approx_1 = min_max_array(regret_approx_1)\n",
        "simple_regret_exact_1 = min_max_array(regret_exact_1)\n",
        "\n",
        "min_simple_regret_approx_1 = min(simple_regret_approx_1)\n",
        "min_simple_regret_exact_1 = min(simple_regret_exact_1)\n",
        "\n",
        "min_simple_regret_approx_1, min_simple_regret_exact_1"
      ],
      "execution_count": null,
      "outputs": [
        {
          "output_type": "execute_result",
          "data": {
            "text/plain": [
              "(1.4140401206065185, 1.0935804752363887)"
            ]
          },
          "metadata": {
            "tags": []
          },
          "execution_count": 54
        }
      ]
    },
    {
      "cell_type": "code",
      "metadata": {
        "colab": {
          "base_uri": "https://localhost:8080/"
        },
        "id": "94yBw5tqQxfk",
        "outputId": "dd7c928d-f34b-427b-e2db-0b8b407b1445"
      },
      "source": [
        "### Simple regret minimization: run number = 2\n",
        "\n",
        "approx_output_2 = np.append(np.min(approx_2.GP.y[0:n_init]),approx_2.GP.y[n_init:(n_init+iters)]) \n",
        "exact_output_2 = np.append(np.min(exact_2.GP.y[0:n_init]),exact_2.GP.y[n_init:(n_init+iters)]) \n",
        "\n",
        "regret_approx_2 = np.log(-approx_output_2 + y_global_orig)\n",
        "regret_exact_2 = np.log(-exact_output_2 + y_global_orig)\n",
        "\n",
        "simple_regret_approx_2 = min_max_array(regret_approx_2)\n",
        "simple_regret_exact_2 = min_max_array(regret_exact_2)\n",
        "\n",
        "min_simple_regret_approx_2 = min(simple_regret_approx_2)\n",
        "min_simple_regret_exact_2 = min(simple_regret_exact_2)\n",
        "\n",
        "min_simple_regret_approx_2, min_simple_regret_exact_2"
      ],
      "execution_count": null,
      "outputs": [
        {
          "output_type": "execute_result",
          "data": {
            "text/plain": [
              "(-0.45755271593560126, -0.5327401667959443)"
            ]
          },
          "metadata": {
            "tags": []
          },
          "execution_count": 55
        }
      ]
    },
    {
      "cell_type": "code",
      "metadata": {
        "colab": {
          "base_uri": "https://localhost:8080/"
        },
        "id": "Bu6SBWALQxfl",
        "outputId": "b90aaef2-2c40-467b-b5cc-96c0d5e4810a"
      },
      "source": [
        "### Simple regret minimization: run number = 3\n",
        "\n",
        "approx_output_3 = np.append(np.min(approx_3.GP.y[0:n_init]),approx_3.GP.y[n_init:(n_init+iters)]) \n",
        "exact_output_3 = np.append(np.min(exact_3.GP.y[0:n_init]),exact_3.GP.y[n_init:(n_init+iters)]) \n",
        "\n",
        "regret_approx_3 = np.log(-approx_output_3 + y_global_orig)\n",
        "regret_exact_3 = np.log(-exact_output_3 + y_global_orig)\n",
        "\n",
        "simple_regret_approx_3 = min_max_array(regret_approx_3)\n",
        "simple_regret_exact_3 = min_max_array(regret_exact_3)\n",
        "\n",
        "min_simple_regret_approx_3 = min(simple_regret_approx_3)\n",
        "min_simple_regret_exact_3 = min(simple_regret_exact_3)\n",
        "\n",
        "min_simple_regret_approx_3, min_simple_regret_exact_3"
      ],
      "execution_count": null,
      "outputs": [
        {
          "output_type": "execute_result",
          "data": {
            "text/plain": [
              "(-0.28844349713038764, -0.38423333281658867)"
            ]
          },
          "metadata": {
            "tags": []
          },
          "execution_count": 56
        }
      ]
    },
    {
      "cell_type": "code",
      "metadata": {
        "colab": {
          "base_uri": "https://localhost:8080/"
        },
        "id": "AZm0jgxkQxfm",
        "outputId": "46bb9040-cb35-4698-8fa2-3328e3f33941"
      },
      "source": [
        "### Simple regret minimization: run number = 4\n",
        "\n",
        "approx_output_4 = np.append(np.min(approx_4.GP.y[0:n_init]),approx_4.GP.y[n_init:(n_init+iters)]) \n",
        "exact_output_4 = np.append(np.min(exact_4.GP.y[0:n_init]),exact_4.GP.y[n_init:(n_init+iters)]) \n",
        "\n",
        "regret_approx_4 = np.log(-approx_output_4 + y_global_orig)\n",
        "regret_exact_4 = np.log(-exact_output_4 + y_global_orig)\n",
        "\n",
        "simple_regret_approx_4 = min_max_array(regret_approx_4)\n",
        "simple_regret_exact_4 = min_max_array(regret_exact_4)\n",
        "\n",
        "min_simple_regret_approx_4 = min(simple_regret_approx_4)\n",
        "min_simple_regret_exact_4 = min(simple_regret_exact_4)\n",
        "\n",
        "min_simple_regret_approx_4, min_simple_regret_exact_4"
      ],
      "execution_count": null,
      "outputs": [
        {
          "output_type": "execute_result",
          "data": {
            "text/plain": [
              "(0.9092818714485758, -0.029980791108480058)"
            ]
          },
          "metadata": {
            "tags": []
          },
          "execution_count": 57
        }
      ]
    },
    {
      "cell_type": "code",
      "metadata": {
        "colab": {
          "base_uri": "https://localhost:8080/"
        },
        "id": "NONPm8JIQxfn",
        "outputId": "c62a2285-fdb2-4a8d-baa1-f507c1e9fc4a"
      },
      "source": [
        "### Simple regret minimization: run number = 5\n",
        "\n",
        "approx_output_5 = np.append(np.min(approx_5.GP.y[0:n_init]),approx_5.GP.y[n_init:(n_init+iters)]) \n",
        "exact_output_5 = np.append(np.min(exact_5.GP.y[0:n_init]),exact_5.GP.y[n_init:(n_init+iters)]) \n",
        "\n",
        "regret_approx_5 = np.log(-approx_output_5 + y_global_orig)\n",
        "regret_exact_5 = np.log(-exact_output_5 + y_global_orig)\n",
        "\n",
        "simple_regret_approx_5 = min_max_array(regret_approx_5)\n",
        "simple_regret_exact_5 = min_max_array(regret_exact_5)\n",
        "\n",
        "min_simple_regret_approx_5 = min(simple_regret_approx_5)\n",
        "min_simple_regret_exact_5 = min(simple_regret_exact_5)\n",
        "\n",
        "min_simple_regret_approx_5, min_simple_regret_exact_5"
      ],
      "execution_count": null,
      "outputs": [
        {
          "output_type": "execute_result",
          "data": {
            "text/plain": [
              "(1.3273120831432876, 0.5522698135370556)"
            ]
          },
          "metadata": {
            "tags": []
          },
          "execution_count": 58
        }
      ]
    },
    {
      "cell_type": "code",
      "metadata": {
        "colab": {
          "base_uri": "https://localhost:8080/"
        },
        "id": "CJv3lPuSQxfp",
        "outputId": "ee3bf145-9905-4b2d-848c-eec71d3b5a74"
      },
      "source": [
        "### Simple regret minimization: run number = 6\n",
        "\n",
        "approx_output_6 = np.append(np.min(approx_6.GP.y[0:n_init]),approx_6.GP.y[n_init:(n_init+iters)]) \n",
        "exact_output_6 = np.append(np.min(exact_6.GP.y[0:n_init]),exact_6.GP.y[n_init:(n_init+iters)]) \n",
        "\n",
        "regret_approx_6 = np.log(-approx_output_6 + y_global_orig)\n",
        "regret_exact_6 = np.log(-exact_output_6 + y_global_orig)\n",
        "\n",
        "simple_regret_approx_6 = min_max_array(regret_approx_6)\n",
        "simple_regret_exact_6 = min_max_array(regret_exact_6)\n",
        "\n",
        "min_simple_regret_approx_6 = min(simple_regret_approx_6)\n",
        "min_simple_regret_exact_6 = min(simple_regret_exact_6)\n",
        "\n",
        "min_simple_regret_approx_6, min_simple_regret_exact_6"
      ],
      "execution_count": null,
      "outputs": [
        {
          "output_type": "execute_result",
          "data": {
            "text/plain": [
              "(0.842517075174006, -1.4254655049645975)"
            ]
          },
          "metadata": {
            "tags": []
          },
          "execution_count": 59
        }
      ]
    },
    {
      "cell_type": "code",
      "metadata": {
        "colab": {
          "base_uri": "https://localhost:8080/"
        },
        "id": "quR2ZyApQxfq",
        "outputId": "6a075d2d-53ce-4835-9f67-e6074bc22108"
      },
      "source": [
        "### Simple regret minimization: run number = 7\n",
        "\n",
        "approx_output_7 = np.append(np.min(approx_7.GP.y[0:n_init]),approx_7.GP.y[n_init:(n_init+iters)]) \n",
        "exact_output_7 = np.append(np.min(exact_7.GP.y[0:n_init]),exact_7.GP.y[n_init:(n_init+iters)]) \n",
        "\n",
        "regret_approx_7 = np.log(-approx_output_7 + y_global_orig)\n",
        "regret_exact_7 = np.log(-exact_output_7 + y_global_orig)\n",
        "\n",
        "simple_regret_approx_7 = min_max_array(regret_approx_7)\n",
        "simple_regret_exact_7 = min_max_array(regret_exact_7)\n",
        "\n",
        "min_simple_regret_approx_7 = min(simple_regret_approx_7)\n",
        "min_simple_regret_exact_7 = min(simple_regret_exact_7)\n",
        "\n",
        "min_simple_regret_approx_7, min_simple_regret_exact_7"
      ],
      "execution_count": null,
      "outputs": [
        {
          "output_type": "execute_result",
          "data": {
            "text/plain": [
              "(0.19066991806673148, -2.874883800877702)"
            ]
          },
          "metadata": {
            "tags": []
          },
          "execution_count": 60
        }
      ]
    },
    {
      "cell_type": "code",
      "metadata": {
        "colab": {
          "base_uri": "https://localhost:8080/"
        },
        "id": "99wY5nK6Qxfr",
        "outputId": "65845b8a-5105-453e-91cf-2e50edefda71"
      },
      "source": [
        "### Simple regret minimization: run number = 8\n",
        "\n",
        "approx_output_8 = np.append(np.min(approx_8.GP.y[0:n_init]),approx_8.GP.y[n_init:(n_init+iters)]) \n",
        "exact_output_8 = np.append(np.min(exact_8.GP.y[0:n_init]),exact_8.GP.y[n_init:(n_init+iters)]) \n",
        "\n",
        "regret_approx_8 = np.log(-approx_output_8 + y_global_orig)\n",
        "regret_exact_8 = np.log(-exact_output_8 + y_global_orig)\n",
        "\n",
        "simple_regret_approx_8 = min_max_array(regret_approx_8)\n",
        "simple_regret_exact_8 = min_max_array(regret_exact_8)\n",
        "\n",
        "min_simple_regret_approx_8 = min(simple_regret_approx_8)\n",
        "min_simple_regret_exact_8 = min(simple_regret_exact_8)\n",
        "\n",
        "min_simple_regret_approx_8, min_simple_regret_exact_8"
      ],
      "execution_count": null,
      "outputs": [
        {
          "output_type": "execute_result",
          "data": {
            "text/plain": [
              "(1.8496984829216314, 1.0842581625679653)"
            ]
          },
          "metadata": {
            "tags": []
          },
          "execution_count": 61
        }
      ]
    },
    {
      "cell_type": "code",
      "metadata": {
        "colab": {
          "base_uri": "https://localhost:8080/"
        },
        "id": "qt0P5t9qQxfs",
        "outputId": "ada91001-06bc-45fb-ec17-8d32f1eb33e9"
      },
      "source": [
        "### Simple regret minimization: run number = 9\n",
        "\n",
        "approx_output_9 = np.append(np.min(approx_9.GP.y[0:n_init]),approx_9.GP.y[n_init:(n_init+iters)]) \n",
        "exact_output_9 = np.append(np.min(exact_9.GP.y[0:n_init]),exact_9.GP.y[n_init:(n_init+iters)]) \n",
        "\n",
        "regret_approx_9 = np.log(-approx_output_9 + y_global_orig)\n",
        "regret_exact_9 = np.log(-exact_output_9 + y_global_orig)\n",
        "\n",
        "simple_regret_approx_9 = min_max_array(regret_approx_9)\n",
        "simple_regret_exact_9 = min_max_array(regret_exact_9)\n",
        "\n",
        "min_simple_regret_approx_9 = min(simple_regret_approx_9)\n",
        "min_simple_regret_exact_9 = min(simple_regret_exact_9)\n",
        "\n",
        "min_simple_regret_approx_9, min_simple_regret_exact_9"
      ],
      "execution_count": null,
      "outputs": [
        {
          "output_type": "execute_result",
          "data": {
            "text/plain": [
              "(0.5311505318004143, 0.815807298232431)"
            ]
          },
          "metadata": {
            "tags": []
          },
          "execution_count": 62
        }
      ]
    },
    {
      "cell_type": "code",
      "metadata": {
        "colab": {
          "base_uri": "https://localhost:8080/"
        },
        "id": "vx8to9stQxft",
        "outputId": "52d38c8e-fffb-4ada-b245-da926b4eba90"
      },
      "source": [
        "### Simple regret minimization: run number = 10\n",
        "\n",
        "approx_output_10 = np.append(np.min(approx_10.GP.y[0:n_init]),approx_10.GP.y[n_init:(n_init+iters)]) \n",
        "exact_output_10 = np.append(np.min(exact_10.GP.y[0:n_init]),exact_10.GP.y[n_init:(n_init+iters)]) \n",
        "\n",
        "regret_approx_10 = np.log(-approx_output_10 + y_global_orig)\n",
        "regret_exact_10 = np.log(-exact_output_10 + y_global_orig)\n",
        "\n",
        "simple_regret_approx_10 = min_max_array(regret_approx_10)\n",
        "simple_regret_exact_10 = min_max_array(regret_exact_10)\n",
        "\n",
        "min_simple_regret_approx_10 = min(simple_regret_approx_10)\n",
        "min_simple_regret_exact_10 = min(simple_regret_exact_10)\n",
        "\n",
        "min_simple_regret_approx_10, min_simple_regret_exact_10"
      ],
      "execution_count": null,
      "outputs": [
        {
          "output_type": "execute_result",
          "data": {
            "text/plain": [
              "(0.7270146338323442, -5.437914608852267)"
            ]
          },
          "metadata": {
            "tags": []
          },
          "execution_count": 63
        }
      ]
    },
    {
      "cell_type": "code",
      "metadata": {
        "colab": {
          "base_uri": "https://localhost:8080/"
        },
        "id": "d-FGzWyHQxfu",
        "outputId": "c4a392e1-4dd3-4a3a-d770-9fa1d032220a"
      },
      "source": [
        "### Simple regret minimization: run number = 11\n",
        "\n",
        "approx_output_11 = np.append(np.min(approx_11.GP.y[0:n_init]),approx_11.GP.y[n_init:(n_init+iters)]) \n",
        "exact_output_11 = np.append(np.min(exact_11.GP.y[0:n_init]),exact_11.GP.y[n_init:(n_init+iters)]) \n",
        "\n",
        "regret_approx_11 = np.log(-approx_output_11 + y_global_orig)\n",
        "regret_exact_11 = np.log(-exact_output_11 + y_global_orig)\n",
        "\n",
        "simple_regret_approx_11 = min_max_array(regret_approx_11)\n",
        "simple_regret_exact_11 = min_max_array(regret_exact_11)\n",
        "\n",
        "min_simple_regret_approx_11 = min(simple_regret_approx_11)\n",
        "min_simple_regret_exact_11 = min(simple_regret_exact_11)\n",
        "\n",
        "min_simple_regret_approx_11, min_simple_regret_exact_11"
      ],
      "execution_count": null,
      "outputs": [
        {
          "output_type": "execute_result",
          "data": {
            "text/plain": [
              "(0.39575423934463444, -0.14968453976348015)"
            ]
          },
          "metadata": {
            "tags": []
          },
          "execution_count": 64
        }
      ]
    },
    {
      "cell_type": "code",
      "metadata": {
        "colab": {
          "base_uri": "https://localhost:8080/"
        },
        "id": "SvtsssyjQxfv",
        "outputId": "2b9a78fa-ac4a-45cf-d961-674657ee119c"
      },
      "source": [
        "### Simple regret minimization: run number = 12\n",
        "\n",
        "approx_output_12 = np.append(np.min(approx_12.GP.y[0:n_init]),approx_12.GP.y[n_init:(n_init+iters)]) \n",
        "exact_output_12 = np.append(np.min(exact_12.GP.y[0:n_init]),exact_12.GP.y[n_init:(n_init+iters)]) \n",
        "\n",
        "regret_approx_12 = np.log(-approx_output_12 + y_global_orig)\n",
        "regret_exact_12 = np.log(-exact_output_12 + y_global_orig)\n",
        "\n",
        "simple_regret_approx_12 = min_max_array(regret_approx_12)\n",
        "simple_regret_exact_12 = min_max_array(regret_exact_12)\n",
        "\n",
        "min_simple_regret_approx_12 = min(simple_regret_approx_12)\n",
        "min_simple_regret_exact_12 = min(simple_regret_exact_12)\n",
        "\n",
        "min_simple_regret_approx_12, min_simple_regret_exact_12"
      ],
      "execution_count": null,
      "outputs": [
        {
          "output_type": "execute_result",
          "data": {
            "text/plain": [
              "(0.7191542780910578, -2.272091418115509)"
            ]
          },
          "metadata": {
            "tags": []
          },
          "execution_count": 65
        }
      ]
    },
    {
      "cell_type": "code",
      "metadata": {
        "colab": {
          "base_uri": "https://localhost:8080/"
        },
        "id": "K6OiGcHkQxfw",
        "outputId": "d109fb6c-da1b-420d-9471-91629587bf61"
      },
      "source": [
        "### Simple regret minimization: run number = 13\n",
        "\n",
        "approx_output_13 = np.append(np.min(approx_13.GP.y[0:n_init]),approx_13.GP.y[n_init:(n_init+iters)]) \n",
        "exact_output_13 = np.append(np.min(exact_13.GP.y[0:n_init]),exact_13.GP.y[n_init:(n_init+iters)]) \n",
        "\n",
        "regret_approx_13 = np.log(-approx_output_13 + y_global_orig)\n",
        "regret_exact_13 = np.log(-exact_output_13 + y_global_orig)\n",
        "\n",
        "simple_regret_approx_13 = min_max_array(regret_approx_13)\n",
        "simple_regret_exact_13 = min_max_array(regret_exact_13)\n",
        "\n",
        "min_simple_regret_approx_13 = min(simple_regret_approx_13)\n",
        "min_simple_regret_exact_13 = min(simple_regret_exact_13)\n",
        "\n",
        "min_simple_regret_approx_13, min_simple_regret_exact_13"
      ],
      "execution_count": null,
      "outputs": [
        {
          "output_type": "execute_result",
          "data": {
            "text/plain": [
              "(0.047568844859905, -0.9953373835742909)"
            ]
          },
          "metadata": {
            "tags": []
          },
          "execution_count": 66
        }
      ]
    },
    {
      "cell_type": "code",
      "metadata": {
        "colab": {
          "base_uri": "https://localhost:8080/"
        },
        "id": "ogML73shQxfx",
        "outputId": "7a30c055-a553-4e1b-af73-98f9cdc4a07b"
      },
      "source": [
        "### Simple regret minimization: run number = 14\n",
        "\n",
        "approx_output_14 = np.append(np.min(approx_14.GP.y[0:n_init]),approx_14.GP.y[n_init:(n_init+iters)]) \n",
        "exact_output_14 = np.append(np.min(exact_14.GP.y[0:n_init]),exact_14.GP.y[n_init:(n_init+iters)]) \n",
        "\n",
        "regret_approx_14 = np.log(-approx_output_14 + y_global_orig)\n",
        "regret_exact_14 = np.log(-exact_output_14 + y_global_orig)\n",
        "\n",
        "simple_regret_approx_14 = min_max_array(regret_approx_14)\n",
        "simple_regret_exact_14 = min_max_array(regret_exact_14)\n",
        "\n",
        "min_simple_regret_approx_14 = min(simple_regret_approx_14)\n",
        "min_simple_regret_exact_14 = min(simple_regret_exact_14)\n",
        "\n",
        "min_simple_regret_approx_14, min_simple_regret_exact_14"
      ],
      "execution_count": null,
      "outputs": [
        {
          "output_type": "execute_result",
          "data": {
            "text/plain": [
              "(0.4762878090317656, -0.24320123819126943)"
            ]
          },
          "metadata": {
            "tags": []
          },
          "execution_count": 67
        }
      ]
    },
    {
      "cell_type": "code",
      "metadata": {
        "colab": {
          "base_uri": "https://localhost:8080/"
        },
        "id": "9Eg7gFT9Qxfx",
        "outputId": "654e789e-2417-48c2-d1d0-c779c0e93ba8"
      },
      "source": [
        "### Simple regret minimization: run number = 15\n",
        "\n",
        "approx_output_15 = np.append(np.min(approx_15.GP.y[0:n_init]),approx_15.GP.y[n_init:(n_init+iters)]) \n",
        "exact_output_15 = np.append(np.min(exact_15.GP.y[0:n_init]),exact_15.GP.y[n_init:(n_init+iters)]) \n",
        "\n",
        "regret_approx_15 = np.log(-approx_output_15 + y_global_orig)\n",
        "regret_exact_15 = np.log(-exact_output_15 + y_global_orig)\n",
        "\n",
        "simple_regret_approx_15 = min_max_array(regret_approx_15)\n",
        "simple_regret_exact_15 = min_max_array(regret_exact_15)\n",
        "\n",
        "min_simple_regret_approx_15 = min(simple_regret_approx_15)\n",
        "min_simple_regret_exact_15 = min(simple_regret_exact_15)\n",
        "\n",
        "min_simple_regret_approx_15, min_simple_regret_exact_15"
      ],
      "execution_count": null,
      "outputs": [
        {
          "output_type": "execute_result",
          "data": {
            "text/plain": [
              "(1.0888676626860307, 0.10330154852064004)"
            ]
          },
          "metadata": {
            "tags": []
          },
          "execution_count": 68
        }
      ]
    },
    {
      "cell_type": "code",
      "metadata": {
        "colab": {
          "base_uri": "https://localhost:8080/"
        },
        "id": "lIAC1U7ZQxfy",
        "outputId": "bc2f422b-186b-4de9-8c3b-a049cc12d622"
      },
      "source": [
        "### Simple regret minimization: run number = 16\n",
        "\n",
        "approx_output_16 = np.append(np.min(approx_16.GP.y[0:n_init]),approx_16.GP.y[n_init:(n_init+iters)]) \n",
        "exact_output_16 = np.append(np.min(exact_16.GP.y[0:n_init]),exact_16.GP.y[n_init:(n_init+iters)]) \n",
        "\n",
        "regret_approx_16 = np.log(-approx_output_16 + y_global_orig)\n",
        "regret_exact_16 = np.log(-exact_output_16 + y_global_orig)\n",
        "\n",
        "simple_regret_approx_16 = min_max_array(regret_approx_16)\n",
        "simple_regret_exact_16 = min_max_array(regret_exact_16)\n",
        "\n",
        "min_simple_regret_approx_16 = min(simple_regret_approx_16)\n",
        "min_simple_regret_exact_16 = min(simple_regret_exact_16)\n",
        "\n",
        "min_simple_regret_approx_16, min_simple_regret_exact_16"
      ],
      "execution_count": null,
      "outputs": [
        {
          "output_type": "execute_result",
          "data": {
            "text/plain": [
              "(1.1462234586538276, -0.353750483354487)"
            ]
          },
          "metadata": {
            "tags": []
          },
          "execution_count": 69
        }
      ]
    },
    {
      "cell_type": "code",
      "metadata": {
        "colab": {
          "base_uri": "https://localhost:8080/"
        },
        "id": "bGott36OQxfz",
        "outputId": "bac4820b-a070-4b68-f1ab-649e75bbef0a"
      },
      "source": [
        "### Simple regret minimization: run number = 17\n",
        "\n",
        "approx_output_17 = np.append(np.min(approx_17.GP.y[0:n_init]),approx_17.GP.y[n_init:(n_init+iters)]) \n",
        "exact_output_17 = np.append(np.min(exact_17.GP.y[0:n_init]),exact_17.GP.y[n_init:(n_init+iters)]) \n",
        "\n",
        "regret_approx_17 = np.log(-approx_output_17 + y_global_orig)\n",
        "regret_exact_17 = np.log(-exact_output_17 + y_global_orig)\n",
        "\n",
        "simple_regret_approx_17 = min_max_array(regret_approx_17)\n",
        "simple_regret_exact_17 = min_max_array(regret_exact_17)\n",
        "\n",
        "min_simple_regret_approx_17 = min(simple_regret_approx_17)\n",
        "min_simple_regret_exact_17 = min(simple_regret_exact_17)\n",
        "\n",
        "min_simple_regret_approx_17, min_simple_regret_exact_17"
      ],
      "execution_count": null,
      "outputs": [
        {
          "output_type": "execute_result",
          "data": {
            "text/plain": [
              "(0.48388485945608994, 1.3255993329913722)"
            ]
          },
          "metadata": {
            "tags": []
          },
          "execution_count": 70
        }
      ]
    },
    {
      "cell_type": "code",
      "metadata": {
        "colab": {
          "base_uri": "https://localhost:8080/"
        },
        "id": "Cz9ZYMBMQxfz",
        "outputId": "60d79f8f-e6b1-41d8-e579-658f8f84bfc5"
      },
      "source": [
        "### Simple regret minimization: run number = 18\n",
        "\n",
        "approx_output_18 = np.append(np.min(approx_18.GP.y[0:n_init]),approx_18.GP.y[n_init:(n_init+iters)]) \n",
        "exact_output_18 = np.append(np.min(exact_18.GP.y[0:n_init]),exact_18.GP.y[n_init:(n_init+iters)]) \n",
        "\n",
        "regret_approx_18 = np.log(-approx_output_18 + y_global_orig)\n",
        "regret_exact_18 = np.log(-exact_output_18 + y_global_orig)\n",
        "\n",
        "simple_regret_approx_18 = min_max_array(regret_approx_18)\n",
        "simple_regret_exact_18 = min_max_array(regret_exact_18)\n",
        "\n",
        "min_simple_regret_approx_18 = min(simple_regret_approx_18)\n",
        "min_simple_regret_exact_18 = min(simple_regret_exact_18)\n",
        "\n",
        "min_simple_regret_approx_18, min_simple_regret_exact_18"
      ],
      "execution_count": null,
      "outputs": [
        {
          "output_type": "execute_result",
          "data": {
            "text/plain": [
              "(1.6733882078753337, 0.47365805230309505)"
            ]
          },
          "metadata": {
            "tags": []
          },
          "execution_count": 71
        }
      ]
    },
    {
      "cell_type": "code",
      "metadata": {
        "colab": {
          "base_uri": "https://localhost:8080/"
        },
        "id": "OBfpWOHNQxf0",
        "outputId": "9c4fada0-c7ca-41f8-d193-6f4ccd860295"
      },
      "source": [
        "### Simple regret minimization: run number = 19\n",
        "\n",
        "approx_output_19 = np.append(np.min(approx_19.GP.y[0:n_init]),approx_19.GP.y[n_init:(n_init+iters)]) \n",
        "exact_output_19 = np.append(np.min(exact_19.GP.y[0:n_init]),exact_19.GP.y[n_init:(n_init+iters)]) \n",
        "\n",
        "regret_approx_19 = np.log(-approx_output_19 + y_global_orig)\n",
        "regret_exact_19 = np.log(-exact_output_19 + y_global_orig)\n",
        "\n",
        "simple_regret_approx_19 = min_max_array(regret_approx_19)\n",
        "simple_regret_exact_19 = min_max_array(regret_exact_19)\n",
        "\n",
        "min_simple_regret_approx_19 = min(simple_regret_approx_19)\n",
        "min_simple_regret_exact_19 = min(simple_regret_exact_19)\n",
        "\n",
        "min_simple_regret_approx_19, min_simple_regret_exact_19"
      ],
      "execution_count": null,
      "outputs": [
        {
          "output_type": "execute_result",
          "data": {
            "text/plain": [
              "(-2.559174494760639, -3.9846398779506007)"
            ]
          },
          "metadata": {
            "tags": []
          },
          "execution_count": 72
        }
      ]
    },
    {
      "cell_type": "code",
      "metadata": {
        "colab": {
          "base_uri": "https://localhost:8080/"
        },
        "id": "BE1AJ7NsQxf0",
        "outputId": "52015458-581e-4868-eef4-50dfa0d6953c"
      },
      "source": [
        "### Simple regret minimization: run number = 20\n",
        "\n",
        "approx_output_20 = np.append(np.min(approx_20.GP.y[0:n_init]),approx_20.GP.y[n_init:(n_init+iters)]) \n",
        "exact_output_20 = np.append(np.min(exact_20.GP.y[0:n_init]),exact_20.GP.y[n_init:(n_init+iters)]) \n",
        "\n",
        "regret_approx_20 = np.log(-approx_output_20 + y_global_orig)\n",
        "regret_exact_20 = np.log(-exact_output_20 + y_global_orig)\n",
        "\n",
        "simple_regret_approx_20 = min_max_array(regret_approx_20)\n",
        "simple_regret_exact_20 = min_max_array(regret_exact_20)\n",
        "\n",
        "min_simple_regret_approx_20 = min(simple_regret_approx_20)\n",
        "min_simple_regret_exact_20 = min(simple_regret_exact_20)\n",
        "\n",
        "min_simple_regret_approx_20, min_simple_regret_exact_20"
      ],
      "execution_count": null,
      "outputs": [
        {
          "output_type": "execute_result",
          "data": {
            "text/plain": [
              "(1.5958961782176881, 1.8762459772083349)"
            ]
          },
          "metadata": {
            "tags": []
          },
          "execution_count": 73
        }
      ]
    },
    {
      "cell_type": "code",
      "metadata": {
        "id": "bpX-bKAHQxf1"
      },
      "source": [
        "# Iteration1 :\n",
        "\n",
        "slice1 = 0\n",
        "\n",
        "approx1 = [simple_regret_approx_1[slice1],\n",
        "       simple_regret_approx_2[slice1],\n",
        "       simple_regret_approx_3[slice1],\n",
        "       simple_regret_approx_4[slice1],\n",
        "       simple_regret_approx_5[slice1],\n",
        "       simple_regret_approx_6[slice1],\n",
        "       simple_regret_approx_7[slice1],\n",
        "       simple_regret_approx_8[slice1],\n",
        "       simple_regret_approx_9[slice1],\n",
        "       simple_regret_approx_10[slice1],\n",
        "       simple_regret_approx_11[slice1],\n",
        "       simple_regret_approx_12[slice1],\n",
        "       simple_regret_approx_13[slice1],\n",
        "       simple_regret_approx_14[slice1],\n",
        "       simple_regret_approx_15[slice1],\n",
        "       simple_regret_approx_16[slice1],\n",
        "       simple_regret_approx_17[slice1],\n",
        "       simple_regret_approx_18[slice1],\n",
        "       simple_regret_approx_19[slice1],\n",
        "       simple_regret_approx_20[slice1]]\n",
        "\n",
        "exact1 = [simple_regret_exact_1[slice1],\n",
        "       simple_regret_exact_2[slice1],\n",
        "       simple_regret_exact_3[slice1],\n",
        "       simple_regret_exact_4[slice1],\n",
        "       simple_regret_exact_5[slice1],\n",
        "       simple_regret_exact_6[slice1],\n",
        "       simple_regret_exact_7[slice1],\n",
        "       simple_regret_exact_8[slice1],\n",
        "       simple_regret_exact_9[slice1],\n",
        "       simple_regret_exact_10[slice1],\n",
        "       simple_regret_exact_11[slice1],\n",
        "       simple_regret_exact_12[slice1],\n",
        "       simple_regret_exact_13[slice1],\n",
        "       simple_regret_exact_14[slice1],\n",
        "       simple_regret_exact_15[slice1],\n",
        "       simple_regret_exact_16[slice1],\n",
        "       simple_regret_exact_17[slice1],\n",
        "       simple_regret_exact_18[slice1],\n",
        "       simple_regret_exact_19[slice1],\n",
        "       simple_regret_exact_20[slice1]]\n",
        "\n",
        "approx1_results = pd.DataFrame(approx1).sort_values(by=[0], ascending=False)\n",
        "exact1_results = pd.DataFrame(exact1).sort_values(by=[0], ascending=False)\n",
        "\n",
        "### Best simple regret minimization IQR - approx:\n",
        "lower_approx1 = np.asarray(approx1_results[4:5][0])[0]\n",
        "median_approx1 = np.asarray(approx1_results[9:10][0])[0]\n",
        "upper_approx1 = np.asarray(approx1_results[14:15][0])[0]\n",
        "\n",
        "lower_exact1 = np.asarray(exact1_results[4:5][0])[0]\n",
        "median_exact1 = np.asarray(exact1_results[9:10][0])[0]\n",
        "upper_exact1 = np.asarray(exact1_results[14:15][0])[0]"
      ],
      "execution_count": null,
      "outputs": []
    },
    {
      "cell_type": "code",
      "metadata": {
        "id": "CgIkJA1xQxf2"
      },
      "source": [
        "# Iteration11 :\n",
        "\n",
        "slice11 = 10\n",
        "\n",
        "approx11 = [simple_regret_approx_1[slice11],\n",
        "       simple_regret_approx_2[slice11],\n",
        "       simple_regret_approx_3[slice11],\n",
        "       simple_regret_approx_4[slice11],\n",
        "       simple_regret_approx_5[slice11],\n",
        "       simple_regret_approx_6[slice11],\n",
        "       simple_regret_approx_7[slice11],\n",
        "       simple_regret_approx_8[slice11],\n",
        "       simple_regret_approx_9[slice11],\n",
        "       simple_regret_approx_10[slice11],\n",
        "       simple_regret_approx_11[slice11],\n",
        "       simple_regret_approx_12[slice11],\n",
        "       simple_regret_approx_13[slice11],\n",
        "       simple_regret_approx_14[slice11],\n",
        "       simple_regret_approx_15[slice11],\n",
        "       simple_regret_approx_16[slice11],\n",
        "       simple_regret_approx_17[slice11],\n",
        "       simple_regret_approx_18[slice11],\n",
        "       simple_regret_approx_19[slice11],\n",
        "       simple_regret_approx_20[slice11]]\n",
        "\n",
        "exact11 = [simple_regret_exact_1[slice11],\n",
        "       simple_regret_exact_2[slice11],\n",
        "       simple_regret_exact_3[slice11],\n",
        "       simple_regret_exact_4[slice11],\n",
        "       simple_regret_exact_5[slice11],\n",
        "       simple_regret_exact_6[slice11],\n",
        "       simple_regret_exact_7[slice11],\n",
        "       simple_regret_exact_8[slice11],\n",
        "       simple_regret_exact_9[slice11],\n",
        "       simple_regret_exact_10[slice11],\n",
        "       simple_regret_exact_11[slice11],\n",
        "       simple_regret_exact_12[slice11],\n",
        "       simple_regret_exact_13[slice11],\n",
        "       simple_regret_exact_14[slice11],\n",
        "       simple_regret_exact_15[slice11],\n",
        "       simple_regret_exact_16[slice11],\n",
        "       simple_regret_exact_17[slice11],\n",
        "       simple_regret_exact_18[slice11],\n",
        "       simple_regret_exact_19[slice11],\n",
        "       simple_regret_exact_20[slice11]]\n",
        "\n",
        "approx11_results = pd.DataFrame(approx11).sort_values(by=[0], ascending=False)\n",
        "exact11_results = pd.DataFrame(exact11).sort_values(by=[0], ascending=False)\n",
        "\n",
        "### Best simple regret minimization IQR - approx:\n",
        "lower_approx11 = np.asarray(approx11_results[4:5][0])[0]\n",
        "median_approx11 = np.asarray(approx11_results[9:10][0])[0]\n",
        "upper_approx11 = np.asarray(approx11_results[14:15][0])[0]\n",
        "\n",
        "lower_exact11 = np.asarray(exact11_results[4:5][0])[0]\n",
        "median_exact11 = np.asarray(exact11_results[9:10][0])[0]\n",
        "upper_exact11 = np.asarray(exact11_results[14:15][0])[0]"
      ],
      "execution_count": null,
      "outputs": []
    },
    {
      "cell_type": "code",
      "metadata": {
        "id": "MFePDfGuQxf2"
      },
      "source": [
        "# Iteration21 :\n",
        "\n",
        "slice21 = 20\n",
        "\n",
        "approx21 = [simple_regret_approx_1[slice21],\n",
        "       simple_regret_approx_2[slice21],\n",
        "       simple_regret_approx_3[slice21],\n",
        "       simple_regret_approx_4[slice21],\n",
        "       simple_regret_approx_5[slice21],\n",
        "       simple_regret_approx_6[slice21],\n",
        "       simple_regret_approx_7[slice21],\n",
        "       simple_regret_approx_8[slice21],\n",
        "       simple_regret_approx_9[slice21],\n",
        "       simple_regret_approx_10[slice21],\n",
        "       simple_regret_approx_11[slice21],\n",
        "       simple_regret_approx_12[slice21],\n",
        "       simple_regret_approx_13[slice21],\n",
        "       simple_regret_approx_14[slice21],\n",
        "       simple_regret_approx_15[slice21],\n",
        "       simple_regret_approx_16[slice21],\n",
        "       simple_regret_approx_17[slice21],\n",
        "       simple_regret_approx_18[slice21],\n",
        "       simple_regret_approx_19[slice21],\n",
        "       simple_regret_approx_20[slice21]]\n",
        "\n",
        "exact21 = [simple_regret_exact_1[slice21],\n",
        "       simple_regret_exact_2[slice21],\n",
        "       simple_regret_exact_3[slice21],\n",
        "       simple_regret_exact_4[slice21],\n",
        "       simple_regret_exact_5[slice21],\n",
        "       simple_regret_exact_6[slice21],\n",
        "       simple_regret_exact_7[slice21],\n",
        "       simple_regret_exact_8[slice21],\n",
        "       simple_regret_exact_9[slice21],\n",
        "       simple_regret_exact_10[slice21],\n",
        "       simple_regret_exact_11[slice21],\n",
        "       simple_regret_exact_12[slice21],\n",
        "       simple_regret_exact_13[slice21],\n",
        "       simple_regret_exact_14[slice21],\n",
        "       simple_regret_exact_15[slice21],\n",
        "       simple_regret_exact_16[slice21],\n",
        "       simple_regret_exact_17[slice21],\n",
        "       simple_regret_exact_18[slice21],\n",
        "       simple_regret_exact_19[slice21],\n",
        "       simple_regret_exact_20[slice21]]\n",
        "\n",
        "approx21_results = pd.DataFrame(approx21).sort_values(by=[0], ascending=False)\n",
        "exact21_results = pd.DataFrame(exact21).sort_values(by=[0], ascending=False)\n",
        "\n",
        "### Best simple regret minimization IQR - approx:\n",
        "lower_approx21 = np.asarray(approx21_results[4:5][0])[0]\n",
        "median_approx21 = np.asarray(approx21_results[9:10][0])[0]\n",
        "upper_approx21 = np.asarray(approx21_results[14:15][0])[0]\n",
        "\n",
        "lower_exact21 = np.asarray(exact21_results[4:5][0])[0]\n",
        "median_exact21 = np.asarray(exact21_results[9:10][0])[0]\n",
        "upper_exact21 = np.asarray(exact21_results[14:15][0])[0]"
      ],
      "execution_count": null,
      "outputs": []
    },
    {
      "cell_type": "code",
      "metadata": {
        "id": "PrRDB1kfQxf3"
      },
      "source": [
        "# Iteration2 :\n",
        "\n",
        "slice2 = 1\n",
        "\n",
        "approx2 = [simple_regret_approx_1[slice2],\n",
        "       simple_regret_approx_2[slice2],\n",
        "       simple_regret_approx_3[slice2],\n",
        "       simple_regret_approx_4[slice2],\n",
        "       simple_regret_approx_5[slice2],\n",
        "       simple_regret_approx_6[slice2],\n",
        "       simple_regret_approx_7[slice2],\n",
        "       simple_regret_approx_8[slice2],\n",
        "       simple_regret_approx_9[slice2],\n",
        "       simple_regret_approx_10[slice2],\n",
        "       simple_regret_approx_11[slice2],\n",
        "       simple_regret_approx_12[slice2],\n",
        "       simple_regret_approx_13[slice2],\n",
        "       simple_regret_approx_14[slice2],\n",
        "       simple_regret_approx_15[slice2],\n",
        "       simple_regret_approx_16[slice2],\n",
        "       simple_regret_approx_17[slice2],\n",
        "       simple_regret_approx_18[slice2],\n",
        "       simple_regret_approx_19[slice2],\n",
        "       simple_regret_approx_20[slice2]]\n",
        "\n",
        "exact2 = [simple_regret_exact_1[slice2],\n",
        "       simple_regret_exact_2[slice2],\n",
        "       simple_regret_exact_3[slice2],\n",
        "       simple_regret_exact_4[slice2],\n",
        "       simple_regret_exact_5[slice2],\n",
        "       simple_regret_exact_6[slice2],\n",
        "       simple_regret_exact_7[slice2],\n",
        "       simple_regret_exact_8[slice2],\n",
        "       simple_regret_exact_9[slice2],\n",
        "       simple_regret_exact_10[slice2],\n",
        "       simple_regret_exact_11[slice2],\n",
        "       simple_regret_exact_12[slice2],\n",
        "       simple_regret_exact_13[slice2],\n",
        "       simple_regret_exact_14[slice2],\n",
        "       simple_regret_exact_15[slice2],\n",
        "       simple_regret_exact_16[slice2],\n",
        "       simple_regret_exact_17[slice2],\n",
        "       simple_regret_exact_18[slice2],\n",
        "       simple_regret_exact_19[slice2],\n",
        "       simple_regret_exact_20[slice2]]\n",
        "\n",
        "approx2_results = pd.DataFrame(approx2).sort_values(by=[0], ascending=False)\n",
        "exact2_results = pd.DataFrame(exact2).sort_values(by=[0], ascending=False)\n",
        "\n",
        "### Best simple regret minimization IQR - approx:\n",
        "lower_approx2 = np.asarray(approx2_results[4:5][0])[0]\n",
        "median_approx2 = np.asarray(approx2_results[9:10][0])[0]\n",
        "upper_approx2 = np.asarray(approx2_results[14:15][0])[0]\n",
        "\n",
        "lower_exact2 = np.asarray(exact2_results[4:5][0])[0]\n",
        "median_exact2 = np.asarray(exact2_results[9:10][0])[0]\n",
        "upper_exact2 = np.asarray(exact2_results[14:15][0])[0]"
      ],
      "execution_count": null,
      "outputs": []
    },
    {
      "cell_type": "code",
      "metadata": {
        "id": "B8ncJDYeQxf3"
      },
      "source": [
        "# Iteration12 :\n",
        "\n",
        "slice12 = 11\n",
        "\n",
        "approx12 = [simple_regret_approx_1[slice12],\n",
        "       simple_regret_approx_2[slice12],\n",
        "       simple_regret_approx_3[slice12],\n",
        "       simple_regret_approx_4[slice12],\n",
        "       simple_regret_approx_5[slice12],\n",
        "       simple_regret_approx_6[slice12],\n",
        "       simple_regret_approx_7[slice12],\n",
        "       simple_regret_approx_8[slice12],\n",
        "       simple_regret_approx_9[slice12],\n",
        "       simple_regret_approx_10[slice12],\n",
        "       simple_regret_approx_11[slice12],\n",
        "       simple_regret_approx_12[slice12],\n",
        "       simple_regret_approx_13[slice12],\n",
        "       simple_regret_approx_14[slice12],\n",
        "       simple_regret_approx_15[slice12],\n",
        "       simple_regret_approx_16[slice12],\n",
        "       simple_regret_approx_17[slice12],\n",
        "       simple_regret_approx_18[slice12],\n",
        "       simple_regret_approx_19[slice12],\n",
        "       simple_regret_approx_20[slice12]]\n",
        "\n",
        "exact12 = [simple_regret_exact_1[slice12],\n",
        "       simple_regret_exact_2[slice12],\n",
        "       simple_regret_exact_3[slice12],\n",
        "       simple_regret_exact_4[slice12],\n",
        "       simple_regret_exact_5[slice12],\n",
        "       simple_regret_exact_6[slice12],\n",
        "       simple_regret_exact_7[slice12],\n",
        "       simple_regret_exact_8[slice12],\n",
        "       simple_regret_exact_9[slice12],\n",
        "       simple_regret_exact_10[slice12],\n",
        "       simple_regret_exact_11[slice12],\n",
        "       simple_regret_exact_12[slice12],\n",
        "       simple_regret_exact_13[slice12],\n",
        "       simple_regret_exact_14[slice12],\n",
        "       simple_regret_exact_15[slice12],\n",
        "       simple_regret_exact_16[slice12],\n",
        "       simple_regret_exact_17[slice12],\n",
        "       simple_regret_exact_18[slice12],\n",
        "       simple_regret_exact_19[slice12],\n",
        "       simple_regret_exact_20[slice12]]\n",
        "\n",
        "approx12_results = pd.DataFrame(approx12).sort_values(by=[0], ascending=False)\n",
        "exact12_results = pd.DataFrame(exact12).sort_values(by=[0], ascending=False)\n",
        "\n",
        "### Best simple regret minimization IQR - approx:\n",
        "lower_approx12 = np.asarray(approx12_results[4:5][0])[0]\n",
        "median_approx12 = np.asarray(approx12_results[9:10][0])[0]\n",
        "upper_approx12 = np.asarray(approx12_results[14:15][0])[0]\n",
        "\n",
        "lower_exact12 = np.asarray(exact12_results[4:5][0])[0]\n",
        "median_exact12 = np.asarray(exact12_results[9:10][0])[0]\n",
        "upper_exact12 = np.asarray(exact12_results[14:15][0])[0]"
      ],
      "execution_count": null,
      "outputs": []
    },
    {
      "cell_type": "code",
      "metadata": {
        "id": "Jn4KpGvcQxf4"
      },
      "source": [
        "# Iteration3 :\n",
        "\n",
        "slice3 = 2\n",
        "\n",
        "approx3 = [simple_regret_approx_1[slice3],\n",
        "       simple_regret_approx_2[slice3],\n",
        "       simple_regret_approx_3[slice3],\n",
        "       simple_regret_approx_4[slice3],\n",
        "       simple_regret_approx_5[slice3],\n",
        "       simple_regret_approx_6[slice3],\n",
        "       simple_regret_approx_7[slice3],\n",
        "       simple_regret_approx_8[slice3],\n",
        "       simple_regret_approx_9[slice3],\n",
        "       simple_regret_approx_10[slice3],\n",
        "       simple_regret_approx_11[slice3],\n",
        "       simple_regret_approx_12[slice3],\n",
        "       simple_regret_approx_13[slice3],\n",
        "       simple_regret_approx_14[slice3],\n",
        "       simple_regret_approx_15[slice3],\n",
        "       simple_regret_approx_16[slice3],\n",
        "       simple_regret_approx_17[slice3],\n",
        "       simple_regret_approx_18[slice3],\n",
        "       simple_regret_approx_19[slice3],\n",
        "       simple_regret_approx_20[slice3]]\n",
        "\n",
        "exact3 = [simple_regret_exact_1[slice3],\n",
        "       simple_regret_exact_2[slice3],\n",
        "       simple_regret_exact_3[slice3],\n",
        "       simple_regret_exact_4[slice3],\n",
        "       simple_regret_exact_5[slice3],\n",
        "       simple_regret_exact_6[slice3],\n",
        "       simple_regret_exact_7[slice3],\n",
        "       simple_regret_exact_8[slice3],\n",
        "       simple_regret_exact_9[slice3],\n",
        "       simple_regret_exact_10[slice3],\n",
        "       simple_regret_exact_11[slice3],\n",
        "       simple_regret_exact_12[slice3],\n",
        "       simple_regret_exact_13[slice3],\n",
        "       simple_regret_exact_14[slice3],\n",
        "       simple_regret_exact_15[slice3],\n",
        "       simple_regret_exact_16[slice3],\n",
        "       simple_regret_exact_17[slice3],\n",
        "       simple_regret_exact_18[slice3],\n",
        "       simple_regret_exact_19[slice3],\n",
        "       simple_regret_exact_20[slice3]]\n",
        "\n",
        "approx3_results = pd.DataFrame(approx3).sort_values(by=[0], ascending=False)\n",
        "exact3_results = pd.DataFrame(exact3).sort_values(by=[0], ascending=False)\n",
        "\n",
        "### Best simple regret minimization IQR - approx:\n",
        "lower_approx3 = np.asarray(approx3_results[4:5][0])[0]\n",
        "median_approx3 = np.asarray(approx3_results[9:10][0])[0]\n",
        "upper_approx3 = np.asarray(approx3_results[14:15][0])[0]\n",
        "\n",
        "lower_exact3 = np.asarray(exact3_results[4:5][0])[0]\n",
        "median_exact3 = np.asarray(exact3_results[9:10][0])[0]\n",
        "upper_exact3 = np.asarray(exact3_results[14:15][0])[0]"
      ],
      "execution_count": null,
      "outputs": []
    },
    {
      "cell_type": "code",
      "metadata": {
        "id": "plf83wxrQxf4"
      },
      "source": [
        "# Iteration13 :\n",
        "\n",
        "slice13 = 12\n",
        "\n",
        "approx13 = [simple_regret_approx_1[slice13],\n",
        "       simple_regret_approx_2[slice13],\n",
        "       simple_regret_approx_3[slice13],\n",
        "       simple_regret_approx_4[slice13],\n",
        "       simple_regret_approx_5[slice13],\n",
        "       simple_regret_approx_6[slice13],\n",
        "       simple_regret_approx_7[slice13],\n",
        "       simple_regret_approx_8[slice13],\n",
        "       simple_regret_approx_9[slice13],\n",
        "       simple_regret_approx_10[slice13],\n",
        "       simple_regret_approx_11[slice13],\n",
        "       simple_regret_approx_12[slice13],\n",
        "       simple_regret_approx_13[slice13],\n",
        "       simple_regret_approx_14[slice13],\n",
        "       simple_regret_approx_15[slice13],\n",
        "       simple_regret_approx_16[slice13],\n",
        "       simple_regret_approx_17[slice13],\n",
        "       simple_regret_approx_18[slice13],\n",
        "       simple_regret_approx_19[slice13],\n",
        "       simple_regret_approx_20[slice13]]\n",
        "\n",
        "exact13 = [simple_regret_exact_1[slice13],\n",
        "       simple_regret_exact_2[slice13],\n",
        "       simple_regret_exact_3[slice13],\n",
        "       simple_regret_exact_4[slice13],\n",
        "       simple_regret_exact_5[slice13],\n",
        "       simple_regret_exact_6[slice13],\n",
        "       simple_regret_exact_7[slice13],\n",
        "       simple_regret_exact_8[slice13],\n",
        "       simple_regret_exact_9[slice13],\n",
        "       simple_regret_exact_10[slice13],\n",
        "       simple_regret_exact_11[slice13],\n",
        "       simple_regret_exact_12[slice13],\n",
        "       simple_regret_exact_13[slice13],\n",
        "       simple_regret_exact_14[slice13],\n",
        "       simple_regret_exact_15[slice13],\n",
        "       simple_regret_exact_16[slice13],\n",
        "       simple_regret_exact_17[slice13],\n",
        "       simple_regret_exact_18[slice13],\n",
        "       simple_regret_exact_19[slice13],\n",
        "       simple_regret_exact_20[slice13]]\n",
        "\n",
        "approx13_results = pd.DataFrame(approx13).sort_values(by=[0], ascending=False)\n",
        "exact13_results = pd.DataFrame(exact13).sort_values(by=[0], ascending=False)\n",
        "\n",
        "### Best simple regret minimization IQR - approx:\n",
        "lower_approx13 = np.asarray(approx13_results[4:5][0])[0]\n",
        "median_approx13 = np.asarray(approx13_results[9:10][0])[0]\n",
        "upper_approx13 = np.asarray(approx13_results[14:15][0])[0]\n",
        "\n",
        "lower_exact13 = np.asarray(exact13_results[4:5][0])[0]\n",
        "median_exact13 = np.asarray(exact13_results[9:10][0])[0]\n",
        "upper_exact13 = np.asarray(exact13_results[14:15][0])[0]"
      ],
      "execution_count": null,
      "outputs": []
    },
    {
      "cell_type": "code",
      "metadata": {
        "id": "9A7mlVvJQxf5"
      },
      "source": [
        "# Iteration4 :\n",
        "\n",
        "slice4 = 3\n",
        "\n",
        "approx4 = [simple_regret_approx_1[slice4],\n",
        "       simple_regret_approx_2[slice4],\n",
        "       simple_regret_approx_3[slice4],\n",
        "       simple_regret_approx_4[slice4],\n",
        "       simple_regret_approx_5[slice4],\n",
        "       simple_regret_approx_6[slice4],\n",
        "       simple_regret_approx_7[slice4],\n",
        "       simple_regret_approx_8[slice4],\n",
        "       simple_regret_approx_9[slice4],\n",
        "       simple_regret_approx_10[slice4],\n",
        "       simple_regret_approx_11[slice4],\n",
        "       simple_regret_approx_12[slice4],\n",
        "       simple_regret_approx_13[slice4],\n",
        "       simple_regret_approx_14[slice4],\n",
        "       simple_regret_approx_15[slice4],\n",
        "       simple_regret_approx_16[slice4],\n",
        "       simple_regret_approx_17[slice4],\n",
        "       simple_regret_approx_18[slice4],\n",
        "       simple_regret_approx_19[slice4],\n",
        "       simple_regret_approx_20[slice4]]\n",
        "\n",
        "exact4 = [simple_regret_exact_1[slice4],\n",
        "       simple_regret_exact_2[slice4],\n",
        "       simple_regret_exact_3[slice4],\n",
        "       simple_regret_exact_4[slice4],\n",
        "       simple_regret_exact_5[slice4],\n",
        "       simple_regret_exact_6[slice4],\n",
        "       simple_regret_exact_7[slice4],\n",
        "       simple_regret_exact_8[slice4],\n",
        "       simple_regret_exact_9[slice4],\n",
        "       simple_regret_exact_10[slice4],\n",
        "       simple_regret_exact_11[slice4],\n",
        "       simple_regret_exact_12[slice4],\n",
        "       simple_regret_exact_13[slice4],\n",
        "       simple_regret_exact_14[slice4],\n",
        "       simple_regret_exact_15[slice4],\n",
        "       simple_regret_exact_16[slice4],\n",
        "       simple_regret_exact_17[slice4],\n",
        "       simple_regret_exact_18[slice4],\n",
        "       simple_regret_exact_19[slice4],\n",
        "       simple_regret_exact_20[slice4]]\n",
        "\n",
        "approx4_results = pd.DataFrame(approx4).sort_values(by=[0], ascending=False)\n",
        "exact4_results = pd.DataFrame(exact4).sort_values(by=[0], ascending=False)\n",
        "\n",
        "### Best simple regret minimization IQR - approx:\n",
        "lower_approx4 = np.asarray(approx4_results[4:5][0])[0]\n",
        "median_approx4 = np.asarray(approx4_results[9:10][0])[0]\n",
        "upper_approx4 = np.asarray(approx4_results[14:15][0])[0]\n",
        "\n",
        "lower_exact4 = np.asarray(exact4_results[4:5][0])[0]\n",
        "median_exact4 = np.asarray(exact4_results[9:10][0])[0]\n",
        "upper_exact4 = np.asarray(exact4_results[14:15][0])[0]"
      ],
      "execution_count": null,
      "outputs": []
    },
    {
      "cell_type": "code",
      "metadata": {
        "id": "ijq-rioYQxf5"
      },
      "source": [
        "# Iteration14 :\n",
        "\n",
        "slice14 = 13\n",
        "\n",
        "approx14 = [simple_regret_approx_1[slice14],\n",
        "       simple_regret_approx_2[slice14],\n",
        "       simple_regret_approx_3[slice14],\n",
        "       simple_regret_approx_4[slice14],\n",
        "       simple_regret_approx_5[slice14],\n",
        "       simple_regret_approx_6[slice14],\n",
        "       simple_regret_approx_7[slice14],\n",
        "       simple_regret_approx_8[slice14],\n",
        "       simple_regret_approx_9[slice14],\n",
        "       simple_regret_approx_10[slice14],\n",
        "       simple_regret_approx_11[slice14],\n",
        "       simple_regret_approx_12[slice14],\n",
        "       simple_regret_approx_13[slice14],\n",
        "       simple_regret_approx_14[slice14],\n",
        "       simple_regret_approx_15[slice14],\n",
        "       simple_regret_approx_16[slice14],\n",
        "       simple_regret_approx_17[slice14],\n",
        "       simple_regret_approx_18[slice14],\n",
        "       simple_regret_approx_19[slice14],\n",
        "       simple_regret_approx_20[slice14]]\n",
        "\n",
        "exact14 = [simple_regret_exact_1[slice14],\n",
        "       simple_regret_exact_2[slice14],\n",
        "       simple_regret_exact_3[slice14],\n",
        "       simple_regret_exact_4[slice14],\n",
        "       simple_regret_exact_5[slice14],\n",
        "       simple_regret_exact_6[slice14],\n",
        "       simple_regret_exact_7[slice14],\n",
        "       simple_regret_exact_8[slice14],\n",
        "       simple_regret_exact_9[slice14],\n",
        "       simple_regret_exact_10[slice14],\n",
        "       simple_regret_exact_11[slice14],\n",
        "       simple_regret_exact_12[slice14],\n",
        "       simple_regret_exact_13[slice14],\n",
        "       simple_regret_exact_14[slice14],\n",
        "       simple_regret_exact_15[slice14],\n",
        "       simple_regret_exact_16[slice14],\n",
        "       simple_regret_exact_17[slice14],\n",
        "       simple_regret_exact_18[slice14],\n",
        "       simple_regret_exact_19[slice14],\n",
        "       simple_regret_exact_20[slice14]]\n",
        "\n",
        "approx14_results = pd.DataFrame(approx14).sort_values(by=[0], ascending=False)\n",
        "exact14_results = pd.DataFrame(exact14).sort_values(by=[0], ascending=False)\n",
        "\n",
        "### Best simple regret minimization IQR - approx:\n",
        "lower_approx14 = np.asarray(approx14_results[4:5][0])[0]\n",
        "median_approx14 = np.asarray(approx14_results[9:10][0])[0]\n",
        "upper_approx14 = np.asarray(approx14_results[14:15][0])[0]\n",
        "\n",
        "lower_exact14 = np.asarray(exact14_results[4:5][0])[0]\n",
        "median_exact14 = np.asarray(exact14_results[9:10][0])[0]\n",
        "upper_exact14 = np.asarray(exact14_results[14:15][0])[0]"
      ],
      "execution_count": null,
      "outputs": []
    },
    {
      "cell_type": "code",
      "metadata": {
        "id": "XINlZjoTd-ZK"
      },
      "source": [
        "# Iteration5 :\n",
        "\n",
        "slice5 = 4\n",
        "\n",
        "approx5 = [simple_regret_approx_1[slice5],\n",
        "       simple_regret_approx_2[slice5],\n",
        "       simple_regret_approx_3[slice5],\n",
        "       simple_regret_approx_4[slice5],\n",
        "       simple_regret_approx_5[slice5],\n",
        "       simple_regret_approx_6[slice5],\n",
        "       simple_regret_approx_7[slice5],\n",
        "       simple_regret_approx_8[slice5],\n",
        "       simple_regret_approx_9[slice5],\n",
        "       simple_regret_approx_10[slice5],\n",
        "       simple_regret_approx_11[slice5],\n",
        "       simple_regret_approx_12[slice5],\n",
        "       simple_regret_approx_13[slice5],\n",
        "       simple_regret_approx_14[slice5],\n",
        "       simple_regret_approx_15[slice5],\n",
        "       simple_regret_approx_16[slice5],\n",
        "       simple_regret_approx_17[slice5],\n",
        "       simple_regret_approx_18[slice5],\n",
        "       simple_regret_approx_19[slice5],\n",
        "       simple_regret_approx_20[slice5]]\n",
        "\n",
        "exact5 = [simple_regret_exact_1[slice5],\n",
        "       simple_regret_exact_2[slice5],\n",
        "       simple_regret_exact_3[slice5],\n",
        "       simple_regret_exact_4[slice5],\n",
        "       simple_regret_exact_5[slice5],\n",
        "       simple_regret_exact_6[slice5],\n",
        "       simple_regret_exact_7[slice5],\n",
        "       simple_regret_exact_8[slice5],\n",
        "       simple_regret_exact_9[slice5],\n",
        "       simple_regret_exact_10[slice5],\n",
        "       simple_regret_exact_11[slice5],\n",
        "       simple_regret_exact_12[slice5],\n",
        "       simple_regret_exact_13[slice5],\n",
        "       simple_regret_exact_14[slice5],\n",
        "       simple_regret_exact_15[slice5],\n",
        "       simple_regret_exact_16[slice5],\n",
        "       simple_regret_exact_17[slice5],\n",
        "       simple_regret_exact_18[slice5],\n",
        "       simple_regret_exact_19[slice5],\n",
        "       simple_regret_exact_20[slice5]]\n",
        "\n",
        "approx5_results = pd.DataFrame(approx5).sort_values(by=[0], ascending=False)\n",
        "exact5_results = pd.DataFrame(exact5).sort_values(by=[0], ascending=False)\n",
        "\n",
        "### Best simple regret minimization IQR - approx:\n",
        "lower_approx5 = np.asarray(approx5_results[4:5][0])[0]\n",
        "median_approx5 = np.asarray(approx5_results[9:10][0])[0]\n",
        "upper_approx5 = np.asarray(approx5_results[14:15][0])[0]\n",
        "\n",
        "lower_exact5 = np.asarray(exact5_results[4:5][0])[0]\n",
        "median_exact5 = np.asarray(exact5_results[9:10][0])[0]\n",
        "upper_exact5 = np.asarray(exact5_results[14:15][0])[0]"
      ],
      "execution_count": null,
      "outputs": []
    },
    {
      "cell_type": "code",
      "metadata": {
        "id": "4aZ7C8sOQxf6"
      },
      "source": [
        "# Iteration15 :\n",
        "\n",
        "slice15 = 14\n",
        "\n",
        "approx15 = [simple_regret_approx_1[slice15],\n",
        "       simple_regret_approx_2[slice15],\n",
        "       simple_regret_approx_3[slice15],\n",
        "       simple_regret_approx_4[slice15],\n",
        "       simple_regret_approx_5[slice15],\n",
        "       simple_regret_approx_6[slice15],\n",
        "       simple_regret_approx_7[slice15],\n",
        "       simple_regret_approx_8[slice15],\n",
        "       simple_regret_approx_9[slice15],\n",
        "       simple_regret_approx_10[slice15],\n",
        "       simple_regret_approx_11[slice15],\n",
        "       simple_regret_approx_12[slice15],\n",
        "       simple_regret_approx_13[slice15],\n",
        "       simple_regret_approx_14[slice15],\n",
        "       simple_regret_approx_15[slice15],\n",
        "       simple_regret_approx_16[slice15],\n",
        "       simple_regret_approx_17[slice15],\n",
        "       simple_regret_approx_18[slice15],\n",
        "       simple_regret_approx_19[slice15],\n",
        "       simple_regret_approx_20[slice15]]\n",
        "\n",
        "exact15 = [simple_regret_exact_1[slice15],\n",
        "       simple_regret_exact_2[slice15],\n",
        "       simple_regret_exact_3[slice15],\n",
        "       simple_regret_exact_4[slice15],\n",
        "       simple_regret_exact_5[slice15],\n",
        "       simple_regret_exact_6[slice15],\n",
        "       simple_regret_exact_7[slice15],\n",
        "       simple_regret_exact_8[slice15],\n",
        "       simple_regret_exact_9[slice15],\n",
        "       simple_regret_exact_10[slice15],\n",
        "       simple_regret_exact_11[slice15],\n",
        "       simple_regret_exact_12[slice15],\n",
        "       simple_regret_exact_13[slice15],\n",
        "       simple_regret_exact_14[slice15],\n",
        "       simple_regret_exact_15[slice15],\n",
        "       simple_regret_exact_16[slice15],\n",
        "       simple_regret_exact_17[slice15],\n",
        "       simple_regret_exact_18[slice15],\n",
        "       simple_regret_exact_19[slice15],\n",
        "       simple_regret_exact_20[slice15]]\n",
        "\n",
        "approx15_results = pd.DataFrame(approx15).sort_values(by=[0], ascending=False)\n",
        "exact15_results = pd.DataFrame(exact15).sort_values(by=[0], ascending=False)\n",
        "\n",
        "### Best simple regret minimization IQR - approx:\n",
        "lower_approx15 = np.asarray(approx15_results[4:5][0])[0]\n",
        "median_approx15 = np.asarray(approx15_results[9:10][0])[0]\n",
        "upper_approx15 = np.asarray(approx15_results[14:15][0])[0]\n",
        "\n",
        "lower_exact15 = np.asarray(exact15_results[4:5][0])[0]\n",
        "median_exact15 = np.asarray(exact15_results[9:10][0])[0]\n",
        "upper_exact15 = np.asarray(exact15_results[14:15][0])[0]"
      ],
      "execution_count": null,
      "outputs": []
    },
    {
      "cell_type": "code",
      "metadata": {
        "id": "KJINKhv1Qxf6"
      },
      "source": [
        "# Iteration6 :\n",
        "\n",
        "slice6 = 5\n",
        "\n",
        "approx6 = [simple_regret_approx_1[slice6],\n",
        "       simple_regret_approx_2[slice6],\n",
        "       simple_regret_approx_3[slice6],\n",
        "       simple_regret_approx_4[slice6],\n",
        "       simple_regret_approx_5[slice6],\n",
        "       simple_regret_approx_6[slice6],\n",
        "       simple_regret_approx_7[slice6],\n",
        "       simple_regret_approx_8[slice6],\n",
        "       simple_regret_approx_9[slice6],\n",
        "       simple_regret_approx_10[slice6],\n",
        "       simple_regret_approx_11[slice6],\n",
        "       simple_regret_approx_12[slice6],\n",
        "       simple_regret_approx_13[slice6],\n",
        "       simple_regret_approx_14[slice6],\n",
        "       simple_regret_approx_15[slice6],\n",
        "       simple_regret_approx_16[slice6],\n",
        "       simple_regret_approx_17[slice6],\n",
        "       simple_regret_approx_18[slice6],\n",
        "       simple_regret_approx_19[slice6],\n",
        "       simple_regret_approx_20[slice6]]\n",
        "\n",
        "exact6 = [simple_regret_exact_1[slice6],\n",
        "       simple_regret_exact_2[slice6],\n",
        "       simple_regret_exact_3[slice6],\n",
        "       simple_regret_exact_4[slice6],\n",
        "       simple_regret_exact_5[slice6],\n",
        "       simple_regret_exact_6[slice6],\n",
        "       simple_regret_exact_7[slice6],\n",
        "       simple_regret_exact_8[slice6],\n",
        "       simple_regret_exact_9[slice6],\n",
        "       simple_regret_exact_10[slice6],\n",
        "       simple_regret_exact_11[slice6],\n",
        "       simple_regret_exact_12[slice6],\n",
        "       simple_regret_exact_13[slice6],\n",
        "       simple_regret_exact_14[slice6],\n",
        "       simple_regret_exact_15[slice6],\n",
        "       simple_regret_exact_16[slice6],\n",
        "       simple_regret_exact_17[slice6],\n",
        "       simple_regret_exact_18[slice6],\n",
        "       simple_regret_exact_19[slice6],\n",
        "       simple_regret_exact_20[slice6]]\n",
        "\n",
        "approx6_results = pd.DataFrame(approx6).sort_values(by=[0], ascending=False)\n",
        "exact6_results = pd.DataFrame(exact6).sort_values(by=[0], ascending=False)\n",
        "\n",
        "### Best simple regret minimization IQR - approx:\n",
        "lower_approx6 = np.asarray(approx6_results[4:5][0])[0]\n",
        "median_approx6 = np.asarray(approx6_results[9:10][0])[0]\n",
        "upper_approx6 = np.asarray(approx6_results[14:15][0])[0]\n",
        "\n",
        "lower_exact6 = np.asarray(exact6_results[4:5][0])[0]\n",
        "median_exact6 = np.asarray(exact6_results[9:10][0])[0]\n",
        "upper_exact6 = np.asarray(exact6_results[14:15][0])[0]"
      ],
      "execution_count": null,
      "outputs": []
    },
    {
      "cell_type": "code",
      "metadata": {
        "id": "nwC5N1FsQxf7"
      },
      "source": [
        "# Iteration16 :\n",
        "\n",
        "slice16 = 15\n",
        "\n",
        "approx16 = [simple_regret_approx_1[slice16],\n",
        "       simple_regret_approx_2[slice16],\n",
        "       simple_regret_approx_3[slice16],\n",
        "       simple_regret_approx_4[slice16],\n",
        "       simple_regret_approx_5[slice16],\n",
        "       simple_regret_approx_6[slice16],\n",
        "       simple_regret_approx_7[slice16],\n",
        "       simple_regret_approx_8[slice16],\n",
        "       simple_regret_approx_9[slice16],\n",
        "       simple_regret_approx_10[slice16],\n",
        "       simple_regret_approx_11[slice16],\n",
        "       simple_regret_approx_12[slice16],\n",
        "       simple_regret_approx_13[slice16],\n",
        "       simple_regret_approx_14[slice16],\n",
        "       simple_regret_approx_15[slice16],\n",
        "       simple_regret_approx_16[slice16],\n",
        "       simple_regret_approx_17[slice16],\n",
        "       simple_regret_approx_18[slice16],\n",
        "       simple_regret_approx_19[slice16],\n",
        "       simple_regret_approx_20[slice16]]\n",
        "\n",
        "exact16 = [simple_regret_exact_1[slice16],\n",
        "       simple_regret_exact_2[slice16],\n",
        "       simple_regret_exact_3[slice16],\n",
        "       simple_regret_exact_4[slice16],\n",
        "       simple_regret_exact_5[slice16],\n",
        "       simple_regret_exact_6[slice16],\n",
        "       simple_regret_exact_7[slice16],\n",
        "       simple_regret_exact_8[slice16],\n",
        "       simple_regret_exact_9[slice16],\n",
        "       simple_regret_exact_10[slice16],\n",
        "       simple_regret_exact_11[slice16],\n",
        "       simple_regret_exact_12[slice16],\n",
        "       simple_regret_exact_13[slice16],\n",
        "       simple_regret_exact_14[slice16],\n",
        "       simple_regret_exact_15[slice16],\n",
        "       simple_regret_exact_16[slice16],\n",
        "       simple_regret_exact_17[slice16],\n",
        "       simple_regret_exact_18[slice16],\n",
        "       simple_regret_exact_19[slice16],\n",
        "       simple_regret_exact_20[slice16]]\n",
        "\n",
        "approx16_results = pd.DataFrame(approx16).sort_values(by=[0], ascending=False)\n",
        "exact16_results = pd.DataFrame(exact16).sort_values(by=[0], ascending=False)\n",
        "\n",
        "### Best simple regret minimization IQR - approx:\n",
        "lower_approx16 = np.asarray(approx16_results[4:5][0])[0]\n",
        "median_approx16 = np.asarray(approx16_results[9:10][0])[0]\n",
        "upper_approx16 = np.asarray(approx16_results[14:15][0])[0]\n",
        "\n",
        "lower_exact16 = np.asarray(exact16_results[4:5][0])[0]\n",
        "median_exact16 = np.asarray(exact16_results[9:10][0])[0]\n",
        "upper_exact16 = np.asarray(exact16_results[14:15][0])[0]"
      ],
      "execution_count": null,
      "outputs": []
    },
    {
      "cell_type": "code",
      "metadata": {
        "id": "TrPV0AfnQxf7"
      },
      "source": [
        "# Iteration7 :\n",
        "\n",
        "slice7 = 6\n",
        "\n",
        "approx7 = [simple_regret_approx_1[slice7],\n",
        "       simple_regret_approx_2[slice7],\n",
        "       simple_regret_approx_3[slice7],\n",
        "       simple_regret_approx_4[slice7],\n",
        "       simple_regret_approx_5[slice7],\n",
        "       simple_regret_approx_6[slice7],\n",
        "       simple_regret_approx_7[slice7],\n",
        "       simple_regret_approx_8[slice7],\n",
        "       simple_regret_approx_9[slice7],\n",
        "       simple_regret_approx_10[slice7],\n",
        "       simple_regret_approx_11[slice7],\n",
        "       simple_regret_approx_12[slice7],\n",
        "       simple_regret_approx_13[slice7],\n",
        "       simple_regret_approx_14[slice7],\n",
        "       simple_regret_approx_15[slice7],\n",
        "       simple_regret_approx_16[slice7],\n",
        "       simple_regret_approx_17[slice7],\n",
        "       simple_regret_approx_18[slice7],\n",
        "       simple_regret_approx_19[slice7],\n",
        "       simple_regret_approx_20[slice7]]\n",
        "\n",
        "exact7 = [simple_regret_exact_1[slice7],\n",
        "       simple_regret_exact_2[slice7],\n",
        "       simple_regret_exact_3[slice7],\n",
        "       simple_regret_exact_4[slice7],\n",
        "       simple_regret_exact_5[slice7],\n",
        "       simple_regret_exact_6[slice7],\n",
        "       simple_regret_exact_7[slice7],\n",
        "       simple_regret_exact_8[slice7],\n",
        "       simple_regret_exact_9[slice7],\n",
        "       simple_regret_exact_10[slice7],\n",
        "       simple_regret_exact_11[slice7],\n",
        "       simple_regret_exact_12[slice7],\n",
        "       simple_regret_exact_13[slice7],\n",
        "       simple_regret_exact_14[slice7],\n",
        "       simple_regret_exact_15[slice7],\n",
        "       simple_regret_exact_16[slice7],\n",
        "       simple_regret_exact_17[slice7],\n",
        "       simple_regret_exact_18[slice7],\n",
        "       simple_regret_exact_19[slice7],\n",
        "       simple_regret_exact_20[slice7]]\n",
        "\n",
        "approx7_results = pd.DataFrame(approx7).sort_values(by=[0], ascending=False)\n",
        "exact7_results = pd.DataFrame(exact7).sort_values(by=[0], ascending=False)\n",
        "\n",
        "### Best simple regret minimization IQR - approx:\n",
        "lower_approx7 = np.asarray(approx7_results[4:5][0])[0]\n",
        "median_approx7 = np.asarray(approx7_results[9:10][0])[0]\n",
        "upper_approx7 = np.asarray(approx7_results[14:15][0])[0]\n",
        "\n",
        "lower_exact7 = np.asarray(exact7_results[4:5][0])[0]\n",
        "median_exact7 = np.asarray(exact7_results[9:10][0])[0]\n",
        "upper_exact7 = np.asarray(exact7_results[14:15][0])[0]"
      ],
      "execution_count": null,
      "outputs": []
    },
    {
      "cell_type": "code",
      "metadata": {
        "id": "Ub_-wpK4Qxf8"
      },
      "source": [
        "# Iteration17 :\n",
        "\n",
        "slice17 = 16\n",
        "\n",
        "approx17 = [simple_regret_approx_1[slice17],\n",
        "       simple_regret_approx_2[slice17],\n",
        "       simple_regret_approx_3[slice17],\n",
        "       simple_regret_approx_4[slice17],\n",
        "       simple_regret_approx_5[slice17],\n",
        "       simple_regret_approx_6[slice17],\n",
        "       simple_regret_approx_7[slice17],\n",
        "       simple_regret_approx_8[slice17],\n",
        "       simple_regret_approx_9[slice17],\n",
        "       simple_regret_approx_10[slice17],\n",
        "       simple_regret_approx_11[slice17],\n",
        "       simple_regret_approx_12[slice17],\n",
        "       simple_regret_approx_13[slice17],\n",
        "       simple_regret_approx_14[slice17],\n",
        "       simple_regret_approx_15[slice17],\n",
        "       simple_regret_approx_16[slice17],\n",
        "       simple_regret_approx_17[slice17],\n",
        "       simple_regret_approx_18[slice17],\n",
        "       simple_regret_approx_19[slice17],\n",
        "       simple_regret_approx_20[slice17]]\n",
        "\n",
        "exact17 = [simple_regret_exact_1[slice17],\n",
        "       simple_regret_exact_2[slice17],\n",
        "       simple_regret_exact_3[slice17],\n",
        "       simple_regret_exact_4[slice17],\n",
        "       simple_regret_exact_5[slice17],\n",
        "       simple_regret_exact_6[slice17],\n",
        "       simple_regret_exact_7[slice17],\n",
        "       simple_regret_exact_8[slice17],\n",
        "       simple_regret_exact_9[slice17],\n",
        "       simple_regret_exact_10[slice17],\n",
        "       simple_regret_exact_11[slice17],\n",
        "       simple_regret_exact_12[slice17],\n",
        "       simple_regret_exact_13[slice17],\n",
        "       simple_regret_exact_14[slice17],\n",
        "       simple_regret_exact_15[slice17],\n",
        "       simple_regret_exact_16[slice17],\n",
        "       simple_regret_exact_17[slice17],\n",
        "       simple_regret_exact_18[slice17],\n",
        "       simple_regret_exact_19[slice17],\n",
        "       simple_regret_exact_20[slice17]]\n",
        "\n",
        "approx17_results = pd.DataFrame(approx17).sort_values(by=[0], ascending=False)\n",
        "exact17_results = pd.DataFrame(exact17).sort_values(by=[0], ascending=False)\n",
        "\n",
        "### Best simple regret minimization IQR - approx:\n",
        "lower_approx17 = np.asarray(approx17_results[4:5][0])[0]\n",
        "median_approx17 = np.asarray(approx17_results[9:10][0])[0]\n",
        "upper_approx17 = np.asarray(approx17_results[14:15][0])[0]\n",
        "\n",
        "lower_exact17 = np.asarray(exact17_results[4:5][0])[0]\n",
        "median_exact17 = np.asarray(exact17_results[9:10][0])[0]\n",
        "upper_exact17 = np.asarray(exact17_results[14:15][0])[0]"
      ],
      "execution_count": null,
      "outputs": []
    },
    {
      "cell_type": "code",
      "metadata": {
        "id": "-6VLo37PQxf8"
      },
      "source": [
        "# Iteration8 :\n",
        "\n",
        "slice8 = 7\n",
        "\n",
        "approx8 = [simple_regret_approx_1[slice8],\n",
        "       simple_regret_approx_2[slice8],\n",
        "       simple_regret_approx_3[slice8],\n",
        "       simple_regret_approx_4[slice8],\n",
        "       simple_regret_approx_5[slice8],\n",
        "       simple_regret_approx_6[slice8],\n",
        "       simple_regret_approx_7[slice8],\n",
        "       simple_regret_approx_8[slice8],\n",
        "       simple_regret_approx_9[slice8],\n",
        "       simple_regret_approx_10[slice8],\n",
        "       simple_regret_approx_11[slice8],\n",
        "       simple_regret_approx_12[slice8],\n",
        "       simple_regret_approx_13[slice8],\n",
        "       simple_regret_approx_14[slice8],\n",
        "       simple_regret_approx_15[slice8],\n",
        "       simple_regret_approx_16[slice8],\n",
        "       simple_regret_approx_17[slice8],\n",
        "       simple_regret_approx_18[slice8],\n",
        "       simple_regret_approx_19[slice8],\n",
        "       simple_regret_approx_20[slice8]]\n",
        "\n",
        "exact8 = [simple_regret_exact_1[slice8],\n",
        "       simple_regret_exact_2[slice8],\n",
        "       simple_regret_exact_3[slice8],\n",
        "       simple_regret_exact_4[slice8],\n",
        "       simple_regret_exact_5[slice8],\n",
        "       simple_regret_exact_6[slice8],\n",
        "       simple_regret_exact_7[slice8],\n",
        "       simple_regret_exact_8[slice8],\n",
        "       simple_regret_exact_9[slice8],\n",
        "       simple_regret_exact_10[slice8],\n",
        "       simple_regret_exact_11[slice8],\n",
        "       simple_regret_exact_12[slice8],\n",
        "       simple_regret_exact_13[slice8],\n",
        "       simple_regret_exact_14[slice8],\n",
        "       simple_regret_exact_15[slice8],\n",
        "       simple_regret_exact_16[slice8],\n",
        "       simple_regret_exact_17[slice8],\n",
        "       simple_regret_exact_18[slice8],\n",
        "       simple_regret_exact_19[slice8],\n",
        "       simple_regret_exact_20[slice8]]\n",
        "\n",
        "approx8_results = pd.DataFrame(approx8).sort_values(by=[0], ascending=False)\n",
        "exact8_results = pd.DataFrame(exact8).sort_values(by=[0], ascending=False)\n",
        "\n",
        "### Best simple regret minimization IQR - approx:\n",
        "lower_approx8 = np.asarray(approx8_results[4:5][0])[0]\n",
        "median_approx8 = np.asarray(approx8_results[9:10][0])[0]\n",
        "upper_approx8 = np.asarray(approx8_results[14:15][0])[0]\n",
        "\n",
        "lower_exact8 = np.asarray(exact8_results[4:5][0])[0]\n",
        "median_exact8 = np.asarray(exact8_results[9:10][0])[0]\n",
        "upper_exact8 = np.asarray(exact8_results[14:15][0])[0]"
      ],
      "execution_count": null,
      "outputs": []
    },
    {
      "cell_type": "code",
      "metadata": {
        "id": "2Dp-9CC2Qxf9"
      },
      "source": [
        "# Iteration18 :\n",
        "\n",
        "slice18 = 17\n",
        "\n",
        "approx18 = [simple_regret_approx_1[slice18],\n",
        "       simple_regret_approx_2[slice18],\n",
        "       simple_regret_approx_3[slice18],\n",
        "       simple_regret_approx_4[slice18],\n",
        "       simple_regret_approx_5[slice18],\n",
        "       simple_regret_approx_6[slice18],\n",
        "       simple_regret_approx_7[slice18],\n",
        "       simple_regret_approx_8[slice18],\n",
        "       simple_regret_approx_9[slice18],\n",
        "       simple_regret_approx_10[slice18],\n",
        "       simple_regret_approx_11[slice18],\n",
        "       simple_regret_approx_12[slice18],\n",
        "       simple_regret_approx_13[slice18],\n",
        "       simple_regret_approx_14[slice18],\n",
        "       simple_regret_approx_15[slice18],\n",
        "       simple_regret_approx_16[slice18],\n",
        "       simple_regret_approx_17[slice18],\n",
        "       simple_regret_approx_18[slice18],\n",
        "       simple_regret_approx_19[slice18],\n",
        "       simple_regret_approx_20[slice18]]\n",
        "\n",
        "exact18 = [simple_regret_exact_1[slice18],\n",
        "       simple_regret_exact_2[slice18],\n",
        "       simple_regret_exact_3[slice18],\n",
        "       simple_regret_exact_4[slice18],\n",
        "       simple_regret_exact_5[slice18],\n",
        "       simple_regret_exact_6[slice18],\n",
        "       simple_regret_exact_7[slice18],\n",
        "       simple_regret_exact_8[slice18],\n",
        "       simple_regret_exact_9[slice18],\n",
        "       simple_regret_exact_10[slice18],\n",
        "       simple_regret_exact_11[slice18],\n",
        "       simple_regret_exact_12[slice18],\n",
        "       simple_regret_exact_13[slice18],\n",
        "       simple_regret_exact_14[slice18],\n",
        "       simple_regret_exact_15[slice18],\n",
        "       simple_regret_exact_16[slice18],\n",
        "       simple_regret_exact_17[slice18],\n",
        "       simple_regret_exact_18[slice18],\n",
        "       simple_regret_exact_19[slice18],\n",
        "       simple_regret_exact_20[slice18]]\n",
        "\n",
        "approx18_results = pd.DataFrame(approx18).sort_values(by=[0], ascending=False)\n",
        "exact18_results = pd.DataFrame(exact18).sort_values(by=[0], ascending=False)\n",
        "\n",
        "### Best simple regret minimization IQR - approx:\n",
        "lower_approx18 = np.asarray(approx18_results[4:5][0])[0]\n",
        "median_approx18 = np.asarray(approx18_results[9:10][0])[0]\n",
        "upper_approx18 = np.asarray(approx18_results[14:15][0])[0]\n",
        "\n",
        "lower_exact18 = np.asarray(exact18_results[4:5][0])[0]\n",
        "median_exact18 = np.asarray(exact18_results[9:10][0])[0]\n",
        "upper_exact18 = np.asarray(exact18_results[14:15][0])[0]"
      ],
      "execution_count": null,
      "outputs": []
    },
    {
      "cell_type": "code",
      "metadata": {
        "id": "SqiaOpB7Qxf9"
      },
      "source": [
        "# Iteration9 :\n",
        "\n",
        "slice9 = 8\n",
        "\n",
        "approx9 = [simple_regret_approx_1[slice9],\n",
        "       simple_regret_approx_2[slice9],\n",
        "       simple_regret_approx_3[slice9],\n",
        "       simple_regret_approx_4[slice9],\n",
        "       simple_regret_approx_5[slice9],\n",
        "       simple_regret_approx_6[slice9],\n",
        "       simple_regret_approx_7[slice9],\n",
        "       simple_regret_approx_8[slice9],\n",
        "       simple_regret_approx_9[slice9],\n",
        "       simple_regret_approx_10[slice9],\n",
        "       simple_regret_approx_11[slice9],\n",
        "       simple_regret_approx_12[slice9],\n",
        "       simple_regret_approx_13[slice9],\n",
        "       simple_regret_approx_14[slice9],\n",
        "       simple_regret_approx_15[slice9],\n",
        "       simple_regret_approx_16[slice9],\n",
        "       simple_regret_approx_17[slice9],\n",
        "       simple_regret_approx_18[slice9],\n",
        "       simple_regret_approx_19[slice9],\n",
        "       simple_regret_approx_20[slice9]]\n",
        "\n",
        "exact9 = [simple_regret_exact_1[slice9],\n",
        "       simple_regret_exact_2[slice9],\n",
        "       simple_regret_exact_3[slice9],\n",
        "       simple_regret_exact_4[slice9],\n",
        "       simple_regret_exact_5[slice9],\n",
        "       simple_regret_exact_6[slice9],\n",
        "       simple_regret_exact_7[slice9],\n",
        "       simple_regret_exact_8[slice9],\n",
        "       simple_regret_exact_9[slice9],\n",
        "       simple_regret_exact_10[slice9],\n",
        "       simple_regret_exact_11[slice9],\n",
        "       simple_regret_exact_12[slice9],\n",
        "       simple_regret_exact_13[slice9],\n",
        "       simple_regret_exact_14[slice9],\n",
        "       simple_regret_exact_15[slice9],\n",
        "       simple_regret_exact_16[slice9],\n",
        "       simple_regret_exact_17[slice9],\n",
        "       simple_regret_exact_18[slice9],\n",
        "       simple_regret_exact_19[slice9],\n",
        "       simple_regret_exact_20[slice9]]\n",
        "\n",
        "approx9_results = pd.DataFrame(approx9).sort_values(by=[0], ascending=False)\n",
        "exact9_results = pd.DataFrame(exact9).sort_values(by=[0], ascending=False)\n",
        "\n",
        "### Best simple regret minimization IQR - approx:\n",
        "lower_approx9 = np.asarray(approx9_results[4:5][0])[0]\n",
        "median_approx9 = np.asarray(approx9_results[9:10][0])[0]\n",
        "upper_approx9 = np.asarray(approx9_results[14:15][0])[0]\n",
        "\n",
        "lower_exact9 = np.asarray(exact9_results[4:5][0])[0]\n",
        "median_exact9 = np.asarray(exact9_results[9:10][0])[0]\n",
        "upper_exact9 = np.asarray(exact9_results[14:15][0])[0]"
      ],
      "execution_count": null,
      "outputs": []
    },
    {
      "cell_type": "code",
      "metadata": {
        "id": "OQkCCOsPQxf9"
      },
      "source": [
        "# Iteration19 :\n",
        "\n",
        "slice19 = 18\n",
        "\n",
        "approx19 = [simple_regret_approx_1[slice19],\n",
        "       simple_regret_approx_2[slice19],\n",
        "       simple_regret_approx_3[slice19],\n",
        "       simple_regret_approx_4[slice19],\n",
        "       simple_regret_approx_5[slice19],\n",
        "       simple_regret_approx_6[slice19],\n",
        "       simple_regret_approx_7[slice19],\n",
        "       simple_regret_approx_8[slice19],\n",
        "       simple_regret_approx_9[slice19],\n",
        "       simple_regret_approx_10[slice19],\n",
        "       simple_regret_approx_11[slice19],\n",
        "       simple_regret_approx_12[slice19],\n",
        "       simple_regret_approx_13[slice19],\n",
        "       simple_regret_approx_14[slice19],\n",
        "       simple_regret_approx_15[slice19],\n",
        "       simple_regret_approx_16[slice19],\n",
        "       simple_regret_approx_17[slice19],\n",
        "       simple_regret_approx_18[slice19],\n",
        "       simple_regret_approx_19[slice19],\n",
        "       simple_regret_approx_20[slice19]]\n",
        "\n",
        "exact19 = [simple_regret_exact_1[slice19],\n",
        "       simple_regret_exact_2[slice19],\n",
        "       simple_regret_exact_3[slice19],\n",
        "       simple_regret_exact_4[slice19],\n",
        "       simple_regret_exact_5[slice19],\n",
        "       simple_regret_exact_6[slice19],\n",
        "       simple_regret_exact_7[slice19],\n",
        "       simple_regret_exact_8[slice19],\n",
        "       simple_regret_exact_9[slice19],\n",
        "       simple_regret_exact_10[slice19],\n",
        "       simple_regret_exact_11[slice19],\n",
        "       simple_regret_exact_12[slice19],\n",
        "       simple_regret_exact_13[slice19],\n",
        "       simple_regret_exact_14[slice19],\n",
        "       simple_regret_exact_15[slice19],\n",
        "       simple_regret_exact_16[slice19],\n",
        "       simple_regret_exact_17[slice19],\n",
        "       simple_regret_exact_18[slice19],\n",
        "       simple_regret_exact_19[slice19],\n",
        "       simple_regret_exact_20[slice19]]\n",
        "\n",
        "approx19_results = pd.DataFrame(approx19).sort_values(by=[0], ascending=False)\n",
        "exact19_results = pd.DataFrame(exact19).sort_values(by=[0], ascending=False)\n",
        "\n",
        "### Best simple regret minimization IQR - approx:\n",
        "lower_approx19 = np.asarray(approx19_results[4:5][0])[0]\n",
        "median_approx19 = np.asarray(approx19_results[9:10][0])[0]\n",
        "upper_approx19 = np.asarray(approx19_results[14:15][0])[0]\n",
        "\n",
        "lower_exact19 = np.asarray(exact19_results[4:5][0])[0]\n",
        "median_exact19 = np.asarray(exact19_results[9:10][0])[0]\n",
        "upper_exact19 = np.asarray(exact19_results[14:15][0])[0]"
      ],
      "execution_count": null,
      "outputs": []
    },
    {
      "cell_type": "code",
      "metadata": {
        "id": "h4vtWahcQxf-"
      },
      "source": [
        "# Iteration10 :\n",
        "\n",
        "slice10 = 9\n",
        "\n",
        "approx10 = [simple_regret_approx_1[slice10],\n",
        "       simple_regret_approx_2[slice10],\n",
        "       simple_regret_approx_3[slice10],\n",
        "       simple_regret_approx_4[slice10],\n",
        "       simple_regret_approx_5[slice10],\n",
        "       simple_regret_approx_6[slice10],\n",
        "       simple_regret_approx_7[slice10],\n",
        "       simple_regret_approx_8[slice10],\n",
        "       simple_regret_approx_9[slice10],\n",
        "       simple_regret_approx_10[slice10],\n",
        "       simple_regret_approx_11[slice10],\n",
        "       simple_regret_approx_12[slice10],\n",
        "       simple_regret_approx_13[slice10],\n",
        "       simple_regret_approx_14[slice10],\n",
        "       simple_regret_approx_15[slice10],\n",
        "       simple_regret_approx_16[slice10],\n",
        "       simple_regret_approx_17[slice10],\n",
        "       simple_regret_approx_18[slice10],\n",
        "       simple_regret_approx_19[slice10],\n",
        "       simple_regret_approx_20[slice10]]\n",
        "\n",
        "exact10 = [simple_regret_exact_1[slice10],\n",
        "       simple_regret_exact_2[slice10],\n",
        "       simple_regret_exact_3[slice10],\n",
        "       simple_regret_exact_4[slice10],\n",
        "       simple_regret_exact_5[slice10],\n",
        "       simple_regret_exact_6[slice10],\n",
        "       simple_regret_exact_7[slice10],\n",
        "       simple_regret_exact_8[slice10],\n",
        "       simple_regret_exact_9[slice10],\n",
        "       simple_regret_exact_10[slice10],\n",
        "       simple_regret_exact_11[slice10],\n",
        "       simple_regret_exact_12[slice10],\n",
        "       simple_regret_exact_13[slice10],\n",
        "       simple_regret_exact_14[slice10],\n",
        "       simple_regret_exact_15[slice10],\n",
        "       simple_regret_exact_16[slice10],\n",
        "       simple_regret_exact_17[slice10],\n",
        "       simple_regret_exact_18[slice10],\n",
        "       simple_regret_exact_19[slice10],\n",
        "       simple_regret_exact_20[slice10]]\n",
        "\n",
        "approx10_results = pd.DataFrame(approx10).sort_values(by=[0], ascending=False)\n",
        "exact10_results = pd.DataFrame(exact10).sort_values(by=[0], ascending=False)\n",
        "\n",
        "### Best simple regret minimization IQR - approx:\n",
        "lower_approx10 = np.asarray(approx10_results[4:5][0])[0]\n",
        "median_approx10 = np.asarray(approx10_results[9:10][0])[0]\n",
        "upper_approx10 = np.asarray(approx10_results[14:15][0])[0]\n",
        "\n",
        "lower_exact10 = np.asarray(exact10_results[4:5][0])[0]\n",
        "median_exact10 = np.asarray(exact10_results[9:10][0])[0]\n",
        "upper_exact10 = np.asarray(exact10_results[14:15][0])[0]"
      ],
      "execution_count": null,
      "outputs": []
    },
    {
      "cell_type": "code",
      "metadata": {
        "id": "Rsf240pWQxf-"
      },
      "source": [
        "# Iteration20 :\n",
        "\n",
        "slice20 = 19\n",
        "\n",
        "approx20 = [simple_regret_approx_1[slice20],\n",
        "       simple_regret_approx_2[slice20],\n",
        "       simple_regret_approx_3[slice20],\n",
        "       simple_regret_approx_4[slice20],\n",
        "       simple_regret_approx_5[slice20],\n",
        "       simple_regret_approx_6[slice20],\n",
        "       simple_regret_approx_7[slice20],\n",
        "       simple_regret_approx_8[slice20],\n",
        "       simple_regret_approx_9[slice20],\n",
        "       simple_regret_approx_10[slice20],\n",
        "       simple_regret_approx_11[slice20],\n",
        "       simple_regret_approx_12[slice20],\n",
        "       simple_regret_approx_13[slice20],\n",
        "       simple_regret_approx_14[slice20],\n",
        "       simple_regret_approx_15[slice20],\n",
        "       simple_regret_approx_16[slice20],\n",
        "       simple_regret_approx_17[slice20],\n",
        "       simple_regret_approx_18[slice20],\n",
        "       simple_regret_approx_19[slice20],\n",
        "       simple_regret_approx_20[slice20]]\n",
        "\n",
        "exact20 = [simple_regret_exact_1[slice20],\n",
        "       simple_regret_exact_2[slice20],\n",
        "       simple_regret_exact_3[slice20],\n",
        "       simple_regret_exact_4[slice20],\n",
        "       simple_regret_exact_5[slice20],\n",
        "       simple_regret_exact_6[slice20],\n",
        "       simple_regret_exact_7[slice20],\n",
        "       simple_regret_exact_8[slice20],\n",
        "       simple_regret_exact_9[slice20],\n",
        "       simple_regret_exact_10[slice20],\n",
        "       simple_regret_exact_11[slice20],\n",
        "       simple_regret_exact_12[slice20],\n",
        "       simple_regret_exact_13[slice20],\n",
        "       simple_regret_exact_14[slice20],\n",
        "       simple_regret_exact_15[slice20],\n",
        "       simple_regret_exact_16[slice20],\n",
        "       simple_regret_exact_17[slice20],\n",
        "       simple_regret_exact_18[slice20],\n",
        "       simple_regret_exact_19[slice20],\n",
        "       simple_regret_exact_20[slice20]]\n",
        "\n",
        "approx20_results = pd.DataFrame(approx20).sort_values(by=[0], ascending=False)\n",
        "exact20_results = pd.DataFrame(exact20).sort_values(by=[0], ascending=False)\n",
        "\n",
        "### Best simple regret minimization IQR - approx:\n",
        "lower_approx20 = np.asarray(approx20_results[4:5][0])[0]\n",
        "median_approx20 = np.asarray(approx20_results[9:10][0])[0]\n",
        "upper_approx20 = np.asarray(approx20_results[14:15][0])[0]\n",
        "\n",
        "lower_exact20 = np.asarray(exact20_results[4:5][0])[0]\n",
        "median_exact20 = np.asarray(exact20_results[9:10][0])[0]\n",
        "upper_exact20 = np.asarray(exact20_results[14:15][0])[0]"
      ],
      "execution_count": null,
      "outputs": []
    },
    {
      "cell_type": "code",
      "metadata": {
        "id": "gn36RejbQxf_"
      },
      "source": [
        "### Summarize arrays: 'Loser'\n",
        "\n",
        "lower_approx = [lower_approx1,\n",
        "            lower_approx2,\n",
        "            lower_approx3,\n",
        "            lower_approx4,\n",
        "            lower_approx5,\n",
        "            lower_approx6,\n",
        "            lower_approx7,\n",
        "            lower_approx8,\n",
        "            lower_approx9,\n",
        "            lower_approx10,\n",
        "            lower_approx11,\n",
        "            lower_approx12,\n",
        "            lower_approx13,\n",
        "            lower_approx14,\n",
        "            lower_approx15,\n",
        "            lower_approx16,\n",
        "            lower_approx17,\n",
        "            lower_approx18,\n",
        "            lower_approx19,\n",
        "            lower_approx20,\n",
        "            lower_approx21]\n",
        "\n",
        "median_approx = [median_approx1,\n",
        "            median_approx2,\n",
        "            median_approx3,\n",
        "            median_approx4,\n",
        "            median_approx5,\n",
        "            median_approx6,\n",
        "            median_approx7,\n",
        "            median_approx8,\n",
        "            median_approx9,\n",
        "            median_approx10,\n",
        "            median_approx11,\n",
        "            median_approx12,\n",
        "            median_approx13,\n",
        "            median_approx14,\n",
        "            median_approx15,\n",
        "            median_approx16,\n",
        "            median_approx17,\n",
        "            median_approx18,\n",
        "            median_approx19,\n",
        "            median_approx20,\n",
        "            median_approx21]\n",
        "\n",
        "upper_approx = [upper_approx1,\n",
        "            upper_approx2,\n",
        "            upper_approx3,\n",
        "            upper_approx4,\n",
        "            upper_approx5,\n",
        "            upper_approx6,\n",
        "            upper_approx7,\n",
        "            upper_approx8,\n",
        "            upper_approx9,\n",
        "            upper_approx10,\n",
        "            upper_approx11,\n",
        "            upper_approx12,\n",
        "            upper_approx13,\n",
        "            upper_approx14,\n",
        "            upper_approx15,\n",
        "            upper_approx16,\n",
        "            upper_approx17,\n",
        "            upper_approx18,\n",
        "            upper_approx19,\n",
        "            upper_approx20,\n",
        "            upper_approx21]"
      ],
      "execution_count": null,
      "outputs": []
    },
    {
      "cell_type": "code",
      "metadata": {
        "id": "wxtGTOYfQxf_"
      },
      "source": [
        "### Summarize arrays: 'exact'\n",
        "\n",
        "lower_exact = [lower_exact1,\n",
        "            lower_exact2,\n",
        "            lower_exact3,\n",
        "            lower_exact4,\n",
        "            lower_exact5,\n",
        "            lower_exact6,\n",
        "            lower_exact7,\n",
        "            lower_exact8,\n",
        "            lower_exact9,\n",
        "            lower_exact10,\n",
        "            lower_exact11,\n",
        "            lower_exact12,\n",
        "            lower_exact13,\n",
        "            lower_exact14,\n",
        "            lower_exact15,\n",
        "            lower_exact16,\n",
        "            lower_exact17,\n",
        "            lower_exact18,\n",
        "            lower_exact19,\n",
        "            lower_exact20,\n",
        "            lower_exact21]\n",
        "\n",
        "median_exact = [median_exact1,\n",
        "            median_exact2,\n",
        "            median_exact3,\n",
        "            median_exact4,\n",
        "            median_exact5,\n",
        "            median_exact6,\n",
        "            median_exact7,\n",
        "            median_exact8,\n",
        "            median_exact9,\n",
        "            median_exact10,\n",
        "            median_exact11,\n",
        "            median_exact12,\n",
        "            median_exact13,\n",
        "            median_exact14,\n",
        "            median_exact15,\n",
        "            median_exact16,\n",
        "            median_exact17,\n",
        "            median_exact18,\n",
        "            median_exact19,\n",
        "            median_exact20,\n",
        "            median_exact21]\n",
        "\n",
        "upper_exact = [upper_exact1,\n",
        "            upper_exact2,\n",
        "            upper_exact3,\n",
        "            upper_exact4,\n",
        "            upper_exact5,\n",
        "            upper_exact6,\n",
        "            upper_exact7,\n",
        "            upper_exact8,\n",
        "            upper_exact9,\n",
        "            upper_exact10,\n",
        "            upper_exact11,\n",
        "            upper_exact12,\n",
        "            upper_exact13,\n",
        "            upper_exact14,\n",
        "            upper_exact15,\n",
        "            upper_exact16,\n",
        "            upper_exact17,\n",
        "            upper_exact18,\n",
        "            upper_exact19,\n",
        "            upper_exact20,\n",
        "            upper_exact21]"
      ],
      "execution_count": null,
      "outputs": []
    },
    {
      "cell_type": "code",
      "metadata": {
        "colab": {
          "base_uri": "https://localhost:8080/",
          "height": 333
        },
        "id": "2MONq-BXQxgA",
        "outputId": "8d48048c-9a75-49be-ded9-4f57d22be4bf"
      },
      "source": [
        "### Visualize!\n",
        "\n",
        "title = 'Branin'\n",
        "\n",
        "plt.figure()\n",
        "\n",
        "plt.plot(median_approx, color = 'Green')\n",
        "plt.plot(median_exact, color = 'Red')\n",
        "\n",
        "xstar = np.arange(0, iters+1, step=1)\n",
        "plt.fill_between(xstar, lower_approx, upper_approx, facecolor = 'Green', alpha=0.4, label='GP EI Regret IQR')\n",
        "plt.fill_between(xstar, lower_exact, upper_exact, facecolor = 'Red', alpha=0.4, label='GP dEI Regret IQR')\n",
        "\n",
        "plt.title(title, weight = 'bold', family = 'Arial')\n",
        "plt.xlabel('(Post-initialization) iteration $\\it{k}$', weight = 'bold', family = 'Arial') \n",
        "plt.ylabel('log(Regret)', weight = 'bold', family = 'Arial') \n",
        "plt.legend(loc=1) # add plot legend\n",
        "\n",
        "### Make the x-ticks integers, not floats:\n",
        "count = len(xstar)\n",
        "plt.xticks(np.arange(count), np.arange(0, count))\n",
        "plt.show() #visualize!"
      ],
      "execution_count": null,
      "outputs": [
        {
          "output_type": "stream",
          "text": [
            "findfont: Font family ['Arial'] not found. Falling back to DejaVu Sans.\n",
            "findfont: Font family ['Arial'] not found. Falling back to DejaVu Sans.\n"
          ],
          "name": "stderr"
        },
        {
          "output_type": "display_data",
          "data": {
            "image/png": "[encoded data removed]",
            "text/plain": [
              "<Figure size 432x288 with 1 Axes>"
            ]
          },
          "metadata": {
            "tags": [],
            "needs_background": "light"
          }
        }
      ]
    },
    {
      "cell_type": "code",
      "metadata": {
        "id": "l5dkR2Id2oiu",
        "colab": {
          "base_uri": "https://localhost:8080/"
        },
        "outputId": "a9d7663d-3d3e-452d-b8dd-165d43a62aed"
      },
      "source": [
        "time_approx, time_exact"
      ],
      "execution_count": null,
      "outputs": [
        {
          "output_type": "execute_result",
          "data": {
            "text/plain": [
              "(805.8598399162292, 775.5369441509247)"
            ]
          },
          "metadata": {
            "tags": []
          },
          "execution_count": 98
        }
      ]
    },
    {
      "cell_type": "code",
      "metadata": {
        "id": "S0akyeonTANL"
      },
      "source": [
        ""
      ],
      "execution_count": null,
      "outputs": []
    }
  ]
}